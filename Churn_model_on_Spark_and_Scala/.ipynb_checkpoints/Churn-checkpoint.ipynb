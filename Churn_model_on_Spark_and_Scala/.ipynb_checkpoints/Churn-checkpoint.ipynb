{
 "cells": [
  {
   "cell_type": "markdown",
   "metadata": {},
   "source": [
    "# Описание задач\n",
    "\n",
    "Для соревнования SNA Hackathon были собраны логи показов контента из открытых групп в новостных лентах пользователей за февраль-март 2018 года. В тестовое множество спрятаны последние полторы недели марта. Каждая запись в логе содержит информацию о том, что и кому было показано, а также о том, как отреагировал пользователь на этот контент: поставил «Класс», прокомментировал, проигнорировал или скрыл из ленты. \n",
    "\n",
    "Суть задачи в том, чтобы для каждого пользователя тестового множества отранжировать кандидатов, как можно выше поднимая тех, которые получат «класс»,.\n",
    "\n",
    "Обычно мы давали одну задачу, но в этот раз решили дать сразу три. Вам не нужно их решать все, достаточно только одну. Поскольку пользовательская лента совмещает контент разного типа, то при его ранжировании востребованы навыки из разных областей — компьютерное зрение, работа с текстами и рекомендательные системы. \n",
    "\n",
    "В рамках онлайн-этапа мы предлагаем три набора данных, в каждом из которых представлен только один из типов информации: изображение, текст или данные о разнообразных коллаборативных признаках. \n",
    "\n",
    "Только на втором этапе, когда эксперты в разных областях соберутся вместе, будет раскрыт общий датасет, позволяющий найти точки для синергии разных методов.\n",
    "После открытия чемпионата на платформе, вы увидите описание задач и получите возможность скачать необходимые для участия данные. "
   ]
  },
  {
   "cell_type": "markdown",
   "metadata": {},
   "source": [
    "# Описание данных\n",
    " \n",
    "\n",
    "Информация представлена в формате Apache Parquet, который является основным для фреймворка Spark. Для работы с этим форматом из Python мы рекомендуем воспользоваться библиотекой Apache Arrow. Для простоты понимания в репозитории на GitHub выложены бейзлайны. Пользуйтесь! \n",
    "\n",
    "В обучающем множестве данные разложены по дням, а внутри дня разделены на 6 частей по ID пользователя (один и тот же пользователь всегда попадает в ту же самую часть). Такая раскладка позволяет участникам анализировать не все данные сразу, а ограничиться определёнными днями и/или подгруппами пользователей.\n",
    "\n",
    "Обучающие наборы разбиты на три непересекающиеся группы: с текстами, с картинками и с коллаборативными признаками. В каждой группе данные содержат следующие поля:\n",
    "\n",
    "* instanceId_userId — идентификатор пользователя (анонимизированный);\n",
    "* instanceId_objectType — тип объекта;\n",
    "* instanceId_objectId — идентификатор объекта (анонимизированный);\n",
    "* feedback — массив с типами реакций пользователя (наличие в массиве токена Liked говорит о том, что объект получил «класс» от пользователя);\n",
    "* audit_clientType — тип платформы, с которой зашёл пользователь;\n",
    "* audit_timestamp — время, когда строилась лента;\n",
    "* metadata_ownerId — автор показанного объекта (анонимизированный);\n",
    "* metadata_createdAt — дата создания показанного объекта.\n",
    "\n",
    "\n",
    "Для объектов из обучающего текстового множества дополнительно предоставлены связанные с ними тексты в формате Apache Parquet:\n",
    "\n",
    "* objectId — идентификатор объекта;\n",
    "* lang — язык текста (на базе детектора языка Одноклассников);\n",
    "* text — сырой текст, связанный с объектом;\n",
    "* preprocessed — массив токенов, полученный после фильтрации пунктуации и стемминга.\n",
    "\n",
    "\n",
    "\n",
    "В данных для ранжирования по картинкам дополнительно присутствует поле-массив ImageId с MD5-хешами, связанными с объектами картинок. Тела изображений разложены по отдельным tar-файлам, в зависимости от первой буквы хеша.\n",
    "\n",
    "\n",
    "В блоке с коллаборативными признаками представлена разнообразная дополнительная информация:\n",
    "\n",
    "* audit_* — расширенная информация о контексте построения ленты;\n",
    "* metadata_* — расширенная информация о самом объекте;\n",
    "* userOwnerCounters_* — информация о предыдущих взаимодействиях пользователя и автора контента;\n",
    "* ownerUserCounters_* — информация о предыдущих взаимодействиях автора контента и пользователя;\n",
    "* membership_* — информация о членстве пользователя в группе, где опубликован контент;\n",
    "* user_* — подробная информация о пользователе;\n",
    "* auditweights_* — большое количество runtime-признаков, извлечённых текущей системой.\n",
    "Структуры тестовых наборов эквивалентны структуре обучающих множеств, но не разложены по дням и не содержат поля feedback.\n",
    "\n",
    "Оценка результата\n",
    "\n",
    "Участники чемпионата должны так отсортировать ленту, чтобы объекты с высокой вероятностью «класса» оказались наверху. Сортировка производится индивидуально для каждого пользователя, после чего формируется текст сабмита следующего вида (формат соответствует экспорту из Pandas-датафрейма с колонками типа int и int[]):\n",
    "\n",
    "* User_id_1,\"[object_id_1_1, object_id_2_2]\n",
    "* User_id_2,\"[object_id_2_1, object_id_2_2, object_id_2_3]\n",
    "\n",
    "\n",
    "В сабмите должна присутствовать строчка для каждого пользователя тестового набора, а строки отсортированы по возрастанию ID. Объекты для каждого пользователя должны быть отсортированы по убыванию релевантности.  При оценке сабмита для каждого пользователя будет посчитан его личный ROC-AUC, после чего посчитано среднее по всем пользователям и умножено на 100. "
   ]
  },
  {
   "cell_type": "markdown",
   "metadata": {},
   "source": [
    "# Some imports"
   ]
  },
  {
   "cell_type": "code",
   "execution_count": 1,
   "metadata": {},
   "outputs": [
    {
     "name": "stdout",
     "output_type": "stream",
     "text": [
      "Loading spark-stubs\n",
      "Getting spark JARs\n",
      "Creating SparkSession\n"
     ]
    },
    {
     "name": "stderr",
     "output_type": "stream",
     "text": [
      "Using Spark's default log4j profile: org/apache/spark/log4j-defaults.properties\n"
     ]
    },
    {
     "data": {
      "text/html": [
       "<a target=\"_blank\" href=\"http://3eb5039933e1:4040\">Spark UI</a>"
      ]
     },
     "metadata": {},
     "output_type": "display_data"
    },
    {
     "data": {
      "text/plain": [
       "\u001b[32mimport \u001b[39m\u001b[36m$ivy.$                                  \n",
       "\n",
       "\u001b[39m\n",
       "\u001b[32mimport \u001b[39m\u001b[36morg.apache.log4j.{Level, Logger}\n",
       "\u001b[39m\n",
       "\u001b[32mimport \u001b[39m\u001b[36morg.apache.spark.sql._\n",
       "\u001b[39m\n",
       "\u001b[32mimport \u001b[39m\u001b[36morg.apache.spark.sql.functions._\n",
       "\n",
       "\u001b[39m\n",
       "\u001b[36mspark\u001b[39m: \u001b[32mSparkSession\u001b[39m = org.apache.spark.sql.SparkSession@2505909c"
      ]
     },
     "execution_count": 1,
     "metadata": {},
     "output_type": "execute_result"
    }
   ],
   "source": [
    "import $ivy.`org.apache.spark::spark-sql:2.4.5`\n",
    "\n",
    "import org.apache.log4j.{Level, Logger}\n",
    "Logger.getLogger(\"org\").setLevel(Level.OFF)\n",
    "\n",
    "import org.apache.spark.sql._\n",
    "import org.apache.spark.sql.functions._\n",
    "\n",
    "val spark = NotebookSparkSession\n",
    "    .builder()\n",
    "    .master(\"local[*]\")\n",
    "    .getOrCreate()"
   ]
  },
  {
   "cell_type": "code",
   "execution_count": 2,
   "metadata": {},
   "outputs": [
    {
     "data": {
      "text/plain": [
       "\u001b[32mimport \u001b[39m\u001b[36m$ivy.$                                      \n",
       "\u001b[39m\n",
       "\u001b[32mimport \u001b[39m\u001b[36mplotly._, plotly.element._, plotly.layout._, plotly.Almond._\n",
       "\n",
       "\u001b[39m"
      ]
     },
     "execution_count": 2,
     "metadata": {},
     "output_type": "execute_result"
    }
   ],
   "source": [
    "import $ivy.`org.plotly-scala::plotly-almond:0.7.6`\n",
    "import plotly._, plotly.element._, plotly.layout._, plotly.Almond._\n",
    "\n",
    "repl.pprinter() = repl.pprinter().copy(defaultHeight = 3)"
   ]
  },
  {
   "cell_type": "code",
   "execution_count": 3,
   "metadata": {},
   "outputs": [
    {
     "data": {
      "text/plain": [
       "defined \u001b[32mfunction\u001b[39m \u001b[36msc\u001b[39m\n",
       "\u001b[36msqlContext\u001b[39m: \u001b[32mSQLContext\u001b[39m = org.apache.spark.sql.SQLContext@7e99b332"
      ]
     },
     "execution_count": 3,
     "metadata": {},
     "output_type": "execute_result"
    }
   ],
   "source": [
    "def sc = spark.sparkContext\n",
    "val sqlContext = new org.apache.spark.sql.SQLContext(sc)"
   ]
  },
  {
   "cell_type": "code",
   "execution_count": 4,
   "metadata": {},
   "outputs": [
    {
     "data": {
      "text/plain": [
       "\u001b[32mimport \u001b[39m\u001b[36mspark.implicits._\n",
       "// val df = sqlContext.read.parquet(\"data/test/part-00000-6d949390-48b0-4104-a477-39e306b726c5-c000.gz.parquet\")\n",
       "// df.count()\u001b[39m"
      ]
     },
     "execution_count": 4,
     "metadata": {},
     "output_type": "execute_result"
    }
   ],
   "source": [
    "import spark.implicits._\n",
    "// val df = sqlContext.read.parquet(\"data/test/part-00000-6d949390-48b0-4104-a477-39e306b726c5-c000.gz.parquet\")\n",
    "// df.count()"
   ]
  },
  {
   "cell_type": "code",
   "execution_count": 5,
   "metadata": {},
   "outputs": [
    {
     "data": {
      "text/plain": [
       "\u001b[32mimport \u001b[39m\u001b[36m$ivy.$                                    \n",
       "\n",
       "\u001b[39m\n",
       "\u001b[32mimport \u001b[39m\u001b[36morg.apache.spark.ml.linalg.{Matrix, Vectors}\n",
       "\u001b[39m\n",
       "\u001b[32mimport \u001b[39m\u001b[36morg.apache.spark.ml.stat.Correlation\n",
       "\u001b[39m\n",
       "\u001b[32mimport \u001b[39m\u001b[36morg.apache.spark.ml.classification.LogisticRegression\n",
       "\u001b[39m\n",
       "\u001b[32mimport \u001b[39m\u001b[36morg.apache.spark.ml.evaluation.BinaryClassificationEvaluator\n",
       "\u001b[39m\n",
       "\u001b[32mimport \u001b[39m\u001b[36morg.apache.spark.ml.tuning.{ParamGridBuilder, TrainValidationSplit}\n",
       "\u001b[39m\n",
       "\u001b[32mimport \u001b[39m\u001b[36morg.apache.spark.ml.feature.{MinMaxScaler, VectorAssembler, ChiSqSelector, QuantileDiscretizer}\n",
       "\u001b[39m\n",
       "\u001b[32mimport \u001b[39m\u001b[36morg.apache.spark.ml.clustering.{KMeans, BisectingKMeans, GaussianMixture}\u001b[39m"
      ]
     },
     "execution_count": 5,
     "metadata": {},
     "output_type": "execute_result"
    }
   ],
   "source": [
    "import $ivy.`org.apache.spark::spark-mllib:2.4.5`\n",
    "\n",
    "import org.apache.spark.ml.linalg.{Matrix, Vectors}\n",
    "import org.apache.spark.ml.stat.Correlation\n",
    "import org.apache.spark.ml.classification.LogisticRegression\n",
    "import org.apache.spark.ml.evaluation.BinaryClassificationEvaluator\n",
    "import org.apache.spark.ml.tuning.{ParamGridBuilder, TrainValidationSplit}\n",
    "import org.apache.spark.ml.feature.{MinMaxScaler, VectorAssembler, ChiSqSelector, QuantileDiscretizer}\n",
    "import org.apache.spark.ml.clustering.{KMeans, BisectingKMeans, GaussianMixture}"
   ]
  },
  {
   "cell_type": "code",
   "execution_count": 6,
   "metadata": {},
   "outputs": [
    {
     "data": {
      "text/html": [
       "<script>\n",
       "var comm = Jupyter.notebook.kernel.comm_manager.new_comm('cancel-stage-d4ed8325-b7c0-4e7d-a6e9-e41f4132409a', {});\n",
       "\n",
       "function cancelStage(stageId) {\n",
       "  console.log('Cancelling stage ' + stageId);\n",
       "  comm.send({ 'stageId': stageId });\n",
       "}\n",
       "</script>\n",
       "          "
      ]
     },
     "metadata": {},
     "output_type": "display_data"
    },
    {
     "data": {
      "text/html": [
       "<div>\n",
       "  <span style=\"float: left;\">parquet at cmd5.sc:1</span>\n",
       "</div>\n"
      ]
     },
     "metadata": {},
     "output_type": "display_data"
    },
    {
     "data": {
      "text/html": [
       "<div class=\"progress\">\n",
       "  <div class=\"progress-bar\" role=\"progressbar\" style=\"background-color: blue; width: 100%; word-wrap: normal; white-space: nowrap; text-align: center; color: white\" aria-valuenow=\"100\" aria-valuemin=\"0\" aria-valuemax=\"100\">\n",
       "    48 / 48\n",
       "  </div>\n",
       "  <div class=\"progress-bar\" role=\"progressbar\" style=\"background-color: red; width: 0%\" aria-valuenow=\"0\" aria-valuemin=\"0\" aria-valuemax=\"100\"></div>\n",
       "</div>\n"
      ]
     },
     "metadata": {},
     "output_type": "display_data"
    },
    {
     "data": {
      "text/html": [
       "<div>\n",
       "  <span style=\"float: left;\">parquet at cmd5.sc:1</span>\n",
       "</div>\n"
      ]
     },
     "metadata": {},
     "output_type": "display_data"
    },
    {
     "data": {
      "text/html": [
       "<div class=\"progress\">\n",
       "  <div class=\"progress-bar\" role=\"progressbar\" style=\"background-color: blue; width: 100%; word-wrap: normal; white-space: nowrap; text-align: center; color: white\" aria-valuenow=\"100\" aria-valuemin=\"0\" aria-valuemax=\"100\">\n",
       "    1 / 1\n",
       "  </div>\n",
       "  <div class=\"progress-bar\" role=\"progressbar\" style=\"background-color: red; width: 0%\" aria-valuenow=\"0\" aria-valuemin=\"0\" aria-valuemax=\"100\"></div>\n",
       "</div>\n"
      ]
     },
     "metadata": {},
     "output_type": "display_data"
    },
    {
     "data": {
      "text/plain": [
       "\u001b[36mdf\u001b[39m: \u001b[32mDataFrame\u001b[39m = [instanceId_userId: int, instanceId_objectType: string ... 167 more fields]"
      ]
     },
     "execution_count": 6,
     "metadata": {},
     "output_type": "execute_result"
    }
   ],
   "source": [
    "val df = sqlContext.read.parquet(\"train/\")"
   ]
  },
  {
   "cell_type": "code",
   "execution_count": 7,
   "metadata": {},
   "outputs": [
    {
     "name": "stdout",
     "output_type": "stream",
     "text": [
      "root\n",
      " |-- instanceId_userId: integer (nullable = true)\n",
      " |-- instanceId_objectType: string (nullable = true)\n",
      " |-- instanceId_objectId: integer (nullable = true)\n",
      " |-- audit_pos: long (nullable = true)\n",
      " |-- audit_clientType: string (nullable = true)\n",
      " |-- audit_timestamp: long (nullable = true)\n",
      " |-- audit_timePassed: long (nullable = true)\n",
      " |-- audit_experiment: string (nullable = true)\n",
      " |-- audit_resourceType: long (nullable = true)\n",
      " |-- metadata_ownerId: integer (nullable = true)\n",
      " |-- metadata_ownerType: string (nullable = true)\n",
      " |-- metadata_createdAt: long (nullable = true)\n",
      " |-- metadata_authorId: integer (nullable = true)\n",
      " |-- metadata_applicationId: long (nullable = true)\n",
      " |-- metadata_numCompanions: integer (nullable = true)\n",
      " |-- metadata_numPhotos: integer (nullable = true)\n",
      " |-- metadata_numPolls: integer (nullable = true)\n",
      " |-- metadata_numSymbols: integer (nullable = true)\n",
      " |-- metadata_numTokens: integer (nullable = true)\n",
      " |-- metadata_numVideos: integer (nullable = true)\n",
      " |-- metadata_platform: string (nullable = true)\n",
      " |-- metadata_totalVideoLength: integer (nullable = true)\n",
      " |-- metadata_options: array (nullable = true)\n",
      " |    |-- element: string (containsNull = true)\n",
      " |-- relationsMask: long (nullable = true)\n",
      " |-- userOwnerCounters_USER_FEED_REMOVE: double (nullable = true)\n",
      " |-- userOwnerCounters_USER_PROFILE_VIEW: double (nullable = true)\n",
      " |-- userOwnerCounters_VOTE_POLL: double (nullable = true)\n",
      " |-- userOwnerCounters_USER_SEND_MESSAGE: double (nullable = true)\n",
      " |-- userOwnerCounters_USER_DELETE_MESSAGE: double (nullable = true)\n",
      " |-- userOwnerCounters_USER_INTERNAL_LIKE: double (nullable = true)\n",
      " |-- userOwnerCounters_USER_INTERNAL_UNLIKE: double (nullable = true)\n",
      " |-- userOwnerCounters_USER_STATUS_COMMENT_CREATE: double (nullable = true)\n",
      " |-- userOwnerCounters_PHOTO_COMMENT_CREATE: double (nullable = true)\n",
      " |-- userOwnerCounters_MOVIE_COMMENT_CREATE: double (nullable = true)\n",
      " |-- userOwnerCounters_USER_PHOTO_ALBUM_COMMENT_CREATE: double (nullable = true)\n",
      " |-- userOwnerCounters_COMMENT_INTERNAL_LIKE: double (nullable = true)\n",
      " |-- userOwnerCounters_USER_FORUM_MESSAGE_CREATE: double (nullable = true)\n",
      " |-- userOwnerCounters_PHOTO_MARK_CREATE: double (nullable = true)\n",
      " |-- userOwnerCounters_PHOTO_VIEW: double (nullable = true)\n",
      " |-- userOwnerCounters_PHOTO_PIN_BATCH_CREATE: double (nullable = true)\n",
      " |-- userOwnerCounters_PHOTO_PIN_UPDATE: double (nullable = true)\n",
      " |-- userOwnerCounters_USER_PRESENT_SEND: double (nullable = true)\n",
      " |-- userOwnerCounters_UNKNOWN: double (nullable = true)\n",
      " |-- userOwnerCounters_CREATE_TOPIC: double (nullable = true)\n",
      " |-- userOwnerCounters_CREATE_IMAGE: double (nullable = true)\n",
      " |-- userOwnerCounters_CREATE_MOVIE: double (nullable = true)\n",
      " |-- userOwnerCounters_CREATE_COMMENT: double (nullable = true)\n",
      " |-- userOwnerCounters_CREATE_LIKE: double (nullable = true)\n",
      " |-- userOwnerCounters_TEXT: double (nullable = true)\n",
      " |-- userOwnerCounters_IMAGE: double (nullable = true)\n",
      " |-- userOwnerCounters_VIDEO: double (nullable = true)\n",
      " |-- ownerUserCounters_USER_FEED_REMOVE: double (nullable = true)\n",
      " |-- ownerUserCounters_USER_PROFILE_VIEW: double (nullable = true)\n",
      " |-- ownerUserCounters_VOTE_POLL: double (nullable = true)\n",
      " |-- ownerUserCounters_USER_SEND_MESSAGE: double (nullable = true)\n",
      " |-- ownerUserCounters_USER_DELETE_MESSAGE: double (nullable = true)\n",
      " |-- ownerUserCounters_USER_INTERNAL_LIKE: double (nullable = true)\n",
      " |-- ownerUserCounters_USER_INTERNAL_UNLIKE: double (nullable = true)\n",
      " |-- ownerUserCounters_USER_STATUS_COMMENT_CREATE: double (nullable = true)\n",
      " |-- ownerUserCounters_PHOTO_COMMENT_CREATE: double (nullable = true)\n",
      " |-- ownerUserCounters_MOVIE_COMMENT_CREATE: double (nullable = true)\n",
      " |-- ownerUserCounters_USER_PHOTO_ALBUM_COMMENT_CREATE: double (nullable = true)\n",
      " |-- ownerUserCounters_COMMENT_INTERNAL_LIKE: double (nullable = true)\n",
      " |-- ownerUserCounters_USER_FORUM_MESSAGE_CREATE: double (nullable = true)\n",
      " |-- ownerUserCounters_PHOTO_MARK_CREATE: double (nullable = true)\n",
      " |-- ownerUserCounters_PHOTO_VIEW: double (nullable = true)\n",
      " |-- ownerUserCounters_PHOTO_PIN_BATCH_CREATE: double (nullable = true)\n",
      " |-- ownerUserCounters_PHOTO_PIN_UPDATE: double (nullable = true)\n",
      " |-- ownerUserCounters_USER_PRESENT_SEND: double (nullable = true)\n",
      " |-- ownerUserCounters_UNKNOWN: double (nullable = true)\n",
      " |-- ownerUserCounters_CREATE_TOPIC: double (nullable = true)\n",
      " |-- ownerUserCounters_CREATE_IMAGE: double (nullable = true)\n",
      " |-- ownerUserCounters_CREATE_MOVIE: double (nullable = true)\n",
      " |-- ownerUserCounters_CREATE_COMMENT: double (nullable = true)\n",
      " |-- ownerUserCounters_CREATE_LIKE: double (nullable = true)\n",
      " |-- ownerUserCounters_TEXT: double (nullable = true)\n",
      " |-- ownerUserCounters_IMAGE: double (nullable = true)\n",
      " |-- ownerUserCounters_VIDEO: double (nullable = true)\n",
      " |-- membership_status: string (nullable = true)\n",
      " |-- membership_statusUpdateDate: long (nullable = true)\n",
      " |-- membership_joinDate: long (nullable = true)\n",
      " |-- membership_joinRequestDate: long (nullable = true)\n",
      " |-- owner_create_date: long (nullable = true)\n",
      " |-- owner_birth_date: integer (nullable = true)\n",
      " |-- owner_gender: integer (nullable = true)\n",
      " |-- owner_status: integer (nullable = true)\n",
      " |-- owner_ID_country: long (nullable = true)\n",
      " |-- owner_ID_Location: integer (nullable = true)\n",
      " |-- owner_is_active: integer (nullable = true)\n",
      " |-- owner_is_deleted: integer (nullable = true)\n",
      " |-- owner_is_abused: integer (nullable = true)\n",
      " |-- owner_is_activated: integer (nullable = true)\n",
      " |-- owner_change_datime: long (nullable = true)\n",
      " |-- owner_is_semiactivated: integer (nullable = true)\n",
      " |-- owner_region: integer (nullable = true)\n",
      " |-- user_create_date: long (nullable = true)\n",
      " |-- user_birth_date: integer (nullable = true)\n",
      " |-- user_gender: integer (nullable = true)\n",
      " |-- user_status: integer (nullable = true)\n",
      " |-- user_ID_country: long (nullable = true)\n",
      " |-- user_ID_Location: integer (nullable = true)\n",
      " |-- user_is_active: integer (nullable = true)\n",
      " |-- user_is_deleted: integer (nullable = true)\n",
      " |-- user_is_abused: integer (nullable = true)\n",
      " |-- user_is_activated: integer (nullable = true)\n",
      " |-- user_change_datime: long (nullable = true)\n",
      " |-- user_is_semiactivated: integer (nullable = true)\n",
      " |-- user_region: integer (nullable = true)\n",
      " |-- feedback: array (nullable = true)\n",
      " |    |-- element: string (containsNull = true)\n",
      " |-- objectId: integer (nullable = true)\n",
      " |-- auditweights_ageMs: double (nullable = true)\n",
      " |-- auditweights_closed: double (nullable = true)\n",
      " |-- auditweights_ctr_gender: double (nullable = true)\n",
      " |-- auditweights_ctr_high: double (nullable = true)\n",
      " |-- auditweights_ctr_negative: double (nullable = true)\n",
      " |-- auditweights_dailyRecency: double (nullable = true)\n",
      " |-- auditweights_feedOwner_RECOMMENDED_GROUP: double (nullable = true)\n",
      " |-- auditweights_feedStats: double (nullable = true)\n",
      " |-- auditweights_friendCommentFeeds: double (nullable = true)\n",
      " |-- auditweights_friendCommenters: double (nullable = true)\n",
      " |-- auditweights_friendLikes: double (nullable = true)\n",
      " |-- auditweights_friendLikes_actors: double (nullable = true)\n",
      " |-- auditweights_hasDetectedText: double (nullable = true)\n",
      " |-- auditweights_hasText: double (nullable = true)\n",
      " |-- auditweights_isPymk: double (nullable = true)\n",
      " |-- auditweights_isRandom: double (nullable = true)\n",
      " |-- auditweights_likersFeedStats_hyper: double (nullable = true)\n",
      " |-- auditweights_likersSvd_prelaunch_hyper: double (nullable = true)\n",
      " |-- auditweights_matrix: double (nullable = true)\n",
      " |-- auditweights_notOriginalPhoto: double (nullable = true)\n",
      " |-- auditweights_numDislikes: double (nullable = true)\n",
      " |-- auditweights_numLikes: double (nullable = true)\n",
      " |-- auditweights_numShows: double (nullable = true)\n",
      " |-- auditweights_onlineVideo: double (nullable = true)\n",
      " |-- auditweights_partAge: double (nullable = true)\n",
      " |-- auditweights_partCtr: double (nullable = true)\n",
      " |-- auditweights_partSvd: double (nullable = true)\n",
      " |-- auditweights_processedVideo: double (nullable = true)\n",
      " |-- auditweights_relationMasks: double (nullable = true)\n",
      " |-- auditweights_source_LIVE_TOP: double (nullable = true)\n",
      " |-- auditweights_source_MOVIE_TOP: double (nullable = true)\n",
      " |-- auditweights_svd_prelaunch: double (nullable = true)\n",
      " |-- auditweights_svd_spark: double (nullable = true)\n",
      " |-- auditweights_userAge: double (nullable = true)\n",
      " |-- auditweights_userOwner_CREATE_COMMENT: double (nullable = true)\n",
      " |-- auditweights_userOwner_CREATE_IMAGE: double (nullable = true)\n",
      " |-- auditweights_userOwner_CREATE_LIKE: double (nullable = true)\n",
      " |-- auditweights_userOwner_IMAGE: double (nullable = true)\n",
      " |-- auditweights_userOwner_MOVIE_COMMENT_CREATE: double (nullable = true)\n",
      " |-- auditweights_userOwner_PHOTO_COMMENT_CREATE: double (nullable = true)\n",
      " |-- auditweights_userOwner_PHOTO_MARK_CREATE: double (nullable = true)\n",
      " |-- auditweights_userOwner_PHOTO_VIEW: double (nullable = true)\n",
      " |-- auditweights_userOwner_TEXT: double (nullable = true)\n",
      " |-- auditweights_userOwner_UNKNOWN: double (nullable = true)\n",
      " |-- auditweights_userOwner_USER_DELETE_MESSAGE: double (nullable = true)\n",
      " |-- auditweights_userOwner_USER_FEED_REMOVE: double (nullable = true)\n",
      " |-- auditweights_userOwner_USER_FORUM_MESSAGE_CREATE: double (nullable = true)\n"
     ]
    },
    {
     "name": "stdout",
     "output_type": "stream",
     "text": [
      " |-- auditweights_userOwner_USER_INTERNAL_LIKE: double (nullable = true)\n",
      " |-- auditweights_userOwner_USER_INTERNAL_UNLIKE: double (nullable = true)\n",
      " |-- auditweights_userOwner_USER_PRESENT_SEND: double (nullable = true)\n",
      " |-- auditweights_userOwner_USER_PROFILE_VIEW: double (nullable = true)\n",
      " |-- auditweights_userOwner_USER_SEND_MESSAGE: double (nullable = true)\n",
      " |-- auditweights_userOwner_USER_STATUS_COMMENT_CREATE: double (nullable = true)\n",
      " |-- auditweights_userOwner_VIDEO: double (nullable = true)\n",
      " |-- auditweights_userOwner_VOTE_POLL: double (nullable = true)\n",
      " |-- auditweights_x_ActorsRelations: long (nullable = true)\n",
      " |-- auditweights_likersSvd_spark_hyper: double (nullable = true)\n",
      " |-- auditweights_source_PROMO: double (nullable = true)\n",
      " |-- date: date (nullable = true)\n",
      "\n"
     ]
    }
   ],
   "source": [
    "df.printSchema"
   ]
  },
  {
   "cell_type": "markdown",
   "metadata": {},
   "source": [
    "# Get info about dataframe\n",
    "\n",
    "### Посмотрим на датафрейм."
   ]
  },
  {
   "cell_type": "code",
   "execution_count": 8,
   "metadata": {},
   "outputs": [
    {
     "data": {
      "text/html": [
       "<div>\n",
       "  <span style=\"float: left;\">count at cmd7.sc:1</span>\n",
       "</div>\n"
      ]
     },
     "metadata": {},
     "output_type": "display_data"
    },
    {
     "data": {
      "text/html": [
       "<div class=\"progress\">\n",
       "  <div class=\"progress-bar\" role=\"progressbar\" style=\"background-color: blue; width: 100%; word-wrap: normal; white-space: nowrap; text-align: center; color: white\" aria-valuenow=\"100\" aria-valuemin=\"0\" aria-valuemax=\"100\">\n",
       "    28 / 28\n",
       "  </div>\n",
       "  <div class=\"progress-bar\" role=\"progressbar\" style=\"background-color: red; width: 0%\" aria-valuenow=\"0\" aria-valuemin=\"0\" aria-valuemax=\"100\"></div>\n",
       "</div>\n"
      ]
     },
     "metadata": {},
     "output_type": "display_data"
    },
    {
     "data": {
      "text/html": [
       "<div>\n",
       "  <span style=\"float: left;\">count at cmd7.sc:1</span>\n",
       "</div>\n"
      ]
     },
     "metadata": {},
     "output_type": "display_data"
    },
    {
     "data": {
      "text/html": [
       "<div class=\"progress\">\n",
       "  <div class=\"progress-bar\" role=\"progressbar\" style=\"background-color: blue; width: 100%; word-wrap: normal; white-space: nowrap; text-align: center; color: white\" aria-valuenow=\"100\" aria-valuemin=\"0\" aria-valuemax=\"100\">\n",
       "    1 / 1\n",
       "  </div>\n",
       "  <div class=\"progress-bar\" role=\"progressbar\" style=\"background-color: red; width: 0%\" aria-valuenow=\"0\" aria-valuemin=\"0\" aria-valuemax=\"100\"></div>\n",
       "</div>\n"
      ]
     },
     "metadata": {},
     "output_type": "display_data"
    },
    {
     "data": {
      "text/plain": [
       "\u001b[36mn_rows\u001b[39m: \u001b[32mLong\u001b[39m = \u001b[32m18286575L\u001b[39m"
      ]
     },
     "execution_count": 8,
     "metadata": {},
     "output_type": "execute_result"
    }
   ],
   "source": [
    "val n_rows = df.count()"
   ]
  },
  {
   "cell_type": "code",
   "execution_count": 9,
   "metadata": {},
   "outputs": [
    {
     "data": {
      "text/plain": [
       "\u001b[36mn_columns\u001b[39m: \u001b[32mInt\u001b[39m = \u001b[32m169\u001b[39m"
      ]
     },
     "execution_count": 9,
     "metadata": {},
     "output_type": "execute_result"
    }
   ],
   "source": [
    "val n_columns = df.columns.length"
   ]
  },
  {
   "cell_type": "code",
   "execution_count": 10,
   "metadata": {},
   "outputs": [
    {
     "data": {
      "text/html": [
       "<div>\n",
       "  <span style=\"float: left;\">describe at cmd9.sc:1</span>\n",
       "</div>\n"
      ]
     },
     "metadata": {},
     "output_type": "display_data"
    },
    {
     "data": {
      "text/html": [
       "<div class=\"progress\">\n",
       "  <div class=\"progress-bar\" role=\"progressbar\" style=\"background-color: blue; width: 100%; word-wrap: normal; white-space: nowrap; text-align: center; color: white\" aria-valuenow=\"100\" aria-valuemin=\"0\" aria-valuemax=\"100\">\n",
       "    28 / 28\n",
       "  </div>\n",
       "  <div class=\"progress-bar\" role=\"progressbar\" style=\"background-color: red; width: 0%\" aria-valuenow=\"0\" aria-valuemin=\"0\" aria-valuemax=\"100\"></div>\n",
       "</div>\n"
      ]
     },
     "metadata": {},
     "output_type": "display_data"
    },
    {
     "data": {
      "text/html": [
       "<div>\n",
       "  <span style=\"float: left;\">describe at cmd9.sc:1</span>\n",
       "</div>\n"
      ]
     },
     "metadata": {},
     "output_type": "display_data"
    },
    {
     "data": {
      "text/html": [
       "<div class=\"progress\">\n",
       "  <div class=\"progress-bar\" role=\"progressbar\" style=\"background-color: blue; width: 100%; word-wrap: normal; white-space: nowrap; text-align: center; color: white\" aria-valuenow=\"100\" aria-valuemin=\"0\" aria-valuemax=\"100\">\n",
       "    1 / 1\n",
       "  </div>\n",
       "  <div class=\"progress-bar\" role=\"progressbar\" style=\"background-color: red; width: 0%\" aria-valuenow=\"0\" aria-valuemin=\"0\" aria-valuemax=\"100\"></div>\n",
       "</div>\n"
      ]
     },
     "metadata": {},
     "output_type": "display_data"
    },
    {
     "name": "stdout",
     "output_type": "stream",
     "text": [
      "+-------+-----------------+\n",
      "|summary|        audit_pos|\n",
      "+-------+-----------------+\n",
      "|  count|         18286575|\n",
      "|   mean|11.39937626373446|\n",
      "| stddev|16.76051641364607|\n",
      "|    min|                0|\n",
      "|    max|              489|\n",
      "+-------+-----------------+\n",
      "\n"
     ]
    }
   ],
   "source": [
    "df.select(\"audit_pos\").describe().show()"
   ]
  },
  {
   "cell_type": "code",
   "execution_count": 11,
   "metadata": {},
   "outputs": [
    {
     "data": {
      "text/html": [
       "<div>\n",
       "  <span style=\"float: left;\">head at cmd10.sc:1</span>\n",
       "</div>\n"
      ]
     },
     "metadata": {},
     "output_type": "display_data"
    },
    {
     "data": {
      "text/html": [
       "<div class=\"progress\">\n",
       "  <div class=\"progress-bar\" role=\"progressbar\" style=\"background-color: blue; width: 100%; word-wrap: normal; white-space: nowrap; text-align: center; color: white\" aria-valuenow=\"100\" aria-valuemin=\"0\" aria-valuemax=\"100\">\n",
       "    1 / 1\n",
       "  </div>\n",
       "  <div class=\"progress-bar\" role=\"progressbar\" style=\"background-color: red; width: 0%\" aria-valuenow=\"0\" aria-valuemin=\"0\" aria-valuemax=\"100\"></div>\n",
       "</div>\n"
      ]
     },
     "metadata": {},
     "output_type": "display_data"
    },
    {
     "data": {
      "text/plain": [
       "\u001b[36mres10\u001b[39m: \u001b[32mArray\u001b[39m[\u001b[32mRow\u001b[39m] = \u001b[33mArray\u001b[39m(\n",
       "  [108,Post,18452434,0,MOB,1520194086477,10184811,XPRM-5386_G1,8,13680,GROUP_OPE..."
      ]
     },
     "execution_count": 11,
     "metadata": {},
     "output_type": "execute_result"
    }
   ],
   "source": [
    "df.head(5)"
   ]
  },
  {
   "cell_type": "markdown",
   "metadata": {},
   "source": [
    "# About target\n",
    "\n",
    "### Сформулируем критерий для таргета - отток. Посмотрим на статусы feedback."
   ]
  },
  {
   "cell_type": "code",
   "execution_count": 12,
   "metadata": {},
   "outputs": [
    {
     "data": {
      "text/html": [
       "<div>\n",
       "  <span style=\"float: left;\">show at cmd11.sc:1</span>\n",
       "</div>\n"
      ]
     },
     "metadata": {},
     "output_type": "display_data"
    },
    {
     "data": {
      "text/html": [
       "<div class=\"progress\">\n",
       "  <div class=\"progress-bar\" role=\"progressbar\" style=\"background-color: blue; width: 100%; word-wrap: normal; white-space: nowrap; text-align: center; color: white\" aria-valuenow=\"100\" aria-valuemin=\"0\" aria-valuemax=\"100\">\n",
       "    1 / 1\n",
       "  </div>\n",
       "  <div class=\"progress-bar\" role=\"progressbar\" style=\"background-color: red; width: 0%\" aria-valuenow=\"0\" aria-valuemin=\"0\" aria-valuemax=\"100\"></div>\n",
       "</div>\n"
      ]
     },
     "metadata": {},
     "output_type": "display_data"
    },
    {
     "name": "stdout",
     "output_type": "stream",
     "text": [
      "+----------------+\n",
      "|        feedback|\n",
      "+----------------+\n",
      "|         [Liked]|\n",
      "|[Clicked, Liked]|\n",
      "|         [Liked]|\n",
      "|       [Ignored]|\n",
      "|       [Ignored]|\n",
      "|       [Ignored]|\n",
      "|[Clicked, Liked]|\n",
      "|         [Liked]|\n",
      "|       [Ignored]|\n",
      "|       [Ignored]|\n",
      "+----------------+\n",
      "only showing top 10 rows\n",
      "\n"
     ]
    }
   ],
   "source": [
    "df.select(\"feedback\").show(10)"
   ]
  },
  {
   "cell_type": "code",
   "execution_count": 13,
   "metadata": {},
   "outputs": [
    {
     "data": {
      "text/plain": [
       "\u001b[36mres12\u001b[39m: \u001b[32mtypes\u001b[39m.\u001b[32mStructType\u001b[39m = \u001b[33mStructType\u001b[39m(\n",
       "  \u001b[33mStructField\u001b[39m(\u001b[32m\"feedback\"\u001b[39m, \u001b[33mArrayType\u001b[39m(StringType, true), true, {})\n",
       ")"
      ]
     },
     "execution_count": 13,
     "metadata": {},
     "output_type": "execute_result"
    }
   ],
   "source": [
    "df.select(\"feedback\").schema"
   ]
  },
  {
   "cell_type": "markdown",
   "metadata": {},
   "source": [
    "### Для оттока нам будут интересны статусы, характеризующие вовлеченность пользователя в контент ленты. Поэтому, для вовлеченности будем смотреть:\n",
    "* Просмотр\n",
    "* Клик\n",
    "* Лайк"
   ]
  },
  {
   "cell_type": "code",
   "execution_count": 14,
   "metadata": {},
   "outputs": [
    {
     "data": {
      "text/plain": [
       "\u001b[36mdf_flags_tmp\u001b[39m: \u001b[32mDataFrame\u001b[39m = [instanceId_userId: int, instanceId_objectType: string ... 172 more fields]"
      ]
     },
     "execution_count": 14,
     "metadata": {},
     "output_type": "execute_result"
    }
   ],
   "source": [
    "val df_flags_tmp = df\n",
    ".withColumn(\"feedback_Liked_flag\", array_contains($\"feedback\", \"Liked\").cast(\"Int\"))\n",
    ".withColumn(\"feedback_Clicked_flag\", array_contains($\"feedback\", \"Clicked\").cast(\"Int\"))\n",
    ".withColumn(\"feedback_Viewed_flag\", array_contains($\"feedback\", \"Viewed\").cast(\"Int\"))\n",
    ".withColumn(\"activity_flag\", $\"feedback_Liked_flag\" + $\"feedback_Clicked_flag\" + $\"feedback_Viewed_flag\")\n",
    ".withColumn(\"report_date\", to_date(from_unixtime($\"audit_timestamp\" / 1000)))"
   ]
  },
  {
   "cell_type": "code",
   "execution_count": 15,
   "metadata": {},
   "outputs": [
    {
     "data": {
      "text/html": [
       "<div>\n",
       "  <span style=\"float: left;\">show at cmd14.sc:1</span>\n",
       "</div>\n"
      ]
     },
     "metadata": {},
     "output_type": "display_data"
    },
    {
     "data": {
      "text/html": [
       "<div class=\"progress\">\n",
       "  <div class=\"progress-bar\" role=\"progressbar\" style=\"background-color: blue; width: 100%; word-wrap: normal; white-space: nowrap; text-align: center; color: white\" aria-valuenow=\"100\" aria-valuemin=\"0\" aria-valuemax=\"100\">\n",
       "    1 / 1\n",
       "  </div>\n",
       "  <div class=\"progress-bar\" role=\"progressbar\" style=\"background-color: red; width: 0%\" aria-valuenow=\"0\" aria-valuemin=\"0\" aria-valuemax=\"100\"></div>\n",
       "</div>\n"
      ]
     },
     "metadata": {},
     "output_type": "display_data"
    },
    {
     "name": "stdout",
     "output_type": "stream",
     "text": [
      "+-----------------+-----------+----------------+-------------------+---------------------+--------------------+-------------+\n",
      "|instanceId_userId|report_date|        feedback|feedback_Liked_flag|feedback_Clicked_flag|feedback_Viewed_flag|activity_flag|\n",
      "+-----------------+-----------+----------------+-------------------+---------------------+--------------------+-------------+\n",
      "|              108| 2018-03-04|         [Liked]|                  1|                    0|                   0|            1|\n",
      "|              231| 2018-03-03|[Clicked, Liked]|                  1|                    1|                   0|            2|\n",
      "|              423| 2018-03-04|         [Liked]|                  1|                    0|                   0|            1|\n",
      "|              624| 2018-03-04|       [Ignored]|                  0|                    0|                   0|            0|\n",
      "|              768| 2018-03-04|       [Ignored]|                  0|                    0|                   0|            0|\n",
      "|             1206| 2018-03-04|       [Ignored]|                  0|                    0|                   0|            0|\n",
      "|             1752| 2018-03-04|[Clicked, Liked]|                  1|                    1|                   0|            2|\n",
      "|             1752| 2018-03-04|         [Liked]|                  1|                    0|                   0|            1|\n",
      "|             1752| 2018-03-04|       [Ignored]|                  0|                    0|                   0|            0|\n",
      "|             2514| 2018-03-04|       [Ignored]|                  0|                    0|                   0|            0|\n",
      "|             2823| 2018-03-04|       [Ignored]|                  0|                    0|                   0|            0|\n",
      "|             3252| 2018-03-04|       [Ignored]|                  0|                    0|                   0|            0|\n",
      "|             4176| 2018-03-04|       [Ignored]|                  0|                    0|                   0|            0|\n",
      "|             5646| 2018-03-04|       [Ignored]|                  0|                    0|                   0|            0|\n",
      "|             5850| 2018-03-04|       [Ignored]|                  0|                    0|                   0|            0|\n",
      "+-----------------+-----------+----------------+-------------------+---------------------+--------------------+-------------+\n",
      "only showing top 15 rows\n",
      "\n"
     ]
    }
   ],
   "source": [
    "df_flags_tmp.select(\"instanceId_userId\", \"report_date\", \"feedback\", \"feedback_Liked_flag\", \"feedback_Clicked_flag\", \"feedback_Viewed_flag\", \"activity_flag\").show(15)"
   ]
  },
  {
   "cell_type": "markdown",
   "metadata": {},
   "source": [
    "### Неотток = Активность. \n",
    "### Посчитаем флаги активности по каждому дню для каждого пользователя. Для этого сгруппируем датафрейм и посчитаем сумму по флагам активности."
   ]
  },
  {
   "cell_type": "code",
   "execution_count": 16,
   "metadata": {},
   "outputs": [
    {
     "data": {
      "text/html": [
       "<div>\n",
       "  <span style=\"float: left;\">show at cmd15.sc:5</span>\n",
       "</div>\n"
      ]
     },
     "metadata": {},
     "output_type": "display_data"
    },
    {
     "data": {
      "text/html": [
       "<div class=\"progress\">\n",
       "  <div class=\"progress-bar\" role=\"progressbar\" style=\"background-color: blue; width: 100%; word-wrap: normal; white-space: nowrap; text-align: center; color: white\" aria-valuenow=\"100\" aria-valuemin=\"0\" aria-valuemax=\"100\">\n",
       "    28 / 28\n",
       "  </div>\n",
       "  <div class=\"progress-bar\" role=\"progressbar\" style=\"background-color: red; width: 0%\" aria-valuenow=\"0\" aria-valuemin=\"0\" aria-valuemax=\"100\"></div>\n",
       "</div>\n"
      ]
     },
     "metadata": {},
     "output_type": "display_data"
    },
    {
     "data": {
      "text/html": [
       "<div>\n",
       "  <span style=\"float: left;\">show at cmd15.sc:5</span>\n",
       "</div>\n"
      ]
     },
     "metadata": {},
     "output_type": "display_data"
    },
    {
     "data": {
      "text/html": [
       "<div class=\"progress\">\n",
       "  <div class=\"progress-bar\" role=\"progressbar\" style=\"background-color: blue; width: 100%; word-wrap: normal; white-space: nowrap; text-align: center; color: white\" aria-valuenow=\"100\" aria-valuemin=\"0\" aria-valuemax=\"100\">\n",
       "    1 / 1\n",
       "  </div>\n",
       "  <div class=\"progress-bar\" role=\"progressbar\" style=\"background-color: red; width: 0%\" aria-valuenow=\"0\" aria-valuemin=\"0\" aria-valuemax=\"100\"></div>\n",
       "</div>\n"
      ]
     },
     "metadata": {},
     "output_type": "display_data"
    },
    {
     "name": "stdout",
     "output_type": "stream",
     "text": [
      "+-----------------+-----------+-------------+---------------+\n",
      "|instanceId_userId|report_date|activity_flag|audit_timestamp|\n",
      "+-----------------+-----------+-------------+---------------+\n",
      "|            96495| 2018-03-04|            0|  1520183519817|\n",
      "|           232125| 2018-03-04|            0|  1520168706454|\n",
      "|           237948| 2018-03-04|            0|  1520139716325|\n",
      "|           258231| 2018-03-04|            0|  1520149331388|\n",
      "|           282264| 2018-03-04|            2|  1520182451103|\n",
      "|           299859| 2018-03-04|            0|  1520170731741|\n",
      "|           315990| 2018-03-04|            0|  1520192657376|\n",
      "|           356985| 2018-03-04|            0|  1520175449578|\n",
      "|           412998| 2018-03-04|            0|  1520179368385|\n",
      "|           506979| 2018-03-04|            2|  1520165809565|\n",
      "|           512100| 2018-03-04|            0|  1520142304475|\n",
      "|           533940| 2018-03-04|            1|  1520188462136|\n",
      "|           881097| 2018-03-04|            0|  1520150430625|\n",
      "|          1038378| 2018-03-04|            1|  1520179989984|\n",
      "|          1064658| 2018-03-03|            1|  1520117858860|\n",
      "|          1068615| 2018-03-04|            1|  1520143577152|\n",
      "|          1115922| 2018-03-03|            0|  1520115977317|\n",
      "|          1116813| 2018-03-04|            0|  1520185188750|\n",
      "|          1143822| 2018-03-04|            2|  1520179375837|\n",
      "|          1158351| 2018-03-04|            0|  1520181209981|\n",
      "+-----------------+-----------+-------------+---------------+\n",
      "only showing top 20 rows\n",
      "\n"
     ]
    },
    {
     "data": {
      "text/plain": [
       "\u001b[36mdf_flags\u001b[39m: \u001b[32mDataFrame\u001b[39m = [instanceId_userId: int, report_date: date ... 2 more fields]"
      ]
     },
     "execution_count": 16,
     "metadata": {},
     "output_type": "execute_result"
    }
   ],
   "source": [
    "val df_flags = df_flags_tmp.groupBy(\"instanceId_userId\", \"report_date\").agg(\n",
    "    sum(\"activity_flag\").as(\"activity_flag\"),\n",
    "    max(\"audit_timestamp\").as(\"audit_timestamp\"),\n",
    ")\n",
    "df_flags.show()"
   ]
  },
  {
   "cell_type": "markdown",
   "metadata": {},
   "source": [
    "### Посмотрим на даты в датафрейме. Посмотрим на календрь. Это будет полезно для окончательного формирования таргета."
   ]
  },
  {
   "cell_type": "code",
   "execution_count": 17,
   "metadata": {},
   "outputs": [
    {
     "data": {
      "text/plain": [
       "\u001b[36mcalendar_df\u001b[39m: \u001b[32mDataset\u001b[39m[\u001b[32mRow\u001b[39m] = [report_date: date]"
      ]
     },
     "execution_count": 17,
     "metadata": {},
     "output_type": "execute_result"
    }
   ],
   "source": [
    "val calendar_df = df_flags.select(\"report_date\").distinct().orderBy(asc(\"report_date\"))"
   ]
  },
  {
   "cell_type": "code",
   "execution_count": 18,
   "metadata": {},
   "outputs": [
    {
     "data": {
      "text/html": [
       "<div>\n",
       "  <span style=\"float: left;\">show at cmd17.sc:1</span>\n",
       "</div>\n"
      ]
     },
     "metadata": {},
     "output_type": "display_data"
    },
    {
     "data": {
      "text/html": [
       "<div class=\"progress\">\n",
       "  <div class=\"progress-bar\" role=\"progressbar\" style=\"background-color: blue; width: 100%; word-wrap: normal; white-space: nowrap; text-align: center; color: white\" aria-valuenow=\"100\" aria-valuemin=\"0\" aria-valuemax=\"100\">\n",
       "    28 / 28\n",
       "  </div>\n",
       "  <div class=\"progress-bar\" role=\"progressbar\" style=\"background-color: red; width: 0%\" aria-valuenow=\"0\" aria-valuemin=\"0\" aria-valuemax=\"100\"></div>\n",
       "</div>\n"
      ]
     },
     "metadata": {},
     "output_type": "display_data"
    },
    {
     "data": {
      "text/html": [
       "<div>\n",
       "  <span style=\"float: left;\">show at cmd17.sc:1</span>\n",
       "</div>\n"
      ]
     },
     "metadata": {},
     "output_type": "display_data"
    },
    {
     "data": {
      "text/html": [
       "<div class=\"progress\">\n",
       "  <div class=\"progress-bar\" role=\"progressbar\" style=\"background-color: blue; width: 100%; word-wrap: normal; white-space: nowrap; text-align: center; color: white\" aria-valuenow=\"100\" aria-valuemin=\"0\" aria-valuemax=\"100\">\n",
       "    200 / 200\n",
       "  </div>\n",
       "  <div class=\"progress-bar\" role=\"progressbar\" style=\"background-color: red; width: 0%\" aria-valuenow=\"0\" aria-valuemin=\"0\" aria-valuemax=\"100\"></div>\n",
       "</div>\n"
      ]
     },
     "metadata": {},
     "output_type": "display_data"
    },
    {
     "data": {
      "text/html": [
       "<div>\n",
       "  <span style=\"float: left;\">show at cmd17.sc:1</span>\n",
       "</div>\n"
      ]
     },
     "metadata": {},
     "output_type": "display_data"
    },
    {
     "data": {
      "text/html": [
       "<div class=\"progress\">\n",
       "  <div class=\"progress-bar\" role=\"progressbar\" style=\"background-color: blue; width: 100%; word-wrap: normal; white-space: nowrap; text-align: center; color: white\" aria-valuenow=\"100\" aria-valuemin=\"0\" aria-valuemax=\"100\">\n",
       "    200 / 200\n",
       "  </div>\n",
       "  <div class=\"progress-bar\" role=\"progressbar\" style=\"background-color: red; width: 0%\" aria-valuenow=\"0\" aria-valuemin=\"0\" aria-valuemax=\"100\"></div>\n",
       "</div>\n"
      ]
     },
     "metadata": {},
     "output_type": "display_data"
    },
    {
     "name": "stdout",
     "output_type": "stream",
     "text": [
      "+-----------+\n",
      "|report_date|\n",
      "+-----------+\n",
      "| 2018-01-31|\n",
      "| 2018-02-01|\n",
      "| 2018-02-02|\n",
      "| 2018-02-03|\n",
      "| 2018-02-04|\n",
      "| 2018-02-05|\n",
      "| 2018-02-06|\n",
      "| 2018-02-07|\n",
      "| 2018-02-08|\n",
      "| 2018-02-09|\n",
      "| 2018-02-10|\n",
      "| 2018-02-11|\n",
      "| 2018-02-12|\n",
      "| 2018-02-13|\n",
      "| 2018-02-14|\n",
      "| 2018-02-15|\n",
      "| 2018-02-16|\n",
      "| 2018-02-17|\n",
      "| 2018-02-18|\n",
      "| 2018-02-19|\n",
      "| 2018-02-20|\n",
      "| 2018-02-21|\n",
      "| 2018-02-22|\n",
      "| 2018-02-23|\n",
      "| 2018-02-24|\n",
      "| 2018-02-25|\n",
      "| 2018-02-26|\n",
      "| 2018-02-27|\n",
      "| 2018-02-28|\n",
      "| 2018-03-01|\n",
      "| 2018-03-02|\n",
      "| 2018-03-03|\n",
      "| 2018-03-04|\n",
      "| 2018-03-05|\n",
      "| 2018-03-06|\n",
      "| 2018-03-07|\n",
      "| 2018-03-08|\n",
      "| 2018-03-09|\n",
      "| 2018-03-10|\n",
      "| 2018-03-11|\n",
      "| 2018-03-12|\n",
      "| 2018-03-13|\n",
      "| 2018-03-14|\n",
      "| 2018-03-15|\n",
      "| 2018-03-16|\n",
      "| 2018-03-17|\n",
      "| 2018-03-18|\n",
      "| 2018-03-19|\n",
      "| 2018-03-20|\n",
      "| 2018-03-21|\n",
      "+-----------+\n",
      "\n"
     ]
    }
   ],
   "source": [
    "calendar_df.show(50)"
   ]
  },
  {
   "cell_type": "markdown",
   "metadata": {},
   "source": [
    "### Посмотрим на интервал дат для трейна. Очень важно для следующего шага."
   ]
  },
  {
   "cell_type": "code",
   "execution_count": 19,
   "metadata": {},
   "outputs": [
    {
     "data": {
      "text/html": [
       "<div>\n",
       "  <span style=\"float: left;\">show at cmd18.sc:1</span>\n",
       "</div>\n"
      ]
     },
     "metadata": {},
     "output_type": "display_data"
    },
    {
     "data": {
      "text/html": [
       "<div class=\"progress\">\n",
       "  <div class=\"progress-bar\" role=\"progressbar\" style=\"background-color: blue; width: 100%; word-wrap: normal; white-space: nowrap; text-align: center; color: white\" aria-valuenow=\"100\" aria-valuemin=\"0\" aria-valuemax=\"100\">\n",
       "    28 / 28\n",
       "  </div>\n",
       "  <div class=\"progress-bar\" role=\"progressbar\" style=\"background-color: red; width: 0%\" aria-valuenow=\"0\" aria-valuemin=\"0\" aria-valuemax=\"100\"></div>\n",
       "</div>\n"
      ]
     },
     "metadata": {},
     "output_type": "display_data"
    },
    {
     "data": {
      "text/html": [
       "<div>\n",
       "  <span style=\"float: left;\">show at cmd18.sc:1</span>\n",
       "</div>\n"
      ]
     },
     "metadata": {},
     "output_type": "display_data"
    },
    {
     "data": {
      "text/html": [
       "<div class=\"progress\">\n",
       "  <div class=\"progress-bar\" role=\"progressbar\" style=\"background-color: blue; width: 100%; word-wrap: normal; white-space: nowrap; text-align: center; color: white\" aria-valuenow=\"100\" aria-valuemin=\"0\" aria-valuemax=\"100\">\n",
       "    200 / 200\n",
       "  </div>\n",
       "  <div class=\"progress-bar\" role=\"progressbar\" style=\"background-color: red; width: 0%\" aria-valuenow=\"0\" aria-valuemin=\"0\" aria-valuemax=\"100\"></div>\n",
       "</div>\n"
      ]
     },
     "metadata": {},
     "output_type": "display_data"
    },
    {
     "data": {
      "text/html": [
       "<div>\n",
       "  <span style=\"float: left;\">show at cmd18.sc:1</span>\n",
       "</div>\n"
      ]
     },
     "metadata": {},
     "output_type": "display_data"
    },
    {
     "data": {
      "text/html": [
       "<div class=\"progress\">\n",
       "  <div class=\"progress-bar\" role=\"progressbar\" style=\"background-color: blue; width: 100%; word-wrap: normal; white-space: nowrap; text-align: center; color: white\" aria-valuenow=\"100\" aria-valuemin=\"0\" aria-valuemax=\"100\">\n",
       "    200 / 200\n",
       "  </div>\n",
       "  <div class=\"progress-bar\" role=\"progressbar\" style=\"background-color: red; width: 0%\" aria-valuenow=\"0\" aria-valuemin=\"0\" aria-valuemax=\"100\"></div>\n",
       "</div>\n"
      ]
     },
     "metadata": {},
     "output_type": "display_data"
    },
    {
     "data": {
      "text/html": [
       "<div>\n",
       "  <span style=\"float: left;\">show at cmd18.sc:1</span>\n",
       "</div>\n"
      ]
     },
     "metadata": {},
     "output_type": "display_data"
    },
    {
     "data": {
      "text/html": [
       "<div class=\"progress\">\n",
       "  <div class=\"progress-bar\" role=\"progressbar\" style=\"background-color: blue; width: 100%; word-wrap: normal; white-space: nowrap; text-align: center; color: white\" aria-valuenow=\"100\" aria-valuemin=\"0\" aria-valuemax=\"100\">\n",
       "    200 / 200\n",
       "  </div>\n",
       "  <div class=\"progress-bar\" role=\"progressbar\" style=\"background-color: red; width: 0%\" aria-valuenow=\"0\" aria-valuemin=\"0\" aria-valuemax=\"100\"></div>\n",
       "</div>\n"
      ]
     },
     "metadata": {},
     "output_type": "display_data"
    },
    {
     "data": {
      "text/html": [
       "<div>\n",
       "  <span style=\"float: left;\">show at cmd18.sc:1</span>\n",
       "</div>\n"
      ]
     },
     "metadata": {},
     "output_type": "display_data"
    },
    {
     "data": {
      "text/html": [
       "<div class=\"progress\">\n",
       "  <div class=\"progress-bar\" role=\"progressbar\" style=\"background-color: blue; width: 100%; word-wrap: normal; white-space: nowrap; text-align: center; color: white\" aria-valuenow=\"100\" aria-valuemin=\"0\" aria-valuemax=\"100\">\n",
       "    50 / 50\n",
       "  </div>\n",
       "  <div class=\"progress-bar\" role=\"progressbar\" style=\"background-color: red; width: 0%\" aria-valuenow=\"0\" aria-valuemin=\"0\" aria-valuemax=\"100\"></div>\n",
       "</div>\n"
      ]
     },
     "metadata": {},
     "output_type": "display_data"
    },
    {
     "data": {
      "text/html": [
       "<div>\n",
       "  <span style=\"float: left;\">show at cmd18.sc:1</span>\n",
       "</div>\n"
      ]
     },
     "metadata": {},
     "output_type": "display_data"
    },
    {
     "data": {
      "text/html": [
       "<div class=\"progress\">\n",
       "  <div class=\"progress-bar\" role=\"progressbar\" style=\"background-color: blue; width: 100%; word-wrap: normal; white-space: nowrap; text-align: center; color: white\" aria-valuenow=\"100\" aria-valuemin=\"0\" aria-valuemax=\"100\">\n",
       "    1 / 1\n",
       "  </div>\n",
       "  <div class=\"progress-bar\" role=\"progressbar\" style=\"background-color: red; width: 0%\" aria-valuenow=\"0\" aria-valuemin=\"0\" aria-valuemax=\"100\"></div>\n",
       "</div>\n"
      ]
     },
     "metadata": {},
     "output_type": "display_data"
    },
    {
     "name": "stdout",
     "output_type": "stream",
     "text": [
      "+----------------+----------------+\n",
      "|min(report_date)|max(report_date)|\n",
      "+----------------+----------------+\n",
      "|      2018-01-31|      2018-03-21|\n",
      "+----------------+----------------+\n",
      "\n"
     ]
    }
   ],
   "source": [
    "calendar_df.agg(min(\"report_date\"), max(\"report_date\")).show()"
   ]
  },
  {
   "cell_type": "markdown",
   "metadata": {},
   "source": [
    "### Модель оттока должна смотреть на несколько дней вперед, чтобы мы могли делать какое то предложение до наступления события и вовлекать пользователя до того, как уйдет в отток.  Примеры воздействия на могут быть следующие:\n",
    "* Уведомление PUSH об обновлениях в группах, которые интересны пользователю.\n",
    "* Уведомление PUSH о действиях друзей пользователя.\n",
    "* И тд.\n",
    "\n",
    "### Я выбрал окно для таргета оттока - 3 дня вперед."
   ]
  },
  {
   "cell_type": "code",
   "execution_count": 20,
   "metadata": {},
   "outputs": [
    {
     "data": {
      "text/plain": [
       "\u001b[36mdf_flags_dates\u001b[39m: \u001b[32mDataFrame\u001b[39m = [instanceId_userId: int, audit_timestamp: bigint ... 5 more fields]"
      ]
     },
     "execution_count": 20,
     "metadata": {},
     "output_type": "execute_result"
    }
   ],
   "source": [
    "val df_flags_dates = df_flags.select(\"instanceId_userId\", \"audit_timestamp\", \"activity_flag\", \"report_date\")\n",
    ".withColumn(\"report_date_2\", date_sub(to_date(from_unixtime($\"audit_timestamp\" / 1000)), -1))\n",
    ".withColumn(\"report_date_3\", date_sub(to_date(from_unixtime($\"audit_timestamp\" / 1000)), -2))\n",
    ".withColumn(\"report_date_4\", date_sub(to_date(from_unixtime($\"audit_timestamp\" / 1000)), -3))"
   ]
  },
  {
   "cell_type": "markdown",
   "metadata": {},
   "source": [
    "### Посмотрим, правильно ли мы собрали окно на 3 дня вперед."
   ]
  },
  {
   "cell_type": "code",
   "execution_count": 21,
   "metadata": {},
   "outputs": [],
   "source": [
    "df_flags_dates.createOrReplaceTempView(\"flags_dates\")"
   ]
  },
  {
   "cell_type": "code",
   "execution_count": 22,
   "metadata": {},
   "outputs": [
    {
     "data": {
      "text/html": [
       "<div>\n",
       "  <span style=\"float: left;\">show at cmd21.sc:1</span>\n",
       "</div>\n"
      ]
     },
     "metadata": {},
     "output_type": "display_data"
    },
    {
     "data": {
      "text/html": [
       "<div class=\"progress\">\n",
       "  <div class=\"progress-bar\" role=\"progressbar\" style=\"background-color: blue; width: 100%; word-wrap: normal; white-space: nowrap; text-align: center; color: white\" aria-valuenow=\"100\" aria-valuemin=\"0\" aria-valuemax=\"100\">\n",
       "    28 / 28\n",
       "  </div>\n",
       "  <div class=\"progress-bar\" role=\"progressbar\" style=\"background-color: red; width: 0%\" aria-valuenow=\"0\" aria-valuemin=\"0\" aria-valuemax=\"100\"></div>\n",
       "</div>\n"
      ]
     },
     "metadata": {},
     "output_type": "display_data"
    },
    {
     "data": {
      "text/html": [
       "<div>\n",
       "  <span style=\"float: left;\">show at cmd21.sc:1</span>\n",
       "</div>\n"
      ]
     },
     "metadata": {},
     "output_type": "display_data"
    },
    {
     "data": {
      "text/html": [
       "<div class=\"progress\">\n",
       "  <div class=\"progress-bar\" role=\"progressbar\" style=\"background-color: blue; width: 100%; word-wrap: normal; white-space: nowrap; text-align: center; color: white\" aria-valuenow=\"100\" aria-valuemin=\"0\" aria-valuemax=\"100\">\n",
       "    28 / 28\n",
       "  </div>\n",
       "  <div class=\"progress-bar\" role=\"progressbar\" style=\"background-color: red; width: 0%\" aria-valuenow=\"0\" aria-valuemin=\"0\" aria-valuemax=\"100\"></div>\n",
       "</div>\n"
      ]
     },
     "metadata": {},
     "output_type": "display_data"
    },
    {
     "data": {
      "text/html": [
       "<div>\n",
       "  <span style=\"float: left;\">show at cmd21.sc:1</span>\n",
       "</div>\n"
      ]
     },
     "metadata": {},
     "output_type": "display_data"
    },
    {
     "data": {
      "text/html": [
       "<div class=\"progress\">\n",
       "  <div class=\"progress-bar\" role=\"progressbar\" style=\"background-color: blue; width: 100%; word-wrap: normal; white-space: nowrap; text-align: center; color: white\" aria-valuenow=\"100\" aria-valuemin=\"0\" aria-valuemax=\"100\">\n",
       "    200 / 200\n",
       "  </div>\n",
       "  <div class=\"progress-bar\" role=\"progressbar\" style=\"background-color: red; width: 0%\" aria-valuenow=\"0\" aria-valuemin=\"0\" aria-valuemax=\"100\"></div>\n",
       "</div>\n"
      ]
     },
     "metadata": {},
     "output_type": "display_data"
    },
    {
     "data": {
      "text/html": [
       "<div>\n",
       "  <span style=\"float: left;\">show at cmd21.sc:1</span>\n",
       "</div>\n"
      ]
     },
     "metadata": {},
     "output_type": "display_data"
    },
    {
     "data": {
      "text/html": [
       "<div class=\"progress\">\n",
       "  <div class=\"progress-bar\" role=\"progressbar\" style=\"background-color: blue; width: 100%; word-wrap: normal; white-space: nowrap; text-align: center; color: white\" aria-valuenow=\"100\" aria-valuemin=\"0\" aria-valuemax=\"100\">\n",
       "    200 / 200\n",
       "  </div>\n",
       "  <div class=\"progress-bar\" role=\"progressbar\" style=\"background-color: red; width: 0%\" aria-valuenow=\"0\" aria-valuemin=\"0\" aria-valuemax=\"100\"></div>\n",
       "</div>\n"
      ]
     },
     "metadata": {},
     "output_type": "display_data"
    },
    {
     "data": {
      "text/html": [
       "<div>\n",
       "  <span style=\"float: left;\">show at cmd21.sc:1</span>\n",
       "</div>\n"
      ]
     },
     "metadata": {},
     "output_type": "display_data"
    },
    {
     "data": {
      "text/html": [
       "<div class=\"progress\">\n",
       "  <div class=\"progress-bar\" role=\"progressbar\" style=\"background-color: blue; width: 100%; word-wrap: normal; white-space: nowrap; text-align: center; color: white\" aria-valuenow=\"100\" aria-valuemin=\"0\" aria-valuemax=\"100\">\n",
       "    200 / 200\n",
       "  </div>\n",
       "  <div class=\"progress-bar\" role=\"progressbar\" style=\"background-color: red; width: 0%\" aria-valuenow=\"0\" aria-valuemin=\"0\" aria-valuemax=\"100\"></div>\n",
       "</div>\n"
      ]
     },
     "metadata": {},
     "output_type": "display_data"
    },
    {
     "data": {
      "text/html": [
       "<div>\n",
       "  <span style=\"float: left;\">show at cmd21.sc:1</span>\n",
       "</div>\n"
      ]
     },
     "metadata": {},
     "output_type": "display_data"
    },
    {
     "data": {
      "text/html": [
       "<div class=\"progress\">\n",
       "  <div class=\"progress-bar\" role=\"progressbar\" style=\"background-color: blue; width: 100%; word-wrap: normal; white-space: nowrap; text-align: center; color: white\" aria-valuenow=\"100\" aria-valuemin=\"0\" aria-valuemax=\"100\">\n",
       "    200 / 200\n",
       "  </div>\n",
       "  <div class=\"progress-bar\" role=\"progressbar\" style=\"background-color: red; width: 0%\" aria-valuenow=\"0\" aria-valuemin=\"0\" aria-valuemax=\"100\"></div>\n",
       "</div>\n"
      ]
     },
     "metadata": {},
     "output_type": "display_data"
    },
    {
     "data": {
      "text/html": [
       "<div>\n",
       "  <span style=\"float: left;\">show at cmd21.sc:1</span>\n",
       "</div>\n"
      ]
     },
     "metadata": {},
     "output_type": "display_data"
    },
    {
     "data": {
      "text/html": [
       "<div class=\"progress\">\n",
       "  <div class=\"progress-bar\" role=\"progressbar\" style=\"background-color: blue; width: 100%; word-wrap: normal; white-space: nowrap; text-align: center; color: white\" aria-valuenow=\"100\" aria-valuemin=\"0\" aria-valuemax=\"100\">\n",
       "    1 / 1\n",
       "  </div>\n",
       "  <div class=\"progress-bar\" role=\"progressbar\" style=\"background-color: red; width: 0%\" aria-valuenow=\"0\" aria-valuemin=\"0\" aria-valuemax=\"100\"></div>\n",
       "</div>\n"
      ]
     },
     "metadata": {},
     "output_type": "display_data"
    },
    {
     "name": "stdout",
     "output_type": "stream",
     "text": [
      "+-----------------+-----------+-------------+-----------+----------+-----------+-------------+-----------+-------------+\n",
      "|instanceId_userId|report_date|activity_flag|report_dt_2|activ_fl_2|report_dt_3|activity_fl_3|report_dt_4|activity_fl_4|\n",
      "+-----------------+-----------+-------------+-----------+----------+-----------+-------------+-----------+-------------+\n",
      "|           280740| 2018-01-31|            0|       null|         0|       null|            0|       null|            0|\n",
      "|          1046904| 2018-01-31|            0| 2018-02-01|         0|       null|            0|       null|            0|\n",
      "|          1165407| 2018-01-31|            1|       null|         0|       null|            0|       null|            0|\n",
      "|          1755825| 2018-01-31|            1|       null|         0|       null|            0|       null|            0|\n",
      "|          1849224| 2018-01-31|            0|       null|         0|       null|            0|       null|            0|\n",
      "|          2142267| 2018-01-31|            0|       null|         0|       null|            0|       null|            0|\n",
      "|          2330496| 2018-01-31|            1|       null|         0|       null|            0|       null|            0|\n",
      "|          2334525| 2018-01-31|            0|       null|         0|       null|            0|       null|            0|\n",
      "|          2469006| 2018-01-31|            1|       null|         0| 2018-02-02|            0|       null|            0|\n",
      "|          2563230| 2018-01-31|            0|       null|         0| 2018-02-02|            0| 2018-02-03|            0|\n",
      "|          3506436| 2018-01-31|            3|       null|         0| 2018-02-02|            0|       null|            0|\n",
      "|          3802575| 2018-01-31|            1|       null|         0|       null|            0|       null|            0|\n",
      "|          3893742| 2018-01-31|            0|       null|         0|       null|            0|       null|            0|\n",
      "|          4605447| 2018-01-31|            0|       null|         0|       null|            0|       null|            0|\n",
      "|          4615635| 2018-01-31|            0|       null|         0|       null|            0|       null|            0|\n",
      "|          5360352| 2018-01-31|            0|       null|         0|       null|            0|       null|            0|\n",
      "|          5487213| 2018-01-31|            0|       null|         0|       null|            0|       null|            0|\n",
      "|          5610627| 2018-01-31|            0| 2018-02-01|         2| 2018-02-02|            0|       null|            0|\n",
      "|          6292056| 2018-01-31|            0|       null|         0|       null|            0|       null|            0|\n",
      "|          6602346| 2018-01-31|            1| 2018-02-01|         0|       null|            0|       null|            0|\n",
      "+-----------------+-----------+-------------+-----------+----------+-----------+-------------+-----------+-------------+\n",
      "only showing top 20 rows\n",
      "\n"
     ]
    }
   ],
   "source": [
    "spark.sql(\"select d1.instanceId_userId, d1.report_date, d1.activity_flag, d2.report_date as report_dt_2, coalesce(d2.activity_flag, 0) as activ_fl_2, d3.report_date as report_dt_3, coalesce(d3.activity_flag, 0) as activity_fl_3, d4.report_date as report_dt_4, coalesce(d4.activity_flag, 0) as activity_fl_4 from flags_dates d1 left join flags_dates d2 on d1.report_date_2=d2.report_date and d1.instanceId_userId=d2.instanceId_userId left join flags_dates d3 on d1.report_date_3=d3.report_date and d1.instanceId_userId=d3.instanceId_userId left join flags_dates d4 on d1.report_date_4=d4.report_date and d1.instanceId_userId=d4.instanceId_userId\").show"
   ]
  },
  {
   "cell_type": "markdown",
   "metadata": {},
   "source": [
    "### Соберем датафрейм с флагами активности на 3 дня вперед."
   ]
  },
  {
   "cell_type": "code",
   "execution_count": 23,
   "metadata": {},
   "outputs": [
    {
     "data": {
      "text/html": [
       "<div>\n",
       "  <span style=\"float: left;\">show at cmd22.sc:2</span>\n",
       "</div>\n"
      ]
     },
     "metadata": {},
     "output_type": "display_data"
    },
    {
     "data": {
      "text/html": [
       "<div class=\"progress\">\n",
       "  <div class=\"progress-bar\" role=\"progressbar\" style=\"background-color: blue; width: 100%; word-wrap: normal; white-space: nowrap; text-align: center; color: white\" aria-valuenow=\"100\" aria-valuemin=\"0\" aria-valuemax=\"100\">\n",
       "    28 / 28\n",
       "  </div>\n",
       "  <div class=\"progress-bar\" role=\"progressbar\" style=\"background-color: red; width: 0%\" aria-valuenow=\"0\" aria-valuemin=\"0\" aria-valuemax=\"100\"></div>\n",
       "</div>\n"
      ]
     },
     "metadata": {},
     "output_type": "display_data"
    },
    {
     "data": {
      "text/html": [
       "<div>\n",
       "  <span style=\"float: left;\">show at cmd22.sc:2</span>\n",
       "</div>\n"
      ]
     },
     "metadata": {},
     "output_type": "display_data"
    },
    {
     "data": {
      "text/html": [
       "<div class=\"progress\">\n",
       "  <div class=\"progress-bar\" role=\"progressbar\" style=\"background-color: blue; width: 100%; word-wrap: normal; white-space: nowrap; text-align: center; color: white\" aria-valuenow=\"100\" aria-valuemin=\"0\" aria-valuemax=\"100\">\n",
       "    28 / 28\n",
       "  </div>\n",
       "  <div class=\"progress-bar\" role=\"progressbar\" style=\"background-color: red; width: 0%\" aria-valuenow=\"0\" aria-valuemin=\"0\" aria-valuemax=\"100\"></div>\n",
       "</div>\n"
      ]
     },
     "metadata": {},
     "output_type": "display_data"
    },
    {
     "data": {
      "text/html": [
       "<div>\n",
       "  <span style=\"float: left;\">show at cmd22.sc:2</span>\n",
       "</div>\n"
      ]
     },
     "metadata": {},
     "output_type": "display_data"
    },
    {
     "data": {
      "text/html": [
       "<div class=\"progress\">\n",
       "  <div class=\"progress-bar\" role=\"progressbar\" style=\"background-color: blue; width: 100%; word-wrap: normal; white-space: nowrap; text-align: center; color: white\" aria-valuenow=\"100\" aria-valuemin=\"0\" aria-valuemax=\"100\">\n",
       "    200 / 200\n",
       "  </div>\n",
       "  <div class=\"progress-bar\" role=\"progressbar\" style=\"background-color: red; width: 0%\" aria-valuenow=\"0\" aria-valuemin=\"0\" aria-valuemax=\"100\"></div>\n",
       "</div>\n"
      ]
     },
     "metadata": {},
     "output_type": "display_data"
    },
    {
     "data": {
      "text/html": [
       "<div>\n",
       "  <span style=\"float: left;\">show at cmd22.sc:2</span>\n",
       "</div>\n"
      ]
     },
     "metadata": {},
     "output_type": "display_data"
    },
    {
     "data": {
      "text/html": [
       "<div class=\"progress\">\n",
       "  <div class=\"progress-bar\" role=\"progressbar\" style=\"background-color: blue; width: 100%; word-wrap: normal; white-space: nowrap; text-align: center; color: white\" aria-valuenow=\"100\" aria-valuemin=\"0\" aria-valuemax=\"100\">\n",
       "    200 / 200\n",
       "  </div>\n",
       "  <div class=\"progress-bar\" role=\"progressbar\" style=\"background-color: red; width: 0%\" aria-valuenow=\"0\" aria-valuemin=\"0\" aria-valuemax=\"100\"></div>\n",
       "</div>\n"
      ]
     },
     "metadata": {},
     "output_type": "display_data"
    },
    {
     "data": {
      "text/html": [
       "<div>\n",
       "  <span style=\"float: left;\">show at cmd22.sc:2</span>\n",
       "</div>\n"
      ]
     },
     "metadata": {},
     "output_type": "display_data"
    },
    {
     "data": {
      "text/html": [
       "<div class=\"progress\">\n",
       "  <div class=\"progress-bar\" role=\"progressbar\" style=\"background-color: blue; width: 100%; word-wrap: normal; white-space: nowrap; text-align: center; color: white\" aria-valuenow=\"100\" aria-valuemin=\"0\" aria-valuemax=\"100\">\n",
       "    200 / 200\n",
       "  </div>\n",
       "  <div class=\"progress-bar\" role=\"progressbar\" style=\"background-color: red; width: 0%\" aria-valuenow=\"0\" aria-valuemin=\"0\" aria-valuemax=\"100\"></div>\n",
       "</div>\n"
      ]
     },
     "metadata": {},
     "output_type": "display_data"
    },
    {
     "data": {
      "text/html": [
       "<div>\n",
       "  <span style=\"float: left;\">show at cmd22.sc:2</span>\n",
       "</div>\n"
      ]
     },
     "metadata": {},
     "output_type": "display_data"
    },
    {
     "data": {
      "text/html": [
       "<div class=\"progress\">\n",
       "  <div class=\"progress-bar\" role=\"progressbar\" style=\"background-color: blue; width: 100%; word-wrap: normal; white-space: nowrap; text-align: center; color: white\" aria-valuenow=\"100\" aria-valuemin=\"0\" aria-valuemax=\"100\">\n",
       "    200 / 200\n",
       "  </div>\n",
       "  <div class=\"progress-bar\" role=\"progressbar\" style=\"background-color: red; width: 0%\" aria-valuenow=\"0\" aria-valuemin=\"0\" aria-valuemax=\"100\"></div>\n",
       "</div>\n"
      ]
     },
     "metadata": {},
     "output_type": "display_data"
    },
    {
     "data": {
      "text/html": [
       "<div>\n",
       "  <span style=\"float: left;\">show at cmd22.sc:2</span>\n",
       "</div>\n"
      ]
     },
     "metadata": {},
     "output_type": "display_data"
    },
    {
     "data": {
      "text/html": [
       "<div class=\"progress\">\n",
       "  <div class=\"progress-bar\" role=\"progressbar\" style=\"background-color: blue; width: 100%; word-wrap: normal; white-space: nowrap; text-align: center; color: white\" aria-valuenow=\"100\" aria-valuemin=\"0\" aria-valuemax=\"100\">\n",
       "    1 / 1\n",
       "  </div>\n",
       "  <div class=\"progress-bar\" role=\"progressbar\" style=\"background-color: red; width: 0%\" aria-valuenow=\"0\" aria-valuemin=\"0\" aria-valuemax=\"100\"></div>\n",
       "</div>\n"
      ]
     },
     "metadata": {},
     "output_type": "display_data"
    },
    {
     "name": "stdout",
     "output_type": "stream",
     "text": [
      "+-----------------+-----------+-------------+---------------+---------------+---------------+\n",
      "|instanceId_userId|report_date|activity_flag|activity_flag_2|activity_flag_3|activity_flag_4|\n",
      "+-----------------+-----------+-------------+---------------+---------------+---------------+\n",
      "|           280740| 2018-01-31|            0|              0|              0|              0|\n",
      "|          1046904| 2018-01-31|            0|              0|              0|              0|\n",
      "|          1165407| 2018-01-31|            1|              0|              0|              0|\n",
      "|          1755825| 2018-01-31|            1|              0|              0|              0|\n",
      "|          1849224| 2018-01-31|            0|              0|              0|              0|\n",
      "|          2142267| 2018-01-31|            0|              0|              0|              0|\n",
      "|          2330496| 2018-01-31|            1|              0|              0|              0|\n",
      "|          2334525| 2018-01-31|            0|              0|              0|              0|\n",
      "|          2469006| 2018-01-31|            1|              0|              0|              0|\n",
      "|          2563230| 2018-01-31|            0|              0|              0|              0|\n",
      "|          3506436| 2018-01-31|            3|              0|              0|              0|\n",
      "|          3802575| 2018-01-31|            1|              0|              0|              0|\n",
      "|          3893742| 2018-01-31|            0|              0|              0|              0|\n",
      "|          4605447| 2018-01-31|            0|              0|              0|              0|\n",
      "|          4615635| 2018-01-31|            0|              0|              0|              0|\n",
      "|          5360352| 2018-01-31|            0|              0|              0|              0|\n",
      "|          5487213| 2018-01-31|            0|              0|              0|              0|\n",
      "|          5610627| 2018-01-31|            0|              2|              0|              0|\n",
      "|          6292056| 2018-01-31|            0|              0|              0|              0|\n",
      "|          6602346| 2018-01-31|            1|              0|              0|              0|\n",
      "+-----------------+-----------+-------------+---------------+---------------+---------------+\n",
      "only showing top 20 rows\n",
      "\n"
     ]
    },
    {
     "data": {
      "text/plain": [
       "\u001b[36mtargets_df_tmp\u001b[39m: \u001b[32mDataFrame\u001b[39m = [instanceId_userId: int, report_date: date ... 4 more fields]"
      ]
     },
     "execution_count": 23,
     "metadata": {},
     "output_type": "execute_result"
    }
   ],
   "source": [
    "val targets_df_tmp = spark.sql(\"select d1.instanceId_userId, d1.report_date, d1.activity_flag, coalesce(d2.activity_flag, 0) as activity_flag_2, coalesce(d3.activity_flag, 0) as activity_flag_3, coalesce(d4.activity_flag, 0) as activity_flag_4 from flags_dates d1 left join flags_dates d2 on d1.report_date_2=d2.report_date and d1.instanceId_userId=d2.instanceId_userId left join flags_dates d3 on d1.report_date_3=d3.report_date and d1.instanceId_userId=d3.instanceId_userId left join flags_dates d4 on d1.report_date_4=d4.report_date and d1.instanceId_userId=d4.instanceId_userId\")\n",
    "targets_df_tmp.show()"
   ]
  },
  {
   "cell_type": "markdown",
   "metadata": {},
   "source": [
    "### Сформируем окончательный таргет для модели оттока.\n",
    "1. Наличие флага активности в текущий и следующий день.\n",
    "2. Отсутствие флага активности в 3 и 4 день.\n",
    "3. Сделаем фильтр на дату менее 2018-03-19, так как после таргет еще не вызрел."
   ]
  },
  {
   "cell_type": "code",
   "execution_count": 24,
   "metadata": {},
   "outputs": [
    {
     "data": {
      "text/html": [
       "<div>\n",
       "  <span style=\"float: left;\">show at cmd23.sc:4</span>\n",
       "</div>\n"
      ]
     },
     "metadata": {},
     "output_type": "display_data"
    },
    {
     "data": {
      "text/html": [
       "<div class=\"progress\">\n",
       "  <div class=\"progress-bar\" role=\"progressbar\" style=\"background-color: blue; width: 100%; word-wrap: normal; white-space: nowrap; text-align: center; color: white\" aria-valuenow=\"100\" aria-valuemin=\"0\" aria-valuemax=\"100\">\n",
       "    28 / 28\n",
       "  </div>\n",
       "  <div class=\"progress-bar\" role=\"progressbar\" style=\"background-color: red; width: 0%\" aria-valuenow=\"0\" aria-valuemin=\"0\" aria-valuemax=\"100\"></div>\n",
       "</div>\n"
      ]
     },
     "metadata": {},
     "output_type": "display_data"
    },
    {
     "data": {
      "text/html": [
       "<div>\n",
       "  <span style=\"float: left;\">show at cmd23.sc:4</span>\n",
       "</div>\n"
      ]
     },
     "metadata": {},
     "output_type": "display_data"
    },
    {
     "data": {
      "text/html": [
       "<div class=\"progress\">\n",
       "  <div class=\"progress-bar\" role=\"progressbar\" style=\"background-color: blue; width: 100%; word-wrap: normal; white-space: nowrap; text-align: center; color: white\" aria-valuenow=\"100\" aria-valuemin=\"0\" aria-valuemax=\"100\">\n",
       "    28 / 28\n",
       "  </div>\n",
       "  <div class=\"progress-bar\" role=\"progressbar\" style=\"background-color: red; width: 0%\" aria-valuenow=\"0\" aria-valuemin=\"0\" aria-valuemax=\"100\"></div>\n",
       "</div>\n"
      ]
     },
     "metadata": {},
     "output_type": "display_data"
    },
    {
     "data": {
      "text/html": [
       "<div>\n",
       "  <span style=\"float: left;\">show at cmd23.sc:4</span>\n",
       "</div>\n"
      ]
     },
     "metadata": {},
     "output_type": "display_data"
    },
    {
     "data": {
      "text/html": [
       "<div class=\"progress\">\n",
       "  <div class=\"progress-bar\" role=\"progressbar\" style=\"background-color: blue; width: 100%; word-wrap: normal; white-space: nowrap; text-align: center; color: white\" aria-valuenow=\"100\" aria-valuemin=\"0\" aria-valuemax=\"100\">\n",
       "    200 / 200\n",
       "  </div>\n",
       "  <div class=\"progress-bar\" role=\"progressbar\" style=\"background-color: red; width: 0%\" aria-valuenow=\"0\" aria-valuemin=\"0\" aria-valuemax=\"100\"></div>\n",
       "</div>\n"
      ]
     },
     "metadata": {},
     "output_type": "display_data"
    },
    {
     "data": {
      "text/html": [
       "<div>\n",
       "  <span style=\"float: left;\">show at cmd23.sc:4</span>\n",
       "</div>\n"
      ]
     },
     "metadata": {},
     "output_type": "display_data"
    },
    {
     "data": {
      "text/html": [
       "<div class=\"progress\">\n",
       "  <div class=\"progress-bar\" role=\"progressbar\" style=\"background-color: blue; width: 100%; word-wrap: normal; white-space: nowrap; text-align: center; color: white\" aria-valuenow=\"100\" aria-valuemin=\"0\" aria-valuemax=\"100\">\n",
       "    200 / 200\n",
       "  </div>\n",
       "  <div class=\"progress-bar\" role=\"progressbar\" style=\"background-color: red; width: 0%\" aria-valuenow=\"0\" aria-valuemin=\"0\" aria-valuemax=\"100\"></div>\n",
       "</div>\n"
      ]
     },
     "metadata": {},
     "output_type": "display_data"
    },
    {
     "data": {
      "text/html": [
       "<div>\n",
       "  <span style=\"float: left;\">show at cmd23.sc:4</span>\n",
       "</div>\n"
      ]
     },
     "metadata": {},
     "output_type": "display_data"
    },
    {
     "data": {
      "text/html": [
       "<div class=\"progress\">\n",
       "  <div class=\"progress-bar\" role=\"progressbar\" style=\"background-color: blue; width: 100%; word-wrap: normal; white-space: nowrap; text-align: center; color: white\" aria-valuenow=\"100\" aria-valuemin=\"0\" aria-valuemax=\"100\">\n",
       "    200 / 200\n",
       "  </div>\n",
       "  <div class=\"progress-bar\" role=\"progressbar\" style=\"background-color: red; width: 0%\" aria-valuenow=\"0\" aria-valuemin=\"0\" aria-valuemax=\"100\"></div>\n",
       "</div>\n"
      ]
     },
     "metadata": {},
     "output_type": "display_data"
    },
    {
     "data": {
      "text/html": [
       "<div>\n",
       "  <span style=\"float: left;\">show at cmd23.sc:4</span>\n",
       "</div>\n"
      ]
     },
     "metadata": {},
     "output_type": "display_data"
    },
    {
     "data": {
      "text/html": [
       "<div class=\"progress\">\n",
       "  <div class=\"progress-bar\" role=\"progressbar\" style=\"background-color: blue; width: 100%; word-wrap: normal; white-space: nowrap; text-align: center; color: white\" aria-valuenow=\"100\" aria-valuemin=\"0\" aria-valuemax=\"100\">\n",
       "    200 / 200\n",
       "  </div>\n",
       "  <div class=\"progress-bar\" role=\"progressbar\" style=\"background-color: red; width: 0%\" aria-valuenow=\"0\" aria-valuemin=\"0\" aria-valuemax=\"100\"></div>\n",
       "</div>\n"
      ]
     },
     "metadata": {},
     "output_type": "display_data"
    },
    {
     "data": {
      "text/html": [
       "<div>\n",
       "  <span style=\"float: left;\">show at cmd23.sc:4</span>\n",
       "</div>\n"
      ]
     },
     "metadata": {},
     "output_type": "display_data"
    },
    {
     "data": {
      "text/html": [
       "<div class=\"progress\">\n",
       "  <div class=\"progress-bar\" role=\"progressbar\" style=\"background-color: blue; width: 100%; word-wrap: normal; white-space: nowrap; text-align: center; color: white\" aria-valuenow=\"100\" aria-valuemin=\"0\" aria-valuemax=\"100\">\n",
       "    200 / 200\n",
       "  </div>\n",
       "  <div class=\"progress-bar\" role=\"progressbar\" style=\"background-color: red; width: 0%\" aria-valuenow=\"0\" aria-valuemin=\"0\" aria-valuemax=\"100\"></div>\n",
       "</div>\n"
      ]
     },
     "metadata": {},
     "output_type": "display_data"
    },
    {
     "data": {
      "text/html": [
       "<div>\n",
       "  <span style=\"float: left;\">show at cmd23.sc:4</span>\n",
       "</div>\n"
      ]
     },
     "metadata": {},
     "output_type": "display_data"
    },
    {
     "data": {
      "text/html": [
       "<div class=\"progress\">\n",
       "  <div class=\"progress-bar\" role=\"progressbar\" style=\"background-color: blue; width: 100%; word-wrap: normal; white-space: nowrap; text-align: center; color: white\" aria-valuenow=\"100\" aria-valuemin=\"0\" aria-valuemax=\"100\">\n",
       "    1 / 1\n",
       "  </div>\n",
       "  <div class=\"progress-bar\" role=\"progressbar\" style=\"background-color: red; width: 0%\" aria-valuenow=\"0\" aria-valuemin=\"0\" aria-valuemax=\"100\"></div>\n",
       "</div>\n"
      ]
     },
     "metadata": {},
     "output_type": "display_data"
    },
    {
     "name": "stdout",
     "output_type": "stream",
     "text": [
      "+-----------------+-----------+-----+\n",
      "|instanceId_userId|report_date|label|\n",
      "+-----------------+-----------+-----+\n",
      "|          6893838| 2018-01-31|    0|\n",
      "|           306036| 2018-02-01|    0|\n",
      "|           339429| 2018-02-01|    1|\n",
      "|           548673| 2018-02-01|    0|\n",
      "|           822885| 2018-02-01|    0|\n",
      "|          3691557| 2018-02-01|    1|\n",
      "|          4096401| 2018-02-01|    1|\n",
      "|          4198875| 2018-02-01|    0|\n",
      "|          4666080| 2018-02-01|    0|\n",
      "|          4999875| 2018-02-01|    1|\n",
      "|          5099466| 2018-02-01|    1|\n",
      "|          5303145| 2018-02-01|    1|\n",
      "|          6049128| 2018-02-01|    1|\n",
      "|          6071649| 2018-02-01|    1|\n",
      "|          6345990| 2018-02-01|    1|\n",
      "|          6581355| 2018-02-01|    1|\n",
      "|          6619776| 2018-02-01|    1|\n",
      "|          7125012| 2018-02-01|    0|\n",
      "|          7546404| 2018-02-01|    1|\n",
      "|          7715256| 2018-02-01|    1|\n",
      "+-----------------+-----------+-----+\n",
      "only showing top 20 rows\n",
      "\n"
     ]
    },
    {
     "data": {
      "text/plain": [
       "\u001b[36mtargets_df\u001b[39m: \u001b[32mDataset\u001b[39m[\u001b[32mRow\u001b[39m] = [instanceId_userId: int, report_date: date ... 1 more field]"
      ]
     },
     "execution_count": 24,
     "metadata": {},
     "output_type": "execute_result"
    }
   ],
   "source": [
    "val targets_df = targets_df_tmp.filter($\"activity_flag\" > 0 and $\"activity_flag_2\" > 0 and $\"report_date\" < \"2018-03-19\")\n",
    ".withColumn(\"label\", when($\"activity_flag_3\" === 0 && $\"activity_flag_4\" === 0, 1)\n",
    "            .otherwise(0)).select(\"instanceId_userId\", \"report_date\", \"label\").cache()\n",
    "targets_df.show()"
   ]
  },
  {
   "cell_type": "markdown",
   "metadata": {},
   "source": [
    "### Посмотрим аналитику по таргету оттока. "
   ]
  },
  {
   "cell_type": "markdown",
   "metadata": {},
   "source": [
    "### Средняя доля оттока и количество клиентов по всей выборке."
   ]
  },
  {
   "cell_type": "code",
   "execution_count": 25,
   "metadata": {},
   "outputs": [
    {
     "data": {
      "text/plain": [
       "\u001b[36mtargets_analytics\u001b[39m: \u001b[32mDataFrame\u001b[39m = [avg(label): double, count(label): bigint]"
      ]
     },
     "execution_count": 25,
     "metadata": {},
     "output_type": "execute_result"
    }
   ],
   "source": [
    "val targets_analytics = targets_df.agg(mean(\"label\"), count(\"label\"))"
   ]
  },
  {
   "cell_type": "code",
   "execution_count": 26,
   "metadata": {},
   "outputs": [
    {
     "data": {
      "text/html": [
       "<div>\n",
       "  <span style=\"float: left;\">show at cmd25.sc:1</span>\n",
       "</div>\n"
      ]
     },
     "metadata": {},
     "output_type": "display_data"
    },
    {
     "data": {
      "text/html": [
       "<div class=\"progress\">\n",
       "  <div class=\"progress-bar\" role=\"progressbar\" style=\"background-color: blue; width: 100%; word-wrap: normal; white-space: nowrap; text-align: center; color: white\" aria-valuenow=\"100\" aria-valuemin=\"0\" aria-valuemax=\"100\">\n",
       "    200 / 200\n",
       "  </div>\n",
       "  <div class=\"progress-bar\" role=\"progressbar\" style=\"background-color: red; width: 0%\" aria-valuenow=\"0\" aria-valuemin=\"0\" aria-valuemax=\"100\"></div>\n",
       "</div>\n"
      ]
     },
     "metadata": {},
     "output_type": "display_data"
    },
    {
     "data": {
      "text/html": [
       "<div>\n",
       "  <span style=\"float: left;\">show at cmd25.sc:1</span>\n",
       "</div>\n"
      ]
     },
     "metadata": {},
     "output_type": "display_data"
    },
    {
     "data": {
      "text/html": [
       "<div class=\"progress\">\n",
       "  <div class=\"progress-bar\" role=\"progressbar\" style=\"background-color: blue; width: 100%; word-wrap: normal; white-space: nowrap; text-align: center; color: white\" aria-valuenow=\"100\" aria-valuemin=\"0\" aria-valuemax=\"100\">\n",
       "    1 / 1\n",
       "  </div>\n",
       "  <div class=\"progress-bar\" role=\"progressbar\" style=\"background-color: red; width: 0%\" aria-valuenow=\"0\" aria-valuemin=\"0\" aria-valuemax=\"100\"></div>\n",
       "</div>\n"
      ]
     },
     "metadata": {},
     "output_type": "display_data"
    },
    {
     "name": "stdout",
     "output_type": "stream",
     "text": [
      "+-----------------+------------+\n",
      "|       avg(label)|count(label)|\n",
      "+-----------------+------------+\n",
      "|0.645734278788633|      353551|\n",
      "+-----------------+------------+\n",
      "\n"
     ]
    }
   ],
   "source": [
    "targets_analytics.show(50)"
   ]
  },
  {
   "cell_type": "markdown",
   "metadata": {},
   "source": [
    "### Посмотрим на стабильность таргета по дням. Средняя доля оттока и количество клиентов в разрезе report_date. Нестабильность обуславливается праздничными днями."
   ]
  },
  {
   "cell_type": "code",
   "execution_count": 27,
   "metadata": {},
   "outputs": [
    {
     "data": {
      "text/plain": [
       "\u001b[36mtargets_analytics\u001b[39m: \u001b[32mDataFrame\u001b[39m = [report_date: date, avg(label): double ... 1 more field]"
      ]
     },
     "execution_count": 27,
     "metadata": {},
     "output_type": "execute_result"
    }
   ],
   "source": [
    "val targets_analytics = targets_df.groupBy(\"report_date\").agg(mean(\"label\"), count(\"label\"))"
   ]
  },
  {
   "cell_type": "code",
   "execution_count": 28,
   "metadata": {},
   "outputs": [
    {
     "data": {
      "text/html": [
       "<div>\n",
       "  <span style=\"float: left;\">show at cmd27.sc:1</span>\n",
       "</div>\n"
      ]
     },
     "metadata": {},
     "output_type": "display_data"
    },
    {
     "data": {
      "text/html": [
       "<div class=\"progress\">\n",
       "  <div class=\"progress-bar\" role=\"progressbar\" style=\"background-color: blue; width: 100%; word-wrap: normal; white-space: nowrap; text-align: center; color: white\" aria-valuenow=\"100\" aria-valuemin=\"0\" aria-valuemax=\"100\">\n",
       "    200 / 200\n",
       "  </div>\n",
       "  <div class=\"progress-bar\" role=\"progressbar\" style=\"background-color: red; width: 0%\" aria-valuenow=\"0\" aria-valuemin=\"0\" aria-valuemax=\"100\"></div>\n",
       "</div>\n"
      ]
     },
     "metadata": {},
     "output_type": "display_data"
    },
    {
     "data": {
      "text/html": [
       "<div>\n",
       "  <span style=\"float: left;\">show at cmd27.sc:1</span>\n",
       "</div>\n"
      ]
     },
     "metadata": {},
     "output_type": "display_data"
    },
    {
     "data": {
      "text/html": [
       "<div class=\"progress\">\n",
       "  <div class=\"progress-bar\" role=\"progressbar\" style=\"background-color: blue; width: 100%; word-wrap: normal; white-space: nowrap; text-align: center; color: white\" aria-valuenow=\"100\" aria-valuemin=\"0\" aria-valuemax=\"100\">\n",
       "    200 / 200\n",
       "  </div>\n",
       "  <div class=\"progress-bar\" role=\"progressbar\" style=\"background-color: red; width: 0%\" aria-valuenow=\"0\" aria-valuemin=\"0\" aria-valuemax=\"100\"></div>\n",
       "</div>\n"
      ]
     },
     "metadata": {},
     "output_type": "display_data"
    },
    {
     "name": "stdout",
     "output_type": "stream",
     "text": [
      "+-----------+------------------+------------+\n",
      "|report_date|        avg(label)|count(label)|\n",
      "+-----------+------------------+------------+\n",
      "| 2018-01-31|0.5791962174940898|         423|\n",
      "| 2018-02-01|0.6390174897119342|        7776|\n",
      "| 2018-02-02|0.6327129015808262|        7844|\n",
      "| 2018-02-03|0.6513633185737591|        8582|\n",
      "| 2018-02-04|0.6301940707227051|        8399|\n",
      "| 2018-02-05|0.6325542965061378|        8472|\n",
      "| 2018-02-06|0.6378721901847711|        8497|\n",
      "| 2018-02-07|0.6470308788598574|        8420|\n",
      "| 2018-02-08|0.7832330919356818|        8147|\n",
      "| 2018-02-09|0.7677042272665489|        7357|\n",
      "| 2018-02-10|0.5335276967930029|         343|\n",
      "| 2018-02-11|0.5441860465116279|         430|\n",
      "| 2018-02-12|0.6326554881674397|        8409|\n",
      "| 2018-02-13| 0.630317848410758|        8180|\n",
      "| 2018-02-14|0.7120772946859903|        8280|\n",
      "| 2018-02-15| 0.749093107617896|        8270|\n",
      "| 2018-02-16|0.6910396171231056|        3761|\n",
      "| 2018-02-17|0.6505494505494506|        3185|\n",
      "| 2018-02-18| 0.621261378413524|        6152|\n",
      "| 2018-02-19| 0.625715028601144|        7692|\n",
      "| 2018-02-20|0.6347416676991698|        8071|\n",
      "| 2018-02-21|0.6513396089790007|        8286|\n",
      "| 2018-02-22|0.6279602750190986|        7854|\n",
      "| 2018-02-23|0.6309737693136903|        8349|\n",
      "| 2018-02-24|0.6492586855499004|        9038|\n",
      "| 2018-02-25| 0.630736137667304|        8368|\n",
      "| 2018-02-26|0.6242054094478374|        8023|\n",
      "| 2018-02-27|0.6215883943939021|        8134|\n",
      "| 2018-02-28|0.6338465358827912|        8054|\n",
      "| 2018-03-01|0.6352308819936477|        8186|\n",
      "| 2018-03-02| 0.620467266974933|        8218|\n",
      "| 2018-03-03|0.6495084502374904|        9053|\n",
      "| 2018-03-04| 0.638729649163036|        8722|\n",
      "| 2018-03-05|0.6422214311142755|        8427|\n",
      "| 2018-03-06|0.6474342928660826|        7990|\n",
      "| 2018-03-07|0.6274432118330692|        7572|\n",
      "| 2018-03-08|0.6144638403990025|        8020|\n",
      "| 2018-03-09|0.6324766886513532|        8794|\n",
      "| 2018-03-10|0.6401807361692748|        9074|\n",
      "| 2018-03-11| 0.637997432605905|        8569|\n",
      "| 2018-03-12|0.6238741443497058|        8327|\n",
      "| 2018-03-13| 0.633121172090789|        8327|\n",
      "| 2018-03-14| 0.637790558351306|        8346|\n",
      "| 2018-03-15|0.6284017812963879|        8084|\n",
      "| 2018-03-16|0.6193823750941502|        7966|\n",
      "| 2018-03-17|0.6486298188574082|        8612|\n",
      "| 2018-03-18|0.6397024090694379|        8468|\n",
      "+-----------+------------------+------------+\n",
      "\n"
     ]
    }
   ],
   "source": [
    "targets_analytics.sort(col(\"report_date\").asc).show(50)"
   ]
  },
  {
   "cell_type": "markdown",
   "metadata": {},
   "source": [
    "### Теперь нужно подготовить фичи."
   ]
  },
  {
   "cell_type": "markdown",
   "metadata": {},
   "source": [
    "### Отберем фичи, характеризующие поведение пользователя."
   ]
  },
  {
   "cell_type": "code",
   "execution_count": 29,
   "metadata": {},
   "outputs": [
    {
     "data": {
      "text/plain": [
       "\u001b[36mfeature_columns\u001b[39m: \u001b[32mcollection\u001b[39m.\u001b[32mmutable\u001b[39m.\u001b[32mListBuffer\u001b[39m[\u001b[32mString\u001b[39m] = \u001b[33mListBuffer\u001b[39m(\n",
       "  \u001b[32m\"userOwnerCounters_USER_FEED_REMOVE\"\u001b[39m,\n",
       "..."
      ]
     },
     "execution_count": 29,
     "metadata": {},
     "output_type": "execute_result"
    }
   ],
   "source": [
    "val feature_columns = scala.collection.mutable.ListBuffer[String]()\n",
    "for (elem <- df.schema) {\n",
    "    if ( (elem.name.toString.split(\"_\")(0) == \"userOwnerCounters\") | (elem.name.toString.split(\"_\")(0) == \"user\")\n",
    "       | (elem.name.toString.split(\"_\")(0) == \"auditweights\") | (elem.name.toString.split(\"_\")(0) == \"owner\")\n",
    "    )\n",
    "    feature_columns += elem.name.toString\n",
    "}"
   ]
  },
  {
   "cell_type": "markdown",
   "metadata": {},
   "source": [
    "### Проблема в том, что в исходном датафрейме имеются состояния клиента несколько раз в день. Чтобы подготовить датафрейм для обучения мы сгруппируем его по пользователю и по дню, а для фичей, характеризующих поведение пользователя посчитаем среднее."
   ]
  },
  {
   "cell_type": "code",
   "execution_count": 30,
   "metadata": {},
   "outputs": [
    {
     "data": {
      "text/plain": [
       "\u001b[36mtrain_tmp\u001b[39m: \u001b[32mDataFrame\u001b[39m = [report_date: date, instanceId_userId: int ... 111 more fields]"
      ]
     },
     "execution_count": 30,
     "metadata": {},
     "output_type": "execute_result"
    }
   ],
   "source": [
    "val train_tmp = df\n",
    ".withColumn(\"report_date\", to_date(from_unixtime($\"audit_timestamp\" / 1000)))\n",
    ".groupBy(\"report_date\", \"instanceId_userId\").mean(feature_columns:_*)"
   ]
  },
  {
   "cell_type": "markdown",
   "metadata": {},
   "source": [
    "### Выберем колонки с фичами - средними и таргетом."
   ]
  },
  {
   "cell_type": "code",
   "execution_count": 31,
   "metadata": {},
   "outputs": [
    {
     "data": {
      "text/plain": [
       "\u001b[36mfeature_columns_train\u001b[39m: \u001b[32mcollection\u001b[39m.\u001b[32mmutable\u001b[39m.\u001b[32mListBuffer\u001b[39m[\u001b[32mString\u001b[39m] = \u001b[33mListBuffer\u001b[39m(\n",
       "  \u001b[32m\"avg(userOwnerCounters_USER_FEED_REMOVE)\"\u001b[39m,\n",
       "...\n",
       "\u001b[36mres30_1\u001b[39m: \u001b[32mcollection\u001b[39m.\u001b[32mmutable\u001b[39m.\u001b[32mListBuffer\u001b[39m[\u001b[32mString\u001b[39m] = \u001b[33mListBuffer\u001b[39m(\n",
       "  \u001b[32m\"avg(userOwnerCounters_USER_FEED_REMOVE)\"\u001b[39m,\n",
       "..."
      ]
     },
     "execution_count": 31,
     "metadata": {},
     "output_type": "execute_result"
    }
   ],
   "source": [
    "val feature_columns_train = feature_columns.map(x => \"avg(\" + x.toString + \")\")\n",
    "feature_columns_train += \"label\""
   ]
  },
  {
   "cell_type": "markdown",
   "metadata": {},
   "source": [
    "### Сджоиним фичи с таргетами для получения train датасета. Сразу же заполним пропуски 0, так как по бизнес смыслу это самое близкое для средних. Отберем фичи по списку выше, исключив id юзера и report_date."
   ]
  },
  {
   "cell_type": "code",
   "execution_count": 32,
   "metadata": {},
   "outputs": [
    {
     "data": {
      "text/plain": [
       "\u001b[36mtrain_df\u001b[39m: \u001b[32mDataFrame\u001b[39m = [avg(userOwnerCounters_USER_FEED_REMOVE): double, avg(userOwnerCounters_USER_PROFILE_VIEW): double ... 110 more fields]"
      ]
     },
     "execution_count": 32,
     "metadata": {},
     "output_type": "execute_result"
    }
   ],
   "source": [
    "val train_df = train_tmp.join(targets_df, targets_df(\"instanceId_userId\") === train_tmp(\"instanceId_userId\") &&\n",
    "    targets_df(\"report_date\") === train_tmp(\"report_date\"),\"inner\").na.fill(0)\n",
    ".select(feature_columns_train.head, feature_columns_train.tail: _*)"
   ]
  },
  {
   "cell_type": "code",
   "execution_count": 33,
   "metadata": {},
   "outputs": [
    {
     "data": {
      "text/html": [
       "<div>\n",
       "  <span style=\"float: left;\">run at ThreadPoolExecutor.java:1149</span>\n",
       "</div>\n"
      ]
     },
     "metadata": {},
     "output_type": "display_data"
    },
    {
     "data": {
      "text/html": [
       "<div class=\"progress\">\n",
       "  <div class=\"progress-bar\" role=\"progressbar\" style=\"background-color: blue; width: 100%; word-wrap: normal; white-space: nowrap; text-align: center; color: white\" aria-valuenow=\"100\" aria-valuemin=\"0\" aria-valuemax=\"100\">\n",
       "    200 / 200\n",
       "  </div>\n",
       "  <div class=\"progress-bar\" role=\"progressbar\" style=\"background-color: red; width: 0%\" aria-valuenow=\"0\" aria-valuemin=\"0\" aria-valuemax=\"100\"></div>\n",
       "</div>\n"
      ]
     },
     "metadata": {},
     "output_type": "display_data"
    },
    {
     "data": {
      "text/html": [
       "<div>\n",
       "  <span style=\"float: left;\">show at cmd32.sc:1</span>\n",
       "</div>\n"
      ]
     },
     "metadata": {},
     "output_type": "display_data"
    },
    {
     "data": {
      "text/html": [
       "<div class=\"progress\">\n",
       "  <div class=\"progress-bar\" role=\"progressbar\" style=\"background-color: blue; width: 100%; word-wrap: normal; white-space: nowrap; text-align: center; color: white\" aria-valuenow=\"100\" aria-valuemin=\"0\" aria-valuemax=\"100\">\n",
       "    28 / 28\n",
       "  </div>\n",
       "  <div class=\"progress-bar\" role=\"progressbar\" style=\"background-color: red; width: 0%\" aria-valuenow=\"0\" aria-valuemin=\"0\" aria-valuemax=\"100\"></div>\n",
       "</div>\n"
      ]
     },
     "metadata": {},
     "output_type": "display_data"
    },
    {
     "data": {
      "text/html": [
       "<div>\n",
       "  <span style=\"float: left;\">show at cmd32.sc:1</span>\n",
       "</div>\n"
      ]
     },
     "metadata": {},
     "output_type": "display_data"
    },
    {
     "data": {
      "text/html": [
       "<div class=\"progress\">\n",
       "  <div class=\"progress-bar\" role=\"progressbar\" style=\"background-color: blue; width: 100%; word-wrap: normal; white-space: nowrap; text-align: center; color: white\" aria-valuenow=\"100\" aria-valuemin=\"0\" aria-valuemax=\"100\">\n",
       "    1 / 1\n",
       "  </div>\n",
       "  <div class=\"progress-bar\" role=\"progressbar\" style=\"background-color: red; width: 0%\" aria-valuenow=\"0\" aria-valuemin=\"0\" aria-valuemax=\"100\"></div>\n",
       "</div>\n"
      ]
     },
     "metadata": {},
     "output_type": "display_data"
    },
    {
     "name": "stdout",
     "output_type": "stream",
     "text": [
      "+------------------------------+-----+\n",
      "|avg(auditweights_source_PROMO)|label|\n",
      "+------------------------------+-----+\n",
      "|                           0.0|    1|\n",
      "+------------------------------+-----+\n",
      "only showing top 1 row\n",
      "\n"
     ]
    }
   ],
   "source": [
    "train_df.select(\"avg(auditweights_source_PROMO)\", \"label\").show(1)"
   ]
  },
  {
   "cell_type": "markdown",
   "metadata": {},
   "source": [
    "### Для моделирования необходимо применить VectorAssembler."
   ]
  },
  {
   "cell_type": "code",
   "execution_count": 34,
   "metadata": {},
   "outputs": [
    {
     "data": {
      "text/plain": [
       "\u001b[36massembler\u001b[39m: \u001b[32mVectorAssembler\u001b[39m = vecAssembler_84e8546ba3a5\n",
       "\u001b[36moutput\u001b[39m: \u001b[32mDataFrame\u001b[39m = [features: vector, label: int]"
      ]
     },
     "execution_count": 34,
     "metadata": {},
     "output_type": "execute_result"
    }
   ],
   "source": [
    "val assembler = new VectorAssembler().setInputCols(feature_columns_train.filter(_ != \"label\").toArray).setOutputCol(\"features\")\n",
    "val output = assembler.transform(train_df).select(\"features\", \"label\")"
   ]
  },
  {
   "cell_type": "markdown",
   "metadata": {},
   "source": [
    "### Сделаем скейлинг для логистической регрессии MinMaxScaler."
   ]
  },
  {
   "cell_type": "code",
   "execution_count": 35,
   "metadata": {},
   "outputs": [
    {
     "data": {
      "text/html": [
       "<div>\n",
       "  <span style=\"float: left;\">run at ThreadPoolExecutor.java:1149</span>\n",
       "</div>\n"
      ]
     },
     "metadata": {},
     "output_type": "display_data"
    },
    {
     "data": {
      "text/html": [
       "<div class=\"progress\">\n",
       "  <div class=\"progress-bar\" role=\"progressbar\" style=\"background-color: blue; width: 100%; word-wrap: normal; white-space: nowrap; text-align: center; color: white\" aria-valuenow=\"100\" aria-valuemin=\"0\" aria-valuemax=\"100\">\n",
       "    200 / 200\n",
       "  </div>\n",
       "  <div class=\"progress-bar\" role=\"progressbar\" style=\"background-color: red; width: 0%\" aria-valuenow=\"0\" aria-valuemin=\"0\" aria-valuemax=\"100\"></div>\n",
       "</div>\n"
      ]
     },
     "metadata": {},
     "output_type": "display_data"
    },
    {
     "data": {
      "text/html": [
       "<div>\n",
       "  <span style=\"float: left;\">rdd at MinMaxScaler.scala:120</span>\n",
       "</div>\n"
      ]
     },
     "metadata": {},
     "output_type": "display_data"
    },
    {
     "data": {
      "text/html": [
       "<div class=\"progress\">\n",
       "  <div class=\"progress-bar\" role=\"progressbar\" style=\"background-color: blue; width: 100%; word-wrap: normal; white-space: nowrap; text-align: center; color: white\" aria-valuenow=\"100\" aria-valuemin=\"0\" aria-valuemax=\"100\">\n",
       "    28 / 28\n",
       "  </div>\n",
       "  <div class=\"progress-bar\" role=\"progressbar\" style=\"background-color: red; width: 0%\" aria-valuenow=\"0\" aria-valuemin=\"0\" aria-valuemax=\"100\"></div>\n",
       "</div>\n"
      ]
     },
     "metadata": {},
     "output_type": "display_data"
    },
    {
     "data": {
      "text/html": [
       "<div>\n",
       "  <span style=\"float: left;\">treeAggregate at RowMatrix.scala:433</span>\n",
       "</div>\n"
      ]
     },
     "metadata": {},
     "output_type": "display_data"
    },
    {
     "data": {
      "text/html": [
       "<div class=\"progress\">\n",
       "  <div class=\"progress-bar\" role=\"progressbar\" style=\"background-color: blue; width: 100%; word-wrap: normal; white-space: nowrap; text-align: center; color: white\" aria-valuenow=\"100\" aria-valuemin=\"0\" aria-valuemax=\"100\">\n",
       "    200 / 200\n",
       "  </div>\n",
       "  <div class=\"progress-bar\" role=\"progressbar\" style=\"background-color: red; width: 0%\" aria-valuenow=\"0\" aria-valuemin=\"0\" aria-valuemax=\"100\"></div>\n",
       "</div>\n"
      ]
     },
     "metadata": {},
     "output_type": "display_data"
    },
    {
     "data": {
      "text/html": [
       "<div>\n",
       "  <span style=\"float: left;\">treeAggregate at RowMatrix.scala:433</span>\n",
       "</div>\n"
      ]
     },
     "metadata": {},
     "output_type": "display_data"
    },
    {
     "data": {
      "text/html": [
       "<div class=\"progress\">\n",
       "  <div class=\"progress-bar\" role=\"progressbar\" style=\"background-color: blue; width: 100%; word-wrap: normal; white-space: nowrap; text-align: center; color: white\" aria-valuenow=\"100\" aria-valuemin=\"0\" aria-valuemax=\"100\">\n",
       "    13 / 13\n",
       "  </div>\n",
       "  <div class=\"progress-bar\" role=\"progressbar\" style=\"background-color: red; width: 0%\" aria-valuenow=\"0\" aria-valuemin=\"0\" aria-valuemax=\"100\"></div>\n",
       "</div>\n"
      ]
     },
     "metadata": {},
     "output_type": "display_data"
    },
    {
     "data": {
      "text/html": [
       "<div>\n",
       "  <span style=\"float: left;\">run at ThreadPoolExecutor.java:1149</span>\n",
       "</div>\n"
      ]
     },
     "metadata": {},
     "output_type": "display_data"
    },
    {
     "data": {
      "text/html": [
       "<div class=\"progress\">\n",
       "  <div class=\"progress-bar\" role=\"progressbar\" style=\"background-color: blue; width: 100%; word-wrap: normal; white-space: nowrap; text-align: center; color: white\" aria-valuenow=\"100\" aria-valuemin=\"0\" aria-valuemax=\"100\">\n",
       "    200 / 200\n",
       "  </div>\n",
       "  <div class=\"progress-bar\" role=\"progressbar\" style=\"background-color: red; width: 0%\" aria-valuenow=\"0\" aria-valuemin=\"0\" aria-valuemax=\"100\"></div>\n",
       "</div>\n"
      ]
     },
     "metadata": {},
     "output_type": "display_data"
    },
    {
     "data": {
      "text/html": [
       "<div>\n",
       "  <span style=\"float: left;\">show at cmd34.sc:3</span>\n",
       "</div>\n"
      ]
     },
     "metadata": {},
     "output_type": "display_data"
    },
    {
     "data": {
      "text/html": [
       "<div class=\"progress\">\n",
       "  <div class=\"progress-bar\" role=\"progressbar\" style=\"background-color: blue; width: 100%; word-wrap: normal; white-space: nowrap; text-align: center; color: white\" aria-valuenow=\"100\" aria-valuemin=\"0\" aria-valuemax=\"100\">\n",
       "    28 / 28\n",
       "  </div>\n",
       "  <div class=\"progress-bar\" role=\"progressbar\" style=\"background-color: red; width: 0%\" aria-valuenow=\"0\" aria-valuemin=\"0\" aria-valuemax=\"100\"></div>\n",
       "</div>\n"
      ]
     },
     "metadata": {},
     "output_type": "display_data"
    },
    {
     "data": {
      "text/html": [
       "<div>\n",
       "  <span style=\"float: left;\">show at cmd34.sc:3</span>\n",
       "</div>\n"
      ]
     },
     "metadata": {},
     "output_type": "display_data"
    },
    {
     "data": {
      "text/html": [
       "<div class=\"progress\">\n",
       "  <div class=\"progress-bar\" role=\"progressbar\" style=\"background-color: blue; width: 100%; word-wrap: normal; white-space: nowrap; text-align: center; color: white\" aria-valuenow=\"100\" aria-valuemin=\"0\" aria-valuemax=\"100\">\n",
       "    1 / 1\n",
       "  </div>\n",
       "  <div class=\"progress-bar\" role=\"progressbar\" style=\"background-color: red; width: 0%\" aria-valuenow=\"0\" aria-valuemin=\"0\" aria-valuemax=\"100\"></div>\n",
       "</div>\n"
      ]
     },
     "metadata": {},
     "output_type": "display_data"
    },
    {
     "name": "stdout",
     "output_type": "stream",
     "text": [
      "+--------------------+--------------------+\n",
      "|            features|     Scaled_features|\n",
      "+--------------------+--------------------+\n",
      "|(111,[40,41,42,43...|[0.0,0.5,0.5,0.5,...|\n",
      "|(111,[0,23,40,41,...|[5.77591190586236...|\n",
      "|(111,[22,23,24,40...|[0.0,0.5,0.5,0.5,...|\n",
      "|(111,[23,40,41,42...|[0.0,0.5,0.5,0.5,...|\n",
      "|(111,[24,40,41,42...|[0.0,0.5,0.5,0.5,...|\n",
      "+--------------------+--------------------+\n",
      "only showing top 5 rows\n",
      "\n"
     ]
    },
    {
     "data": {
      "text/plain": [
       "\u001b[36mscaler\u001b[39m: \u001b[32mMinMaxScaler\u001b[39m = minMaxScal_bb2518dcc0c7\n",
       "\u001b[36moutput_scaled\u001b[39m: \u001b[32mDataFrame\u001b[39m = [features: vector, label: int ... 1 more field]"
      ]
     },
     "execution_count": 35,
     "metadata": {},
     "output_type": "execute_result"
    }
   ],
   "source": [
    "val scaler = new MinMaxScaler().setInputCol(\"features\").setOutputCol(\"Scaled_features\")\n",
    "val output_scaled = scaler.fit(output).transform(output)\n",
    "output_scaled.select(\"features\",\"Scaled_features\").show(5)"
   ]
  },
  {
   "cell_type": "markdown",
   "metadata": {},
   "source": [
    "### Отберем фичи для логистической регрессии по Хи квадрату"
   ]
  },
  {
   "cell_type": "code",
   "execution_count": 36,
   "metadata": {},
   "outputs": [
    {
     "data": {
      "text/html": [
       "<div>\n",
       "  <span style=\"float: left;\">run at ThreadPoolExecutor.java:1149</span>\n",
       "</div>\n"
      ]
     },
     "metadata": {},
     "output_type": "display_data"
    },
    {
     "data": {
      "text/html": [
       "<div class=\"progress\">\n",
       "  <div class=\"progress-bar\" role=\"progressbar\" style=\"background-color: blue; width: 100%; word-wrap: normal; white-space: nowrap; text-align: center; color: white\" aria-valuenow=\"100\" aria-valuemin=\"0\" aria-valuemax=\"100\">\n",
       "    200 / 200\n",
       "  </div>\n",
       "  <div class=\"progress-bar\" role=\"progressbar\" style=\"background-color: red; width: 0%\" aria-valuenow=\"0\" aria-valuemin=\"0\" aria-valuemax=\"100\"></div>\n",
       "</div>\n"
      ]
     },
     "metadata": {},
     "output_type": "display_data"
    },
    {
     "data": {
      "text/html": [
       "<div>\n",
       "  <span style=\"float: left;\">rdd at ChiSqSelector.scala:203</span>\n",
       "</div>\n"
      ]
     },
     "metadata": {},
     "output_type": "display_data"
    },
    {
     "data": {
      "text/html": [
       "<div class=\"progress\">\n",
       "  <div class=\"progress-bar\" role=\"progressbar\" style=\"background-color: blue; width: 100%; word-wrap: normal; white-space: nowrap; text-align: center; color: white\" aria-valuenow=\"100\" aria-valuemin=\"0\" aria-valuemax=\"100\">\n",
       "    28 / 28\n",
       "  </div>\n",
       "  <div class=\"progress-bar\" role=\"progressbar\" style=\"background-color: red; width: 0%\" aria-valuenow=\"0\" aria-valuemin=\"0\" aria-valuemax=\"100\"></div>\n",
       "</div>\n"
      ]
     },
     "metadata": {},
     "output_type": "display_data"
    },
    {
     "data": {
      "text/html": [
       "<div>\n",
       "  <span style=\"float: left;\">first at ChiSqTest.scala:86</span>\n",
       "</div>\n"
      ]
     },
     "metadata": {},
     "output_type": "display_data"
    },
    {
     "data": {
      "text/html": [
       "<div class=\"progress\">\n",
       "  <div class=\"progress-bar\" role=\"progressbar\" style=\"background-color: blue; width: 100%; word-wrap: normal; white-space: nowrap; text-align: center; color: white\" aria-valuenow=\"100\" aria-valuemin=\"0\" aria-valuemax=\"100\">\n",
       "    1 / 1\n",
       "  </div>\n",
       "  <div class=\"progress-bar\" role=\"progressbar\" style=\"background-color: red; width: 0%\" aria-valuenow=\"0\" aria-valuemin=\"0\" aria-valuemax=\"100\"></div>\n",
       "</div>\n"
      ]
     },
     "metadata": {},
     "output_type": "display_data"
    },
    {
     "data": {
      "text/html": [
       "<div>\n",
       "  <span style=\"float: left;\">countByValue at ChiSqTest.scala:124</span>\n",
       "</div>\n"
      ]
     },
     "metadata": {},
     "output_type": "display_data"
    },
    {
     "data": {
      "text/html": [
       "<div class=\"progress\">\n",
       "  <div class=\"progress-bar\" role=\"progressbar\" style=\"background-color: blue; width: 100%; word-wrap: normal; white-space: nowrap; text-align: center; color: white\" aria-valuenow=\"100\" aria-valuemin=\"0\" aria-valuemax=\"100\">\n",
       "    200 / 200\n",
       "  </div>\n",
       "  <div class=\"progress-bar\" role=\"progressbar\" style=\"background-color: red; width: 0%\" aria-valuenow=\"0\" aria-valuemin=\"0\" aria-valuemax=\"100\"></div>\n",
       "</div>\n"
      ]
     },
     "metadata": {},
     "output_type": "display_data"
    },
    {
     "data": {
      "text/html": [
       "<div>\n",
       "  <span style=\"float: left;\">countByValue at ChiSqTest.scala:124</span>\n",
       "</div>\n"
      ]
     },
     "metadata": {},
     "output_type": "display_data"
    },
    {
     "data": {
      "text/html": [
       "<div class=\"progress\">\n",
       "  <div class=\"progress-bar\" role=\"progressbar\" style=\"background-color: blue; width: 100%; word-wrap: normal; white-space: nowrap; text-align: center; color: white\" aria-valuenow=\"100\" aria-valuemin=\"0\" aria-valuemax=\"100\">\n",
       "    200 / 200\n",
       "  </div>\n",
       "  <div class=\"progress-bar\" role=\"progressbar\" style=\"background-color: red; width: 0%\" aria-valuenow=\"0\" aria-valuemin=\"0\" aria-valuemax=\"100\"></div>\n",
       "</div>\n"
      ]
     },
     "metadata": {},
     "output_type": "display_data"
    },
    {
     "data": {
      "text/html": [
       "<div>\n",
       "  <span style=\"float: left;\">run at ThreadPoolExecutor.java:1149</span>\n",
       "</div>\n"
      ]
     },
     "metadata": {},
     "output_type": "display_data"
    },
    {
     "data": {
      "text/html": [
       "<div class=\"progress\">\n",
       "  <div class=\"progress-bar\" role=\"progressbar\" style=\"background-color: blue; width: 100%; word-wrap: normal; white-space: nowrap; text-align: center; color: white\" aria-valuenow=\"100\" aria-valuemin=\"0\" aria-valuemax=\"100\">\n",
       "    200 / 200\n",
       "  </div>\n",
       "  <div class=\"progress-bar\" role=\"progressbar\" style=\"background-color: red; width: 0%\" aria-valuenow=\"0\" aria-valuemin=\"0\" aria-valuemax=\"100\"></div>\n",
       "</div>\n"
      ]
     },
     "metadata": {},
     "output_type": "display_data"
    },
    {
     "data": {
      "text/html": [
       "<div>\n",
       "  <span style=\"float: left;\">show at cmd35.sc:9</span>\n",
       "</div>\n"
      ]
     },
     "metadata": {},
     "output_type": "display_data"
    },
    {
     "data": {
      "text/html": [
       "<div class=\"progress\">\n",
       "  <div class=\"progress-bar\" role=\"progressbar\" style=\"background-color: blue; width: 100%; word-wrap: normal; white-space: nowrap; text-align: center; color: white\" aria-valuenow=\"100\" aria-valuemin=\"0\" aria-valuemax=\"100\">\n",
       "    28 / 28\n",
       "  </div>\n",
       "  <div class=\"progress-bar\" role=\"progressbar\" style=\"background-color: red; width: 0%\" aria-valuenow=\"0\" aria-valuemin=\"0\" aria-valuemax=\"100\"></div>\n",
       "</div>\n"
      ]
     },
     "metadata": {},
     "output_type": "display_data"
    },
    {
     "data": {
      "text/html": [
       "<div>\n",
       "  <span style=\"float: left;\">show at cmd35.sc:9</span>\n",
       "</div>\n"
      ]
     },
     "metadata": {},
     "output_type": "display_data"
    },
    {
     "data": {
      "text/html": [
       "<div class=\"progress\">\n",
       "  <div class=\"progress-bar\" role=\"progressbar\" style=\"background-color: blue; width: 100%; word-wrap: normal; white-space: nowrap; text-align: center; color: white\" aria-valuenow=\"100\" aria-valuemin=\"0\" aria-valuemax=\"100\">\n",
       "    1 / 1\n",
       "  </div>\n",
       "  <div class=\"progress-bar\" role=\"progressbar\" style=\"background-color: red; width: 0%\" aria-valuenow=\"0\" aria-valuemin=\"0\" aria-valuemax=\"100\"></div>\n",
       "</div>\n"
      ]
     },
     "metadata": {},
     "output_type": "display_data"
    },
    {
     "name": "stdout",
     "output_type": "stream",
     "text": [
      "+--------------------+-----+\n",
      "|              Aspect|label|\n",
      "+--------------------+-----+\n",
      "|[0.0,0.0,0.0,0.0,...|    1|\n",
      "|[5.77591190586236...|    0|\n",
      "|[0.0,0.0,0.0,0.0,...|    1|\n",
      "|[0.0,0.0,0.0,0.0,...|    1|\n",
      "|[0.0,0.0,0.0,0.0,...|    1|\n",
      "+--------------------+-----+\n",
      "only showing top 5 rows\n",
      "\n"
     ]
    },
    {
     "data": {
      "text/plain": [
       "\u001b[36mcss\u001b[39m: \u001b[32mChiSqSelector\u001b[39m = chiSqSelector_f4c5812eea88\n",
       "\u001b[36moutput_selector\u001b[39m: \u001b[32mDataset\u001b[39m[\u001b[32mRow\u001b[39m] = [features: vector, label: int ... 2 more fields]"
      ]
     },
     "execution_count": 36,
     "metadata": {},
     "output_type": "execute_result"
    }
   ],
   "source": [
    "// Feature selection using chisquareSelector\n",
    "val css = new ChiSqSelector()\n",
    "  .setFeaturesCol(\"Scaled_features\")\n",
    "  .setLabelCol(\"label\")\n",
    "  .setOutputCol(\"Aspect\")\n",
    "  .setFpr(0.1)\n",
    "\n",
    "val output_selector = css.fit(output_scaled).transform(output_scaled).cache()\n",
    "//val test = css.transform(test)\n",
    "output_selector.select(\"Aspect\", \"label\").show(5)"
   ]
  },
  {
   "cell_type": "markdown",
   "metadata": {},
   "source": [
    "### Разделим датафрейм на тренировочную и тестовую выборки в соотношении 70% и 30% соответственно"
   ]
  },
  {
   "cell_type": "code",
   "execution_count": 37,
   "metadata": {},
   "outputs": [
    {
     "data": {
      "text/plain": [
       "\u001b[36mtraining\u001b[39m: \u001b[32mDataset\u001b[39m[\u001b[32mRow\u001b[39m] = [features: vector, label: int ... 2 more fields]\n",
       "\u001b[36mtest\u001b[39m: \u001b[32mDataset\u001b[39m[\u001b[32mRow\u001b[39m] = [features: vector, label: int ... 2 more fields]"
      ]
     },
     "execution_count": 37,
     "metadata": {},
     "output_type": "execute_result"
    }
   ],
   "source": [
    "val Array(training, test) = output_selector.randomSplit(Array(0.7, 0.3), seed = 777)"
   ]
  },
  {
   "cell_type": "code",
   "execution_count": 38,
   "metadata": {
    "scrolled": true
   },
   "outputs": [
    {
     "data": {
      "text/html": [
       "<div>\n",
       "  <span style=\"float: left;\">show at cmd37.sc:1</span>\n",
       "</div>\n"
      ]
     },
     "metadata": {},
     "output_type": "display_data"
    },
    {
     "data": {
      "text/html": [
       "<div class=\"progress\">\n",
       "  <div class=\"progress-bar\" role=\"progressbar\" style=\"background-color: blue; width: 100%; word-wrap: normal; white-space: nowrap; text-align: center; color: white\" aria-valuenow=\"100\" aria-valuemin=\"0\" aria-valuemax=\"100\">\n",
       "    1 / 1\n",
       "  </div>\n",
       "  <div class=\"progress-bar\" role=\"progressbar\" style=\"background-color: red; width: 0%\" aria-valuenow=\"0\" aria-valuemin=\"0\" aria-valuemax=\"100\"></div>\n",
       "</div>\n"
      ]
     },
     "metadata": {},
     "output_type": "display_data"
    },
    {
     "name": "stdout",
     "output_type": "stream",
     "text": [
      "+--------------------+-----+\n",
      "|              Aspect|label|\n",
      "+--------------------+-----+\n",
      "|[0.08371239665130...|    1|\n",
      "|[5.64625430917878...|    0|\n",
      "|[1.19504793745868...|    1|\n",
      "|[3.20642720964502...|    1|\n",
      "|[9.79458171305819...|    0|\n",
      "+--------------------+-----+\n",
      "only showing top 5 rows\n",
      "\n"
     ]
    }
   ],
   "source": [
    "training.select(\"Aspect\", \"label\").show(5)"
   ]
  },
  {
   "cell_type": "code",
   "execution_count": 39,
   "metadata": {},
   "outputs": [
    {
     "data": {
      "text/html": [
       "<div>\n",
       "  <span style=\"float: left;\">show at cmd38.sc:1</span>\n",
       "</div>\n"
      ]
     },
     "metadata": {},
     "output_type": "display_data"
    },
    {
     "data": {
      "text/html": [
       "<div class=\"progress\">\n",
       "  <div class=\"progress-bar\" role=\"progressbar\" style=\"background-color: blue; width: 100%; word-wrap: normal; white-space: nowrap; text-align: center; color: white\" aria-valuenow=\"100\" aria-valuemin=\"0\" aria-valuemax=\"100\">\n",
       "    1 / 1\n",
       "  </div>\n",
       "  <div class=\"progress-bar\" role=\"progressbar\" style=\"background-color: red; width: 0%\" aria-valuenow=\"0\" aria-valuemin=\"0\" aria-valuemax=\"100\"></div>\n",
       "</div>\n"
      ]
     },
     "metadata": {},
     "output_type": "display_data"
    },
    {
     "name": "stdout",
     "output_type": "stream",
     "text": [
      "+--------------------+-----+\n",
      "|              Aspect|label|\n",
      "+--------------------+-----+\n",
      "|[0.09697299577607...|    1|\n",
      "|[5.39086646634568...|    0|\n",
      "|[0.06721016968013...|    1|\n",
      "|[8.87798862225146...|    0|\n",
      "|[8.64546028713874...|    1|\n",
      "+--------------------+-----+\n",
      "only showing top 5 rows\n",
      "\n"
     ]
    }
   ],
   "source": [
    "test.select(\"Aspect\", \"label\").show(5)"
   ]
  },
  {
   "cell_type": "markdown",
   "metadata": {},
   "source": [
    "### Обучим модель Логистической регрессии на выбранных фичах для предсказания оттока."
   ]
  },
  {
   "cell_type": "code",
   "execution_count": null,
   "metadata": {},
   "outputs": [],
   "source": [
    "// Extract the summary from the returned LogisticRegressionModel instance trained in the earlier\n",
    "val lr = new LogisticRegression()\n",
    ".setMaxIter(45)\n",
    ".setRegParam(0.02)\n",
    ".setElasticNetParam(0.08)\n",
    ".setFeaturesCol(\"Aspect\")\n",
    ".setLabelCol(\"label\")\n",
    "\n",
    "\n",
    "val model = lr.fit(training)\n",
    "val predict_train = model.transform(training)\n",
    "val predict_test = model.transform(test)\n",
    "//predict_test.select(\"Outcome\",\"prediction\").show(10)"
   ]
  },
  {
   "cell_type": "code",
   "execution_count": 41,
   "metadata": {},
   "outputs": [
    {
     "data": {
      "text/html": [
       "<div>\n",
       "  <span style=\"float: left;\">show at cmd40.sc:1</span>\n",
       "</div>\n"
      ]
     },
     "metadata": {},
     "output_type": "display_data"
    },
    {
     "data": {
      "text/html": [
       "<div class=\"progress\">\n",
       "  <div class=\"progress-bar\" role=\"progressbar\" style=\"background-color: blue; width: 100%; word-wrap: normal; white-space: nowrap; text-align: center; color: white\" aria-valuenow=\"100\" aria-valuemin=\"0\" aria-valuemax=\"100\">\n",
       "    1 / 1\n",
       "  </div>\n",
       "  <div class=\"progress-bar\" role=\"progressbar\" style=\"background-color: red; width: 0%\" aria-valuenow=\"0\" aria-valuemin=\"0\" aria-valuemax=\"100\"></div>\n",
       "</div>\n"
      ]
     },
     "metadata": {},
     "output_type": "display_data"
    },
    {
     "name": "stdout",
     "output_type": "stream",
     "text": [
      "+-----+--------------------+--------------------+--------------------+----------+\n",
      "|label|              Aspect|       rawPrediction|         probability|prediction|\n",
      "+-----+--------------------+--------------------+--------------------+----------+\n",
      "|    1|[0.09697299577607...|[-0.3970528956361...|[0.40202061886501...|       1.0|\n",
      "|    0|[5.39086646634568...|[0.97057759066969...|[0.72523460889123...|       0.0|\n",
      "|    1|[0.06721016968013...|[0.29871099965590...|[0.57412737976798...|       0.0|\n",
      "|    0|[8.87798862225146...|[-0.1395664373965...|[0.46516491774104...|       1.0|\n",
      "|    1|[8.64546028713874...|[-0.1072482888368...|[0.47321359807265...|       1.0|\n",
      "|    0|[0.00557536937784...|[0.09663708217832...|[0.52414048668615...|       0.0|\n",
      "|    1|[0.07366709455025...|[-0.0826898338658...|[0.47933931266664...|       1.0|\n",
      "|    0|[0.00832188646673...|[5.86196453589847...|[0.99716242692305...|       0.0|\n",
      "|    1|[2.58026049835855...|[0.07068336575819...|[0.51766348794961...|       0.0|\n",
      "|    1|[6.78995111871718...|[-0.1122142622625...|[0.47197583505005...|       1.0|\n",
      "|    0|[1.75577356430400...|[-0.1711976776354...|[0.45730480787426...|       1.0|\n",
      "|    0|[3.70100222843086...|[0.15140120781070...|[0.53777816588828...|       0.0|\n",
      "|    0|[0.01286023744250...|[-0.9625759027188...|[0.27636275276680...|       1.0|\n",
      "|    1|[0.00172403224078...|[-0.4273916047221...|[0.39474936397914...|       1.0|\n",
      "|    1|[1.78491753963508...|[-0.9581064062591...|[0.27725748402705...|       1.0|\n",
      "|    0|[0.03114628957262...|[-0.0829243071150...|[0.47928079472629...|       1.0|\n",
      "|    0|[2.62149989999724...|[-0.2077748544643...|[0.44824235236959...|       1.0|\n",
      "|    0|[2.79210188792176...|[0.04871571013270...|[0.51217651949803...|       0.0|\n",
      "|    0|[3.01972393356075...|[0.04202790193975...|[0.51050542917983...|       0.0|\n",
      "|    1|[0.04594379199085...|[0.05095487216556...|[0.51273596252393...|       0.0|\n",
      "+-----+--------------------+--------------------+--------------------+----------+\n",
      "only showing top 20 rows\n",
      "\n"
     ]
    }
   ],
   "source": [
    "predict_test.select(\"label\", \"Aspect\", \"rawPrediction\", \"probability\", \"prediction\").show()"
   ]
  },
  {
   "cell_type": "markdown",
   "metadata": {},
   "source": [
    "### Посчитаем метрики на тесте и трейне. Посмотрим, чтобы не было большой разницы между ними."
   ]
  },
  {
   "cell_type": "code",
   "execution_count": 42,
   "metadata": {},
   "outputs": [
    {
     "data": {
      "text/html": [
       "<div>\n",
       "  <span style=\"float: left;\">map at BinaryClassificationEvaluator.scala:81</span>\n",
       "</div>\n"
      ]
     },
     "metadata": {},
     "output_type": "display_data"
    },
    {
     "data": {
      "text/html": [
       "<div class=\"progress\">\n",
       "  <div class=\"progress-bar\" role=\"progressbar\" style=\"background-color: blue; width: 100%; word-wrap: normal; white-space: nowrap; text-align: center; color: white\" aria-valuenow=\"100\" aria-valuemin=\"0\" aria-valuemax=\"100\">\n",
       "    200 / 200\n",
       "  </div>\n",
       "  <div class=\"progress-bar\" role=\"progressbar\" style=\"background-color: red; width: 0%\" aria-valuenow=\"0\" aria-valuemin=\"0\" aria-valuemax=\"100\"></div>\n",
       "</div>\n"
      ]
     },
     "metadata": {},
     "output_type": "display_data"
    },
    {
     "data": {
      "text/html": [
       "<div>\n",
       "  <span style=\"float: left;\">sortByKey at BinaryClassificationMetrics.scala:155</span>\n",
       "</div>\n"
      ]
     },
     "metadata": {},
     "output_type": "display_data"
    },
    {
     "data": {
      "text/html": [
       "<div class=\"progress\">\n",
       "  <div class=\"progress-bar\" role=\"progressbar\" style=\"background-color: blue; width: 100%; word-wrap: normal; white-space: nowrap; text-align: center; color: white\" aria-valuenow=\"100\" aria-valuemin=\"0\" aria-valuemax=\"100\">\n",
       "    200 / 200\n",
       "  </div>\n",
       "  <div class=\"progress-bar\" role=\"progressbar\" style=\"background-color: red; width: 0%\" aria-valuenow=\"0\" aria-valuemin=\"0\" aria-valuemax=\"100\"></div>\n",
       "</div>\n"
      ]
     },
     "metadata": {},
     "output_type": "display_data"
    },
    {
     "data": {
      "text/html": [
       "<div>\n",
       "  <span style=\"float: left;\">combineByKey at BinaryClassificationMetrics.scala:154</span>\n",
       "</div>\n"
      ]
     },
     "metadata": {},
     "output_type": "display_data"
    },
    {
     "data": {
      "text/html": [
       "<div class=\"progress\">\n",
       "  <div class=\"progress-bar\" role=\"progressbar\" style=\"background-color: blue; width: 100%; word-wrap: normal; white-space: nowrap; text-align: center; color: white\" aria-valuenow=\"100\" aria-valuemin=\"0\" aria-valuemax=\"100\">\n",
       "    200 / 200\n",
       "  </div>\n",
       "  <div class=\"progress-bar\" role=\"progressbar\" style=\"background-color: red; width: 0%\" aria-valuenow=\"0\" aria-valuemin=\"0\" aria-valuemax=\"100\"></div>\n",
       "</div>\n"
      ]
     },
     "metadata": {},
     "output_type": "display_data"
    },
    {
     "data": {
      "text/html": [
       "<div>\n",
       "  <span style=\"float: left;\">collect at BinaryClassificationMetrics.scala:191</span>\n",
       "</div>\n"
      ]
     },
     "metadata": {},
     "output_type": "display_data"
    },
    {
     "data": {
      "text/html": [
       "<div class=\"progress\">\n",
       "  <div class=\"progress-bar\" role=\"progressbar\" style=\"background-color: blue; width: 100%; word-wrap: normal; white-space: nowrap; text-align: center; color: white\" aria-valuenow=\"100\" aria-valuemin=\"0\" aria-valuemax=\"100\">\n",
       "    200 / 200\n",
       "  </div>\n",
       "  <div class=\"progress-bar\" role=\"progressbar\" style=\"background-color: red; width: 0%\" aria-valuenow=\"0\" aria-valuemin=\"0\" aria-valuemax=\"100\"></div>\n",
       "</div>\n"
      ]
     },
     "metadata": {},
     "output_type": "display_data"
    },
    {
     "data": {
      "text/html": [
       "<div>\n",
       "  <span style=\"float: left;\">collect at SlidingRDD.scala:78</span>\n",
       "</div>\n"
      ]
     },
     "metadata": {},
     "output_type": "display_data"
    },
    {
     "data": {
      "text/html": [
       "<div class=\"progress\">\n",
       "  <div class=\"progress-bar\" role=\"progressbar\" style=\"background-color: blue; width: 100%; word-wrap: normal; white-space: nowrap; text-align: center; color: white\" aria-valuenow=\"100\" aria-valuemin=\"0\" aria-valuemax=\"100\">\n",
       "    202 / 202\n",
       "  </div>\n",
       "  <div class=\"progress-bar\" role=\"progressbar\" style=\"background-color: red; width: 0%\" aria-valuenow=\"0\" aria-valuemin=\"0\" aria-valuemax=\"100\"></div>\n",
       "</div>\n"
      ]
     },
     "metadata": {},
     "output_type": "display_data"
    },
    {
     "data": {
      "text/html": [
       "<div>\n",
       "  <span style=\"float: left;\">aggregate at AreaUnderCurve.scala:45</span>\n",
       "</div>\n"
      ]
     },
     "metadata": {},
     "output_type": "display_data"
    },
    {
     "data": {
      "text/html": [
       "<div class=\"progress\">\n",
       "  <div class=\"progress-bar\" role=\"progressbar\" style=\"background-color: blue; width: 100%; word-wrap: normal; white-space: nowrap; text-align: center; color: white\" aria-valuenow=\"100\" aria-valuemin=\"0\" aria-valuemax=\"100\">\n",
       "    201 / 201\n",
       "  </div>\n",
       "  <div class=\"progress-bar\" role=\"progressbar\" style=\"background-color: red; width: 0%\" aria-valuenow=\"0\" aria-valuemin=\"0\" aria-valuemax=\"100\"></div>\n",
       "</div>\n"
      ]
     },
     "metadata": {},
     "output_type": "display_data"
    },
    {
     "data": {
      "text/html": [
       "<div>\n",
       "  <span style=\"float: left;\">map at BinaryClassificationEvaluator.scala:81</span>\n",
       "</div>\n"
      ]
     },
     "metadata": {},
     "output_type": "display_data"
    },
    {
     "data": {
      "text/html": [
       "<div class=\"progress\">\n",
       "  <div class=\"progress-bar\" role=\"progressbar\" style=\"background-color: blue; width: 100%; word-wrap: normal; white-space: nowrap; text-align: center; color: white\" aria-valuenow=\"100\" aria-valuemin=\"0\" aria-valuemax=\"100\">\n",
       "    200 / 200\n",
       "  </div>\n",
       "  <div class=\"progress-bar\" role=\"progressbar\" style=\"background-color: red; width: 0%\" aria-valuenow=\"0\" aria-valuemin=\"0\" aria-valuemax=\"100\"></div>\n",
       "</div>\n"
      ]
     },
     "metadata": {},
     "output_type": "display_data"
    },
    {
     "data": {
      "text/html": [
       "<div>\n",
       "  <span style=\"float: left;\">sortByKey at BinaryClassificationMetrics.scala:155</span>\n",
       "</div>\n"
      ]
     },
     "metadata": {},
     "output_type": "display_data"
    },
    {
     "data": {
      "text/html": [
       "<div class=\"progress\">\n",
       "  <div class=\"progress-bar\" role=\"progressbar\" style=\"background-color: blue; width: 100%; word-wrap: normal; white-space: nowrap; text-align: center; color: white\" aria-valuenow=\"100\" aria-valuemin=\"0\" aria-valuemax=\"100\">\n",
       "    200 / 200\n",
       "  </div>\n",
       "  <div class=\"progress-bar\" role=\"progressbar\" style=\"background-color: red; width: 0%\" aria-valuenow=\"0\" aria-valuemin=\"0\" aria-valuemax=\"100\"></div>\n",
       "</div>\n"
      ]
     },
     "metadata": {},
     "output_type": "display_data"
    },
    {
     "data": {
      "text/html": [
       "<div>\n",
       "  <span style=\"float: left;\">combineByKey at BinaryClassificationMetrics.scala:154</span>\n",
       "</div>\n"
      ]
     },
     "metadata": {},
     "output_type": "display_data"
    },
    {
     "data": {
      "text/html": [
       "<div class=\"progress\">\n",
       "  <div class=\"progress-bar\" role=\"progressbar\" style=\"background-color: blue; width: 100%; word-wrap: normal; white-space: nowrap; text-align: center; color: white\" aria-valuenow=\"100\" aria-valuemin=\"0\" aria-valuemax=\"100\">\n",
       "    200 / 200\n",
       "  </div>\n",
       "  <div class=\"progress-bar\" role=\"progressbar\" style=\"background-color: red; width: 0%\" aria-valuenow=\"0\" aria-valuemin=\"0\" aria-valuemax=\"100\"></div>\n",
       "</div>\n"
      ]
     },
     "metadata": {},
     "output_type": "display_data"
    },
    {
     "data": {
      "text/html": [
       "<div>\n",
       "  <span style=\"float: left;\">collect at BinaryClassificationMetrics.scala:191</span>\n",
       "</div>\n"
      ]
     },
     "metadata": {},
     "output_type": "display_data"
    },
    {
     "data": {
      "text/html": [
       "<div class=\"progress\">\n",
       "  <div class=\"progress-bar\" role=\"progressbar\" style=\"background-color: blue; width: 100%; word-wrap: normal; white-space: nowrap; text-align: center; color: white\" aria-valuenow=\"100\" aria-valuemin=\"0\" aria-valuemax=\"100\">\n",
       "    200 / 200\n",
       "  </div>\n",
       "  <div class=\"progress-bar\" role=\"progressbar\" style=\"background-color: red; width: 0%\" aria-valuenow=\"0\" aria-valuemin=\"0\" aria-valuemax=\"100\"></div>\n",
       "</div>\n"
      ]
     },
     "metadata": {},
     "output_type": "display_data"
    },
    {
     "data": {
      "text/html": [
       "<div>\n",
       "  <span style=\"float: left;\">collect at SlidingRDD.scala:78</span>\n",
       "</div>\n"
      ]
     },
     "metadata": {},
     "output_type": "display_data"
    },
    {
     "data": {
      "text/html": [
       "<div class=\"progress\">\n",
       "  <div class=\"progress-bar\" role=\"progressbar\" style=\"background-color: blue; width: 100%; word-wrap: normal; white-space: nowrap; text-align: center; color: white\" aria-valuenow=\"100\" aria-valuemin=\"0\" aria-valuemax=\"100\">\n",
       "    202 / 202\n",
       "  </div>\n",
       "  <div class=\"progress-bar\" role=\"progressbar\" style=\"background-color: red; width: 0%\" aria-valuenow=\"0\" aria-valuemin=\"0\" aria-valuemax=\"100\"></div>\n",
       "</div>\n"
      ]
     },
     "metadata": {},
     "output_type": "display_data"
    },
    {
     "data": {
      "text/html": [
       "<div>\n",
       "  <span style=\"float: left;\">aggregate at AreaUnderCurve.scala:45</span>\n",
       "</div>\n"
      ]
     },
     "metadata": {},
     "output_type": "display_data"
    },
    {
     "data": {
      "text/html": [
       "<div class=\"progress\">\n",
       "  <div class=\"progress-bar\" role=\"progressbar\" style=\"background-color: blue; width: 100%; word-wrap: normal; white-space: nowrap; text-align: center; color: white\" aria-valuenow=\"100\" aria-valuemin=\"0\" aria-valuemax=\"100\">\n",
       "    201 / 201\n",
       "  </div>\n",
       "  <div class=\"progress-bar\" role=\"progressbar\" style=\"background-color: red; width: 0%\" aria-valuenow=\"0\" aria-valuemin=\"0\" aria-valuemax=\"100\"></div>\n",
       "</div>\n"
      ]
     },
     "metadata": {},
     "output_type": "display_data"
    },
    {
     "data": {
      "text/plain": [
       "\u001b[36mevaluator\u001b[39m: \u001b[32mBinaryClassificationEvaluator\u001b[39m = binEval_a99c3cb71bd5\n",
       "\u001b[36mlr_auc_train\u001b[39m: \u001b[32mDouble\u001b[39m = \u001b[32m0.6418781527174102\u001b[39m\n",
       "\u001b[36mlr_auc_test\u001b[39m: \u001b[32mDouble\u001b[39m = \u001b[32m0.6381972197861229\u001b[39m"
      ]
     },
     "execution_count": 42,
     "metadata": {},
     "output_type": "execute_result"
    }
   ],
   "source": [
    "val evaluator = new BinaryClassificationEvaluator()\n",
    ".setRawPredictionCol(\"rawPrediction\")\n",
    ".setLabelCol(\"label\")\n",
    "\n",
    "val lr_auc_train = evaluator.evaluate(predict_train)\n",
    "val lr_auc_test = evaluator.evaluate(predict_test)"
   ]
  },
  {
   "cell_type": "markdown",
   "metadata": {},
   "source": [
    "### Метрики получились вполне адекватные для задачи оттока. В таких задачах наоборот, слишком высокий аук свидетельствуют:\n",
    "1. О проникновении информации о таргете из будущего в фичи\n",
    "2. Нахождение некорректных причинно-следственных связей"
   ]
  },
  {
   "cell_type": "code",
   "execution_count": 43,
   "metadata": {},
   "outputs": [
    {
     "name": "stdout",
     "output_type": "stream",
     "text": [
      "(LogisticRegression Roc auc train,0.6418781527174102)\n"
     ]
    }
   ],
   "source": [
    "println(\"LogisticRegression Roc auc train\", lr_auc_train)"
   ]
  },
  {
   "cell_type": "code",
   "execution_count": 44,
   "metadata": {},
   "outputs": [
    {
     "name": "stdout",
     "output_type": "stream",
     "text": [
      "(LogisticRegression Roc auc test ,0.6381972197861229)\n"
     ]
    }
   ],
   "source": [
    "println(\"LogisticRegression Roc auc test \", lr_auc_test)"
   ]
  },
  {
   "cell_type": "markdown",
   "metadata": {},
   "source": [
    "### Попробуем сегментировать юзеров."
   ]
  },
  {
   "cell_type": "markdown",
   "metadata": {},
   "source": [
    "### Классический подход - нарезать сегменты в бакеты по вероятности оттока. Попробуем 5 бакетов. \n",
    "* Засплитим столбец с выходом вероятности для 2х классов."
   ]
  },
  {
   "cell_type": "code",
   "execution_count": 54,
   "metadata": {},
   "outputs": [
    {
     "data": {
      "text/plain": [
       "\u001b[36mfirst\u001b[39m: \u001b[32mexpressions\u001b[39m.\u001b[32mUserDefinedFunction\u001b[39m = \u001b[33mUserDefinedFunction\u001b[39m(\n",
       "  ammonite.$sess.cmd53$Helper$$Lambda$7642/1804894790@129e27c8,\n",
       "...\n",
       "\u001b[36msecond\u001b[39m: \u001b[32mexpressions\u001b[39m.\u001b[32mUserDefinedFunction\u001b[39m = \u001b[33mUserDefinedFunction\u001b[39m(\n",
       "  ammonite.$sess.cmd53$Helper$$Lambda$7643/21624963@66c2f804,\n",
       "...\n",
       "\u001b[36mpredict_train_new\u001b[39m: \u001b[32mDataFrame\u001b[39m = [features: vector, label: int ... 6 more fields]"
      ]
     },
     "execution_count": 54,
     "metadata": {},
     "output_type": "execute_result"
    }
   ],
   "source": [
    "val first = udf((v: org.apache.spark.ml.linalg.Vector) => v.toArray(0))\n",
    "val second = udf((v: org.apache.spark.ml.linalg.Vector) => v.toArray(1))\n",
    "val predict_train_new = predict_train\n",
    "      .withColumn(\"prob1\", first($\"probability\"))\n",
    "      .withColumn(\"prob2\", second($\"probability\"))\n",
    "      .drop(\"probability\")"
   ]
  },
  {
   "cell_type": "code",
   "execution_count": 58,
   "metadata": {},
   "outputs": [
    {
     "data": {
      "text/html": [
       "<div>\n",
       "  <span style=\"float: left;\">show at cmd57.sc:1</span>\n",
       "</div>\n"
      ]
     },
     "metadata": {},
     "output_type": "display_data"
    },
    {
     "data": {
      "text/html": [
       "<div class=\"progress\">\n",
       "  <div class=\"progress-bar\" role=\"progressbar\" style=\"background-color: blue; width: 100%; word-wrap: normal; white-space: nowrap; text-align: center; color: white\" aria-valuenow=\"100\" aria-valuemin=\"0\" aria-valuemax=\"100\">\n",
       "    1 / 1\n",
       "  </div>\n",
       "  <div class=\"progress-bar\" role=\"progressbar\" style=\"background-color: red; width: 0%\" aria-valuenow=\"0\" aria-valuemin=\"0\" aria-valuemax=\"100\"></div>\n",
       "</div>\n"
      ]
     },
     "metadata": {},
     "output_type": "display_data"
    },
    {
     "name": "stdout",
     "output_type": "stream",
     "text": [
      "+-----+-------------------+--------------------+\n",
      "|label|              prob1|               prob2|\n",
      "+-----+-------------------+--------------------+\n",
      "|    1| 0.4290044082984949|   0.570995591701505|\n",
      "|    0|0.45451305547564835|  0.5454869445243516|\n",
      "|    1| 0.4770434532270394|  0.5229565467729606|\n",
      "|    1|  0.556040418212389|   0.443959581787611|\n",
      "|    0| 0.9726554775374182|0.027344522462581723|\n",
      "+-----+-------------------+--------------------+\n",
      "only showing top 5 rows\n",
      "\n"
     ]
    }
   ],
   "source": [
    "predict_train_new.select(\"label\", \"prob1\", \"prob2\").show(5)"
   ]
  },
  {
   "cell_type": "markdown",
   "metadata": {},
   "source": [
    "### Применим QuantileDiscretizer для нарезки по бакетам."
   ]
  },
  {
   "cell_type": "code",
   "execution_count": 72,
   "metadata": {
    "scrolled": true
   },
   "outputs": [
    {
     "data": {
      "text/html": [
       "<div>\n",
       "  <span style=\"float: left;\">approxQuantile at QuantileDiscretizer.scala:237</span>\n",
       "</div>\n"
      ]
     },
     "metadata": {},
     "output_type": "display_data"
    },
    {
     "data": {
      "text/html": [
       "<div class=\"progress\">\n",
       "  <div class=\"progress-bar\" role=\"progressbar\" style=\"background-color: blue; width: 100%; word-wrap: normal; white-space: nowrap; text-align: center; color: white\" aria-valuenow=\"100\" aria-valuemin=\"0\" aria-valuemax=\"100\">\n",
       "    200 / 200\n",
       "  </div>\n",
       "  <div class=\"progress-bar\" role=\"progressbar\" style=\"background-color: red; width: 0%\" aria-valuenow=\"0\" aria-valuemin=\"0\" aria-valuemax=\"100\"></div>\n",
       "</div>\n"
      ]
     },
     "metadata": {},
     "output_type": "display_data"
    },
    {
     "data": {
      "text/html": [
       "<div>\n",
       "  <span style=\"float: left;\">approxQuantile at QuantileDiscretizer.scala:237</span>\n",
       "</div>\n"
      ]
     },
     "metadata": {},
     "output_type": "display_data"
    },
    {
     "data": {
      "text/html": [
       "<div class=\"progress\">\n",
       "  <div class=\"progress-bar\" role=\"progressbar\" style=\"background-color: blue; width: 100%; word-wrap: normal; white-space: nowrap; text-align: center; color: white\" aria-valuenow=\"100\" aria-valuemin=\"0\" aria-valuemax=\"100\">\n",
       "    13 / 13\n",
       "  </div>\n",
       "  <div class=\"progress-bar\" role=\"progressbar\" style=\"background-color: red; width: 0%\" aria-valuenow=\"0\" aria-valuemin=\"0\" aria-valuemax=\"100\"></div>\n",
       "</div>\n"
      ]
     },
     "metadata": {},
     "output_type": "display_data"
    },
    {
     "data": {
      "text/plain": [
       "\u001b[36mqds\u001b[39m: \u001b[32mQuantileDiscretizer\u001b[39m = quantileDiscretizer_5358ac8074e3\n",
       "\u001b[36mbucketizer\u001b[39m: \u001b[32morg\u001b[39m.\u001b[32mapache\u001b[39m.\u001b[32mspark\u001b[39m.\u001b[32mml\u001b[39m.\u001b[32mfeature\u001b[39m.\u001b[32mBucketizer\u001b[39m = quantileDiscretizer_5358ac8074e3\n",
       "\u001b[36mpredict_train_buckets\u001b[39m: \u001b[32mDataFrame\u001b[39m = [label: int, prob2: double ... 1 more field]"
      ]
     },
     "execution_count": 72,
     "metadata": {},
     "output_type": "execute_result"
    }
   ],
   "source": [
    "val qds = new QuantileDiscretizer().setNumBuckets(5).setInputCol(\"prob2\").setOutputCol(\"buckets\")\n",
    "val bucketizer = qds.fit(predict_train_new)\n",
    "val predict_train_buckets = bucketizer.setHandleInvalid(\"skip\").transform(predict_train_new).select(\"label\", \"prob2\", \"buckets\")"
   ]
  },
  {
   "cell_type": "code",
   "execution_count": 73,
   "metadata": {},
   "outputs": [
    {
     "data": {
      "text/html": [
       "<div>\n",
       "  <span style=\"float: left;\">show at cmd72.sc:1</span>\n",
       "</div>\n"
      ]
     },
     "metadata": {},
     "output_type": "display_data"
    },
    {
     "data": {
      "text/html": [
       "<div class=\"progress\">\n",
       "  <div class=\"progress-bar\" role=\"progressbar\" style=\"background-color: blue; width: 100%; word-wrap: normal; white-space: nowrap; text-align: center; color: white\" aria-valuenow=\"100\" aria-valuemin=\"0\" aria-valuemax=\"100\">\n",
       "    1 / 1\n",
       "  </div>\n",
       "  <div class=\"progress-bar\" role=\"progressbar\" style=\"background-color: red; width: 0%\" aria-valuenow=\"0\" aria-valuemin=\"0\" aria-valuemax=\"100\"></div>\n",
       "</div>\n"
      ]
     },
     "metadata": {},
     "output_type": "display_data"
    },
    {
     "name": "stdout",
     "output_type": "stream",
     "text": [
      "+-----+--------------------+-------+\n",
      "|label|               prob2|buckets|\n",
      "+-----+--------------------+-------+\n",
      "|    1|   0.570995591701505|    0.0|\n",
      "|    0|  0.5454869445243516|    0.0|\n",
      "|    1|  0.5229565467729606|    0.0|\n",
      "|    1|   0.443959581787611|    0.0|\n",
      "|    0|0.027344522462581723|    0.0|\n",
      "+-----+--------------------+-------+\n",
      "only showing top 5 rows\n",
      "\n"
     ]
    }
   ],
   "source": [
    "predict_train_buckets.show(5)"
   ]
  },
  {
   "cell_type": "markdown",
   "metadata": {},
   "source": [
    "### Посмотрим на границы вероятности (мин, макс), средние вероятности в бакетах и поймем, какой целевой сегмент нам нужен для работы с оттоком:\n",
    "* Бакет 4 как сегмент с наибольшей вероятностью оттока.\n",
    "* Бакет 3 тоже можно потестить, т.к. клиенты с наибольшей вероятностью оттока могут быть не склонны к реактивации вообще.\n",
    "\n",
    "### В принципе, все готово для АВ теста. Будем запускать Бакеты 3 и 4 для пилота и смотреть за долей реактивации в них по отдельности."
   ]
  },
  {
   "cell_type": "code",
   "execution_count": 74,
   "metadata": {},
   "outputs": [
    {
     "data": {
      "text/html": [
       "<div>\n",
       "  <span style=\"float: left;\">show at cmd73.sc:1</span>\n",
       "</div>\n"
      ]
     },
     "metadata": {},
     "output_type": "display_data"
    },
    {
     "data": {
      "text/html": [
       "<div class=\"progress\">\n",
       "  <div class=\"progress-bar\" role=\"progressbar\" style=\"background-color: blue; width: 100%; word-wrap: normal; white-space: nowrap; text-align: center; color: white\" aria-valuenow=\"100\" aria-valuemin=\"0\" aria-valuemax=\"100\">\n",
       "    200 / 200\n",
       "  </div>\n",
       "  <div class=\"progress-bar\" role=\"progressbar\" style=\"background-color: red; width: 0%\" aria-valuenow=\"0\" aria-valuemin=\"0\" aria-valuemax=\"100\"></div>\n",
       "</div>\n"
      ]
     },
     "metadata": {},
     "output_type": "display_data"
    },
    {
     "data": {
      "text/html": [
       "<div>\n",
       "  <span style=\"float: left;\">show at cmd73.sc:1</span>\n",
       "</div>\n"
      ]
     },
     "metadata": {},
     "output_type": "display_data"
    },
    {
     "data": {
      "text/html": [
       "<div class=\"progress\">\n",
       "  <div class=\"progress-bar\" role=\"progressbar\" style=\"background-color: blue; width: 100%; word-wrap: normal; white-space: nowrap; text-align: center; color: white\" aria-valuenow=\"100\" aria-valuemin=\"0\" aria-valuemax=\"100\">\n",
       "    200 / 200\n",
       "  </div>\n",
       "  <div class=\"progress-bar\" role=\"progressbar\" style=\"background-color: red; width: 0%\" aria-valuenow=\"0\" aria-valuemin=\"0\" aria-valuemax=\"100\"></div>\n",
       "</div>\n"
      ]
     },
     "metadata": {},
     "output_type": "display_data"
    },
    {
     "name": "stdout",
     "output_type": "stream",
     "text": [
      "+-------+------------+------------------+--------------------+------------------+\n",
      "|buckets|count(prob2)|        avg(prob2)|          min(prob2)|        max(prob2)|\n",
      "+-------+------------+------------------+--------------------+------------------+\n",
      "|    0.0|       50043|0.5007798600388275|9.673905894212953...|0.5849134396343241|\n",
      "|    1.0|       49376|0.6098084165651789|  0.5849142753996271|0.6322062726733407|\n",
      "|    2.0|       49754|0.6564785265511999|  0.6322074529821985|0.6882237418273143|\n",
      "|    3.0|       49623|0.7079756025352025|   0.688223898327393|0.7282386525530309|\n",
      "|    4.0|       48990| 0.746729271308491|  0.7282387822002222|0.9999999995598345|\n",
      "+-------+------------+------------------+--------------------+------------------+\n",
      "\n"
     ]
    }
   ],
   "source": [
    "predict_train_buckets.groupBy(\"buckets\").agg(count(\"prob2\"), mean(\"prob2\") , min(\"prob2\") , max(\"prob2\")).sort(col(\"buckets\").asc).show()"
   ]
  },
  {
   "cell_type": "markdown",
   "metadata": {},
   "source": [
    "### Посмотрим на сколько хорошо средняя вероятность в сегменте по модели соответствует фактической вероятности по таргету."
   ]
  },
  {
   "cell_type": "code",
   "execution_count": 75,
   "metadata": {},
   "outputs": [
    {
     "data": {
      "text/html": [
       "<div>\n",
       "  <span style=\"float: left;\">show at cmd74.sc:1</span>\n",
       "</div>\n"
      ]
     },
     "metadata": {},
     "output_type": "display_data"
    },
    {
     "data": {
      "text/html": [
       "<div class=\"progress\">\n",
       "  <div class=\"progress-bar\" role=\"progressbar\" style=\"background-color: blue; width: 100%; word-wrap: normal; white-space: nowrap; text-align: center; color: white\" aria-valuenow=\"100\" aria-valuemin=\"0\" aria-valuemax=\"100\">\n",
       "    200 / 200\n",
       "  </div>\n",
       "  <div class=\"progress-bar\" role=\"progressbar\" style=\"background-color: red; width: 0%\" aria-valuenow=\"0\" aria-valuemin=\"0\" aria-valuemax=\"100\"></div>\n",
       "</div>\n"
      ]
     },
     "metadata": {},
     "output_type": "display_data"
    },
    {
     "data": {
      "text/html": [
       "<div>\n",
       "  <span style=\"float: left;\">show at cmd74.sc:1</span>\n",
       "</div>\n"
      ]
     },
     "metadata": {},
     "output_type": "display_data"
    },
    {
     "data": {
      "text/html": [
       "<div class=\"progress\">\n",
       "  <div class=\"progress-bar\" role=\"progressbar\" style=\"background-color: blue; width: 100%; word-wrap: normal; white-space: nowrap; text-align: center; color: white\" aria-valuenow=\"100\" aria-valuemin=\"0\" aria-valuemax=\"100\">\n",
       "    200 / 200\n",
       "  </div>\n",
       "  <div class=\"progress-bar\" role=\"progressbar\" style=\"background-color: red; width: 0%\" aria-valuenow=\"0\" aria-valuemin=\"0\" aria-valuemax=\"100\"></div>\n",
       "</div>\n"
      ]
     },
     "metadata": {},
     "output_type": "display_data"
    },
    {
     "name": "stdout",
     "output_type": "stream",
     "text": [
      "+-------+-------------------+------------------+\n",
      "|buckets|         avg(label)|        avg(prob2)|\n",
      "+-------+-------------------+------------------+\n",
      "|    0.0|0.43924225166356934|0.5007798600388275|\n",
      "|    1.0| 0.6137597213220998|0.6098084165651789|\n",
      "|    2.0| 0.7039032037625116|0.6564785265511999|\n",
      "|    3.0| 0.7140237389919997|0.7079756025352025|\n",
      "|    4.0| 0.7661359461114513| 0.746729271308491|\n",
      "+-------+-------------------+------------------+\n",
      "\n"
     ]
    }
   ],
   "source": [
    "predict_train_buckets.groupBy(\"buckets\").agg(mean(\"label\"), mean(\"prob2\")).sort(col(\"buckets\").asc).show()"
   ]
  },
  {
   "cell_type": "markdown",
   "metadata": {},
   "source": [
    "### Попробуем альтернативные подходы. Например, без учителя. Поскольку, мы отобрали фичи по влиянию на таргет, то значит, по ним в евклидовом пространстве можно выделить сегменты, с разной степенью вовлеченности и оттока."
   ]
  },
  {
   "cell_type": "markdown",
   "metadata": {},
   "source": [
    "### Сегментировать клиентов будем кластеризацией методом Bisecting k-means. Выберем базово 3 кластера, с целью поиска следующих сегментов юзеров:\n",
    "1. Невовлеченные юзеры - высокая доля оттока.\n",
    "2. Неопределеные юзеры.\n",
    "3. Активные юзеры."
   ]
  },
  {
   "cell_type": "code",
   "execution_count": null,
   "metadata": {},
   "outputs": [],
   "source": [
    "// Trains a Bisecting k-means model.\n",
    "val mixture = new GaussianMixture().setK(3).setSeed(4).setFeaturesCol(\"Aspect\").setPredictionCol(\"Clusters\")\n",
    "val model_mixture = mixture.fit(training)\n",
    "\n",
    "// Evaluate clustering by computing Within Set Sum of Squared Errors.\n",
    "//val WSSSE = model_km.computeCost(training)"
   ]
  },
  {
   "cell_type": "code",
   "execution_count": 42,
   "metadata": {},
   "outputs": [
    {
     "data": {
      "text/html": [
       "<div>\n",
       "  <span style=\"float: left;\">show at cmd41.sc:2</span>\n",
       "</div>\n"
      ]
     },
     "metadata": {},
     "output_type": "display_data"
    },
    {
     "data": {
      "text/html": [
       "<div class=\"progress\">\n",
       "  <div class=\"progress-bar\" role=\"progressbar\" style=\"background-color: blue; width: 100%; word-wrap: normal; white-space: nowrap; text-align: center; color: white\" aria-valuenow=\"100\" aria-valuemin=\"0\" aria-valuemax=\"100\">\n",
       "    1 / 1\n",
       "  </div>\n",
       "  <div class=\"progress-bar\" role=\"progressbar\" style=\"background-color: red; width: 0%\" aria-valuenow=\"0\" aria-valuemin=\"0\" aria-valuemax=\"100\"></div>\n",
       "</div>\n"
      ]
     },
     "metadata": {},
     "output_type": "display_data"
    },
    {
     "name": "stdout",
     "output_type": "stream",
     "text": [
      "+--------------------+-----+--------------------+--------------------+--------+--------------------+\n",
      "|            features|label|     Scaled_features|              Aspect|Clusters|         probability|\n",
      "+--------------------+-----+--------------------+--------------------+--------+--------------------+\n",
      "|(111,[0,18,19,22,...|    1|[0.08371239665130...|[0.08371239665130...|       2|[2.73988975235334...|\n",
      "|(111,[0,18,22,23,...|    0|[5.64625430917878...|[5.64625430917878...|       0|[1.0,5.1933930615...|\n",
      "|(111,[0,18,22,23,...|    1|[1.19504793745868...|[1.19504793745868...|       1|[1.99601012388526...|\n",
      "|(111,[0,18,22,23,...|    1|[3.20642720964502...|[3.20642720964502...|       1|[1.00168818392355...|\n",
      "|(111,[0,18,22,23,...|    0|[9.79458171305819...|[9.79458171305819...|       2|[6.69361428003523...|\n",
      "+--------------------+-----+--------------------+--------------------+--------+--------------------+\n",
      "only showing top 5 rows\n",
      "\n"
     ]
    },
    {
     "data": {
      "text/plain": [
       "\u001b[36mclusters\u001b[39m: \u001b[32mDataFrame\u001b[39m = [features: vector, label: int ... 4 more fields]"
      ]
     },
     "execution_count": 42,
     "metadata": {},
     "output_type": "execute_result"
    }
   ],
   "source": [
    "val clusters = model_mixture.transform(training)\n",
    "clusters.show(5)"
   ]
  },
  {
   "cell_type": "markdown",
   "metadata": {},
   "source": [
    "### Такой подход тоже имеет место быть. Он скорее отделил клиентов с низкой вероятностью оттока."
   ]
  },
  {
   "cell_type": "code",
   "execution_count": 44,
   "metadata": {},
   "outputs": [
    {
     "data": {
      "text/html": [
       "<div>\n",
       "  <span style=\"float: left;\">show at cmd43.sc:1</span>\n",
       "</div>\n"
      ]
     },
     "metadata": {},
     "output_type": "display_data"
    },
    {
     "data": {
      "text/html": [
       "<div class=\"progress\">\n",
       "  <div class=\"progress-bar\" role=\"progressbar\" style=\"background-color: blue; width: 100%; word-wrap: normal; white-space: nowrap; text-align: center; color: white\" aria-valuenow=\"100\" aria-valuemin=\"0\" aria-valuemax=\"100\">\n",
       "    200 / 200\n",
       "  </div>\n",
       "  <div class=\"progress-bar\" role=\"progressbar\" style=\"background-color: red; width: 0%\" aria-valuenow=\"0\" aria-valuemin=\"0\" aria-valuemax=\"100\"></div>\n",
       "</div>\n"
      ]
     },
     "metadata": {},
     "output_type": "display_data"
    },
    {
     "data": {
      "text/html": [
       "<div>\n",
       "  <span style=\"float: left;\">show at cmd43.sc:1</span>\n",
       "</div>\n"
      ]
     },
     "metadata": {},
     "output_type": "display_data"
    },
    {
     "data": {
      "text/html": [
       "<div class=\"progress\">\n",
       "  <div class=\"progress-bar\" role=\"progressbar\" style=\"background-color: blue; width: 100%; word-wrap: normal; white-space: nowrap; text-align: center; color: white\" aria-valuenow=\"100\" aria-valuemin=\"0\" aria-valuemax=\"100\">\n",
       "    1 / 1\n",
       "  </div>\n",
       "  <div class=\"progress-bar\" role=\"progressbar\" style=\"background-color: red; width: 0%\" aria-valuenow=\"0\" aria-valuemin=\"0\" aria-valuemax=\"100\"></div>\n",
       "</div>\n"
      ]
     },
     "metadata": {},
     "output_type": "display_data"
    },
    {
     "data": {
      "text/html": [
       "<div>\n",
       "  <span style=\"float: left;\">show at cmd43.sc:1</span>\n",
       "</div>\n"
      ]
     },
     "metadata": {},
     "output_type": "display_data"
    },
    {
     "data": {
      "text/html": [
       "<div class=\"progress\">\n",
       "  <div class=\"progress-bar\" role=\"progressbar\" style=\"background-color: blue; width: 100%; word-wrap: normal; white-space: nowrap; text-align: center; color: white\" aria-valuenow=\"100\" aria-valuemin=\"0\" aria-valuemax=\"100\">\n",
       "    4 / 4\n",
       "  </div>\n",
       "  <div class=\"progress-bar\" role=\"progressbar\" style=\"background-color: red; width: 0%\" aria-valuenow=\"0\" aria-valuemin=\"0\" aria-valuemax=\"100\"></div>\n",
       "</div>\n"
      ]
     },
     "metadata": {},
     "output_type": "display_data"
    },
    {
     "data": {
      "text/html": [
       "<div>\n",
       "  <span style=\"float: left;\">show at cmd43.sc:1</span>\n",
       "</div>\n"
      ]
     },
     "metadata": {},
     "output_type": "display_data"
    },
    {
     "data": {
      "text/html": [
       "<div class=\"progress\">\n",
       "  <div class=\"progress-bar\" role=\"progressbar\" style=\"background-color: blue; width: 100%; word-wrap: normal; white-space: nowrap; text-align: center; color: white\" aria-valuenow=\"100\" aria-valuemin=\"0\" aria-valuemax=\"100\">\n",
       "    20 / 20\n",
       "  </div>\n",
       "  <div class=\"progress-bar\" role=\"progressbar\" style=\"background-color: red; width: 0%\" aria-valuenow=\"0\" aria-valuemin=\"0\" aria-valuemax=\"100\"></div>\n",
       "</div>\n"
      ]
     },
     "metadata": {},
     "output_type": "display_data"
    },
    {
     "data": {
      "text/html": [
       "<div>\n",
       "  <span style=\"float: left;\">show at cmd43.sc:1</span>\n",
       "</div>\n"
      ]
     },
     "metadata": {},
     "output_type": "display_data"
    },
    {
     "data": {
      "text/html": [
       "<div class=\"progress\">\n",
       "  <div class=\"progress-bar\" role=\"progressbar\" style=\"background-color: blue; width: 100%; word-wrap: normal; white-space: nowrap; text-align: center; color: white\" aria-valuenow=\"100\" aria-valuemin=\"0\" aria-valuemax=\"100\">\n",
       "    100 / 100\n",
       "  </div>\n",
       "  <div class=\"progress-bar\" role=\"progressbar\" style=\"background-color: red; width: 0%\" aria-valuenow=\"0\" aria-valuemin=\"0\" aria-valuemax=\"100\"></div>\n",
       "</div>\n"
      ]
     },
     "metadata": {},
     "output_type": "display_data"
    },
    {
     "data": {
      "text/html": [
       "<div>\n",
       "  <span style=\"float: left;\">show at cmd43.sc:1</span>\n",
       "</div>\n"
      ]
     },
     "metadata": {},
     "output_type": "display_data"
    },
    {
     "data": {
      "text/html": [
       "<div class=\"progress\">\n",
       "  <div class=\"progress-bar\" role=\"progressbar\" style=\"background-color: blue; width: 100%; word-wrap: normal; white-space: nowrap; text-align: center; color: white\" aria-valuenow=\"100\" aria-valuemin=\"0\" aria-valuemax=\"100\">\n",
       "    75 / 75\n",
       "  </div>\n",
       "  <div class=\"progress-bar\" role=\"progressbar\" style=\"background-color: red; width: 0%\" aria-valuenow=\"0\" aria-valuemin=\"0\" aria-valuemax=\"100\"></div>\n",
       "</div>\n"
      ]
     },
     "metadata": {},
     "output_type": "display_data"
    },
    {
     "name": "stdout",
     "output_type": "stream",
     "text": [
      "+--------+------------------+------------+\n",
      "|Clusters|        avg(label)|count(label)|\n",
      "+--------+------------------+------------+\n",
      "|       1|0.6525714337213128|      221919|\n",
      "|       2|0.6075754239154372|       18164|\n",
      "|       0| 0.573672595092821|        7703|\n",
      "+--------+------------------+------------+\n",
      "\n"
     ]
    }
   ],
   "source": [
    "clusters.groupBy(\"Clusters\").agg(mean(\"label\"), count(\"label\")).show()"
   ]
  },
  {
   "cell_type": "markdown",
   "metadata": {},
   "source": [
    "### Тут имеет смысл объединить 2 подхода. Строить модель только на кластере №1. Так мы будем учиться ранжировать в более узком сегменте."
   ]
  },
  {
   "cell_type": "markdown",
   "metadata": {},
   "source": [
    "_______________________________________________________________________________________________________________________"
   ]
  },
  {
   "cell_type": "markdown",
   "metadata": {},
   "source": [
    "## Выводы.\n",
    "\n",
    "### Что улучшить?\n",
    "* Группировать датафрейм с фичами не только по средним, но и поминимумам, максимум, отклонениям, чтобы получить больше информации распределения фичей внутри дня для юзера.\n",
    "* Сделать подбор гиперпараметров (тут у меня все зависало, поэтому у меня нет этого шага).\n",
    "* Попробовать другие методы отбора фичей.\n",
    "* Попробовать другие нелинейные методы (случайный лес, бустинг)\n",
    "* Попробовать другие подходы к опеределению .\n",
    "\n",
    "### Что дальше делать?\n",
    "* Большой плюс данной модели, что мы после скоринга имеем целый день для действий, в виду особенности определения таргета.\n",
    "* Планировать АБ тест. Тестировать не только на верхних бакетах по вероятности оттока.\n",
    "* Подумать о предложениях и уведомлениях пользователя, которые мы будем отправлять, с целью побуждения не выходить в отток.\n",
    "* Подумать о дополнительных \"плюшках\" для отточных пользователей, не в рамках предложений."
   ]
  },
  {
   "cell_type": "code",
   "execution_count": null,
   "metadata": {},
   "outputs": [],
   "source": []
  }
 ],
 "metadata": {
  "kernelspec": {
   "display_name": "Scala 2.12",
   "language": "scala",
   "name": "scala212"
  },
  "language_info": {
   "codemirror_mode": "text/x-scala",
   "file_extension": ".sc",
   "mimetype": "text/x-scala",
   "name": "scala",
   "nbconvert_exporter": "script",
   "version": "2.12.12"
  }
 },
 "nbformat": 4,
 "nbformat_minor": 4
}
