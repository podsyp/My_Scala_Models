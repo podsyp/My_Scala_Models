{
 "cells": [
  {
   "cell_type": "markdown",
   "metadata": {},
   "source": [
    "# Описание задач\n",
    "\n",
    "Для соревнования SNA Hackathon были собраны логи показов контента из открытых групп в новостных лентах пользователей за февраль-март 2018 года. В тестовое множество спрятаны последние полторы недели марта. Каждая запись в логе содержит информацию о том, что и кому было показано, а также о том, как отреагировал пользователь на этот контент: поставил «Класс», прокомментировал, проигнорировал или скрыл из ленты. \n",
    "\n",
    "Суть задачи в том, чтобы для каждого пользователя тестового множества отранжировать кандидатов, как можно выше поднимая тех, которые получат «класс»,.\n",
    "\n",
    "Обычно мы давали одну задачу, но в этот раз решили дать сразу три. Вам не нужно их решать все, достаточно только одну. Поскольку пользовательская лента совмещает контент разного типа, то при его ранжировании востребованы навыки из разных областей — компьютерное зрение, работа с текстами и рекомендательные системы. \n",
    "\n",
    "В рамках онлайн-этапа мы предлагаем три набора данных, в каждом из которых представлен только один из типов информации: изображение, текст или данные о разнообразных коллаборативных признаках. \n",
    "\n",
    "Только на втором этапе, когда эксперты в разных областях соберутся вместе, будет раскрыт общий датасет, позволяющий найти точки для синергии разных методов.\n",
    "После открытия чемпионата на платформе, вы увидите описание задач и получите возможность скачать необходимые для участия данные. "
   ]
  },
  {
   "cell_type": "markdown",
   "metadata": {},
   "source": [
    "# Описание данных\n",
    " \n",
    "\n",
    "Информация представлена в формате Apache Parquet, который является основным для фреймворка Spark. Для работы с этим форматом из Python мы рекомендуем воспользоваться библиотекой Apache Arrow. Для простоты понимания в репозитории на GitHub выложены бейзлайны. Пользуйтесь! \n",
    "\n",
    "В обучающем множестве данные разложены по дням, а внутри дня разделены на 6 частей по ID пользователя (один и тот же пользователь всегда попадает в ту же самую часть). Такая раскладка позволяет участникам анализировать не все данные сразу, а ограничиться определёнными днями и/или подгруппами пользователей.\n",
    "\n",
    "Обучающие наборы разбиты на три непересекающиеся группы: с текстами, с картинками и с коллаборативными признаками. В каждой группе данные содержат следующие поля:\n",
    "\n",
    "* instanceId_userId — идентификатор пользователя (анонимизированный);\n",
    "* instanceId_objectType — тип объекта;\n",
    "* instanceId_objectId — идентификатор объекта (анонимизированный);\n",
    "* feedback — массив с типами реакций пользователя (наличие в массиве токена Liked говорит о том, что объект получил «класс» от пользователя);\n",
    "* audit_clientType — тип платформы, с которой зашёл пользователь;\n",
    "* audit_timestamp — время, когда строилась лента;\n",
    "* metadata_ownerId — автор показанного объекта (анонимизированный);\n",
    "* metadata_createdAt — дата создания показанного объекта.\n",
    "\n",
    "\n",
    "Для объектов из обучающего текстового множества дополнительно предоставлены связанные с ними тексты в формате Apache Parquet:\n",
    "\n",
    "* objectId — идентификатор объекта;\n",
    "* lang — язык текста (на базе детектора языка Одноклассников);\n",
    "* text — сырой текст, связанный с объектом;\n",
    "* preprocessed — массив токенов, полученный после фильтрации пунктуации и стемминга.\n",
    "\n",
    "\n",
    "\n",
    "В данных для ранжирования по картинкам дополнительно присутствует поле-массив ImageId с MD5-хешами, связанными с объектами картинок. Тела изображений разложены по отдельным tar-файлам, в зависимости от первой буквы хеша.\n",
    "\n",
    "\n",
    "В блоке с коллаборативными признаками представлена разнообразная дополнительная информация:\n",
    "\n",
    "* audit_* — расширенная информация о контексте построения ленты;\n",
    "* metadata_* — расширенная информация о самом объекте;\n",
    "* userOwnerCounters_* — информация о предыдущих взаимодействиях пользователя и автора контента;\n",
    "* ownerUserCounters_* — информация о предыдущих взаимодействиях автора контента и пользователя;\n",
    "* membership_* — информация о членстве пользователя в группе, где опубликован контент;\n",
    "* user_* — подробная информация о пользователе;\n",
    "* auditweights_* — большое количество runtime-признаков, извлечённых текущей системой.\n",
    "Структуры тестовых наборов эквивалентны структуре обучающих множеств, но не разложены по дням и не содержат поля feedback.\n",
    "\n",
    "Оценка результата\n",
    "\n",
    "Участники чемпионата должны так отсортировать ленту, чтобы объекты с высокой вероятностью «класса» оказались наверху. Сортировка производится индивидуально для каждого пользователя, после чего формируется текст сабмита следующего вида (формат соответствует экспорту из Pandas-датафрейма с колонками типа int и int[]):\n",
    "\n",
    "* User_id_1,\"[object_id_1_1, object_id_2_2]\n",
    "* User_id_2,\"[object_id_2_1, object_id_2_2, object_id_2_3]\n",
    "\n",
    "\n",
    "В сабмите должна присутствовать строчка для каждого пользователя тестового набора, а строки отсортированы по возрастанию ID. Объекты для каждого пользователя должны быть отсортированы по убыванию релевантности.  При оценке сабмита для каждого пользователя будет посчитан его личный ROC-AUC, после чего посчитано среднее по всем пользователям и умножено на 100. "
   ]
  },
  {
   "cell_type": "markdown",
   "metadata": {},
   "source": [
    "# Some imports"
   ]
  },
  {
   "cell_type": "code",
   "execution_count": 1,
   "metadata": {},
   "outputs": [
    {
     "name": "stdout",
     "output_type": "stream",
     "text": [
      "Loading spark-stubs\n",
      "Getting spark JARs\n",
      "Creating SparkSession\n"
     ]
    },
    {
     "name": "stderr",
     "output_type": "stream",
     "text": [
      "Using Spark's default log4j profile: org/apache/spark/log4j-defaults.properties\n"
     ]
    },
    {
     "data": {
      "text/html": [
       "<a target=\"_blank\" href=\"http://3eb5039933e1:4040\">Spark UI</a>"
      ]
     },
     "metadata": {},
     "output_type": "display_data"
    },
    {
     "data": {
      "text/plain": [
       "\u001b[32mimport \u001b[39m\u001b[36m$ivy.$                                  \n",
       "\n",
       "\u001b[39m\n",
       "\u001b[32mimport \u001b[39m\u001b[36morg.apache.log4j.{Level, Logger}\n",
       "\u001b[39m\n",
       "\u001b[32mimport \u001b[39m\u001b[36morg.apache.spark.sql._\n",
       "\u001b[39m\n",
       "\u001b[32mimport \u001b[39m\u001b[36morg.apache.spark.sql.functions._\n",
       "\n",
       "\u001b[39m\n",
       "\u001b[36mspark\u001b[39m: \u001b[32mSparkSession\u001b[39m = org.apache.spark.sql.SparkSession@2451efa6"
      ]
     },
     "execution_count": 1,
     "metadata": {},
     "output_type": "execute_result"
    }
   ],
   "source": [
    "import $ivy.`org.apache.spark::spark-sql:2.4.5`\n",
    "\n",
    "import org.apache.log4j.{Level, Logger}\n",
    "Logger.getLogger(\"org\").setLevel(Level.OFF)\n",
    "\n",
    "import org.apache.spark.sql._\n",
    "import org.apache.spark.sql.functions._\n",
    "\n",
    "val spark = NotebookSparkSession\n",
    "    .builder()\n",
    "    .master(\"local[*]\")\n",
    "    .getOrCreate()"
   ]
  },
  {
   "cell_type": "code",
   "execution_count": 2,
   "metadata": {},
   "outputs": [
    {
     "data": {
      "text/plain": [
       "\u001b[32mimport \u001b[39m\u001b[36m$ivy.$                                      \n",
       "\u001b[39m\n",
       "\u001b[32mimport \u001b[39m\u001b[36mplotly._, plotly.element._, plotly.layout._, plotly.Almond._\n",
       "\n",
       "\u001b[39m"
      ]
     },
     "execution_count": 2,
     "metadata": {},
     "output_type": "execute_result"
    }
   ],
   "source": [
    "import $ivy.`org.plotly-scala::plotly-almond:0.7.6`\n",
    "import plotly._, plotly.element._, plotly.layout._, plotly.Almond._\n",
    "\n",
    "repl.pprinter() = repl.pprinter().copy(defaultHeight = 3)"
   ]
  },
  {
   "cell_type": "code",
   "execution_count": 3,
   "metadata": {},
   "outputs": [
    {
     "data": {
      "text/plain": [
       "defined \u001b[32mfunction\u001b[39m \u001b[36msc\u001b[39m\n",
       "\u001b[36msqlContext\u001b[39m: \u001b[32mSQLContext\u001b[39m = org.apache.spark.sql.SQLContext@289048e0"
      ]
     },
     "execution_count": 3,
     "metadata": {},
     "output_type": "execute_result"
    }
   ],
   "source": [
    "def sc = spark.sparkContext\n",
    "val sqlContext = new org.apache.spark.sql.SQLContext(sc)"
   ]
  },
  {
   "cell_type": "code",
   "execution_count": 4,
   "metadata": {},
   "outputs": [
    {
     "data": {
      "text/plain": [
       "\u001b[32mimport \u001b[39m\u001b[36mspark.implicits._\n",
       "// val df = sqlContext.read.parquet(\"data/test/part-00000-6d949390-48b0-4104-a477-39e306b726c5-c000.gz.parquet\")\n",
       "// df.count()\u001b[39m"
      ]
     },
     "execution_count": 4,
     "metadata": {},
     "output_type": "execute_result"
    }
   ],
   "source": [
    "import spark.implicits._\n",
    "// val df = sqlContext.read.parquet(\"data/test/part-00000-6d949390-48b0-4104-a477-39e306b726c5-c000.gz.parquet\")\n",
    "// df.count()"
   ]
  },
  {
   "cell_type": "code",
   "execution_count": 5,
   "metadata": {},
   "outputs": [
    {
     "data": {
      "text/plain": [
       "\u001b[32mimport \u001b[39m\u001b[36m$ivy.$                                    \n",
       "\n",
       "\u001b[39m\n",
       "\u001b[32mimport \u001b[39m\u001b[36morg.apache.spark.ml.linalg.{Matrix, Vectors}\n",
       "\u001b[39m\n",
       "\u001b[32mimport \u001b[39m\u001b[36morg.apache.spark.ml.stat.Correlation\n",
       "\u001b[39m\n",
       "\u001b[32mimport \u001b[39m\u001b[36morg.apache.spark.ml.feature.VectorAssembler\n",
       "\u001b[39m\n",
       "\u001b[32mimport \u001b[39m\u001b[36morg.apache.spark.ml.classification.LogisticRegression\u001b[39m"
      ]
     },
     "execution_count": 5,
     "metadata": {},
     "output_type": "execute_result"
    }
   ],
   "source": [
    "import $ivy.`org.apache.spark::spark-mllib:2.4.5`\n",
    "\n",
    "import org.apache.spark.ml.linalg.{Matrix, Vectors}\n",
    "import org.apache.spark.ml.stat.Correlation\n",
    "import org.apache.spark.ml.feature.VectorAssembler\n",
    "import org.apache.spark.ml.classification.LogisticRegression"
   ]
  },
  {
   "cell_type": "code",
   "execution_count": 6,
   "metadata": {},
   "outputs": [
    {
     "data": {
      "text/html": [
       "<script>\n",
       "var comm = Jupyter.notebook.kernel.comm_manager.new_comm('cancel-stage-a0b284b1-47b2-48e6-a99c-97c879dec6be', {});\n",
       "\n",
       "function cancelStage(stageId) {\n",
       "  console.log('Cancelling stage ' + stageId);\n",
       "  comm.send({ 'stageId': stageId });\n",
       "}\n",
       "</script>\n",
       "          "
      ]
     },
     "metadata": {},
     "output_type": "display_data"
    },
    {
     "data": {
      "text/html": [
       "<div>\n",
       "  <span style=\"float: left;\">parquet at cmd5.sc:1</span>\n",
       "</div>\n"
      ]
     },
     "metadata": {},
     "output_type": "display_data"
    },
    {
     "data": {
      "text/html": [
       "<div class=\"progress\">\n",
       "  <div class=\"progress-bar\" role=\"progressbar\" style=\"background-color: blue; width: 100%; word-wrap: normal; white-space: nowrap; text-align: center; color: white\" aria-valuenow=\"100\" aria-valuemin=\"0\" aria-valuemax=\"100\">\n",
       "    48 / 48\n",
       "  </div>\n",
       "  <div class=\"progress-bar\" role=\"progressbar\" style=\"background-color: red; width: 0%\" aria-valuenow=\"0\" aria-valuemin=\"0\" aria-valuemax=\"100\"></div>\n",
       "</div>\n"
      ]
     },
     "metadata": {},
     "output_type": "display_data"
    },
    {
     "data": {
      "text/html": [
       "<div>\n",
       "  <span style=\"float: left;\">parquet at cmd5.sc:1</span>\n",
       "</div>\n"
      ]
     },
     "metadata": {},
     "output_type": "display_data"
    },
    {
     "data": {
      "text/html": [
       "<div class=\"progress\">\n",
       "  <div class=\"progress-bar\" role=\"progressbar\" style=\"background-color: blue; width: 100%; word-wrap: normal; white-space: nowrap; text-align: center; color: white\" aria-valuenow=\"100\" aria-valuemin=\"0\" aria-valuemax=\"100\">\n",
       "    1 / 1\n",
       "  </div>\n",
       "  <div class=\"progress-bar\" role=\"progressbar\" style=\"background-color: red; width: 0%\" aria-valuenow=\"0\" aria-valuemin=\"0\" aria-valuemax=\"100\"></div>\n",
       "</div>\n"
      ]
     },
     "metadata": {},
     "output_type": "display_data"
    },
    {
     "data": {
      "text/plain": [
       "\u001b[36mdf\u001b[39m: \u001b[32mDataFrame\u001b[39m = [instanceId_userId: int, instanceId_objectType: string ... 167 more fields]"
      ]
     },
     "execution_count": 6,
     "metadata": {},
     "output_type": "execute_result"
    }
   ],
   "source": [
    "val df = sqlContext.read.parquet(\"train/\")"
   ]
  },
  {
   "cell_type": "code",
   "execution_count": 7,
   "metadata": {},
   "outputs": [
    {
     "name": "stdout",
     "output_type": "stream",
     "text": [
      "root\n",
      " |-- instanceId_userId: integer (nullable = true)\n",
      " |-- instanceId_objectType: string (nullable = true)\n",
      " |-- instanceId_objectId: integer (nullable = true)\n",
      " |-- audit_pos: long (nullable = true)\n",
      " |-- audit_clientType: string (nullable = true)\n",
      " |-- audit_timestamp: long (nullable = true)\n",
      " |-- audit_timePassed: long (nullable = true)\n",
      " |-- audit_experiment: string (nullable = true)\n",
      " |-- audit_resourceType: long (nullable = true)\n",
      " |-- metadata_ownerId: integer (nullable = true)\n",
      " |-- metadata_ownerType: string (nullable = true)\n",
      " |-- metadata_createdAt: long (nullable = true)\n",
      " |-- metadata_authorId: integer (nullable = true)\n",
      " |-- metadata_applicationId: long (nullable = true)\n",
      " |-- metadata_numCompanions: integer (nullable = true)\n",
      " |-- metadata_numPhotos: integer (nullable = true)\n",
      " |-- metadata_numPolls: integer (nullable = true)\n",
      " |-- metadata_numSymbols: integer (nullable = true)\n",
      " |-- metadata_numTokens: integer (nullable = true)\n",
      " |-- metadata_numVideos: integer (nullable = true)\n",
      " |-- metadata_platform: string (nullable = true)\n",
      " |-- metadata_totalVideoLength: integer (nullable = true)\n",
      " |-- metadata_options: array (nullable = true)\n",
      " |    |-- element: string (containsNull = true)\n",
      " |-- relationsMask: long (nullable = true)\n",
      " |-- userOwnerCounters_USER_FEED_REMOVE: double (nullable = true)\n",
      " |-- userOwnerCounters_USER_PROFILE_VIEW: double (nullable = true)\n",
      " |-- userOwnerCounters_VOTE_POLL: double (nullable = true)\n",
      " |-- userOwnerCounters_USER_SEND_MESSAGE: double (nullable = true)\n",
      " |-- userOwnerCounters_USER_DELETE_MESSAGE: double (nullable = true)\n",
      " |-- userOwnerCounters_USER_INTERNAL_LIKE: double (nullable = true)\n",
      " |-- userOwnerCounters_USER_INTERNAL_UNLIKE: double (nullable = true)\n",
      " |-- userOwnerCounters_USER_STATUS_COMMENT_CREATE: double (nullable = true)\n",
      " |-- userOwnerCounters_PHOTO_COMMENT_CREATE: double (nullable = true)\n",
      " |-- userOwnerCounters_MOVIE_COMMENT_CREATE: double (nullable = true)\n",
      " |-- userOwnerCounters_USER_PHOTO_ALBUM_COMMENT_CREATE: double (nullable = true)\n",
      " |-- userOwnerCounters_COMMENT_INTERNAL_LIKE: double (nullable = true)\n",
      " |-- userOwnerCounters_USER_FORUM_MESSAGE_CREATE: double (nullable = true)\n",
      " |-- userOwnerCounters_PHOTO_MARK_CREATE: double (nullable = true)\n",
      " |-- userOwnerCounters_PHOTO_VIEW: double (nullable = true)\n",
      " |-- userOwnerCounters_PHOTO_PIN_BATCH_CREATE: double (nullable = true)\n",
      " |-- userOwnerCounters_PHOTO_PIN_UPDATE: double (nullable = true)\n",
      " |-- userOwnerCounters_USER_PRESENT_SEND: double (nullable = true)\n",
      " |-- userOwnerCounters_UNKNOWN: double (nullable = true)\n",
      " |-- userOwnerCounters_CREATE_TOPIC: double (nullable = true)\n",
      " |-- userOwnerCounters_CREATE_IMAGE: double (nullable = true)\n",
      " |-- userOwnerCounters_CREATE_MOVIE: double (nullable = true)\n",
      " |-- userOwnerCounters_CREATE_COMMENT: double (nullable = true)\n",
      " |-- userOwnerCounters_CREATE_LIKE: double (nullable = true)\n",
      " |-- userOwnerCounters_TEXT: double (nullable = true)\n",
      " |-- userOwnerCounters_IMAGE: double (nullable = true)\n",
      " |-- userOwnerCounters_VIDEO: double (nullable = true)\n",
      " |-- ownerUserCounters_USER_FEED_REMOVE: double (nullable = true)\n",
      " |-- ownerUserCounters_USER_PROFILE_VIEW: double (nullable = true)\n",
      " |-- ownerUserCounters_VOTE_POLL: double (nullable = true)\n",
      " |-- ownerUserCounters_USER_SEND_MESSAGE: double (nullable = true)\n",
      " |-- ownerUserCounters_USER_DELETE_MESSAGE: double (nullable = true)\n",
      " |-- ownerUserCounters_USER_INTERNAL_LIKE: double (nullable = true)\n",
      " |-- ownerUserCounters_USER_INTERNAL_UNLIKE: double (nullable = true)\n",
      " |-- ownerUserCounters_USER_STATUS_COMMENT_CREATE: double (nullable = true)\n",
      " |-- ownerUserCounters_PHOTO_COMMENT_CREATE: double (nullable = true)\n",
      " |-- ownerUserCounters_MOVIE_COMMENT_CREATE: double (nullable = true)\n",
      " |-- ownerUserCounters_USER_PHOTO_ALBUM_COMMENT_CREATE: double (nullable = true)\n",
      " |-- ownerUserCounters_COMMENT_INTERNAL_LIKE: double (nullable = true)\n",
      " |-- ownerUserCounters_USER_FORUM_MESSAGE_CREATE: double (nullable = true)\n",
      " |-- ownerUserCounters_PHOTO_MARK_CREATE: double (nullable = true)\n",
      " |-- ownerUserCounters_PHOTO_VIEW: double (nullable = true)\n",
      " |-- ownerUserCounters_PHOTO_PIN_BATCH_CREATE: double (nullable = true)\n",
      " |-- ownerUserCounters_PHOTO_PIN_UPDATE: double (nullable = true)\n",
      " |-- ownerUserCounters_USER_PRESENT_SEND: double (nullable = true)\n",
      " |-- ownerUserCounters_UNKNOWN: double (nullable = true)\n",
      " |-- ownerUserCounters_CREATE_TOPIC: double (nullable = true)\n",
      " |-- ownerUserCounters_CREATE_IMAGE: double (nullable = true)\n",
      " |-- ownerUserCounters_CREATE_MOVIE: double (nullable = true)\n",
      " |-- ownerUserCounters_CREATE_COMMENT: double (nullable = true)\n",
      " |-- ownerUserCounters_CREATE_LIKE: double (nullable = true)\n",
      " |-- ownerUserCounters_TEXT: double (nullable = true)\n",
      " |-- ownerUserCounters_IMAGE: double (nullable = true)\n",
      " |-- ownerUserCounters_VIDEO: double (nullable = true)\n",
      " |-- membership_status: string (nullable = true)\n",
      " |-- membership_statusUpdateDate: long (nullable = true)\n",
      " |-- membership_joinDate: long (nullable = true)\n",
      " |-- membership_joinRequestDate: long (nullable = true)\n",
      " |-- owner_create_date: long (nullable = true)\n",
      " |-- owner_birth_date: integer (nullable = true)\n",
      " |-- owner_gender: integer (nullable = true)\n",
      " |-- owner_status: integer (nullable = true)\n",
      " |-- owner_ID_country: long (nullable = true)\n",
      " |-- owner_ID_Location: integer (nullable = true)\n",
      " |-- owner_is_active: integer (nullable = true)\n",
      " |-- owner_is_deleted: integer (nullable = true)\n",
      " |-- owner_is_abused: integer (nullable = true)\n",
      " |-- owner_is_activated: integer (nullable = true)\n",
      " |-- owner_change_datime: long (nullable = true)\n",
      " |-- owner_is_semiactivated: integer (nullable = true)\n",
      " |-- owner_region: integer (nullable = true)\n",
      " |-- user_create_date: long (nullable = true)\n",
      " |-- user_birth_date: integer (nullable = true)\n",
      " |-- user_gender: integer (nullable = true)\n",
      " |-- user_status: integer (nullable = true)\n",
      " |-- user_ID_country: long (nullable = true)\n",
      " |-- user_ID_Location: integer (nullable = true)\n",
      " |-- user_is_active: integer (nullable = true)\n",
      " |-- user_is_deleted: integer (nullable = true)\n",
      " |-- user_is_abused: integer (nullable = true)\n",
      " |-- user_is_activated: integer (nullable = true)\n",
      " |-- user_change_datime: long (nullable = true)\n",
      " |-- user_is_semiactivated: integer (nullable = true)\n",
      " |-- user_region: integer (nullable = true)\n",
      " |-- feedback: array (nullable = true)\n",
      " |    |-- element: string (containsNull = true)\n",
      " |-- objectId: integer (nullable = true)\n",
      " |-- auditweights_ageMs: double (nullable = true)\n",
      " |-- auditweights_closed: double (nullable = true)\n",
      " |-- auditweights_ctr_gender: double (nullable = true)\n",
      " |-- auditweights_ctr_high: double (nullable = true)\n",
      " |-- auditweights_ctr_negative: double (nullable = true)\n",
      " |-- auditweights_dailyRecency: double (nullable = true)\n",
      " |-- auditweights_feedOwner_RECOMMENDED_GROUP: double (nullable = true)\n",
      " |-- auditweights_feedStats: double (nullable = true)\n",
      " |-- auditweights_friendCommentFeeds: double (nullable = true)\n",
      " |-- auditweights_friendCommenters: double (nullable = true)\n",
      " |-- auditweights_friendLikes: double (nullable = true)\n",
      " |-- auditweights_friendLikes_actors: double (nullable = true)\n",
      " |-- auditweights_hasDetectedText: double (nullable = true)\n",
      " |-- auditweights_hasText: double (nullable = true)\n",
      " |-- auditweights_isPymk: double (nullable = true)\n",
      " |-- auditweights_isRandom: double (nullable = true)\n",
      " |-- auditweights_likersFeedStats_hyper: double (nullable = true)\n",
      " |-- auditweights_likersSvd_prelaunch_hyper: double (nullable = true)\n",
      " |-- auditweights_matrix: double (nullable = true)\n",
      " |-- auditweights_notOriginalPhoto: double (nullable = true)\n",
      " |-- auditweights_numDislikes: double (nullable = true)\n",
      " |-- auditweights_numLikes: double (nullable = true)\n",
      " |-- auditweights_numShows: double (nullable = true)\n",
      " |-- auditweights_onlineVideo: double (nullable = true)\n",
      " |-- auditweights_partAge: double (nullable = true)\n",
      " |-- auditweights_partCtr: double (nullable = true)\n",
      " |-- auditweights_partSvd: double (nullable = true)\n",
      " |-- auditweights_processedVideo: double (nullable = true)\n",
      " |-- auditweights_relationMasks: double (nullable = true)\n",
      " |-- auditweights_source_LIVE_TOP: double (nullable = true)\n",
      " |-- auditweights_source_MOVIE_TOP: double (nullable = true)\n",
      " |-- auditweights_svd_prelaunch: double (nullable = true)\n",
      " |-- auditweights_svd_spark: double (nullable = true)\n",
      " |-- auditweights_userAge: double (nullable = true)\n",
      " |-- auditweights_userOwner_CREATE_COMMENT: double (nullable = true)\n",
      " |-- auditweights_userOwner_CREATE_IMAGE: double (nullable = true)\n",
      " |-- auditweights_userOwner_CREATE_LIKE: double (nullable = true)\n",
      " |-- auditweights_userOwner_IMAGE: double (nullable = true)\n",
      " |-- auditweights_userOwner_MOVIE_COMMENT_CREATE: double (nullable = true)\n",
      " |-- auditweights_userOwner_PHOTO_COMMENT_CREATE: double (nullable = true)\n",
      " |-- auditweights_userOwner_PHOTO_MARK_CREATE: double (nullable = true)\n",
      " |-- auditweights_userOwner_PHOTO_VIEW: double (nullable = true)\n",
      " |-- auditweights_userOwner_TEXT: double (nullable = true)\n",
      " |-- auditweights_userOwner_UNKNOWN: double (nullable = true)\n",
      " |-- auditweights_userOwner_USER_DELETE_MESSAGE: double (nullable = true)\n",
      " |-- auditweights_userOwner_USER_FEED_REMOVE: double (nullable = true)\n",
      " |-- auditweights_userOwner_USER_FORUM_MESSAGE_CREATE: double (nullable = true)\n",
      " |-- auditweights_userOwner_USER_INTERNAL_LIKE: double (nullable = true)\n",
      " |-- auditweights_userOwner_USER_INTERNAL_UNLIKE: double (nullable = true)\n",
      " |-- auditweights_userOwner_USER_PRESENT_SEND: double (nullable = true)\n",
      " |-- auditweights_userOwner_USER_PROFILE_VIEW: double (nullable = true)\n",
      " |-- auditweights_userOwner_USER_SEND_MESSAGE: double (nullable = true)\n",
      " |-- auditweights_userOwner_USER_STATUS_COMMENT_CREATE: double (nullable = true)\n",
      " |-- auditweights_userOwner_VIDEO: double (nullable = true)\n",
      " |-- auditweights_userOwner_VOTE_POLL: double (nullable = true)\n",
      " |-- auditweights_x_ActorsRelations: long (nullable = true)\n",
      " |-- auditweights_likersSvd_spark_hyper: double (nullable = true)\n",
      " |-- auditweights_source_PROMO: double (nullable = true)\n",
      " |-- date: date (nullable = true)\n",
      "\n"
     ]
    }
   ],
   "source": [
    "df.printSchema"
   ]
  },
  {
   "cell_type": "markdown",
   "metadata": {},
   "source": [
    "# Get info about dataframe"
   ]
  },
  {
   "cell_type": "code",
   "execution_count": 8,
   "metadata": {},
   "outputs": [
    {
     "data": {
      "text/html": [
       "<div>\n",
       "  <span style=\"float: left;\">count at cmd7.sc:1</span>\n",
       "</div>\n"
      ]
     },
     "metadata": {},
     "output_type": "display_data"
    },
    {
     "data": {
      "text/html": [
       "<div class=\"progress\">\n",
       "  <div class=\"progress-bar\" role=\"progressbar\" style=\"background-color: blue; width: 100%; word-wrap: normal; white-space: nowrap; text-align: center; color: white\" aria-valuenow=\"100\" aria-valuemin=\"0\" aria-valuemax=\"100\">\n",
       "    28 / 28\n",
       "  </div>\n",
       "  <div class=\"progress-bar\" role=\"progressbar\" style=\"background-color: red; width: 0%\" aria-valuenow=\"0\" aria-valuemin=\"0\" aria-valuemax=\"100\"></div>\n",
       "</div>\n"
      ]
     },
     "metadata": {},
     "output_type": "display_data"
    },
    {
     "data": {
      "text/html": [
       "<div>\n",
       "  <span style=\"float: left;\">count at cmd7.sc:1</span>\n",
       "</div>\n"
      ]
     },
     "metadata": {},
     "output_type": "display_data"
    },
    {
     "data": {
      "text/html": [
       "<div class=\"progress\">\n",
       "  <div class=\"progress-bar\" role=\"progressbar\" style=\"background-color: blue; width: 100%; word-wrap: normal; white-space: nowrap; text-align: center; color: white\" aria-valuenow=\"100\" aria-valuemin=\"0\" aria-valuemax=\"100\">\n",
       "    1 / 1\n",
       "  </div>\n",
       "  <div class=\"progress-bar\" role=\"progressbar\" style=\"background-color: red; width: 0%\" aria-valuenow=\"0\" aria-valuemin=\"0\" aria-valuemax=\"100\"></div>\n",
       "</div>\n"
      ]
     },
     "metadata": {},
     "output_type": "display_data"
    },
    {
     "data": {
      "text/plain": [
       "\u001b[36mn_rows\u001b[39m: \u001b[32mLong\u001b[39m = \u001b[32m18286575L\u001b[39m"
      ]
     },
     "execution_count": 8,
     "metadata": {},
     "output_type": "execute_result"
    }
   ],
   "source": [
    "val n_rows = df.count()"
   ]
  },
  {
   "cell_type": "code",
   "execution_count": 9,
   "metadata": {},
   "outputs": [
    {
     "data": {
      "text/plain": [
       "\u001b[36mn_columns\u001b[39m: \u001b[32mInt\u001b[39m = \u001b[32m169\u001b[39m"
      ]
     },
     "execution_count": 9,
     "metadata": {},
     "output_type": "execute_result"
    }
   ],
   "source": [
    "val n_columns = df.columns.length"
   ]
  },
  {
   "cell_type": "code",
   "execution_count": 10,
   "metadata": {},
   "outputs": [
    {
     "data": {
      "text/html": [
       "<div>\n",
       "  <span style=\"float: left;\">describe at cmd9.sc:1</span>\n",
       "</div>\n"
      ]
     },
     "metadata": {},
     "output_type": "display_data"
    },
    {
     "data": {
      "text/html": [
       "<div class=\"progress\">\n",
       "  <div class=\"progress-bar\" role=\"progressbar\" style=\"background-color: blue; width: 100%; word-wrap: normal; white-space: nowrap; text-align: center; color: white\" aria-valuenow=\"100\" aria-valuemin=\"0\" aria-valuemax=\"100\">\n",
       "    28 / 28\n",
       "  </div>\n",
       "  <div class=\"progress-bar\" role=\"progressbar\" style=\"background-color: red; width: 0%\" aria-valuenow=\"0\" aria-valuemin=\"0\" aria-valuemax=\"100\"></div>\n",
       "</div>\n"
      ]
     },
     "metadata": {},
     "output_type": "display_data"
    },
    {
     "data": {
      "text/html": [
       "<div>\n",
       "  <span style=\"float: left;\">describe at cmd9.sc:1</span>\n",
       "</div>\n"
      ]
     },
     "metadata": {},
     "output_type": "display_data"
    },
    {
     "data": {
      "text/html": [
       "<div class=\"progress\">\n",
       "  <div class=\"progress-bar\" role=\"progressbar\" style=\"background-color: blue; width: 100%; word-wrap: normal; white-space: nowrap; text-align: center; color: white\" aria-valuenow=\"100\" aria-valuemin=\"0\" aria-valuemax=\"100\">\n",
       "    1 / 1\n",
       "  </div>\n",
       "  <div class=\"progress-bar\" role=\"progressbar\" style=\"background-color: red; width: 0%\" aria-valuenow=\"0\" aria-valuemin=\"0\" aria-valuemax=\"100\"></div>\n",
       "</div>\n"
      ]
     },
     "metadata": {},
     "output_type": "display_data"
    },
    {
     "name": "stdout",
     "output_type": "stream",
     "text": [
      "+-------+-----------------+\n",
      "|summary|        audit_pos|\n",
      "+-------+-----------------+\n",
      "|  count|         18286575|\n",
      "|   mean|11.39937626373446|\n",
      "| stddev|16.76051641364607|\n",
      "|    min|                0|\n",
      "|    max|              489|\n",
      "+-------+-----------------+\n",
      "\n"
     ]
    }
   ],
   "source": [
    "df.select(\"audit_pos\").describe().show()"
   ]
  },
  {
   "cell_type": "code",
   "execution_count": 11,
   "metadata": {},
   "outputs": [
    {
     "data": {
      "text/html": [
       "<div>\n",
       "  <span style=\"float: left;\">head at cmd10.sc:1</span>\n",
       "</div>\n"
      ]
     },
     "metadata": {},
     "output_type": "display_data"
    },
    {
     "data": {
      "text/html": [
       "<div class=\"progress\">\n",
       "  <div class=\"progress-bar\" role=\"progressbar\" style=\"background-color: blue; width: 100%; word-wrap: normal; white-space: nowrap; text-align: center; color: white\" aria-valuenow=\"100\" aria-valuemin=\"0\" aria-valuemax=\"100\">\n",
       "    1 / 1\n",
       "  </div>\n",
       "  <div class=\"progress-bar\" role=\"progressbar\" style=\"background-color: red; width: 0%\" aria-valuenow=\"0\" aria-valuemin=\"0\" aria-valuemax=\"100\"></div>\n",
       "</div>\n"
      ]
     },
     "metadata": {},
     "output_type": "display_data"
    },
    {
     "data": {
      "text/plain": [
       "\u001b[36mres10\u001b[39m: \u001b[32mArray\u001b[39m[\u001b[32mRow\u001b[39m] = \u001b[33mArray\u001b[39m(\n",
       "  [108,Post,18452434,0,MOB,1520194086477,10184811,XPRM-5386_G1,8,13680,GROUP_OPE..."
      ]
     },
     "execution_count": 11,
     "metadata": {},
     "output_type": "execute_result"
    }
   ],
   "source": [
    "df.head(5)"
   ]
  },
  {
   "cell_type": "code",
   "execution_count": 12,
   "metadata": {},
   "outputs": [
    {
     "name": "stdout",
     "output_type": "stream",
     "text": [
      "instanceId_userId\n",
      "instanceId_objectType\n",
      "instanceId_objectId\n",
      "audit_pos\n",
      "audit_clientType\n",
      "audit_timestamp\n",
      "audit_timePassed\n",
      "audit_experiment\n",
      "audit_resourceType\n",
      "metadata_ownerId\n",
      "metadata_ownerType\n",
      "metadata_createdAt\n",
      "metadata_authorId\n",
      "metadata_applicationId\n",
      "metadata_numCompanions\n",
      "metadata_numPhotos\n",
      "metadata_numPolls\n",
      "metadata_numSymbols\n",
      "metadata_numTokens\n",
      "metadata_numVideos\n",
      "metadata_platform\n",
      "metadata_totalVideoLength\n",
      "metadata_options\n",
      "relationsMask\n",
      "userOwnerCounters_USER_FEED_REMOVE\n",
      "userOwnerCounters_USER_PROFILE_VIEW\n",
      "userOwnerCounters_VOTE_POLL\n",
      "userOwnerCounters_USER_SEND_MESSAGE\n",
      "userOwnerCounters_USER_DELETE_MESSAGE\n",
      "userOwnerCounters_USER_INTERNAL_LIKE\n",
      "userOwnerCounters_USER_INTERNAL_UNLIKE\n",
      "userOwnerCounters_USER_STATUS_COMMENT_CREATE\n",
      "userOwnerCounters_PHOTO_COMMENT_CREATE\n",
      "userOwnerCounters_MOVIE_COMMENT_CREATE\n",
      "userOwnerCounters_USER_PHOTO_ALBUM_COMMENT_CREATE\n",
      "userOwnerCounters_COMMENT_INTERNAL_LIKE\n",
      "userOwnerCounters_USER_FORUM_MESSAGE_CREATE\n",
      "userOwnerCounters_PHOTO_MARK_CREATE\n",
      "userOwnerCounters_PHOTO_VIEW\n",
      "userOwnerCounters_PHOTO_PIN_BATCH_CREATE\n",
      "userOwnerCounters_PHOTO_PIN_UPDATE\n",
      "userOwnerCounters_USER_PRESENT_SEND\n",
      "userOwnerCounters_UNKNOWN\n",
      "userOwnerCounters_CREATE_TOPIC\n",
      "userOwnerCounters_CREATE_IMAGE\n",
      "userOwnerCounters_CREATE_MOVIE\n",
      "userOwnerCounters_CREATE_COMMENT\n",
      "userOwnerCounters_CREATE_LIKE\n",
      "userOwnerCounters_TEXT\n",
      "userOwnerCounters_IMAGE\n",
      "userOwnerCounters_VIDEO\n",
      "ownerUserCounters_USER_FEED_REMOVE\n",
      "ownerUserCounters_USER_PROFILE_VIEW\n",
      "ownerUserCounters_VOTE_POLL\n",
      "ownerUserCounters_USER_SEND_MESSAGE\n",
      "ownerUserCounters_USER_DELETE_MESSAGE\n",
      "ownerUserCounters_USER_INTERNAL_LIKE\n",
      "ownerUserCounters_USER_INTERNAL_UNLIKE\n",
      "ownerUserCounters_USER_STATUS_COMMENT_CREATE\n",
      "ownerUserCounters_PHOTO_COMMENT_CREATE\n",
      "ownerUserCounters_MOVIE_COMMENT_CREATE\n",
      "ownerUserCounters_USER_PHOTO_ALBUM_COMMENT_CREATE\n",
      "ownerUserCounters_COMMENT_INTERNAL_LIKE\n",
      "ownerUserCounters_USER_FORUM_MESSAGE_CREATE\n",
      "ownerUserCounters_PHOTO_MARK_CREATE\n",
      "ownerUserCounters_PHOTO_VIEW\n",
      "ownerUserCounters_PHOTO_PIN_BATCH_CREATE\n",
      "ownerUserCounters_PHOTO_PIN_UPDATE\n",
      "ownerUserCounters_USER_PRESENT_SEND\n",
      "ownerUserCounters_UNKNOWN\n",
      "ownerUserCounters_CREATE_TOPIC\n",
      "ownerUserCounters_CREATE_IMAGE\n",
      "ownerUserCounters_CREATE_MOVIE\n",
      "ownerUserCounters_CREATE_COMMENT\n",
      "ownerUserCounters_CREATE_LIKE\n",
      "ownerUserCounters_TEXT\n",
      "ownerUserCounters_IMAGE\n",
      "ownerUserCounters_VIDEO\n",
      "membership_status\n",
      "membership_statusUpdateDate\n",
      "membership_joinDate\n",
      "membership_joinRequestDate\n",
      "owner_create_date\n",
      "owner_birth_date\n",
      "owner_gender\n",
      "owner_status\n",
      "owner_ID_country\n",
      "owner_ID_Location\n",
      "owner_is_active\n",
      "owner_is_deleted\n",
      "owner_is_abused\n",
      "owner_is_activated\n",
      "owner_change_datime\n",
      "owner_is_semiactivated\n",
      "owner_region\n",
      "user_create_date\n",
      "user_birth_date\n",
      "user_gender\n",
      "user_status\n",
      "user_ID_country\n",
      "user_ID_Location\n",
      "user_is_active\n",
      "user_is_deleted\n",
      "user_is_abused\n",
      "user_is_activated\n",
      "user_change_datime\n",
      "user_is_semiactivated\n",
      "user_region\n",
      "feedback\n",
      "objectId\n",
      "auditweights_ageMs\n",
      "auditweights_closed\n",
      "auditweights_ctr_gender\n",
      "auditweights_ctr_high\n",
      "auditweights_ctr_negative\n",
      "auditweights_dailyRecency\n",
      "auditweights_feedOwner_RECOMMENDED_GROUP\n",
      "auditweights_feedStats\n",
      "auditweights_friendCommentFeeds\n",
      "auditweights_friendCommenters\n",
      "auditweights_friendLikes\n",
      "auditweights_friendLikes_actors\n",
      "auditweights_hasDetectedText\n",
      "auditweights_hasText\n",
      "auditweights_isPymk\n",
      "auditweights_isRandom\n",
      "auditweights_likersFeedStats_hyper\n",
      "auditweights_likersSvd_prelaunch_hyper\n",
      "auditweights_matrix\n",
      "auditweights_notOriginalPhoto\n",
      "auditweights_numDislikes\n",
      "auditweights_numLikes\n",
      "auditweights_numShows\n",
      "auditweights_onlineVideo\n",
      "auditweights_partAge\n",
      "auditweights_partCtr\n",
      "auditweights_partSvd\n",
      "auditweights_processedVideo\n",
      "auditweights_relationMasks\n",
      "auditweights_source_LIVE_TOP\n",
      "auditweights_source_MOVIE_TOP\n",
      "auditweights_svd_prelaunch\n",
      "auditweights_svd_spark\n",
      "auditweights_userAge\n",
      "auditweights_userOwner_CREATE_COMMENT\n",
      "auditweights_userOwner_CREATE_IMAGE\n",
      "auditweights_userOwner_CREATE_LIKE\n",
      "auditweights_userOwner_IMAGE\n",
      "auditweights_userOwner_MOVIE_COMMENT_CREATE\n",
      "auditweights_userOwner_PHOTO_COMMENT_CREATE\n",
      "auditweights_userOwner_PHOTO_MARK_CREATE\n",
      "auditweights_userOwner_PHOTO_VIEW\n",
      "auditweights_userOwner_TEXT\n",
      "auditweights_userOwner_UNKNOWN\n",
      "auditweights_userOwner_USER_DELETE_MESSAGE\n",
      "auditweights_userOwner_USER_FEED_REMOVE\n",
      "auditweights_userOwner_USER_FORUM_MESSAGE_CREATE\n",
      "auditweights_userOwner_USER_INTERNAL_LIKE\n",
      "auditweights_userOwner_USER_INTERNAL_UNLIKE\n",
      "auditweights_userOwner_USER_PRESENT_SEND\n",
      "auditweights_userOwner_USER_PROFILE_VIEW\n",
      "auditweights_userOwner_USER_SEND_MESSAGE\n",
      "auditweights_userOwner_USER_STATUS_COMMENT_CREATE\n",
      "auditweights_userOwner_VIDEO\n",
      "auditweights_userOwner_VOTE_POLL\n",
      "auditweights_x_ActorsRelations\n",
      "auditweights_likersSvd_spark_hyper\n",
      "auditweights_source_PROMO\n",
      "date\n"
     ]
    }
   ],
   "source": [
    "for (elem <- df.columns) println(elem)"
   ]
  },
  {
   "cell_type": "markdown",
   "metadata": {},
   "source": [
    "# About target"
   ]
  },
  {
   "cell_type": "code",
   "execution_count": 13,
   "metadata": {},
   "outputs": [
    {
     "data": {
      "text/html": [
       "<div>\n",
       "  <span style=\"float: left;\">show at cmd12.sc:1</span>\n",
       "</div>\n"
      ]
     },
     "metadata": {},
     "output_type": "display_data"
    },
    {
     "data": {
      "text/html": [
       "<div class=\"progress\">\n",
       "  <div class=\"progress-bar\" role=\"progressbar\" style=\"background-color: blue; width: 100%; word-wrap: normal; white-space: nowrap; text-align: center; color: white\" aria-valuenow=\"100\" aria-valuemin=\"0\" aria-valuemax=\"100\">\n",
       "    1 / 1\n",
       "  </div>\n",
       "  <div class=\"progress-bar\" role=\"progressbar\" style=\"background-color: red; width: 0%\" aria-valuenow=\"0\" aria-valuemin=\"0\" aria-valuemax=\"100\"></div>\n",
       "</div>\n"
      ]
     },
     "metadata": {},
     "output_type": "display_data"
    },
    {
     "name": "stdout",
     "output_type": "stream",
     "text": [
      "+----------------+\n",
      "|        feedback|\n",
      "+----------------+\n",
      "|         [Liked]|\n",
      "|[Clicked, Liked]|\n",
      "|         [Liked]|\n",
      "|       [Ignored]|\n",
      "|       [Ignored]|\n",
      "|       [Ignored]|\n",
      "|[Clicked, Liked]|\n",
      "|         [Liked]|\n",
      "|       [Ignored]|\n",
      "|       [Ignored]|\n",
      "+----------------+\n",
      "only showing top 10 rows\n",
      "\n"
     ]
    }
   ],
   "source": [
    "df.select(\"feedback\").show(10)"
   ]
  },
  {
   "cell_type": "code",
   "execution_count": 14,
   "metadata": {},
   "outputs": [
    {
     "data": {
      "text/plain": [
       "\u001b[36mres13\u001b[39m: \u001b[32mtypes\u001b[39m.\u001b[32mStructType\u001b[39m = \u001b[33mStructType\u001b[39m(\n",
       "  \u001b[33mStructField\u001b[39m(\u001b[32m\"feedback\"\u001b[39m, \u001b[33mArrayType\u001b[39m(StringType, true), true, {})\n",
       ")"
      ]
     },
     "execution_count": 14,
     "metadata": {},
     "output_type": "execute_result"
    }
   ],
   "source": [
    "df.select(\"feedback\").schema"
   ]
  },
  {
   "cell_type": "code",
   "execution_count": 15,
   "metadata": {},
   "outputs": [
    {
     "data": {
      "text/plain": [
       "\u001b[36mdf_flags\u001b[39m: \u001b[32mDataFrame\u001b[39m = [instanceId_userId: int, instanceId_objectType: string ... 170 more fields]"
      ]
     },
     "execution_count": 15,
     "metadata": {},
     "output_type": "execute_result"
    }
   ],
   "source": [
    "val df_flags = df\n",
    ".withColumn(\"feedback_Liked_flag\", array_contains($\"feedback\", \"Liked\").cast(\"Int\"))\n",
    ".withColumn(\"feedback_Clicked_flag\", array_contains($\"feedback\", \"Clicked\").cast(\"Int\"))\n",
    ".withColumn(\"feedback_Viewed_flag\", array_contains($\"feedback\", \"Viewed\").cast(\"Int\"))"
   ]
  },
  {
   "cell_type": "code",
   "execution_count": 16,
   "metadata": {},
   "outputs": [
    {
     "data": {
      "text/html": [
       "<div>\n",
       "  <span style=\"float: left;\">show at cmd15.sc:1</span>\n",
       "</div>\n"
      ]
     },
     "metadata": {},
     "output_type": "display_data"
    },
    {
     "data": {
      "text/html": [
       "<div class=\"progress\">\n",
       "  <div class=\"progress-bar\" role=\"progressbar\" style=\"background-color: blue; width: 100%; word-wrap: normal; white-space: nowrap; text-align: center; color: white\" aria-valuenow=\"100\" aria-valuemin=\"0\" aria-valuemax=\"100\">\n",
       "    1 / 1\n",
       "  </div>\n",
       "  <div class=\"progress-bar\" role=\"progressbar\" style=\"background-color: red; width: 0%\" aria-valuenow=\"0\" aria-valuemin=\"0\" aria-valuemax=\"100\"></div>\n",
       "</div>\n"
      ]
     },
     "metadata": {},
     "output_type": "display_data"
    },
    {
     "name": "stdout",
     "output_type": "stream",
     "text": [
      "+-------------------+----------------+-------------------+---------------------+--------------------+\n",
      "|instanceId_objectId|        feedback|feedback_Liked_flag|feedback_Clicked_flag|feedback_Viewed_flag|\n",
      "+-------------------+----------------+-------------------+---------------------+--------------------+\n",
      "|           18452434|         [Liked]|                  1|                    0|                   0|\n",
      "|           31980032|[Clicked, Liked]|                  1|                    1|                   0|\n",
      "|           33834009|         [Liked]|                  1|                    0|                   0|\n",
      "|           25653019|       [Ignored]|                  0|                    0|                   0|\n",
      "|           24024934|       [Ignored]|                  0|                    0|                   0|\n",
      "|           25075524|       [Ignored]|                  0|                    0|                   0|\n",
      "|           18132300|[Clicked, Liked]|                  1|                    1|                   0|\n",
      "|            2402728|         [Liked]|                  1|                    0|                   0|\n",
      "|           17153719|       [Ignored]|                  0|                    0|                   0|\n",
      "|           19499734|       [Ignored]|                  0|                    0|                   0|\n",
      "|           28484729|       [Ignored]|                  0|                    0|                   0|\n",
      "|           15694836|       [Ignored]|                  0|                    0|                   0|\n",
      "|           34440301|       [Ignored]|                  0|                    0|                   0|\n",
      "|           21385511|       [Ignored]|                  0|                    0|                   0|\n",
      "|           31609830|       [Ignored]|                  0|                    0|                   0|\n",
      "|           21906606|       [Ignored]|                  0|                    0|                   0|\n",
      "|           31404623|         [Liked]|                  1|                    0|                   0|\n",
      "|           27242106|         [Liked]|                  1|                    0|                   0|\n",
      "|             217823|       [Ignored]|                  0|                    0|                   0|\n",
      "|           25242916|       [Ignored]|                  0|                    0|                   0|\n",
      "|           35958642|       [Clicked]|                  0|                    1|                   0|\n",
      "|           12339616|       [Clicked]|                  0|                    1|                   0|\n",
      "|            3334508|       [Ignored]|                  0|                    0|                   0|\n",
      "|             882326|       [Clicked]|                  0|                    1|                   0|\n",
      "|           35323537|       [Ignored]|                  0|                    0|                   0|\n",
      "+-------------------+----------------+-------------------+---------------------+--------------------+\n",
      "only showing top 25 rows\n",
      "\n"
     ]
    }
   ],
   "source": [
    "df_flags.select(\"instanceId_objectId\", \"feedback\", \"feedback_Liked_flag\", \"feedback_Clicked_flag\", \"feedback_Viewed_flag\").show(25)"
   ]
  },
  {
   "cell_type": "markdown",
   "metadata": {},
   "source": [
    "# Top popular groups with likes"
   ]
  },
  {
   "cell_type": "code",
   "execution_count": 17,
   "metadata": {},
   "outputs": [
    {
     "data": {
      "text/html": [
       "<div>\n",
       "  <span style=\"float: left;\">show at cmd16.sc:1</span>\n",
       "</div>\n"
      ]
     },
     "metadata": {},
     "output_type": "display_data"
    },
    {
     "data": {
      "text/html": [
       "<div class=\"progress\">\n",
       "  <div class=\"progress-bar\" role=\"progressbar\" style=\"background-color: blue; width: 100%; word-wrap: normal; white-space: nowrap; text-align: center; color: white\" aria-valuenow=\"100\" aria-valuemin=\"0\" aria-valuemax=\"100\">\n",
       "    28 / 28\n",
       "  </div>\n",
       "  <div class=\"progress-bar\" role=\"progressbar\" style=\"background-color: red; width: 0%\" aria-valuenow=\"0\" aria-valuemin=\"0\" aria-valuemax=\"100\"></div>\n",
       "</div>\n"
      ]
     },
     "metadata": {},
     "output_type": "display_data"
    },
    {
     "data": {
      "text/html": [
       "<div>\n",
       "  <span style=\"float: left;\">show at cmd16.sc:1</span>\n",
       "</div>\n"
      ]
     },
     "metadata": {},
     "output_type": "display_data"
    },
    {
     "data": {
      "text/html": [
       "<div class=\"progress\">\n",
       "  <div class=\"progress-bar\" role=\"progressbar\" style=\"background-color: blue; width: 100%; word-wrap: normal; white-space: nowrap; text-align: center; color: white\" aria-valuenow=\"100\" aria-valuemin=\"0\" aria-valuemax=\"100\">\n",
       "    200 / 200\n",
       "  </div>\n",
       "  <div class=\"progress-bar\" role=\"progressbar\" style=\"background-color: red; width: 0%\" aria-valuenow=\"0\" aria-valuemin=\"0\" aria-valuemax=\"100\"></div>\n",
       "</div>\n"
      ]
     },
     "metadata": {},
     "output_type": "display_data"
    },
    {
     "name": "stdout",
     "output_type": "stream",
     "text": [
      "+-------------------+------------------------+\n",
      "|instanceId_objectId|sum(feedback_Liked_flag)|\n",
      "+-------------------+------------------------+\n",
      "|535842             |1329                    |\n",
      "|1282812            |868                     |\n",
      "|603629             |822                     |\n",
      "|19152905           |689                     |\n",
      "|11300713           |660                     |\n",
      "|1041333            |633                     |\n",
      "|9458730            |569                     |\n",
      "|38567725           |568                     |\n",
      "|31009524           |560                     |\n",
      "|35514331           |544                     |\n",
      "|18354936           |528                     |\n",
      "|39007803           |506                     |\n",
      "|1004136            |490                     |\n",
      "|340210             |478                     |\n",
      "|21549312           |476                     |\n",
      "|32819707           |467                     |\n",
      "|31704618           |465                     |\n",
      "|22311315           |465                     |\n",
      "|23742340           |461                     |\n",
      "|20086516           |445                     |\n",
      "+-------------------+------------------------+\n",
      "only showing top 20 rows\n",
      "\n"
     ]
    }
   ],
   "source": [
    "df_flags.groupBy(\"instanceId_objectId\").sum(\"feedback_Liked_flag\").orderBy(desc(\"sum(feedback_Liked_flag)\")).show(false)"
   ]
  },
  {
   "cell_type": "markdown",
   "metadata": {},
   "source": [
    "# Top popular groups with clickes"
   ]
  },
  {
   "cell_type": "code",
   "execution_count": 18,
   "metadata": {},
   "outputs": [
    {
     "data": {
      "text/html": [
       "<div>\n",
       "  <span style=\"float: left;\">show at cmd17.sc:1</span>\n",
       "</div>\n"
      ]
     },
     "metadata": {},
     "output_type": "display_data"
    },
    {
     "data": {
      "text/html": [
       "<div class=\"progress\">\n",
       "  <div class=\"progress-bar\" role=\"progressbar\" style=\"background-color: blue; width: 100%; word-wrap: normal; white-space: nowrap; text-align: center; color: white\" aria-valuenow=\"100\" aria-valuemin=\"0\" aria-valuemax=\"100\">\n",
       "    28 / 28\n",
       "  </div>\n",
       "  <div class=\"progress-bar\" role=\"progressbar\" style=\"background-color: red; width: 0%\" aria-valuenow=\"0\" aria-valuemin=\"0\" aria-valuemax=\"100\"></div>\n",
       "</div>\n"
      ]
     },
     "metadata": {},
     "output_type": "display_data"
    },
    {
     "data": {
      "text/html": [
       "<div>\n",
       "  <span style=\"float: left;\">show at cmd17.sc:1</span>\n",
       "</div>\n"
      ]
     },
     "metadata": {},
     "output_type": "display_data"
    },
    {
     "data": {
      "text/html": [
       "<div class=\"progress\">\n",
       "  <div class=\"progress-bar\" role=\"progressbar\" style=\"background-color: blue; width: 100%; word-wrap: normal; white-space: nowrap; text-align: center; color: white\" aria-valuenow=\"100\" aria-valuemin=\"0\" aria-valuemax=\"100\">\n",
       "    200 / 200\n",
       "  </div>\n",
       "  <div class=\"progress-bar\" role=\"progressbar\" style=\"background-color: red; width: 0%\" aria-valuenow=\"0\" aria-valuemin=\"0\" aria-valuemax=\"100\"></div>\n",
       "</div>\n"
      ]
     },
     "metadata": {},
     "output_type": "display_data"
    },
    {
     "name": "stdout",
     "output_type": "stream",
     "text": [
      "+-------------------+--------------------------+\n",
      "|instanceId_objectId|sum(feedback_Clicked_flag)|\n",
      "+-------------------+--------------------------+\n",
      "|535842             |3529                      |\n",
      "|1041333            |3017                      |\n",
      "|9469235            |2735                      |\n",
      "|1282812            |2536                      |\n",
      "|603629             |2228                      |\n",
      "|1026913            |1752                      |\n",
      "|372612             |1646                      |\n",
      "|9766501            |1568                      |\n",
      "|1004136            |1541                      |\n",
      "|340210             |1515                      |\n",
      "|9458730            |1459                      |\n",
      "|858942             |1399                      |\n",
      "|803420             |1243                      |\n",
      "|9501306            |1127                      |\n",
      "|385538             |1051                      |\n",
      "|9501615            |1022                      |\n",
      "|432606             |998                       |\n",
      "|9501042            |993                       |\n",
      "|11559939           |987                       |\n",
      "|9458404            |982                       |\n",
      "+-------------------+--------------------------+\n",
      "only showing top 20 rows\n",
      "\n"
     ]
    }
   ],
   "source": [
    "df_flags.groupBy(\"instanceId_objectId\").sum(\"feedback_Clicked_flag\").orderBy(desc(\"sum(feedback_Clicked_flag)\")).show(false)"
   ]
  },
  {
   "cell_type": "markdown",
   "metadata": {},
   "source": [
    "# Top popular groups with view"
   ]
  },
  {
   "cell_type": "code",
   "execution_count": 19,
   "metadata": {},
   "outputs": [
    {
     "data": {
      "text/html": [
       "<div>\n",
       "  <span style=\"float: left;\">show at cmd18.sc:1</span>\n",
       "</div>\n"
      ]
     },
     "metadata": {},
     "output_type": "display_data"
    },
    {
     "data": {
      "text/html": [
       "<div class=\"progress\">\n",
       "  <div class=\"progress-bar\" role=\"progressbar\" style=\"background-color: blue; width: 100%; word-wrap: normal; white-space: nowrap; text-align: center; color: white\" aria-valuenow=\"100\" aria-valuemin=\"0\" aria-valuemax=\"100\">\n",
       "    28 / 28\n",
       "  </div>\n",
       "  <div class=\"progress-bar\" role=\"progressbar\" style=\"background-color: red; width: 0%\" aria-valuenow=\"0\" aria-valuemin=\"0\" aria-valuemax=\"100\"></div>\n",
       "</div>\n"
      ]
     },
     "metadata": {},
     "output_type": "display_data"
    },
    {
     "data": {
      "text/html": [
       "<div>\n",
       "  <span style=\"float: left;\">show at cmd18.sc:1</span>\n",
       "</div>\n"
      ]
     },
     "metadata": {},
     "output_type": "display_data"
    },
    {
     "data": {
      "text/html": [
       "<div class=\"progress\">\n",
       "  <div class=\"progress-bar\" role=\"progressbar\" style=\"background-color: blue; width: 100%; word-wrap: normal; white-space: nowrap; text-align: center; color: white\" aria-valuenow=\"100\" aria-valuemin=\"0\" aria-valuemax=\"100\">\n",
       "    200 / 200\n",
       "  </div>\n",
       "  <div class=\"progress-bar\" role=\"progressbar\" style=\"background-color: red; width: 0%\" aria-valuenow=\"0\" aria-valuemin=\"0\" aria-valuemax=\"100\"></div>\n",
       "</div>\n"
      ]
     },
     "metadata": {},
     "output_type": "display_data"
    },
    {
     "name": "stdout",
     "output_type": "stream",
     "text": [
      "+-------------------+-------------------------+\n",
      "|instanceId_objectId|sum(feedback_Viewed_flag)|\n",
      "+-------------------+-------------------------+\n",
      "|1375200            |170                      |\n",
      "|1041333            |164                      |\n",
      "|1282812            |119                      |\n",
      "|603629             |114                      |\n",
      "|535842             |106                      |\n",
      "|9458730            |96                       |\n",
      "|9469235            |90                       |\n",
      "|1382438            |89                       |\n",
      "|1026913            |81                       |\n",
      "|1004136            |77                       |\n",
      "|858942             |69                       |\n",
      "|9448527            |58                       |\n",
      "|790516             |57                       |\n",
      "|372612             |55                       |\n",
      "|340210             |51                       |\n",
      "|2673314            |51                       |\n",
      "|2184938            |50                       |\n",
      "|608435             |50                       |\n",
      "|9446403            |49                       |\n",
      "|4818614            |45                       |\n",
      "+-------------------+-------------------------+\n",
      "only showing top 20 rows\n",
      "\n"
     ]
    }
   ],
   "source": [
    "df_flags.groupBy(\"instanceId_objectId\").sum(\"feedback_Viewed_flag\").orderBy(desc(\"sum(feedback_Viewed_flag)\")).show(false)"
   ]
  },
  {
   "cell_type": "markdown",
   "metadata": {},
   "source": [
    "# Some info about time"
   ]
  },
  {
   "cell_type": "code",
   "execution_count": 20,
   "metadata": {},
   "outputs": [
    {
     "data": {
      "text/plain": [
       "\u001b[36mres19\u001b[39m: \u001b[32mtypes\u001b[39m.\u001b[32mStructType\u001b[39m = \u001b[33mStructType\u001b[39m(\n",
       "  \u001b[33mStructField\u001b[39m(\u001b[32m\"audit_timestamp\"\u001b[39m, LongType, true, {})\n",
       ")"
      ]
     },
     "execution_count": 20,
     "metadata": {},
     "output_type": "execute_result"
    }
   ],
   "source": [
    "df.select(\"audit_timestamp\").schema"
   ]
  },
  {
   "cell_type": "code",
   "execution_count": 21,
   "metadata": {},
   "outputs": [
    {
     "data": {
      "text/html": [
       "<div>\n",
       "  <span style=\"float: left;\">show at cmd20.sc:1</span>\n",
       "</div>\n"
      ]
     },
     "metadata": {},
     "output_type": "display_data"
    },
    {
     "data": {
      "text/html": [
       "<div class=\"progress\">\n",
       "  <div class=\"progress-bar\" role=\"progressbar\" style=\"background-color: blue; width: 100%; word-wrap: normal; white-space: nowrap; text-align: center; color: white\" aria-valuenow=\"100\" aria-valuemin=\"0\" aria-valuemax=\"100\">\n",
       "    1 / 1\n",
       "  </div>\n",
       "  <div class=\"progress-bar\" role=\"progressbar\" style=\"background-color: red; width: 0%\" aria-valuenow=\"0\" aria-valuemin=\"0\" aria-valuemax=\"100\"></div>\n",
       "</div>\n"
      ]
     },
     "metadata": {},
     "output_type": "display_data"
    },
    {
     "name": "stdout",
     "output_type": "stream",
     "text": [
      "+---------------+\n",
      "|audit_timestamp|\n",
      "+---------------+\n",
      "|  1520194086477|\n",
      "|  1520113126655|\n",
      "|  1520181187538|\n",
      "|  1520149339921|\n",
      "|  1520180595763|\n",
      "|  1520160411706|\n",
      "|  1520149355325|\n",
      "|  1520149355325|\n",
      "|  1520159055559|\n",
      "|  1520180648026|\n",
      "+---------------+\n",
      "only showing top 10 rows\n",
      "\n"
     ]
    }
   ],
   "source": [
    "df.select(\"audit_timestamp\").show(10)"
   ]
  },
  {
   "cell_type": "code",
   "execution_count": 22,
   "metadata": {},
   "outputs": [
    {
     "data": {
      "text/plain": [
       "\u001b[36mdf_time\u001b[39m: \u001b[32mDataFrame\u001b[39m = [instanceId_userId: int, instanceId_objectType: string ... 172 more fields]"
      ]
     },
     "execution_count": 22,
     "metadata": {},
     "output_type": "execute_result"
    }
   ],
   "source": [
    "val df_time = df_flags.withColumn(\"audit_timestamp_unix\", from_unixtime($\"audit_timestamp\" / 1000)).withColumn(\"hour\", hour($\"audit_timestamp_unix\"))"
   ]
  },
  {
   "cell_type": "code",
   "execution_count": 23,
   "metadata": {},
   "outputs": [
    {
     "data": {
      "text/html": [
       "<div>\n",
       "  <span style=\"float: left;\">show at cmd22.sc:1</span>\n",
       "</div>\n"
      ]
     },
     "metadata": {},
     "output_type": "display_data"
    },
    {
     "data": {
      "text/html": [
       "<div class=\"progress\">\n",
       "  <div class=\"progress-bar\" role=\"progressbar\" style=\"background-color: blue; width: 100%; word-wrap: normal; white-space: nowrap; text-align: center; color: white\" aria-valuenow=\"100\" aria-valuemin=\"0\" aria-valuemax=\"100\">\n",
       "    1 / 1\n",
       "  </div>\n",
       "  <div class=\"progress-bar\" role=\"progressbar\" style=\"background-color: red; width: 0%\" aria-valuenow=\"0\" aria-valuemin=\"0\" aria-valuemax=\"100\"></div>\n",
       "</div>\n"
      ]
     },
     "metadata": {},
     "output_type": "display_data"
    },
    {
     "name": "stdout",
     "output_type": "stream",
     "text": [
      "+--------------------+----+\n",
      "|audit_timestamp_unix|hour|\n",
      "+--------------------+----+\n",
      "| 2018-03-04 20:08:06|  20|\n",
      "| 2018-03-03 21:38:46|  21|\n",
      "| 2018-03-04 16:33:07|  16|\n",
      "| 2018-03-04 07:42:19|   7|\n",
      "| 2018-03-04 16:23:15|  16|\n",
      "| 2018-03-04 10:46:51|  10|\n",
      "| 2018-03-04 07:42:35|   7|\n",
      "| 2018-03-04 07:42:35|   7|\n",
      "| 2018-03-04 10:24:15|  10|\n",
      "| 2018-03-04 16:24:08|  16|\n",
      "+--------------------+----+\n",
      "only showing top 10 rows\n",
      "\n"
     ]
    }
   ],
   "source": [
    "df_time.select(\"audit_timestamp_unix\", \"hour\").show(10)"
   ]
  },
  {
   "cell_type": "code",
   "execution_count": 24,
   "metadata": {},
   "outputs": [
    {
     "data": {
      "text/plain": [
       "\u001b[36mres23\u001b[39m: \u001b[32mtypes\u001b[39m.\u001b[32mStructType\u001b[39m = \u001b[33mStructType\u001b[39m(\n",
       "  \u001b[33mStructField\u001b[39m(\u001b[32m\"audit_timestamp_unix\"\u001b[39m, StringType, true, {}),\n",
       "..."
      ]
     },
     "execution_count": 24,
     "metadata": {},
     "output_type": "execute_result"
    }
   ],
   "source": [
    "df_time.select(\"audit_timestamp_unix\", \"hour\").schema"
   ]
  },
  {
   "cell_type": "code",
   "execution_count": 25,
   "metadata": {},
   "outputs": [
    {
     "data": {
      "text/html": [
       "<div>\n",
       "  <span style=\"float: left;\">show at cmd24.sc:2</span>\n",
       "</div>\n"
      ]
     },
     "metadata": {},
     "output_type": "display_data"
    },
    {
     "data": {
      "text/html": [
       "<div class=\"progress\">\n",
       "  <div class=\"progress-bar\" role=\"progressbar\" style=\"background-color: blue; width: 100%; word-wrap: normal; white-space: nowrap; text-align: center; color: white\" aria-valuenow=\"100\" aria-valuemin=\"0\" aria-valuemax=\"100\">\n",
       "    28 / 28\n",
       "  </div>\n",
       "  <div class=\"progress-bar\" role=\"progressbar\" style=\"background-color: red; width: 0%\" aria-valuenow=\"0\" aria-valuemin=\"0\" aria-valuemax=\"100\"></div>\n",
       "</div>\n"
      ]
     },
     "metadata": {},
     "output_type": "display_data"
    },
    {
     "data": {
      "text/html": [
       "<div>\n",
       "  <span style=\"float: left;\">show at cmd24.sc:2</span>\n",
       "</div>\n"
      ]
     },
     "metadata": {},
     "output_type": "display_data"
    },
    {
     "data": {
      "text/html": [
       "<div class=\"progress\">\n",
       "  <div class=\"progress-bar\" role=\"progressbar\" style=\"background-color: blue; width: 100%; word-wrap: normal; white-space: nowrap; text-align: center; color: white\" aria-valuenow=\"100\" aria-valuemin=\"0\" aria-valuemax=\"100\">\n",
       "    200 / 200\n",
       "  </div>\n",
       "  <div class=\"progress-bar\" role=\"progressbar\" style=\"background-color: red; width: 0%\" aria-valuenow=\"0\" aria-valuemin=\"0\" aria-valuemax=\"100\"></div>\n",
       "</div>\n"
      ]
     },
     "metadata": {},
     "output_type": "display_data"
    },
    {
     "name": "stdout",
     "output_type": "stream",
     "text": [
      "+----+-------+\n",
      "|hour|  count|\n",
      "+----+-------+\n",
      "|   0| 190669|\n",
      "|   1| 255999|\n",
      "|   2| 353397|\n",
      "|   3| 508045|\n",
      "|   4| 662820|\n",
      "|   5| 787754|\n",
      "|   6| 831354|\n",
      "|   7| 837955|\n",
      "|   8| 843048|\n",
      "|   9| 858546|\n",
      "|  10| 889471|\n",
      "|  11| 922062|\n",
      "|  12| 972513|\n",
      "|  13|1029619|\n",
      "|  14|1122013|\n",
      "|  15|1213270|\n",
      "|  16|1276641|\n",
      "|  17|1275757|\n",
      "|  18|1180341|\n",
      "|  19| 917899|\n",
      "+----+-------+\n",
      "only showing top 20 rows\n",
      "\n"
     ]
    },
    {
     "data": {
      "text/plain": [
       "\u001b[36mdf_hist_act\u001b[39m: \u001b[32mDataset\u001b[39m[\u001b[32mRow\u001b[39m] = [hour: int, count: bigint]"
      ]
     },
     "execution_count": 25,
     "metadata": {},
     "output_type": "execute_result"
    }
   ],
   "source": [
    "val df_hist_act = df_time.groupBy(\"hour\").count().orderBy(\"hour\")\n",
    "df_hist_act.show()"
   ]
  },
  {
   "cell_type": "code",
   "execution_count": 26,
   "metadata": {},
   "outputs": [
    {
     "data": {
      "text/html": [
       "<div>\n",
       "  <span style=\"float: left;\">collect at cmd25.sc:1</span>\n",
       "</div>\n"
      ]
     },
     "metadata": {},
     "output_type": "display_data"
    },
    {
     "data": {
      "text/html": [
       "<div class=\"progress\">\n",
       "  <div class=\"progress-bar\" role=\"progressbar\" style=\"background-color: blue; width: 100%; word-wrap: normal; white-space: nowrap; text-align: center; color: white\" aria-valuenow=\"100\" aria-valuemin=\"0\" aria-valuemax=\"100\">\n",
       "    28 / 28\n",
       "  </div>\n",
       "  <div class=\"progress-bar\" role=\"progressbar\" style=\"background-color: red; width: 0%\" aria-valuenow=\"0\" aria-valuemin=\"0\" aria-valuemax=\"100\"></div>\n",
       "</div>\n"
      ]
     },
     "metadata": {},
     "output_type": "display_data"
    },
    {
     "data": {
      "text/html": [
       "<div>\n",
       "  <span style=\"float: left;\">collect at cmd25.sc:1</span>\n",
       "</div>\n"
      ]
     },
     "metadata": {},
     "output_type": "display_data"
    },
    {
     "data": {
      "text/html": [
       "<div class=\"progress\">\n",
       "  <div class=\"progress-bar\" role=\"progressbar\" style=\"background-color: blue; width: 100%; word-wrap: normal; white-space: nowrap; text-align: center; color: white\" aria-valuenow=\"100\" aria-valuemin=\"0\" aria-valuemax=\"100\">\n",
       "    200 / 200\n",
       "  </div>\n",
       "  <div class=\"progress-bar\" role=\"progressbar\" style=\"background-color: red; width: 0%\" aria-valuenow=\"0\" aria-valuemin=\"0\" aria-valuemax=\"100\"></div>\n",
       "</div>\n"
      ]
     },
     "metadata": {},
     "output_type": "display_data"
    },
    {
     "data": {
      "text/html": [
       "<div>\n",
       "  <span style=\"float: left;\">collect at cmd25.sc:1</span>\n",
       "</div>\n"
      ]
     },
     "metadata": {},
     "output_type": "display_data"
    },
    {
     "data": {
      "text/html": [
       "<div class=\"progress\">\n",
       "  <div class=\"progress-bar\" role=\"progressbar\" style=\"background-color: blue; width: 100%; word-wrap: normal; white-space: nowrap; text-align: center; color: white\" aria-valuenow=\"100\" aria-valuemin=\"0\" aria-valuemax=\"100\">\n",
       "    200 / 200\n",
       "  </div>\n",
       "  <div class=\"progress-bar\" role=\"progressbar\" style=\"background-color: red; width: 0%\" aria-valuenow=\"0\" aria-valuemin=\"0\" aria-valuemax=\"100\"></div>\n",
       "</div>\n"
      ]
     },
     "metadata": {},
     "output_type": "display_data"
    },
    {
     "data": {
      "text/html": [
       "<div>\n",
       "  <span style=\"float: left;\">collect at cmd25.sc:1</span>\n",
       "</div>\n"
      ]
     },
     "metadata": {},
     "output_type": "display_data"
    },
    {
     "data": {
      "text/html": [
       "<div class=\"progress\">\n",
       "  <div class=\"progress-bar\" role=\"progressbar\" style=\"background-color: blue; width: 100%; word-wrap: normal; white-space: nowrap; text-align: center; color: white\" aria-valuenow=\"100\" aria-valuemin=\"0\" aria-valuemax=\"100\">\n",
       "    24 / 24\n",
       "  </div>\n",
       "  <div class=\"progress-bar\" role=\"progressbar\" style=\"background-color: red; width: 0%\" aria-valuenow=\"0\" aria-valuemin=\"0\" aria-valuemax=\"100\"></div>\n",
       "</div>\n"
      ]
     },
     "metadata": {},
     "output_type": "display_data"
    },
    {
     "data": {
      "text/plain": [
       "\u001b[36mtmp_hist\u001b[39m: \u001b[32mVector\u001b[39m[\u001b[32mVector\u001b[39m[\u001b[32mInt\u001b[39m]] = \u001b[33mVector\u001b[39m(\n",
       "  \u001b[33mVector\u001b[39m(\n",
       "..."
      ]
     },
     "execution_count": 26,
     "metadata": {},
     "output_type": "execute_result"
    }
   ],
   "source": [
    "val tmp_hist = df_hist_act.select(\"hour\", \"count\").collect() // вытащить из спарка\n",
    ".map(\n",
    "    _.toSeq // каждую строку преобразовать в последовательность - так как пока там Row-тип\n",
    "           .map(_.toString) // каждое значение преобразовать в строку - иначе не получиться преобразовать в Int - на уровне Java какое-то хуё-моё\n",
    "           .map(_.toInt)  // вот теперь преобразовать каждое значение в строке в Int\n",
    ".toVector // делаем на всякий случай вектор-строку\n",
    ")\n",
    ".toVector // еще раз вектор, так как после collect - это Array\n",
    ".transpose"
   ]
  },
  {
   "cell_type": "code",
   "execution_count": 27,
   "metadata": {},
   "outputs": [
    {
     "data": {
      "text/plain": [
       "\u001b[36mtmp_hour\u001b[39m: \u001b[32mVector\u001b[39m[\u001b[32mInt\u001b[39m] = \u001b[33mVector\u001b[39m(\n",
       "  \u001b[32m0\u001b[39m,\n",
       "...\n",
       "\u001b[36mtmp_count\u001b[39m: \u001b[32mVector\u001b[39m[\u001b[32mInt\u001b[39m] = \u001b[33mVector\u001b[39m(\n",
       "  \u001b[32m190669\u001b[39m,\n",
       "..."
      ]
     },
     "execution_count": 27,
     "metadata": {},
     "output_type": "execute_result"
    }
   ],
   "source": [
    "val tmp_hour = tmp_hist(0)\n",
    "val tmp_count = tmp_hist(1)"
   ]
  },
  {
   "cell_type": "markdown",
   "metadata": {},
   "source": [
    "# Like plot"
   ]
  },
  {
   "cell_type": "code",
   "execution_count": 28,
   "metadata": {},
   "outputs": [
    {
     "data": {
      "text/plain": [
       "\u001b[36mdf_hist_liked\u001b[39m: \u001b[32mDataset\u001b[39m[\u001b[32mRow\u001b[39m] = [hour: int, count: bigint]"
      ]
     },
     "execution_count": 28,
     "metadata": {},
     "output_type": "execute_result"
    }
   ],
   "source": [
    "val df_hist_liked = df_time.where(col(\"feedback_Liked_flag\")===1).groupBy(\"hour\").count().orderBy(\"hour\").cache()"
   ]
  },
  {
   "cell_type": "code",
   "execution_count": 29,
   "metadata": {},
   "outputs": [
    {
     "data": {
      "text/html": [
       "<div>\n",
       "  <span style=\"float: left;\">collect at cmd28.sc:1</span>\n",
       "</div>\n"
      ]
     },
     "metadata": {},
     "output_type": "display_data"
    },
    {
     "data": {
      "text/html": [
       "<div class=\"progress\">\n",
       "  <div class=\"progress-bar\" role=\"progressbar\" style=\"background-color: blue; width: 100%; word-wrap: normal; white-space: nowrap; text-align: center; color: white\" aria-valuenow=\"100\" aria-valuemin=\"0\" aria-valuemax=\"100\">\n",
       "    28 / 28\n",
       "  </div>\n",
       "  <div class=\"progress-bar\" role=\"progressbar\" style=\"background-color: red; width: 0%\" aria-valuenow=\"0\" aria-valuemin=\"0\" aria-valuemax=\"100\"></div>\n",
       "</div>\n"
      ]
     },
     "metadata": {},
     "output_type": "display_data"
    },
    {
     "data": {
      "text/html": [
       "<div>\n",
       "  <span style=\"float: left;\">collect at cmd28.sc:1</span>\n",
       "</div>\n"
      ]
     },
     "metadata": {},
     "output_type": "display_data"
    },
    {
     "data": {
      "text/html": [
       "<div class=\"progress\">\n",
       "  <div class=\"progress-bar\" role=\"progressbar\" style=\"background-color: blue; width: 100%; word-wrap: normal; white-space: nowrap; text-align: center; color: white\" aria-valuenow=\"100\" aria-valuemin=\"0\" aria-valuemax=\"100\">\n",
       "    200 / 200\n",
       "  </div>\n",
       "  <div class=\"progress-bar\" role=\"progressbar\" style=\"background-color: red; width: 0%\" aria-valuenow=\"0\" aria-valuemin=\"0\" aria-valuemax=\"100\"></div>\n",
       "</div>\n"
      ]
     },
     "metadata": {},
     "output_type": "display_data"
    },
    {
     "data": {
      "text/html": [
       "<div>\n",
       "  <span style=\"float: left;\">collect at cmd28.sc:1</span>\n",
       "</div>\n"
      ]
     },
     "metadata": {},
     "output_type": "display_data"
    },
    {
     "data": {
      "text/html": [
       "<div class=\"progress\">\n",
       "  <div class=\"progress-bar\" role=\"progressbar\" style=\"background-color: blue; width: 100%; word-wrap: normal; white-space: nowrap; text-align: center; color: white\" aria-valuenow=\"100\" aria-valuemin=\"0\" aria-valuemax=\"100\">\n",
       "    200 / 200\n",
       "  </div>\n",
       "  <div class=\"progress-bar\" role=\"progressbar\" style=\"background-color: red; width: 0%\" aria-valuenow=\"0\" aria-valuemin=\"0\" aria-valuemax=\"100\"></div>\n",
       "</div>\n"
      ]
     },
     "metadata": {},
     "output_type": "display_data"
    },
    {
     "data": {
      "text/html": [
       "<div>\n",
       "  <span style=\"float: left;\">collect at cmd28.sc:1</span>\n",
       "</div>\n"
      ]
     },
     "metadata": {},
     "output_type": "display_data"
    },
    {
     "data": {
      "text/html": [
       "<div class=\"progress\">\n",
       "  <div class=\"progress-bar\" role=\"progressbar\" style=\"background-color: blue; width: 100%; word-wrap: normal; white-space: nowrap; text-align: center; color: white\" aria-valuenow=\"100\" aria-valuemin=\"0\" aria-valuemax=\"100\">\n",
       "    24 / 24\n",
       "  </div>\n",
       "  <div class=\"progress-bar\" role=\"progressbar\" style=\"background-color: red; width: 0%\" aria-valuenow=\"0\" aria-valuemin=\"0\" aria-valuemax=\"100\"></div>\n",
       "</div>\n"
      ]
     },
     "metadata": {},
     "output_type": "display_data"
    },
    {
     "data": {
      "text/html": [
       "<div>\n",
       "  <span style=\"float: left;\">collect at cmd28.sc:2</span>\n",
       "</div>\n"
      ]
     },
     "metadata": {},
     "output_type": "display_data"
    },
    {
     "data": {
      "text/html": [
       "<div class=\"progress\">\n",
       "  <div class=\"progress-bar\" role=\"progressbar\" style=\"background-color: blue; width: 100%; word-wrap: normal; white-space: nowrap; text-align: center; color: white\" aria-valuenow=\"100\" aria-valuemin=\"0\" aria-valuemax=\"100\">\n",
       "    24 / 24\n",
       "  </div>\n",
       "  <div class=\"progress-bar\" role=\"progressbar\" style=\"background-color: red; width: 0%\" aria-valuenow=\"0\" aria-valuemin=\"0\" aria-valuemax=\"100\"></div>\n",
       "</div>\n"
      ]
     },
     "metadata": {},
     "output_type": "display_data"
    },
    {
     "data": {
      "text/plain": [
       "\u001b[36mtmp_hour_liked\u001b[39m: \u001b[32mVector\u001b[39m[\u001b[32mInt\u001b[39m] = \u001b[33mVector\u001b[39m(\n",
       "  \u001b[32m0\u001b[39m,\n",
       "...\n",
       "\u001b[36mtmp_count_liked\u001b[39m: \u001b[32mVector\u001b[39m[\u001b[32mInt\u001b[39m] = \u001b[33mVector\u001b[39m(\n",
       "  \u001b[32m35654\u001b[39m,\n",
       "..."
      ]
     },
     "execution_count": 29,
     "metadata": {},
     "output_type": "execute_result"
    }
   ],
   "source": [
    "val tmp_hour_liked = df_hist_liked.select(\"hour\").collect().map(_.toSeq(0)).map(_.toString).map(_.toInt).toVector\n",
    "val tmp_count_liked = df_hist_liked.select(\"count\").collect().map(_.toSeq(0)).map(_.toString).map(_.toInt).toVector"
   ]
  },
  {
   "cell_type": "code",
   "execution_count": 30,
   "metadata": {},
   "outputs": [
    {
     "data": {
      "text/html": [
       "\n",
       "      <script type=\"text/javascript\">\n",
       "        require.config({\n",
       "  paths: {\n",
       "    d3: 'https://cdnjs.cloudflare.com/ajax/libs/d3/3.5.17/d3.min',\n",
       "    plotly: 'https://cdn.plot.ly/plotly-1.52.2.min',\n",
       "    jquery: 'https://code.jquery.com/jquery-3.3.1.min'\n",
       "  },\n",
       "\n",
       "  shim: {\n",
       "    plotly: {\n",
       "      deps: ['d3', 'jquery'],\n",
       "      exports: 'plotly'\n",
       "    }\n",
       "  }\n",
       "});\n",
       "        \n",
       "\n",
       "        require(['plotly'], function(Plotly) {\n",
       "          window.Plotly = Plotly;\n",
       "        });\n",
       "      </script>\n",
       "    "
      ]
     },
     "metadata": {},
     "output_type": "display_data"
    },
    {
     "data": {
      "application/vnd.plotly.v1+json": {
       "config": {
        "editable": false,
        "responsive": false,
        "showEditInChartStudio": false
       },
       "data": [
        {
         "type": "bar",
         "x": [
          0,
          1,
          2,
          3,
          4,
          5,
          6,
          7,
          8,
          9,
          10,
          11,
          12,
          13,
          14,
          15,
          16,
          17,
          18,
          19,
          20,
          21,
          22,
          23
         ],
         "y": [
          35654,
          47631,
          65415,
          92829,
          119202,
          141120,
          148278,
          150529,
          151691,
          153337,
          157624,
          161601,
          169721,
          179310,
          192460,
          207219,
          216801,
          216800,
          202852,
          160212,
          111482,
          65216,
          40591,
          32854
         ]
        }
       ],
       "layout": {
        "title": "All liked bar plot"
       }
      },
      "text/html": [
       "<div class=\"chart\" id=\"plot-decf436f-1349-4e9e-b5ba-a3f6e7fc4cb8\"></div>\n",
       "<script>require(['plotly'], function(Plotly) {\n",
       "  (function () {\n",
       "  var data0 = {\"x\":[0.0,1.0,2.0,3.0,4.0,5.0,6.0,7.0,8.0,9.0,10.0,11.0,12.0,13.0,14.0,15.0,16.0,17.0,18.0,19.0,20.0,21.0,22.0,23.0],\"y\":[35654.0,47631.0,65415.0,92829.0,119202.0,141120.0,148278.0,150529.0,151691.0,153337.0,157624.0,161601.0,169721.0,179310.0,192460.0,207219.0,216801.0,216800.0,202852.0,160212.0,111482.0,65216.0,40591.0,32854.0],\"type\":\"bar\"};\n",
       "\n",
       "  var data = [data0];\n",
       "  var layout = {\"title\":\"All liked bar plot\"};\n",
       " var config = {\"showEditInChartStudio\":false,\"responsive\":false,\"editable\":false};\n",
       "\n",
       "  Plotly.plot('plot-decf436f-1349-4e9e-b5ba-a3f6e7fc4cb8', data, layout, config);\n",
       "})();\n",
       "});\n",
       "      </script>\n",
       "           "
      ]
     },
     "metadata": {},
     "output_type": "display_data"
    },
    {
     "data": {
      "text/plain": [
       "\u001b[36mdata\u001b[39m: \u001b[32mSeq\u001b[39m[\u001b[32mBar\u001b[39m] = \u001b[33mList\u001b[39m(\n",
       "  \u001b[33mBar\u001b[39m(\n",
       "...\n",
       "\u001b[36mlayout\u001b[39m: \u001b[32mLayout\u001b[39m = \u001b[33mLayout\u001b[39m(\n",
       "  \u001b[33mSome\u001b[39m(\u001b[32m\"All liked bar plot\"\u001b[39m),\n",
       "...\n",
       "\u001b[36mres29_2\u001b[39m: \u001b[32mString\u001b[39m = \u001b[32m\"plot-decf436f-1349-4e9e-b5ba-a3f6e7fc4cb8\"\u001b[39m"
      ]
     },
     "execution_count": 30,
     "metadata": {},
     "output_type": "execute_result"
    }
   ],
   "source": [
    "// https://alexarchambault.github.io/plotly-scala\n",
    "val data = Seq(\n",
    "  Bar(\n",
    "      tmp_hour_liked,\n",
    "      tmp_count_liked\n",
    "  )\n",
    ")\n",
    "\n",
    "val layout = Layout(\n",
    "  title = \"All liked bar plot\"\n",
    ")\n",
    "\n",
    "plot(data, layout)"
   ]
  },
  {
   "cell_type": "markdown",
   "metadata": {},
   "source": [
    "# Click plot"
   ]
  },
  {
   "cell_type": "code",
   "execution_count": 31,
   "metadata": {},
   "outputs": [
    {
     "data": {
      "text/plain": [
       "\u001b[36mdf_hist_clicked\u001b[39m: \u001b[32mDataset\u001b[39m[\u001b[32mRow\u001b[39m] = [hour: int, count: bigint]"
      ]
     },
     "execution_count": 31,
     "metadata": {},
     "output_type": "execute_result"
    }
   ],
   "source": [
    "val df_hist_clicked = df_time.where(col(\"feedback_Clicked_flag\")===1).groupBy(\"hour\").count().orderBy(\"hour\").cache()"
   ]
  },
  {
   "cell_type": "code",
   "execution_count": 32,
   "metadata": {},
   "outputs": [
    {
     "data": {
      "text/html": [
       "<div>\n",
       "  <span style=\"float: left;\">collect at cmd31.sc:1</span>\n",
       "</div>\n"
      ]
     },
     "metadata": {},
     "output_type": "display_data"
    },
    {
     "data": {
      "text/html": [
       "<div class=\"progress\">\n",
       "  <div class=\"progress-bar\" role=\"progressbar\" style=\"background-color: blue; width: 100%; word-wrap: normal; white-space: nowrap; text-align: center; color: white\" aria-valuenow=\"100\" aria-valuemin=\"0\" aria-valuemax=\"100\">\n",
       "    28 / 28\n",
       "  </div>\n",
       "  <div class=\"progress-bar\" role=\"progressbar\" style=\"background-color: red; width: 0%\" aria-valuenow=\"0\" aria-valuemin=\"0\" aria-valuemax=\"100\"></div>\n",
       "</div>\n"
      ]
     },
     "metadata": {},
     "output_type": "display_data"
    },
    {
     "data": {
      "text/html": [
       "<div>\n",
       "  <span style=\"float: left;\">collect at cmd31.sc:1</span>\n",
       "</div>\n"
      ]
     },
     "metadata": {},
     "output_type": "display_data"
    },
    {
     "data": {
      "text/html": [
       "<div class=\"progress\">\n",
       "  <div class=\"progress-bar\" role=\"progressbar\" style=\"background-color: blue; width: 100%; word-wrap: normal; white-space: nowrap; text-align: center; color: white\" aria-valuenow=\"100\" aria-valuemin=\"0\" aria-valuemax=\"100\">\n",
       "    200 / 200\n",
       "  </div>\n",
       "  <div class=\"progress-bar\" role=\"progressbar\" style=\"background-color: red; width: 0%\" aria-valuenow=\"0\" aria-valuemin=\"0\" aria-valuemax=\"100\"></div>\n",
       "</div>\n"
      ]
     },
     "metadata": {},
     "output_type": "display_data"
    },
    {
     "data": {
      "text/html": [
       "<div>\n",
       "  <span style=\"float: left;\">collect at cmd31.sc:1</span>\n",
       "</div>\n"
      ]
     },
     "metadata": {},
     "output_type": "display_data"
    },
    {
     "data": {
      "text/html": [
       "<div class=\"progress\">\n",
       "  <div class=\"progress-bar\" role=\"progressbar\" style=\"background-color: blue; width: 100%; word-wrap: normal; white-space: nowrap; text-align: center; color: white\" aria-valuenow=\"100\" aria-valuemin=\"0\" aria-valuemax=\"100\">\n",
       "    200 / 200\n",
       "  </div>\n",
       "  <div class=\"progress-bar\" role=\"progressbar\" style=\"background-color: red; width: 0%\" aria-valuenow=\"0\" aria-valuemin=\"0\" aria-valuemax=\"100\"></div>\n",
       "</div>\n"
      ]
     },
     "metadata": {},
     "output_type": "display_data"
    },
    {
     "data": {
      "text/html": [
       "<div>\n",
       "  <span style=\"float: left;\">collect at cmd31.sc:1</span>\n",
       "</div>\n"
      ]
     },
     "metadata": {},
     "output_type": "display_data"
    },
    {
     "data": {
      "text/html": [
       "<div class=\"progress\">\n",
       "  <div class=\"progress-bar\" role=\"progressbar\" style=\"background-color: blue; width: 100%; word-wrap: normal; white-space: nowrap; text-align: center; color: white\" aria-valuenow=\"100\" aria-valuemin=\"0\" aria-valuemax=\"100\">\n",
       "    24 / 24\n",
       "  </div>\n",
       "  <div class=\"progress-bar\" role=\"progressbar\" style=\"background-color: red; width: 0%\" aria-valuenow=\"0\" aria-valuemin=\"0\" aria-valuemax=\"100\"></div>\n",
       "</div>\n"
      ]
     },
     "metadata": {},
     "output_type": "display_data"
    },
    {
     "data": {
      "text/html": [
       "<div>\n",
       "  <span style=\"float: left;\">collect at cmd31.sc:2</span>\n",
       "</div>\n"
      ]
     },
     "metadata": {},
     "output_type": "display_data"
    },
    {
     "data": {
      "text/html": [
       "<div class=\"progress\">\n",
       "  <div class=\"progress-bar\" role=\"progressbar\" style=\"background-color: blue; width: 100%; word-wrap: normal; white-space: nowrap; text-align: center; color: white\" aria-valuenow=\"100\" aria-valuemin=\"0\" aria-valuemax=\"100\">\n",
       "    24 / 24\n",
       "  </div>\n",
       "  <div class=\"progress-bar\" role=\"progressbar\" style=\"background-color: red; width: 0%\" aria-valuenow=\"0\" aria-valuemin=\"0\" aria-valuemax=\"100\"></div>\n",
       "</div>\n"
      ]
     },
     "metadata": {},
     "output_type": "display_data"
    },
    {
     "data": {
      "text/plain": [
       "\u001b[36mtmp_hour_clicked\u001b[39m: \u001b[32mVector\u001b[39m[\u001b[32mInt\u001b[39m] = \u001b[33mVector\u001b[39m(\n",
       "  \u001b[32m0\u001b[39m,\n",
       "...\n",
       "\u001b[36mtmp_count_clicked\u001b[39m: \u001b[32mVector\u001b[39m[\u001b[32mInt\u001b[39m] = \u001b[33mVector\u001b[39m(\n",
       "  \u001b[32m21653\u001b[39m,\n",
       "..."
      ]
     },
     "execution_count": 32,
     "metadata": {},
     "output_type": "execute_result"
    }
   ],
   "source": [
    "val tmp_hour_clicked = df_hist_clicked.select(\"hour\").collect().map(_.toSeq(0)).map(_.toString).map(_.toInt).toVector\n",
    "val tmp_count_clicked = df_hist_clicked.select(\"count\").collect().map(_.toSeq(0)).map(_.toString).map(_.toInt).toVector"
   ]
  },
  {
   "cell_type": "code",
   "execution_count": 33,
   "metadata": {},
   "outputs": [
    {
     "data": {
      "application/vnd.plotly.v1+json": {
       "config": {
        "editable": false,
        "responsive": false,
        "showEditInChartStudio": false
       },
       "data": [
        {
         "type": "bar",
         "x": [
          0,
          1,
          2,
          3,
          4,
          5,
          6,
          7,
          8,
          9,
          10,
          11,
          12,
          13,
          14,
          15,
          16,
          17,
          18,
          19,
          20,
          21,
          22,
          23
         ],
         "y": [
          21653,
          29462,
          41578,
          59806,
          79186,
          95955,
          101542,
          103005,
          105639,
          108082,
          112775,
          117419,
          124520,
          130851,
          141560,
          153342,
          161440,
          159603,
          146755,
          111805,
          64369,
          42839,
          25737,
          19707
         ]
        }
       ],
       "layout": {
        "title": "All clicked bar plot"
       }
      },
      "text/html": [
       "<div class=\"chart\" id=\"plot-c7d4e447-eca4-4a18-bf3c-d267e4aac393\"></div>\n",
       "<script>require(['plotly'], function(Plotly) {\n",
       "  (function () {\n",
       "  var data0 = {\"x\":[0.0,1.0,2.0,3.0,4.0,5.0,6.0,7.0,8.0,9.0,10.0,11.0,12.0,13.0,14.0,15.0,16.0,17.0,18.0,19.0,20.0,21.0,22.0,23.0],\"y\":[21653.0,29462.0,41578.0,59806.0,79186.0,95955.0,101542.0,103005.0,105639.0,108082.0,112775.0,117419.0,124520.0,130851.0,141560.0,153342.0,161440.0,159603.0,146755.0,111805.0,64369.0,42839.0,25737.0,19707.0],\"type\":\"bar\"};\n",
       "\n",
       "  var data = [data0];\n",
       "  var layout = {\"title\":\"All clicked bar plot\"};\n",
       " var config = {\"showEditInChartStudio\":false,\"responsive\":false,\"editable\":false};\n",
       "\n",
       "  Plotly.plot('plot-c7d4e447-eca4-4a18-bf3c-d267e4aac393', data, layout, config);\n",
       "})();\n",
       "});\n",
       "      </script>\n",
       "           "
      ]
     },
     "metadata": {},
     "output_type": "display_data"
    },
    {
     "data": {
      "text/plain": [
       "\u001b[36mdata\u001b[39m: \u001b[32mSeq\u001b[39m[\u001b[32mBar\u001b[39m] = \u001b[33mList\u001b[39m(\n",
       "  \u001b[33mBar\u001b[39m(\n",
       "...\n",
       "\u001b[36mlayout\u001b[39m: \u001b[32mLayout\u001b[39m = \u001b[33mLayout\u001b[39m(\n",
       "  \u001b[33mSome\u001b[39m(\u001b[32m\"All clicked bar plot\"\u001b[39m),\n",
       "...\n",
       "\u001b[36mres32_2\u001b[39m: \u001b[32mString\u001b[39m = \u001b[32m\"plot-c7d4e447-eca4-4a18-bf3c-d267e4aac393\"\u001b[39m"
      ]
     },
     "execution_count": 33,
     "metadata": {},
     "output_type": "execute_result"
    }
   ],
   "source": [
    "// https://alexarchambault.github.io/plotly-scala\n",
    "val data = Seq(\n",
    "  Bar(\n",
    "      tmp_hour_clicked,\n",
    "      tmp_count_clicked\n",
    "  )\n",
    ")\n",
    "\n",
    "val layout = Layout(\n",
    "  title = \"All clicked bar plot\"\n",
    ")\n",
    "\n",
    "plot(data, layout)"
   ]
  },
  {
   "cell_type": "markdown",
   "metadata": {},
   "source": [
    "# View plot"
   ]
  },
  {
   "cell_type": "code",
   "execution_count": 34,
   "metadata": {},
   "outputs": [
    {
     "data": {
      "text/plain": [
       "\u001b[36mdf_hist_viewed\u001b[39m: \u001b[32mDataset\u001b[39m[\u001b[32mRow\u001b[39m] = [hour: int, count: bigint]"
      ]
     },
     "execution_count": 34,
     "metadata": {},
     "output_type": "execute_result"
    }
   ],
   "source": [
    "val df_hist_viewed = df_time.where(col(\"feedback_Viewed_flag\")===1).groupBy(\"hour\").count().orderBy(\"hour\").cache()"
   ]
  },
  {
   "cell_type": "code",
   "execution_count": 35,
   "metadata": {},
   "outputs": [
    {
     "data": {
      "text/html": [
       "<div>\n",
       "  <span style=\"float: left;\">collect at cmd34.sc:1</span>\n",
       "</div>\n"
      ]
     },
     "metadata": {},
     "output_type": "display_data"
    },
    {
     "data": {
      "text/html": [
       "<div class=\"progress\">\n",
       "  <div class=\"progress-bar\" role=\"progressbar\" style=\"background-color: blue; width: 100%; word-wrap: normal; white-space: nowrap; text-align: center; color: white\" aria-valuenow=\"100\" aria-valuemin=\"0\" aria-valuemax=\"100\">\n",
       "    28 / 28\n",
       "  </div>\n",
       "  <div class=\"progress-bar\" role=\"progressbar\" style=\"background-color: red; width: 0%\" aria-valuenow=\"0\" aria-valuemin=\"0\" aria-valuemax=\"100\"></div>\n",
       "</div>\n"
      ]
     },
     "metadata": {},
     "output_type": "display_data"
    },
    {
     "data": {
      "text/html": [
       "<div>\n",
       "  <span style=\"float: left;\">collect at cmd34.sc:1</span>\n",
       "</div>\n"
      ]
     },
     "metadata": {},
     "output_type": "display_data"
    },
    {
     "data": {
      "text/html": [
       "<div class=\"progress\">\n",
       "  <div class=\"progress-bar\" role=\"progressbar\" style=\"background-color: blue; width: 100%; word-wrap: normal; white-space: nowrap; text-align: center; color: white\" aria-valuenow=\"100\" aria-valuemin=\"0\" aria-valuemax=\"100\">\n",
       "    200 / 200\n",
       "  </div>\n",
       "  <div class=\"progress-bar\" role=\"progressbar\" style=\"background-color: red; width: 0%\" aria-valuenow=\"0\" aria-valuemin=\"0\" aria-valuemax=\"100\"></div>\n",
       "</div>\n"
      ]
     },
     "metadata": {},
     "output_type": "display_data"
    },
    {
     "data": {
      "text/html": [
       "<div>\n",
       "  <span style=\"float: left;\">collect at cmd34.sc:1</span>\n",
       "</div>\n"
      ]
     },
     "metadata": {},
     "output_type": "display_data"
    },
    {
     "data": {
      "text/html": [
       "<div class=\"progress\">\n",
       "  <div class=\"progress-bar\" role=\"progressbar\" style=\"background-color: blue; width: 100%; word-wrap: normal; white-space: nowrap; text-align: center; color: white\" aria-valuenow=\"100\" aria-valuemin=\"0\" aria-valuemax=\"100\">\n",
       "    200 / 200\n",
       "  </div>\n",
       "  <div class=\"progress-bar\" role=\"progressbar\" style=\"background-color: red; width: 0%\" aria-valuenow=\"0\" aria-valuemin=\"0\" aria-valuemax=\"100\"></div>\n",
       "</div>\n"
      ]
     },
     "metadata": {},
     "output_type": "display_data"
    },
    {
     "data": {
      "text/html": [
       "<div>\n",
       "  <span style=\"float: left;\">collect at cmd34.sc:1</span>\n",
       "</div>\n"
      ]
     },
     "metadata": {},
     "output_type": "display_data"
    },
    {
     "data": {
      "text/html": [
       "<div class=\"progress\">\n",
       "  <div class=\"progress-bar\" role=\"progressbar\" style=\"background-color: blue; width: 100%; word-wrap: normal; white-space: nowrap; text-align: center; color: white\" aria-valuenow=\"100\" aria-valuemin=\"0\" aria-valuemax=\"100\">\n",
       "    24 / 24\n",
       "  </div>\n",
       "  <div class=\"progress-bar\" role=\"progressbar\" style=\"background-color: red; width: 0%\" aria-valuenow=\"0\" aria-valuemin=\"0\" aria-valuemax=\"100\"></div>\n",
       "</div>\n"
      ]
     },
     "metadata": {},
     "output_type": "display_data"
    },
    {
     "data": {
      "text/html": [
       "<div>\n",
       "  <span style=\"float: left;\">collect at cmd34.sc:2</span>\n",
       "</div>\n"
      ]
     },
     "metadata": {},
     "output_type": "display_data"
    },
    {
     "data": {
      "text/html": [
       "<div class=\"progress\">\n",
       "  <div class=\"progress-bar\" role=\"progressbar\" style=\"background-color: blue; width: 100%; word-wrap: normal; white-space: nowrap; text-align: center; color: white\" aria-valuenow=\"100\" aria-valuemin=\"0\" aria-valuemax=\"100\">\n",
       "    24 / 24\n",
       "  </div>\n",
       "  <div class=\"progress-bar\" role=\"progressbar\" style=\"background-color: red; width: 0%\" aria-valuenow=\"0\" aria-valuemin=\"0\" aria-valuemax=\"100\"></div>\n",
       "</div>\n"
      ]
     },
     "metadata": {},
     "output_type": "display_data"
    },
    {
     "data": {
      "text/plain": [
       "\u001b[36mtmp_hour_viewed\u001b[39m: \u001b[32mVector\u001b[39m[\u001b[32mInt\u001b[39m] = \u001b[33mVector\u001b[39m(\n",
       "  \u001b[32m0\u001b[39m,\n",
       "...\n",
       "\u001b[36mtmp_count_viewed\u001b[39m: \u001b[32mVector\u001b[39m[\u001b[32mInt\u001b[39m] = \u001b[33mVector\u001b[39m(\n",
       "  \u001b[32m1496\u001b[39m,\n",
       "..."
      ]
     },
     "execution_count": 35,
     "metadata": {},
     "output_type": "execute_result"
    }
   ],
   "source": [
    "val tmp_hour_viewed = df_hist_viewed.select(\"hour\").collect().map(_.toSeq(0)).map(_.toString).map(_.toInt).toVector\n",
    "val tmp_count_viewed = df_hist_viewed.select(\"count\").collect().map(_.toSeq(0)).map(_.toString).map(_.toInt).toVector"
   ]
  },
  {
   "cell_type": "code",
   "execution_count": 36,
   "metadata": {},
   "outputs": [
    {
     "data": {
      "application/vnd.plotly.v1+json": {
       "config": {
        "editable": false,
        "responsive": false,
        "showEditInChartStudio": false
       },
       "data": [
        {
         "type": "bar",
         "x": [
          0,
          1,
          2,
          3,
          4,
          5,
          6,
          7,
          8,
          9,
          10,
          11,
          12,
          13,
          14,
          15,
          16,
          17,
          18,
          19,
          20,
          21,
          22,
          23
         ],
         "y": [
          1496,
          1959,
          2807,
          3983,
          5308,
          6543,
          7197,
          7404,
          7594,
          8031,
          8266,
          8774,
          9211,
          9763,
          10783,
          11906,
          12633,
          12564,
          11773,
          9084,
          6446,
          3167,
          1925,
          1414
         ]
        }
       ],
       "layout": {
        "title": "All viewed bar plot"
       }
      },
      "text/html": [
       "<div class=\"chart\" id=\"plot-b02ee180-02f4-428a-b38b-7a3e7c772928\"></div>\n",
       "<script>require(['plotly'], function(Plotly) {\n",
       "  (function () {\n",
       "  var data0 = {\"x\":[0.0,1.0,2.0,3.0,4.0,5.0,6.0,7.0,8.0,9.0,10.0,11.0,12.0,13.0,14.0,15.0,16.0,17.0,18.0,19.0,20.0,21.0,22.0,23.0],\"y\":[1496.0,1959.0,2807.0,3983.0,5308.0,6543.0,7197.0,7404.0,7594.0,8031.0,8266.0,8774.0,9211.0,9763.0,10783.0,11906.0,12633.0,12564.0,11773.0,9084.0,6446.0,3167.0,1925.0,1414.0],\"type\":\"bar\"};\n",
       "\n",
       "  var data = [data0];\n",
       "  var layout = {\"title\":\"All viewed bar plot\"};\n",
       " var config = {\"showEditInChartStudio\":false,\"responsive\":false,\"editable\":false};\n",
       "\n",
       "  Plotly.plot('plot-b02ee180-02f4-428a-b38b-7a3e7c772928', data, layout, config);\n",
       "})();\n",
       "});\n",
       "      </script>\n",
       "           "
      ]
     },
     "metadata": {},
     "output_type": "display_data"
    },
    {
     "data": {
      "text/plain": [
       "\u001b[36mdata\u001b[39m: \u001b[32mSeq\u001b[39m[\u001b[32mBar\u001b[39m] = \u001b[33mList\u001b[39m(\n",
       "  \u001b[33mBar\u001b[39m(\n",
       "...\n",
       "\u001b[36mlayout\u001b[39m: \u001b[32mLayout\u001b[39m = \u001b[33mLayout\u001b[39m(\n",
       "  \u001b[33mSome\u001b[39m(\u001b[32m\"All viewed bar plot\"\u001b[39m),\n",
       "...\n",
       "\u001b[36mres35_2\u001b[39m: \u001b[32mString\u001b[39m = \u001b[32m\"plot-b02ee180-02f4-428a-b38b-7a3e7c772928\"\u001b[39m"
      ]
     },
     "execution_count": 36,
     "metadata": {},
     "output_type": "execute_result"
    }
   ],
   "source": [
    "// https://alexarchambault.github.io/plotly-scala\n",
    "val data = Seq(\n",
    "  Bar(\n",
    "      tmp_hour_viewed,\n",
    "      tmp_count_viewed\n",
    "  )\n",
    ")\n",
    "\n",
    "val layout = Layout(\n",
    "  title = \"All viewed bar plot\"\n",
    ")\n",
    "\n",
    "plot(data, layout)"
   ]
  },
  {
   "cell_type": "code",
   "execution_count": 37,
   "metadata": {},
   "outputs": [
    {
     "data": {
      "text/html": [
       "<div>\n",
       "  <span style=\"float: left;\">show at cmd36.sc:1</span>\n",
       "</div>\n"
      ]
     },
     "metadata": {},
     "output_type": "display_data"
    },
    {
     "data": {
      "text/html": [
       "<div class=\"progress\">\n",
       "  <div class=\"progress-bar\" role=\"progressbar\" style=\"background-color: blue; width: 100%; word-wrap: normal; white-space: nowrap; text-align: center; color: white\" aria-valuenow=\"100\" aria-valuemin=\"0\" aria-valuemax=\"100\">\n",
       "    1 / 1\n",
       "  </div>\n",
       "  <div class=\"progress-bar\" role=\"progressbar\" style=\"background-color: red; width: 0%\" aria-valuenow=\"0\" aria-valuemin=\"0\" aria-valuemax=\"100\"></div>\n",
       "</div>\n"
      ]
     },
     "metadata": {},
     "output_type": "display_data"
    },
    {
     "name": "stdout",
     "output_type": "stream",
     "text": [
      "+-------------------+---------------------+--------------------+\n",
      "|feedback_Liked_flag|feedback_Clicked_flag|feedback_Viewed_flag|\n",
      "+-------------------+---------------------+--------------------+\n",
      "|                  1|                    0|                   0|\n",
      "|                  1|                    1|                   0|\n",
      "|                  1|                    0|                   0|\n",
      "|                  0|                    0|                   0|\n",
      "|                  0|                    0|                   0|\n",
      "+-------------------+---------------------+--------------------+\n",
      "only showing top 5 rows\n",
      "\n"
     ]
    }
   ],
   "source": [
    "df_flags.select(\"feedback_Liked_flag\", \"feedback_Clicked_flag\", \"feedback_Viewed_flag\").show(5)"
   ]
  },
  {
   "cell_type": "markdown",
   "metadata": {},
   "source": [
    "# Feedback Liked correlation"
   ]
  },
  {
   "cell_type": "code",
   "execution_count": 26,
   "metadata": {},
   "outputs": [
    {
     "data": {
      "text/plain": [
       "\u001b[36mliked_flag_corr\u001b[39m: \u001b[32mcollection\u001b[39m.\u001b[32mmutable\u001b[39m.\u001b[32mMap\u001b[39m[\u001b[32mString\u001b[39m, \u001b[32mDouble\u001b[39m] = \u001b[33mMap\u001b[39m()\n",
       "\u001b[36mliked_flag_cov\u001b[39m: \u001b[32mcollection\u001b[39m.\u001b[32mmutable\u001b[39m.\u001b[32mMap\u001b[39m[\u001b[32mString\u001b[39m, \u001b[32mDouble\u001b[39m] = \u001b[33mMap\u001b[39m()"
      ]
     },
     "execution_count": 26,
     "metadata": {},
     "output_type": "execute_result"
    }
   ],
   "source": [
    "val liked_flag_corr = scala.collection.mutable.Map[String,Double]()\n",
    "val liked_flag_cov = scala.collection.mutable.Map[String,Double]()"
   ]
  },
  {
   "cell_type": "code",
   "execution_count": null,
   "metadata": {},
   "outputs": [],
   "source": [
    "for (elem <- df_flags.schema) {\n",
    "    if ( (elem.dataType.toString != \"StringType\") & (elem.dataType.toString != \"ArrayType(StringType,true)\")\n",
    "       & (elem.dataType.toString != \"DateType\") & (elem.name != \"feedback_Liked_flag\")\n",
    "       )  {\n",
    "        liked_flag_corr += elem.name -> df_flags.stat.corr(\"feedback_Liked_flag\", elem.name)\n",
    "    }\n",
    "}"
   ]
  },
  {
   "cell_type": "code",
   "execution_count": 40,
   "metadata": {},
   "outputs": [
    {
     "name": "stdout",
     "output_type": "stream",
     "text": [
      "+--------------------+--------------------+\n",
      "|                name|                corr|\n",
      "+--------------------+--------------------+\n",
      "|     audit_timestamp|-0.00196274844152...|\n",
      "|auditweights_user...|                 NaN|\n",
      "|ownerUserCounters...|                 NaN|\n",
      "|auditweights_user...|                 NaN|\n",
      "|auditweights_user...|-0.01057874993249...|\n",
      "|auditweights_partSvd|                 NaN|\n",
      "|   user_is_activated|-0.00178984943993...|\n",
      "|   metadata_authorId|0.007233333042612959|\n",
      "|userOwnerCounters...|                 NaN|\n",
      "|auditweights_isRa...| 0.08935913247486381|\n",
      "|           audit_pos|0.005763417569643012|\n",
      "|ownerUserCounters...|                 NaN|\n",
      "|ownerUserCounters...|                 NaN|\n",
      "|auditweights_frie...|-0.01049097762314...|\n",
      "|userOwnerCounters...|                 NaN|\n",
      "|ownerUserCounters...|                 NaN|\n",
      "|membership_status...|-0.04364947249430642|\n",
      "|        owner_status|                 NaN|\n",
      "| owner_change_datime|                 NaN|\n",
      "|auditweights_svd_...| 0.08727070887180606|\n",
      "|auditweights_x_Ac...|6.060237901498659E-4|\n",
      "|feedback_Clicked_...| 0.06857595251028177|\n",
      "|  auditweights_ageMs|0.029562788958623756|\n",
      "|     user_birth_date| 0.02690195734205403|\n",
      "|      user_is_abused|0.002356005061401...|\n",
      "|auditweights_frie...|0.025632801923255302|\n",
      "|userOwnerCounters...|-0.05386386392416758|\n",
      "|metadata_totalVid...|-0.01438299579087669|\n",
      "|auditweights_ctr_...|-6.13743363805093...|\n",
      "| auditweights_closed|-1.08115909152225...|\n",
      "|ownerUserCounters...|                 NaN|\n",
      "|auditweights_user...|-0.01432352742961...|\n",
      "|ownerUserCounters...|                 NaN|\n",
      "|  metadata_createdAt|7.344791555100961E-4|\n",
      "|ownerUserCounters...|                 NaN|\n",
      "|ownerUserCounters...|                 NaN|\n",
      "|ownerUserCounters...|                 NaN|\n",
      "|         user_gender|0.008807160657057366|\n",
      "|auditweights_numD...|0.004699932609500616|\n",
      "|auditweights_user...|                 NaN|\n",
      "|auditweights_partAge|                 NaN|\n",
      "|userOwnerCounters...|                 NaN|\n",
      "|userOwnerCounters...|                 NaN|\n",
      "|user_is_semiactiv...|-8.02473108305165...|\n",
      "|   instanceId_userId|0.031972287845657504|\n",
      "|userOwnerCounters...|                 NaN|\n",
      "|    owner_birth_date|                 NaN|\n",
      "|auditweights_frie...|-0.01064134079555...|\n",
      "|ownerUserCounters...|                 NaN|\n",
      "|     owner_is_active|                 NaN|\n",
      "|userOwnerCounters...|                 NaN|\n",
      "|auditweights_ctr_...|0.003031238623504669|\n",
      "|userOwnerCounters...|                 NaN|\n",
      "|       relationsMask|                 NaN|\n",
      "|auditweights_dail...|-0.03159876584930...|\n",
      "|   owner_create_date|                 NaN|\n",
      "|auditweights_user...|-0.00998687453121631|\n",
      "|auditweights_like...| 0.02946615200101329|\n",
      "|userOwnerCounters...|                 NaN|\n",
      "|  user_change_datime|0.014111314988925585|\n",
      "|auditweights_user...|                 NaN|\n",
      "|         user_status|-0.01421233533373...|\n",
      "|auditweights_user...|                 NaN|\n",
      "|auditweights_user...|0.004781881811671488|\n",
      "|auditweights_proc...|-0.03667224467442...|\n",
      "|     user_is_deleted|3.134759820245510...|\n",
      "|auditweights_ctr_...| 0.14548656923888414|\n",
      "|auditweights_user...|                 NaN|\n",
      "|userOwnerCounters...|                 NaN|\n",
      "|userOwnerCounters...|                 NaN|\n",
      "|ownerUserCounters...|                 NaN|\n",
      "|ownerUserCounters...|                 NaN|\n",
      "|        owner_region|                 NaN|\n",
      "|userOwnerCounters...| 8.00156430164783E-4|\n",
      "|ownerUserCounters...|                 NaN|\n",
      "|auditweights_numL...|0.016641225454093536|\n",
      "|    user_create_date|0.037037599874361234|\n",
      "|auditweights_user...|-0.02164789127290...|\n",
      "|ownerUserCounters...|                 NaN|\n",
      "|     user_ID_country|7.915247352060726E-5|\n",
      "|   metadata_numPolls| 0.08114650487156021|\n",
      "|auditweights_user...|                 NaN|\n",
      "|auditweights_svd_...| 0.07708519000155038|\n",
      "|userOwnerCounters...|-3.11496791093679...|\n",
      "|auditweights_like...|0.027086832377157664|\n",
      "|ownerUserCounters...|                 NaN|\n",
      "|ownerUserCounters...|                 NaN|\n",
      "|auditweights_sour...|5.873507881900978E-5|\n",
      "|auditweights_notO...|-0.03948972878192...|\n",
      "|ownerUserCounters...|                 NaN|\n",
      "|auditweights_user...|                 NaN|\n",
      "|auditweights_partCtr|                 NaN|\n",
      "|userOwnerCounters...|-0.00751328132100...|\n",
      "|    owner_is_deleted|                 NaN|\n",
      "|auditweights_user...|                 NaN|\n",
      "|auditweights_userAge|-0.02689810140279312|\n",
      "|auditweights_user...|                 NaN|\n",
      "|userOwnerCounters...|-0.00545294638279...|\n",
      "|userOwnerCounters...|-0.00146598332166...|\n",
      "|    metadata_ownerId|0.011679487961495113|\n",
      "| auditweights_isPymk|                 NaN|\n",
      "|auditweights_feed...|-0.04115756963269461|\n",
      "| instanceId_objectId| 0.03876479710067907|\n",
      "|    owner_ID_country|                 NaN|\n",
      "|auditweights_hasText|-0.03908567010678...|\n",
      "|    audit_timePassed|0.013533036575524455|\n",
      "|ownerUserCounters...|                 NaN|\n",
      "|userOwnerCounters...|                 NaN|\n",
      "|  owner_is_activated|                 NaN|\n",
      "|            objectId| 0.03876479710067908|\n",
      "|userOwnerCounters...|                 NaN|\n",
      "|   owner_ID_Location|                 NaN|\n",
      "|    user_ID_Location|0.001540202287799...|\n",
      "| auditweights_matrix|0.019294708491117068|\n",
      "|ownerUserCounters...|                 NaN|\n",
      "|owner_is_semiacti...|                 NaN|\n",
      "|metadata_applicat...|                 NaN|\n",
      "|userOwnerCounters...|                 NaN|\n",
      "|auditweights_sour...|                 NaN|\n",
      "|userOwnerCounters...|-7.15800264107438E-4|\n",
      "|auditweights_user...|-0.02856923497346594|\n",
      "|auditweights_user...|-0.00576434563037...|\n",
      "|auditweights_user...| 0.09307435148866375|\n",
      "|auditweights_user...|                 NaN|\n",
      "|auditweights_frie...|0.026227222046509246|\n",
      "|         user_region|-0.01257559545178...|\n",
      "|  metadata_numPhotos|0.011189914312247775|\n",
      "|ownerUserCounters...|                 NaN|\n",
      "|     owner_is_abused|                 NaN|\n",
      "|  metadata_numVideos|-0.01294031790295...|\n",
      "|membership_joinRe...|-0.01629989587427...|\n",
      "|      user_is_active|-0.00270953541906...|\n",
      "|ownerUserCounters...|                 NaN|\n",
      "|userOwnerCounters...|                 NaN|\n",
      "| metadata_numSymbols|-0.03328405797098007|\n",
      "|auditweights_rela...|                 NaN|\n",
      "|userOwnerCounters...|-0.00764752641684301|\n",
      "|auditweights_hasD...|-4.43267740927347...|\n",
      "| membership_joinDate|-0.04359326640957517|\n",
      "|userOwnerCounters...| 0.08072226903427328|\n",
      "|userOwnerCounters...|8.023802180421282E-4|\n",
      "|feedback_Viewed_flag|-0.02269569370288822|\n",
      "|auditweights_sour...|                 NaN|\n",
      "|ownerUserCounters...|                 NaN|\n",
      "|  audit_resourceType|0.045568146188592694|\n",
      "|ownerUserCounters...|                 NaN|\n",
      "|  metadata_numTokens|-0.03328994955853081|\n",
      "|userOwnerCounters...|                 NaN|\n",
      "|ownerUserCounters...|                 NaN|\n",
      "|auditweights_feed...| 0.04411815162020821|\n",
      "|ownerUserCounters...|                 NaN|\n",
      "|auditweights_onli...|-0.00796964784069...|\n",
      "|auditweights_user...|                 NaN|\n",
      "|userOwnerCounters...|                 NaN|\n",
      "|metadata_numCompa...|-0.00484967622806...|\n",
      "|ownerUserCounters...|                 NaN|\n",
      "|auditweights_user...|                 NaN|\n",
      "|userOwnerCounters...|                 NaN|\n",
      "|auditweights_numS...|2.794066055040765...|\n",
      "|auditweights_like...| 0.03274357484307455|\n",
      "|        owner_gender|                 NaN|\n",
      "|ownerUserCounters...|                 NaN|\n",
      "+--------------------+--------------------+\n",
      "\n"
     ]
    },
    {
     "data": {
      "text/plain": [
       "\u001b[36mdf_liked_flag_corr\u001b[39m: \u001b[32mDataFrame\u001b[39m = [name: string, corr: double]"
      ]
     },
     "execution_count": 40,
     "metadata": {},
     "output_type": "execute_result"
    }
   ],
   "source": [
    "val df_liked_flag_corr = liked_flag_corr.toSeq.toDF(\"name\", \"corr\")\n",
    "df_liked_flag_corr.show(200)"
   ]
  },
  {
   "cell_type": "markdown",
   "metadata": {},
   "source": [
    "# Feedback Clicked correlation"
   ]
  },
  {
   "cell_type": "code",
   "execution_count": 27,
   "metadata": {},
   "outputs": [
    {
     "data": {
      "text/plain": [
       "\u001b[36mclicked_flag_corr\u001b[39m: \u001b[32mcollection\u001b[39m.\u001b[32mmutable\u001b[39m.\u001b[32mMap\u001b[39m[\u001b[32mString\u001b[39m, \u001b[32mDouble\u001b[39m] = \u001b[33mMap\u001b[39m()\n",
       "\u001b[36mclicked_flag_cov\u001b[39m: \u001b[32mcollection\u001b[39m.\u001b[32mmutable\u001b[39m.\u001b[32mMap\u001b[39m[\u001b[32mString\u001b[39m, \u001b[32mDouble\u001b[39m] = \u001b[33mMap\u001b[39m()"
      ]
     },
     "execution_count": 27,
     "metadata": {},
     "output_type": "execute_result"
    }
   ],
   "source": [
    "val clicked_flag_corr = scala.collection.mutable.Map[String,Double]()\n",
    "val clicked_flag_cov = scala.collection.mutable.Map[String,Double]()"
   ]
  },
  {
   "cell_type": "code",
   "execution_count": null,
   "metadata": {},
   "outputs": [],
   "source": [
    "for (elem <- df_flags.schema) {\n",
    "    if ( (elem.dataType.toString != \"StringType\") & (elem.dataType.toString != \"ArrayType(StringType,true)\")\n",
    "       & (elem.dataType.toString != \"DateType\") & (elem.name != \"feedback_Clicked_flag\")\n",
    "       )  {\n",
    "        clicked_flag_corr += elem.name -> df_flags.stat.corr(\"feedback_Clicked_flag\", elem.name)\n",
    "    }\n",
    "}"
   ]
  },
  {
   "cell_type": "code",
   "execution_count": 29,
   "metadata": {},
   "outputs": [
    {
     "name": "stdout",
     "output_type": "stream",
     "text": [
      "+--------------------+--------------------+\n",
      "|                name|                corr|\n",
      "+--------------------+--------------------+\n",
      "|     audit_timestamp|-0.00271881167382...|\n",
      "|auditweights_user...|                 NaN|\n",
      "|ownerUserCounters...|                 NaN|\n",
      "|auditweights_user...|                 NaN|\n",
      "|auditweights_user...|0.045602424465965505|\n",
      "|auditweights_partSvd|                 NaN|\n",
      "|   user_is_activated|4.782788156491318...|\n",
      "|   metadata_authorId|-0.00691360987401...|\n",
      "|userOwnerCounters...|                 NaN|\n",
      "|auditweights_isRa...|0.056966288112293234|\n",
      "|           audit_pos|-0.00385700979785...|\n",
      "|ownerUserCounters...|                 NaN|\n",
      "|ownerUserCounters...|                 NaN|\n",
      "|auditweights_frie...|0.021223367554136247|\n",
      "|userOwnerCounters...|                 NaN|\n",
      "|ownerUserCounters...|                 NaN|\n",
      "|membership_status...|-0.02002750273713564|\n",
      "|        owner_status|                 NaN|\n",
      "| owner_change_datime|                 NaN|\n",
      "|auditweights_svd_...|-2.89558666191746...|\n",
      "|auditweights_x_Ac...|0.002150079912917...|\n",
      "|  auditweights_ageMs| 0.02490761123591839|\n",
      "|     user_birth_date|-0.07475367877694332|\n",
      "|      user_is_abused|-8.62012820857734E-4|\n",
      "|auditweights_frie...|-0.00351034117393...|\n",
      "|userOwnerCounters...|-0.03695213324885...|\n",
      "|metadata_totalVid...|0.027192647746371444|\n",
      "|auditweights_ctr_...|0.003740011890273...|\n",
      "| auditweights_closed|-8.77844213077514...|\n",
      "|ownerUserCounters...|                 NaN|\n",
      "|auditweights_user...|0.048645685556760354|\n",
      "|ownerUserCounters...|                 NaN|\n",
      "|  metadata_createdAt|-0.01365890935452212|\n",
      "|ownerUserCounters...|                 NaN|\n",
      "|ownerUserCounters...|                 NaN|\n",
      "|ownerUserCounters...|                 NaN|\n",
      "|         user_gender| 0.01727547889131343|\n",
      "|auditweights_numD...|0.050843424687972524|\n",
      "|auditweights_user...|                 NaN|\n",
      "|auditweights_partAge|                 NaN|\n",
      "|userOwnerCounters...|                 NaN|\n",
      "|userOwnerCounters...|                 NaN|\n",
      "|user_is_semiactiv...|1.118330280790208...|\n",
      "|   instanceId_userId| -0.0158571622643438|\n",
      "|userOwnerCounters...|                 NaN|\n",
      "|    owner_birth_date|                 NaN|\n",
      "|auditweights_frie...|0.021698137098370786|\n",
      "|ownerUserCounters...|                 NaN|\n",
      "|     owner_is_active|                 NaN|\n",
      "|userOwnerCounters...|                 NaN|\n",
      "|auditweights_ctr_...|0.001966361010703185|\n",
      "|userOwnerCounters...|                 NaN|\n",
      "|       relationsMask|                 NaN|\n",
      "|auditweights_dail...|-0.02638361682346991|\n",
      "|   owner_create_date|                 NaN|\n",
      "|auditweights_user...|-0.00277071154366...|\n",
      "|auditweights_like...|0.003288972244287...|\n",
      "|userOwnerCounters...|                 NaN|\n",
      "|  user_change_datime|-0.01122930913501...|\n",
      "|auditweights_user...|                 NaN|\n",
      "|         user_status|0.009400385690184507|\n",
      "|auditweights_user...|                 NaN|\n",
      "|auditweights_user...|9.181422982900858E-4|\n",
      "|auditweights_proc...|  0.1584758073937317|\n",
      "|     user_is_deleted|-0.00111011982583...|\n",
      "|auditweights_ctr_...|-0.00530738915559...|\n",
      "|auditweights_user...|                 NaN|\n",
      "|userOwnerCounters...|                 NaN|\n",
      "|userOwnerCounters...|                 NaN|\n",
      "|ownerUserCounters...|                 NaN|\n",
      "|ownerUserCounters...|                 NaN|\n",
      "|        owner_region|                 NaN|\n",
      "|userOwnerCounters...|-0.00259625910490...|\n",
      "|ownerUserCounters...|                 NaN|\n",
      "|auditweights_numL...| 0.05551618291747824|\n",
      "|    user_create_date|-0.01780776684622995|\n",
      "|auditweights_user...|-0.00659229907102...|\n",
      "|ownerUserCounters...|                 NaN|\n",
      "|     user_ID_country|-8.01364551156788E-4|\n",
      "|   metadata_numPolls| 0.08121716765396786|\n",
      "|auditweights_user...|                 NaN|\n",
      "|auditweights_svd_...|-7.01955208450155...|\n",
      "|userOwnerCounters...|-0.00218847218853...|\n",
      "|auditweights_like...|6.164088017635971E-4|\n",
      "|ownerUserCounters...|                 NaN|\n",
      "|ownerUserCounters...|                 NaN|\n",
      "|auditweights_sour...|0.001882546350314...|\n",
      "|auditweights_notO...|-0.02491135039542...|\n",
      "|ownerUserCounters...|                 NaN|\n",
      "|auditweights_user...|                 NaN|\n",
      "|auditweights_partCtr|                 NaN|\n",
      "|userOwnerCounters...|0.016941772585416442|\n",
      "|    owner_is_deleted|                 NaN|\n",
      "|auditweights_user...|                 NaN|\n",
      "|auditweights_userAge| 0.07475542898655073|\n",
      "|auditweights_user...|                 NaN|\n",
      "|userOwnerCounters...|0.003854088249347...|\n",
      "|userOwnerCounters...|-0.00242575208308...|\n",
      "|    metadata_ownerId|0.012641827492164652|\n",
      "| auditweights_isPymk|                 NaN|\n",
      "|auditweights_feed...|-0.02403514237248...|\n",
      "| instanceId_objectId|-0.06738577334489533|\n",
      "|    owner_ID_country|                 NaN|\n",
      "|auditweights_hasText|-0.02476446686436...|\n",
      "|    audit_timePassed|0.005472519396109878|\n",
      "|ownerUserCounters...|                 NaN|\n",
      "|userOwnerCounters...|                 NaN|\n",
      "|  owner_is_activated|                 NaN|\n",
      "|            objectId|-0.06738577334489534|\n",
      "|userOwnerCounters...|                 NaN|\n",
      "|   owner_ID_Location|                 NaN|\n",
      "|    user_ID_Location|-0.00728521916275...|\n",
      "| auditweights_matrix|-0.00412413822994...|\n",
      "|ownerUserCounters...|                 NaN|\n",
      "|owner_is_semiacti...|                 NaN|\n",
      "|metadata_applicat...|                 NaN|\n",
      "|userOwnerCounters...|                 NaN|\n",
      "|auditweights_sour...|                 NaN|\n",
      "|userOwnerCounters...|-0.00147798758612...|\n",
      "|auditweights_user...|-0.01321123880513...|\n",
      "|auditweights_user...|-0.00123026836299...|\n",
      "|auditweights_user...|-0.06153169593419513|\n",
      "|auditweights_user...|                 NaN|\n",
      "|auditweights_frie...|-0.00283136742749...|\n",
      "|         user_region|  0.0167243959036792|\n",
      "|  metadata_numPhotos|-0.01132483654908...|\n",
      "|ownerUserCounters...|                 NaN|\n",
      "|     owner_is_abused|                 NaN|\n",
      "|  metadata_numVideos| 0.06550316805103593|\n",
      "|membership_joinRe...|0.009317383689717877|\n",
      "|      user_is_active|0.001398242305686...|\n",
      "|ownerUserCounters...|                 NaN|\n",
      "|userOwnerCounters...|                 NaN|\n",
      "| metadata_numSymbols| 0.12579928804772506|\n",
      "|auditweights_rela...|                 NaN|\n",
      "|userOwnerCounters...|0.002105185609446195|\n",
      "|auditweights_hasD...|1.411321453620150...|\n",
      "| membership_joinDate|-0.02000519823806...|\n",
      "|userOwnerCounters...|-0.02684808202825644|\n",
      "|userOwnerCounters...|-0.00133392021752...|\n",
      "|feedback_Viewed_flag| 0.13755987765139238|\n",
      "|auditweights_sour...|                 NaN|\n",
      "|ownerUserCounters...|                 NaN|\n",
      "|  audit_resourceType|-0.03765087892897923|\n",
      "|ownerUserCounters...|                 NaN|\n",
      "| feedback_Liked_flag| 0.06857595251028178|\n",
      "|  metadata_numTokens| 0.12708054844505173|\n",
      "|userOwnerCounters...|                 NaN|\n",
      "|ownerUserCounters...|                 NaN|\n",
      "|auditweights_feed...|-0.02907774505008...|\n",
      "|ownerUserCounters...|                 NaN|\n",
      "|auditweights_onli...|0.015336481497362385|\n",
      "|auditweights_user...|                 NaN|\n",
      "|userOwnerCounters...|                 NaN|\n",
      "|metadata_numCompa...|1.134038917659911E-4|\n",
      "|ownerUserCounters...|                 NaN|\n",
      "|auditweights_user...|                 NaN|\n",
      "|userOwnerCounters...|                 NaN|\n",
      "|auditweights_numS...|5.859958054986013E-4|\n",
      "|auditweights_like...|-0.00628248360423...|\n",
      "|        owner_gender|                 NaN|\n",
      "|ownerUserCounters...|                 NaN|\n",
      "+--------------------+--------------------+\n",
      "\n"
     ]
    },
    {
     "data": {
      "text/plain": [
       "\u001b[36mdf_clicked_flag_corr\u001b[39m: \u001b[32mDataFrame\u001b[39m = [name: string, corr: double]"
      ]
     },
     "execution_count": 29,
     "metadata": {},
     "output_type": "execute_result"
    }
   ],
   "source": [
    "val df_clicked_flag_corr = clicked_flag_corr.toSeq.toDF(\"name\", \"corr\")\n",
    "df_clicked_flag_corr.show(200)"
   ]
  },
  {
   "cell_type": "markdown",
   "metadata": {},
   "source": [
    "# Feedback Viewed correlation "
   ]
  },
  {
   "cell_type": "code",
   "execution_count": 26,
   "metadata": {},
   "outputs": [
    {
     "data": {
      "text/plain": [
       "\u001b[36mview_flag_corr\u001b[39m: \u001b[32mcollection\u001b[39m.\u001b[32mmutable\u001b[39m.\u001b[32mMap\u001b[39m[\u001b[32mString\u001b[39m, \u001b[32mDouble\u001b[39m] = \u001b[33mMap\u001b[39m()\n",
       "\u001b[36mview_flag_cov\u001b[39m: \u001b[32mcollection\u001b[39m.\u001b[32mmutable\u001b[39m.\u001b[32mMap\u001b[39m[\u001b[32mString\u001b[39m, \u001b[32mDouble\u001b[39m] = \u001b[33mMap\u001b[39m()"
      ]
     },
     "execution_count": 26,
     "metadata": {},
     "output_type": "execute_result"
    }
   ],
   "source": [
    "val view_flag_corr = scala.collection.mutable.Map[String,Double]()\n",
    "val view_flag_cov = scala.collection.mutable.Map[String,Double]()"
   ]
  },
  {
   "cell_type": "code",
   "execution_count": null,
   "metadata": {},
   "outputs": [],
   "source": [
    "for (elem <- df_flags.schema) {\n",
    "    if ( (elem.dataType.toString != \"StringType\") & (elem.dataType.toString != \"ArrayType(StringType,true)\")\n",
    "       & (elem.dataType.toString != \"DateType\") & (elem.name != \"feedback_Viewed_flag\")\n",
    "       \n",
    "       \n",
    "       )  {\n",
    "        view_flag_corr += elem.name -> df_flags.stat.corr(\"feedback_Viewed_flag\", elem.name)\n",
    "    }\n",
    "}"
   ]
  },
  {
   "cell_type": "code",
   "execution_count": 32,
   "metadata": {},
   "outputs": [
    {
     "name": "stdout",
     "output_type": "stream",
     "text": [
      "+--------------------+--------------------+\n",
      "|                name|                corr|\n",
      "+--------------------+--------------------+\n",
      "|     audit_timestamp|-0.00417983697636...|\n",
      "|auditweights_user...|                 NaN|\n",
      "|ownerUserCounters...|                 NaN|\n",
      "|auditweights_user...|                 NaN|\n",
      "|auditweights_user...|0.005781136003325965|\n",
      "|auditweights_partSvd|                 NaN|\n",
      "|   user_is_activated|3.320926485636930...|\n",
      "|   metadata_authorId|-0.04477702002512947|\n",
      "|userOwnerCounters...|                 NaN|\n",
      "|auditweights_isRa...|0.015134480580451286|\n",
      "|           audit_pos|0.017989935921300836|\n",
      "|ownerUserCounters...|                 NaN|\n",
      "|ownerUserCounters...|                 NaN|\n",
      "|auditweights_frie...|  0.0198370881648911|\n",
      "|userOwnerCounters...|                 NaN|\n",
      "|ownerUserCounters...|                 NaN|\n",
      "|membership_status...| 0.02347187229860836|\n",
      "|        owner_status|                 NaN|\n",
      "| owner_change_datime|                 NaN|\n",
      "|auditweights_svd_...|-0.01430912793697396|\n",
      "|auditweights_x_Ac...|-0.00114572620527...|\n",
      "|feedback_Clicked_...| 0.13755987765139238|\n",
      "|  auditweights_ageMs|-0.00871467833720...|\n",
      "|     user_birth_date|-0.00380660528195...|\n",
      "|      user_is_abused|-4.11678687353367...|\n",
      "|auditweights_frie...|-0.01172364372138079|\n",
      "|userOwnerCounters...|-0.00866177769103...|\n",
      "|metadata_totalVid...|-0.00202755302110...|\n",
      "|auditweights_ctr_...|-3.76701095898757...|\n",
      "| auditweights_closed|-2.26547985161609...|\n",
      "|ownerUserCounters...|                 NaN|\n",
      "|auditweights_user...|0.013508663542304514|\n",
      "|ownerUserCounters...|                 NaN|\n",
      "|  metadata_createdAt|-0.00587156668709825|\n",
      "|ownerUserCounters...|                 NaN|\n",
      "|ownerUserCounters...|                 NaN|\n",
      "|ownerUserCounters...|                 NaN|\n",
      "|         user_gender|-0.00678794435527...|\n",
      "|auditweights_numD...|-0.00321407626792...|\n",
      "|auditweights_user...|                 NaN|\n",
      "|auditweights_partAge|                 NaN|\n",
      "|userOwnerCounters...|                 NaN|\n",
      "|userOwnerCounters...|                 NaN|\n",
      "|user_is_semiactiv...|-6.87809287367574...|\n",
      "|   instanceId_userId|-0.00862177473363...|\n",
      "|userOwnerCounters...|                 NaN|\n",
      "|    owner_birth_date|                 NaN|\n",
      "|auditweights_frie...| 0.02035165256334381|\n",
      "|ownerUserCounters...|                 NaN|\n",
      "|     owner_is_active|                 NaN|\n",
      "|userOwnerCounters...|                 NaN|\n",
      "|auditweights_ctr_...|-0.00133665643601...|\n",
      "|userOwnerCounters...|                 NaN|\n",
      "|       relationsMask|                 NaN|\n",
      "|auditweights_dail...| 0.00808038256754022|\n",
      "|   owner_create_date|                 NaN|\n",
      "|auditweights_user...| 0.10448937223981458|\n",
      "|auditweights_like...|-0.00532316704889...|\n",
      "|userOwnerCounters...|                 NaN|\n",
      "|  user_change_datime|-0.00312071008282...|\n",
      "|auditweights_user...|                 NaN|\n",
      "|         user_status|0.005625795074499996|\n",
      "|auditweights_user...|                 NaN|\n",
      "|auditweights_user...|0.026526957486983603|\n",
      "|auditweights_proc...|0.014364241874768266|\n",
      "|     user_is_deleted|5.613779173687279E-4|\n",
      "|auditweights_ctr_...|-0.03045870930984...|\n",
      "|auditweights_user...|                 NaN|\n",
      "|userOwnerCounters...|                 NaN|\n",
      "|userOwnerCounters...|                 NaN|\n",
      "|ownerUserCounters...|                 NaN|\n",
      "|ownerUserCounters...|                 NaN|\n",
      "|        owner_region|                 NaN|\n",
      "|userOwnerCounters...|0.003140380855343...|\n",
      "|ownerUserCounters...|                 NaN|\n",
      "|auditweights_numL...|-0.00481433684721...|\n",
      "|    user_create_date|-0.00841883643275...|\n",
      "|auditweights_user...| 0.20801993598714863|\n",
      "|ownerUserCounters...|                 NaN|\n",
      "|     user_ID_country|-2.92852422118738...|\n",
      "|   metadata_numPolls|-0.02635341524280...|\n",
      "|auditweights_user...|                 NaN|\n",
      "|auditweights_svd_...|-0.01673057779721...|\n",
      "|userOwnerCounters...|0.011241160873061254|\n",
      "|auditweights_like...|-0.00734939254062...|\n",
      "|ownerUserCounters...|                 NaN|\n",
      "|ownerUserCounters...|                 NaN|\n",
      "|auditweights_sour...|0.005898870606765955|\n",
      "|auditweights_notO...| 0.22185006917002897|\n",
      "|ownerUserCounters...|                 NaN|\n",
      "|auditweights_user...|                 NaN|\n",
      "|auditweights_partCtr|                 NaN|\n",
      "|userOwnerCounters...|0.013318376215781767|\n",
      "|    owner_is_deleted|                 NaN|\n",
      "|auditweights_user...|                 NaN|\n",
      "|auditweights_userAge|0.003822599445782434|\n",
      "|auditweights_user...|                 NaN|\n",
      "|userOwnerCounters...|0.008310378709275503|\n",
      "|userOwnerCounters...|0.034331355073944185|\n",
      "|    metadata_ownerId|-0.01252844700697...|\n",
      "| auditweights_isPymk|                 NaN|\n",
      "|auditweights_feed...|-0.00984500544863669|\n",
      "| instanceId_objectId|-0.16049308295987852|\n",
      "|    owner_ID_country|                 NaN|\n",
      "|auditweights_hasText|-0.00969560086792...|\n",
      "|    audit_timePassed|-0.00660895143011...|\n",
      "|ownerUserCounters...|                 NaN|\n",
      "|userOwnerCounters...|                 NaN|\n",
      "|  owner_is_activated|                 NaN|\n",
      "|            objectId|-0.16049308295987852|\n",
      "|userOwnerCounters...|                 NaN|\n",
      "|   owner_ID_Location|                 NaN|\n",
      "|    user_ID_Location|-0.00165220869172...|\n",
      "| auditweights_matrix|-0.00331079353477...|\n",
      "|ownerUserCounters...|                 NaN|\n",
      "|owner_is_semiacti...|                 NaN|\n",
      "|metadata_applicat...|                 NaN|\n",
      "|userOwnerCounters...|                 NaN|\n",
      "|auditweights_sour...|                 NaN|\n",
      "|userOwnerCounters...| 0.01178924454082076|\n",
      "|auditweights_user...|0.002194408566901...|\n",
      "|auditweights_user...| 0.08810351155185987|\n",
      "|auditweights_user...|-0.00330744899896...|\n",
      "|auditweights_user...|                 NaN|\n",
      "|auditweights_frie...|-0.01126803645043...|\n",
      "|         user_region|8.950158637982388E-4|\n",
      "|  metadata_numPhotos|-0.06654216228136123|\n",
      "|ownerUserCounters...|                 NaN|\n",
      "|     owner_is_abused|                 NaN|\n",
      "|  metadata_numVideos|-0.02926641622566886|\n",
      "|membership_joinRe...|0.019020947541544157|\n",
      "|      user_is_active|1.652247157004246...|\n",
      "|ownerUserCounters...|                 NaN|\n",
      "|userOwnerCounters...|                 NaN|\n",
      "| metadata_numSymbols|-0.02561191774390...|\n",
      "|auditweights_rela...|                 NaN|\n",
      "|userOwnerCounters...| 0.09688549442653466|\n",
      "|auditweights_hasD...|0.003380684908564...|\n",
      "| membership_joinDate|0.023409964734184097|\n",
      "|userOwnerCounters...|0.001730576086537...|\n",
      "|userOwnerCounters...|0.003100736509724207|\n",
      "|auditweights_sour...|                 NaN|\n",
      "|ownerUserCounters...|                 NaN|\n",
      "|  audit_resourceType|-0.24384218049865852|\n",
      "|ownerUserCounters...|                 NaN|\n",
      "| feedback_Liked_flag|-0.02269569370288822|\n",
      "|  metadata_numTokens|-0.02580038376999...|\n",
      "|userOwnerCounters...|                 NaN|\n",
      "|ownerUserCounters...|                 NaN|\n",
      "|auditweights_feed...| 0.08473484533895935|\n",
      "|ownerUserCounters...|                 NaN|\n",
      "|auditweights_onli...|-0.00344719126019...|\n",
      "|auditweights_user...|                 NaN|\n",
      "|userOwnerCounters...|                 NaN|\n",
      "|metadata_numCompa...| 0.03197532077531619|\n",
      "|ownerUserCounters...|                 NaN|\n",
      "|auditweights_user...|                 NaN|\n",
      "|userOwnerCounters...|                 NaN|\n",
      "|auditweights_numS...|0.001041289838241...|\n",
      "|auditweights_like...|-0.00509088907581...|\n",
      "|        owner_gender|                 NaN|\n",
      "|ownerUserCounters...|                 NaN|\n",
      "+--------------------+--------------------+\n",
      "\n"
     ]
    },
    {
     "data": {
      "text/plain": [
       "\u001b[36mdf_view_flag_corr\u001b[39m: \u001b[32mDataFrame\u001b[39m = [name: string, corr: double]"
      ]
     },
     "execution_count": 32,
     "metadata": {},
     "output_type": "execute_result"
    }
   ],
   "source": [
    "val df_view_flag_corr = view_flag_corr.toSeq.toDF(\"name\", \"corr\")\n",
    "df_view_flag_corr.show(200)"
   ]
  },
  {
   "cell_type": "markdown",
   "metadata": {},
   "source": [
    "# More data insights:"
   ]
  },
  {
   "cell_type": "markdown",
   "metadata": {},
   "source": [
    "# Feedback covaration"
   ]
  },
  {
   "cell_type": "code",
   "execution_count": null,
   "metadata": {},
   "outputs": [],
   "source": [
    "for (elem <- df_flags.schema) {\n",
    "    if ( (elem.dataType.toString != \"StringType\") & (elem.dataType.toString != \"ArrayType(StringType,true)\")\n",
    "       & (elem.dataType.toString != \"DateType\") & (elem.name != \"feedback_Liked_flag\")\n",
    "       )  {\n",
    "        liked_flag_cov += elem.name -> df_flags.stat.cov(\"feedback_Liked_flag\", elem.name)\n",
    "    }\n",
    "}"
   ]
  },
  {
   "cell_type": "code",
   "execution_count": 34,
   "metadata": {},
   "outputs": [
    {
     "name": "stdout",
     "output_type": "stream",
     "text": [
      "+--------------------+--------------------+\n",
      "|                name|                 cov|\n",
      "+--------------------+--------------------+\n",
      "|     audit_timestamp|  -915773.9287044593|\n",
      "|auditweights_user...|                 0.0|\n",
      "|ownerUserCounters...|                 0.0|\n",
      "|auditweights_user...|                 0.0|\n",
      "|auditweights_user...|-0.00170523010704...|\n",
      "|auditweights_partSvd|                 0.0|\n",
      "|   user_is_activated|-5.98856362348141...|\n",
      "|   metadata_authorId|   775.4579561169603|\n",
      "|userOwnerCounters...|                 0.0|\n",
      "|auditweights_isRa...|0.007159232425890721|\n",
      "|           audit_pos|0.036795361359536025|\n",
      "|ownerUserCounters...|                 0.0|\n",
      "|ownerUserCounters...|                 0.0|\n",
      "|auditweights_frie...|-3.48941473680328...|\n",
      "|userOwnerCounters...|                 0.0|\n",
      "|ownerUserCounters...|                 0.0|\n",
      "|membership_status...|-1.16438193166170...|\n",
      "|        owner_status|                 0.0|\n",
      "| owner_change_datime|                 0.0|\n",
      "|auditweights_svd_...| 0.01199470095444501|\n",
      "|auditweights_x_Ac...|   8.246844795452889|\n",
      "|feedback_Clicked_...|0.008594617383117183|\n",
      "|  auditweights_ageMs|   1389561.218485733|\n",
      "|     user_birth_date|   57.11472522711235|\n",
      "|      user_is_abused| 9.68273807131663E-6|\n",
      "|auditweights_frie...|0.004448586743540301|\n",
      "|userOwnerCounters...|  -6.309250192056147|\n",
      "|metadata_totalVid...|  -2982.517373031176|\n",
      "|auditweights_ctr_...|-2.14649223884761...|\n",
      "| auditweights_closed|-9.63050385684784...|\n",
      "|ownerUserCounters...|                 0.0|\n",
      "|auditweights_user...|-2.88406869544539...|\n",
      "|ownerUserCounters...|                 0.0|\n",
      "|  metadata_createdAt|  3052556.3326563495|\n",
      "|ownerUserCounters...|                 0.0|\n",
      "|ownerUserCounters...|                 0.0|\n",
      "|ownerUserCounters...|                 0.0|\n",
      "|         user_gender|0.001499229164923...|\n",
      "|auditweights_numD...|  3.9365286542708473|\n",
      "|auditweights_user...|                 0.0|\n",
      "|auditweights_partAge|                 0.0|\n",
      "|userOwnerCounters...|                 0.0|\n",
      "|userOwnerCounters...|                 0.0|\n",
      "|user_is_semiactiv...|-8.23593425816475...|\n",
      "|   instanceId_userId|   53946.09790410366|\n",
      "|userOwnerCounters...|                 0.0|\n",
      "|    owner_birth_date|                 0.0|\n",
      "|auditweights_frie...|-3.41709013095007...|\n",
      "|ownerUserCounters...|                 0.0|\n",
      "|     owner_is_active|                 0.0|\n",
      "|userOwnerCounters...|                 0.0|\n",
      "|auditweights_ctr_...|0.001156580809336177|\n",
      "|userOwnerCounters...|                 0.0|\n",
      "|       relationsMask|                 0.0|\n",
      "|auditweights_dail...|-0.00151990752129...|\n",
      "|   owner_create_date|                 0.0|\n",
      "|auditweights_user...|-0.00135292388906...|\n",
      "|auditweights_like...|0.003205805624446...|\n",
      "|userOwnerCounters...|                 0.0|\n",
      "|  user_change_datime|1.6092383335274956E9|\n",
      "|auditweights_user...|                 0.0|\n",
      "|         user_status|-0.07705818906213921|\n",
      "|auditweights_user...|                 0.0|\n",
      "|auditweights_user...|2.739138051405139...|\n",
      "|auditweights_proc...|-0.00283612365651...|\n",
      "|     user_is_deleted|9.628097867402518E-7|\n",
      "|auditweights_ctr_...|0.003593572970635...|\n",
      "|auditweights_user...|                 0.0|\n",
      "|userOwnerCounters...|                 0.0|\n",
      "|userOwnerCounters...|                 0.0|\n",
      "|ownerUserCounters...|                 0.0|\n",
      "|ownerUserCounters...|                 0.0|\n",
      "|        owner_region|                 0.0|\n",
      "|userOwnerCounters...|0.003639442509418...|\n",
      "|ownerUserCounters...|                 0.0|\n",
      "|auditweights_numL...|  112.11949073212527|\n",
      "|    user_create_date| 1.197776842146873E9|\n",
      "|auditweights_user...|-6.80971128776714...|\n",
      "|ownerUserCounters...|                 0.0|\n",
      "|     user_ID_country|  1152360.1157611208|\n",
      "|   metadata_numPolls|0.008129090116478239|\n",
      "|auditweights_user...|                 0.0|\n",
      "|auditweights_svd_...|0.011256529192323882|\n",
      "|userOwnerCounters...|-0.00331390066696...|\n",
      "|auditweights_like...|0.003076690705240...|\n",
      "|ownerUserCounters...|                 0.0|\n",
      "|ownerUserCounters...|                 0.0|\n",
      "|auditweights_sour...|1.043743496544355...|\n",
      "|auditweights_notO...|-0.00316063831049...|\n",
      "|ownerUserCounters...|                 0.0|\n",
      "|auditweights_user...|                 0.0|\n",
      "|auditweights_partCtr|                 0.0|\n",
      "|userOwnerCounters...| -0.2345597425483414|\n",
      "|    owner_is_deleted|                 0.0|\n",
      "|auditweights_user...|                 0.0|\n",
      "|auditweights_userAge|-0.15640952220460608|\n",
      "|auditweights_user...|                 0.0|\n",
      "|userOwnerCounters...|-0.01708537286957...|\n",
      "|userOwnerCounters...|-0.03470808925947655|\n",
      "|    metadata_ownerId|   108.4835666669875|\n",
      "| auditweights_isPymk|                 0.0|\n",
      "|auditweights_feed...|-0.00127963882214...|\n",
      "| instanceId_objectId|  151182.89969778468|\n",
      "|    owner_ID_country|                 0.0|\n",
      "|auditweights_hasText|-0.00147524189823...|\n",
      "|    audit_timePassed|1.9399593755277798E9|\n",
      "|ownerUserCounters...|                 0.0|\n",
      "|userOwnerCounters...|                 0.0|\n",
      "|  owner_is_activated|                 0.0|\n",
      "|            objectId|  151182.89969778468|\n",
      "|userOwnerCounters...|                 0.0|\n",
      "|   owner_ID_Location|                 0.0|\n",
      "|    user_ID_Location|  3437.0124218736382|\n",
      "| auditweights_matrix|0.001726170141393...|\n",
      "|ownerUserCounters...|                 0.0|\n",
      "|owner_is_semiacti...|                 0.0|\n",
      "|metadata_applicat...|                 0.0|\n",
      "|userOwnerCounters...|                 0.0|\n",
      "|auditweights_sour...|                 0.0|\n",
      "|userOwnerCounters...|-0.01958733712370...|\n",
      "|auditweights_user...|-0.00147877780289...|\n",
      "|auditweights_user...|-5.38889533833264...|\n",
      "|auditweights_user...|0.015917159018986694|\n",
      "|auditweights_user...|                 0.0|\n",
      "|auditweights_frie...|0.004615212932375134|\n",
      "|         user_region|-0.22509939229997147|\n",
      "|  metadata_numPhotos| 0.01026769766855791|\n",
      "|ownerUserCounters...|                 0.0|\n",
      "|     owner_is_abused|                 0.0|\n",
      "|  metadata_numVideos|-0.00514148548111...|\n",
      "|membership_joinRe...|-1.11248312561530...|\n",
      "|      user_is_active|-1.65336996848952...|\n",
      "|ownerUserCounters...|                 0.0|\n",
      "|userOwnerCounters...|                 0.0|\n",
      "| metadata_numSymbols|  -22.73140361322341|\n",
      "|auditweights_rela...|                 0.0|\n",
      "|userOwnerCounters...| -0.5601082900968734|\n",
      "|auditweights_hasD...|-3.74580986531323...|\n",
      "| membership_joinDate|-1.16254918144032...|\n",
      "|userOwnerCounters...|  2.1082821228335633|\n",
      "|userOwnerCounters...|4.500551251558168E-4|\n",
      "|feedback_Viewed_flag|-8.29733115705831...|\n",
      "|auditweights_sour...|                 0.0|\n",
      "|ownerUserCounters...|                 0.0|\n",
      "|  audit_resourceType|0.030820900832237035|\n",
      "|ownerUserCounters...|                 0.0|\n",
      "|  metadata_numTokens| -3.2538089806801676|\n",
      "|userOwnerCounters...|                 0.0|\n",
      "|ownerUserCounters...|                 0.0|\n",
      "|auditweights_feed...| 0.04695356950795416|\n",
      "|ownerUserCounters...|                 0.0|\n",
      "|auditweights_onli...|-1.13132295308486...|\n",
      "|auditweights_user...|                 0.0|\n",
      "|userOwnerCounters...|                 0.0|\n",
      "|metadata_numCompa...|-6.14191104259429...|\n",
      "|ownerUserCounters...|                 0.0|\n",
      "|auditweights_user...|                 0.0|\n",
      "|userOwnerCounters...|                 0.0|\n",
      "|auditweights_numS...|  173810.53536384896|\n",
      "|auditweights_like...|  0.2778387653718348|\n",
      "|        owner_gender|                 0.0|\n",
      "|ownerUserCounters...|                 0.0|\n",
      "+--------------------+--------------------+\n",
      "\n"
     ]
    },
    {
     "data": {
      "text/plain": [
       "\u001b[36mdf_liked_flag_cov\u001b[39m: \u001b[32mDataFrame\u001b[39m = [name: string, cov: double]"
      ]
     },
     "execution_count": 34,
     "metadata": {},
     "output_type": "execute_result"
    }
   ],
   "source": [
    "val df_liked_flag_cov = liked_flag_cov.toSeq.toDF(\"name\", \"cov\")\n",
    "df_liked_flag_cov.show(200)"
   ]
  },
  {
   "cell_type": "code",
   "execution_count": null,
   "metadata": {},
   "outputs": [],
   "source": [
    "for (elem <- df_flags.schema) {\n",
    "    if ( (elem.dataType.toString != \"StringType\") & (elem.dataType.toString != \"ArrayType(StringType,true)\")\n",
    "       & (elem.dataType.toString != \"DateType\") & (elem.name != \"feedback_Clicked_flag\")\n",
    "       )  {\n",
    "        clicked_flag_cov += elem.name -> df_flags.stat.cov(\"feedback_Clicked_flag\", elem.name)\n",
    "    }\n",
    "}"
   ]
  },
  {
   "cell_type": "code",
   "execution_count": 36,
   "metadata": {},
   "outputs": [
    {
     "name": "stdout",
     "output_type": "stream",
     "text": [
      "+--------------------+--------------------+\n",
      "|                name|                 cov|\n",
      "+--------------------+--------------------+\n",
      "|     audit_timestamp|  -1095736.876389146|\n",
      "|auditweights_user...|                 0.0|\n",
      "|ownerUserCounters...|                 0.0|\n",
      "|auditweights_user...|                 0.0|\n",
      "|auditweights_user...|0.006349508238355...|\n",
      "|auditweights_partSvd|                 0.0|\n",
      "|   user_is_activated|1.382263469251077...|\n",
      "|   metadata_authorId|   -640.218443712178|\n",
      "|userOwnerCounters...|                 0.0|\n",
      "|auditweights_isRa...|0.003942293535770...|\n",
      "|           audit_pos| -0.0212699880556395|\n",
      "|ownerUserCounters...|                 0.0|\n",
      "|ownerUserCounters...|                 0.0|\n",
      "|auditweights_frie...|6.097536985056149E-4|\n",
      "|userOwnerCounters...|                 0.0|\n",
      "|ownerUserCounters...|                 0.0|\n",
      "|membership_status...|-4.614735091499944E9|\n",
      "|        owner_status|                 0.0|\n",
      "| owner_change_datime|                 0.0|\n",
      "|auditweights_svd_...|-3.43764484589397...|\n",
      "|auditweights_x_Ac...|   25.27296916620818|\n",
      "|  auditweights_ageMs|  1011271.7559663024|\n",
      "|     user_birth_date| -137.08827123363372|\n",
      "|      user_is_abused|-3.06012528678430...|\n",
      "|auditweights_frie...|-5.26233906807695E-4|\n",
      "|userOwnerCounters...|  -3.738722901391622|\n",
      "|metadata_totalVid...|   4870.669295842731|\n",
      "|auditweights_ctr_...|1.129845379228719...|\n",
      "| auditweights_closed|-6.75430041345178...|\n",
      "|ownerUserCounters...|                 0.0|\n",
      "|auditweights_user...|8.460644795697951E-4|\n",
      "|ownerUserCounters...|                 0.0|\n",
      "|  metadata_createdAt|  -4.9034725990567E7|\n",
      "|ownerUserCounters...|                 0.0|\n",
      "|ownerUserCounters...|                 0.0|\n",
      "|ownerUserCounters...|                 0.0|\n",
      "|         user_gender|0.002540187159107067|\n",
      "|auditweights_numD...|     36.784097050813|\n",
      "|auditweights_user...|                 0.0|\n",
      "|auditweights_partAge|                 0.0|\n",
      "|userOwnerCounters...|                 0.0|\n",
      "|userOwnerCounters...|                 0.0|\n",
      "|user_is_semiactiv...| 9.91416141791024E-7|\n",
      "|   instanceId_userId| -23110.817597911413|\n",
      "|userOwnerCounters...|                 0.0|\n",
      "|    owner_birth_date|                 0.0|\n",
      "|auditweights_frie...|6.018469288787649E-4|\n",
      "|ownerUserCounters...|                 0.0|\n",
      "|     owner_is_active|                 0.0|\n",
      "|userOwnerCounters...|                 0.0|\n",
      "|auditweights_ctr_...|6.480710596447368E-4|\n",
      "|userOwnerCounters...|                 0.0|\n",
      "|       relationsMask|                 0.0|\n",
      "|auditweights_dail...|-0.00109618761750...|\n",
      "|   owner_create_date|                 0.0|\n",
      "|auditweights_user...|-3.24219105601036...|\n",
      "|auditweights_like...|3.090846859247923E-4|\n",
      "|userOwnerCounters...|                 0.0|\n",
      "|  user_change_datime|-1.10613832187090...|\n",
      "|auditweights_user...|                 0.0|\n",
      "|         user_status|0.044025322186938574|\n",
      "|auditweights_user...|                 0.0|\n",
      "|auditweights_user...|4.542852083592654...|\n",
      "|auditweights_proc...|0.010586542846719286|\n",
      "|     user_is_deleted|-2.94516479888273...|\n",
      "|auditweights_ctr_...|-1.13236911497732...|\n",
      "|auditweights_user...|                 0.0|\n",
      "|userOwnerCounters...|                 0.0|\n",
      "|userOwnerCounters...|                 0.0|\n",
      "|ownerUserCounters...|                 0.0|\n",
      "|ownerUserCounters...|                 0.0|\n",
      "|        owner_region|                 0.0|\n",
      "|userOwnerCounters...|-0.01020026639180...|\n",
      "|ownerUserCounters...|                 0.0|\n",
      "|auditweights_numL...|   323.0865863401203|\n",
      "|    user_create_date|-4.97446128382889...|\n",
      "|auditweights_user...|-1.79123893542906...|\n",
      "|ownerUserCounters...|                 0.0|\n",
      "|     user_ID_country|-1.00776059387361...|\n",
      "|   metadata_numPolls|0.007027866075754...|\n",
      "|auditweights_user...|                 0.0|\n",
      "|auditweights_svd_...|-8.85414180524251E-5|\n",
      "|userOwnerCounters...|-0.02011085148754...|\n",
      "|auditweights_like...|6.047807627523270...|\n",
      "|ownerUserCounters...|                 0.0|\n",
      "|ownerUserCounters...|                 0.0|\n",
      "|auditweights_sour...|2.889651188742623E-6|\n",
      "|auditweights_notO...|-0.00172223113798...|\n",
      "|ownerUserCounters...|                 0.0|\n",
      "|auditweights_user...|                 0.0|\n",
      "|auditweights_partCtr|                 0.0|\n",
      "|userOwnerCounters...|  0.4568632145587355|\n",
      "|    owner_is_deleted|                 0.0|\n",
      "|auditweights_user...|                 0.0|\n",
      "|auditweights_userAge| 0.37548087266398106|\n",
      "|auditweights_user...|                 0.0|\n",
      "|userOwnerCounters...|0.010430818922869688|\n",
      "|userOwnerCounters...|-0.04960798726981431|\n",
      "|    metadata_ownerId|  101.42698812189548|\n",
      "| auditweights_isPymk|                 0.0|\n",
      "|auditweights_feed...|-6.45487598028450...|\n",
      "| instanceId_objectId| -227005.76689106523|\n",
      "|    owner_ID_country|                 0.0|\n",
      "|auditweights_hasText|-8.07380352242626...|\n",
      "|    audit_timePassed| 6.776231070411959E8|\n",
      "|ownerUserCounters...|                 0.0|\n",
      "|userOwnerCounters...|                 0.0|\n",
      "|  owner_is_activated|                 0.0|\n",
      "|            objectId| -227005.76689106526|\n",
      "|userOwnerCounters...|                 0.0|\n",
      "|   owner_ID_Location|                 0.0|\n",
      "|    user_ID_Location|  -14042.66309261634|\n",
      "| auditweights_matrix|-3.18700033717477...|\n",
      "|ownerUserCounters...|                 0.0|\n",
      "|owner_is_semiacti...|                 0.0|\n",
      "|metadata_applicat...|                 0.0|\n",
      "|userOwnerCounters...|                 0.0|\n",
      "|auditweights_sour...|                 0.0|\n",
      "|userOwnerCounters...|-0.03493476674507357|\n",
      "|auditweights_user...|-5.90678784520901...|\n",
      "|auditweights_user...|-9.93466230579181...|\n",
      "|auditweights_user...|-0.00908945699285...|\n",
      "|auditweights_user...|                 0.0|\n",
      "|auditweights_frie...|-4.30367234067543...|\n",
      "|         user_region|  0.2585828524773927|\n",
      "|  metadata_numPhotos|-0.00897597784056...|\n",
      "|ownerUserCounters...|                 0.0|\n",
      "|     owner_is_abused|                 0.0|\n",
      "|  metadata_numVideos| 0.02248068243529298|\n",
      "|membership_joinRe...| 5.492955742724838E8|\n",
      "|      user_is_active|7.369892756263188E-6|\n",
      "|ownerUserCounters...|                 0.0|\n",
      "|userOwnerCounters...|                 0.0|\n",
      "| metadata_numSymbols|   74.21158109140137|\n",
      "|auditweights_rela...|                 0.0|\n",
      "|userOwnerCounters...|  0.1331818137492657|\n",
      "|auditweights_hasD...|1.030170391898660...|\n",
      "| membership_joinDate|-4.608274068769673E9|\n",
      "|userOwnerCounters...| -0.6056924341336585|\n",
      "|userOwnerCounters...|-6.46277254499087...|\n",
      "|feedback_Viewed_flag|0.004344004440670891|\n",
      "|auditweights_sour...|                 0.0|\n",
      "|ownerUserCounters...|                 0.0|\n",
      "|  audit_resourceType|-0.02199695689452861|\n",
      "|ownerUserCounters...|                 0.0|\n",
      "| feedback_Liked_flag|0.008594617383117186|\n",
      "|  metadata_numTokens|  10.729056059334214|\n",
      "|userOwnerCounters...|                 0.0|\n",
      "|ownerUserCounters...|                 0.0|\n",
      "|auditweights_feed...|-0.02673102099244...|\n",
      "|ownerUserCounters...|                 0.0|\n",
      "|auditweights_onli...|1.880514644016690...|\n",
      "|auditweights_user...|                 0.0|\n",
      "|userOwnerCounters...|                 0.0|\n",
      "|metadata_numCompa...|1.240572794774956...|\n",
      "|ownerUserCounters...|                 0.0|\n",
      "|auditweights_user...|                 0.0|\n",
      "|userOwnerCounters...|                 0.0|\n",
      "|auditweights_numS...|  314874.47265693475|\n",
      "|auditweights_like...|-0.04604703059177...|\n",
      "|        owner_gender|                 0.0|\n",
      "|ownerUserCounters...|                 0.0|\n",
      "+--------------------+--------------------+\n",
      "\n"
     ]
    },
    {
     "data": {
      "text/plain": [
       "\u001b[36mdf_clicked_flag_cov\u001b[39m: \u001b[32mDataFrame\u001b[39m = [name: string, cov: double]"
      ]
     },
     "execution_count": 36,
     "metadata": {},
     "output_type": "execute_result"
    }
   ],
   "source": [
    "val df_clicked_flag_cov = clicked_flag_cov.toSeq.toDF(\"name\", \"cov\")\n",
    "df_clicked_flag_cov.show(200)"
   ]
  },
  {
   "cell_type": "code",
   "execution_count": null,
   "metadata": {},
   "outputs": [],
   "source": [
    "for (elem <- df_flags.schema) {\n",
    "    if ( (elem.dataType.toString != \"StringType\") & (elem.dataType.toString != \"ArrayType(StringType,true)\")\n",
    "       & (elem.dataType.toString != \"DateType\") & (elem.name != \"feedback_Viewed_flag\")\n",
    "       \n",
    "       \n",
    "       )  {\n",
    "        view_flag_cov += elem.name -> df_flags.stat.cov(\"feedback_Viewed_flag\", elem.name)\n",
    "    }\n",
    "}"
   ]
  },
  {
   "cell_type": "code",
   "execution_count": 28,
   "metadata": {},
   "outputs": [
    {
     "name": "stdout",
     "output_type": "stream",
     "text": [
      "+--------------------+--------------------+\n",
      "|                name|                 cov|\n",
      "+--------------------+--------------------+\n",
      "|     audit_timestamp| -491390.50286864804|\n",
      "|auditweights_user...|                 0.0|\n",
      "|ownerUserCounters...|                 0.0|\n",
      "|auditweights_user...|                 0.0|\n",
      "|auditweights_user...|2.348040632053031E-4|\n",
      "|auditweights_partSvd|                 0.0|\n",
      "|   user_is_activated|2.799685257722645E-7|\n",
      "|   metadata_authorId| -1209.5358985658843|\n",
      "|userOwnerCounters...|                 0.0|\n",
      "|auditweights_isRa...|3.055194190154317...|\n",
      "|           audit_pos|0.028939190823878195|\n",
      "|ownerUserCounters...|                 0.0|\n",
      "|ownerUserCounters...|                 0.0|\n",
      "|auditweights_frie...|1.662487293093171...|\n",
      "|userOwnerCounters...|                 0.0|\n",
      "|ownerUserCounters...|                 0.0|\n",
      "|membership_status...|1.5776402308577611E9|\n",
      "|        owner_status|                 0.0|\n",
      "| owner_change_datime|                 0.0|\n",
      "|auditweights_svd_...|-4.95539032690898...|\n",
      "|auditweights_x_Ac...| -3.9284639789856284|\n",
      "|feedback_Clicked_...|0.004344004440670891|\n",
      "|  auditweights_ageMs| -103211.34183573791|\n",
      "|     user_birth_date|  -2.036319118635041|\n",
      "|      user_is_abused|-4.26308635197537...|\n",
      "|auditweights_frie...|-5.12663472064012...|\n",
      "|userOwnerCounters...|-0.25564132465904404|\n",
      "|metadata_totalVid...| -105.93747795720523|\n",
      "|auditweights_ctr_...|-3.31958029320499...|\n",
      "| auditweights_closed|-5.08467723177160...|\n",
      "|ownerUserCounters...|                 0.0|\n",
      "|auditweights_user...|6.853489981875171E-5|\n",
      "|ownerUserCounters...|                 0.0|\n",
      "|  metadata_createdAt|  -6148681.408871423|\n",
      "|ownerUserCounters...|                 0.0|\n",
      "|ownerUserCounters...|                 0.0|\n",
      "|ownerUserCounters...|                 0.0|\n",
      "|         user_gender|-2.91148232362833...|\n",
      "|auditweights_numD...| -0.6782998876700918|\n",
      "|auditweights_user...|                 0.0|\n",
      "|auditweights_partAge|                 0.0|\n",
      "|userOwnerCounters...|                 0.0|\n",
      "|userOwnerCounters...|                 0.0|\n",
      "|user_is_semiactiv...|-1.77866516760485...|\n",
      "|   instanceId_userId| -3665.4455661652873|\n",
      "|userOwnerCounters...|                 0.0|\n",
      "|    owner_birth_date|                 0.0|\n",
      "|auditweights_frie...|1.646658509765944...|\n",
      "|ownerUserCounters...|                 0.0|\n",
      "|     owner_is_active|                 0.0|\n",
      "|userOwnerCounters...|                 0.0|\n",
      "|auditweights_ctr_...|-1.28504823848785...|\n",
      "|userOwnerCounters...|                 0.0|\n",
      "|       relationsMask|                 0.0|\n",
      "|auditweights_dail...|9.793157681796548E-5|\n",
      "|   owner_create_date|                 0.0|\n",
      "|auditweights_user...| 0.00356664325672879|\n",
      "|auditweights_like...|-1.45924306395186...|\n",
      "|userOwnerCounters...|                 0.0|\n",
      "|  user_change_datime|-8.967060255969927E7|\n",
      "|auditweights_user...|                 0.0|\n",
      "|         user_status|  0.0076856577653936|\n",
      "|auditweights_user...|                 0.0|\n",
      "|auditweights_user...|3.828655630010396...|\n",
      "|auditweights_proc...|2.799072575239788E-4|\n",
      "|     user_is_deleted|4.344455272662107...|\n",
      "|auditweights_ctr_...|-1.89565299859660...|\n",
      "|auditweights_user...|                 0.0|\n",
      "|userOwnerCounters...|                 0.0|\n",
      "|userOwnerCounters...|                 0.0|\n",
      "|ownerUserCounters...|                 0.0|\n",
      "|ownerUserCounters...|                 0.0|\n",
      "|        owner_region|                 0.0|\n",
      "|userOwnerCounters...|0.003599034963592...|\n",
      "|ownerUserCounters...|                 0.0|\n",
      "|auditweights_numL...|  -8.172897764972257|\n",
      "|    user_create_date|-6.860076033227932E7|\n",
      "|auditweights_user...|0.001648776696878...|\n",
      "|ownerUserCounters...|                 0.0|\n",
      "|     user_ID_country|  -1074277.125794353|\n",
      "|   metadata_numPolls|-6.65200864975630...|\n",
      "|auditweights_user...|                 0.0|\n",
      "|auditweights_svd_...|-6.15585349458100...|\n",
      "|userOwnerCounters...|0.030132894652018016|\n",
      "|auditweights_like...|-2.10339503472323...|\n",
      "|ownerUserCounters...|                 0.0|\n",
      "|ownerUserCounters...|                 0.0|\n",
      "|auditweights_sour...|2.641246151777616...|\n",
      "|auditweights_notO...|0.004473979586850998|\n",
      "|ownerUserCounters...|                 0.0|\n",
      "|auditweights_user...|                 0.0|\n",
      "|auditweights_partCtr|                 0.0|\n",
      "|userOwnerCounters...| 0.10476564358020161|\n",
      "|    owner_is_deleted|                 0.0|\n",
      "|auditweights_user...|                 0.0|\n",
      "|auditweights_userAge|0.005600723545231856|\n",
      "|auditweights_user...|                 0.0|\n",
      "|userOwnerCounters...|0.006560815576147469|\n",
      "|userOwnerCounters...| 0.20480304180189682|\n",
      "|    metadata_ownerId| -29.321161705238335|\n",
      "| auditweights_isPymk|                 0.0|\n",
      "|auditweights_feed...|-7.71253996397602E-5|\n",
      "| instanceId_objectId|  -157712.1877292238|\n",
      "|    owner_ID_country|                 0.0|\n",
      "|auditweights_hasText|-9.22070623241157E-5|\n",
      "|    audit_timePassed|-2.387117084180916E8|\n",
      "|ownerUserCounters...|                 0.0|\n",
      "|userOwnerCounters...|                 0.0|\n",
      "|  owner_is_activated|                 0.0|\n",
      "|            objectId|  -157712.1877292238|\n",
      "|userOwnerCounters...|                 0.0|\n",
      "|   owner_ID_Location|                 0.0|\n",
      "|    user_ID_Location|  -928.9921001914486|\n",
      "| auditweights_matrix|-7.46313431629099...|\n",
      "|ownerUserCounters...|                 0.0|\n",
      "|owner_is_semiacti...|                 0.0|\n",
      "|metadata_applicat...|                 0.0|\n",
      "|userOwnerCounters...|                 0.0|\n",
      "|auditweights_sour...|                 0.0|\n",
      "|userOwnerCounters...|   0.081285541071184|\n",
      "|auditweights_user...|2.861973333438296...|\n",
      "|auditweights_user...|2.075327949589643E-4|\n",
      "|auditweights_user...|-1.42518903741564...|\n",
      "|auditweights_user...|                 0.0|\n",
      "|auditweights_frie...|-4.99610404178126...|\n",
      "|         user_region|0.004036642407868629|\n",
      "|  metadata_numPhotos|-0.01538462807073...|\n",
      "|ownerUserCounters...|                 0.0|\n",
      "|     owner_is_abused|                 0.0|\n",
      "|  metadata_numVideos|-0.00292992830723...|\n",
      "|membership_joinRe...| 3.271030026676703E8|\n",
      "|      user_is_active|2.540352633909125E-7|\n",
      "|ownerUserCounters...|                 0.0|\n",
      "|userOwnerCounters...|                 0.0|\n",
      "| metadata_numSymbols|  -4.407332973974764|\n",
      "|auditweights_rela...|                 0.0|\n",
      "|userOwnerCounters...|    1.78794253172406|\n",
      "|auditweights_hasD...|7.198269102684694E-7|\n",
      "| membership_joinDate|1.5730280370703986E9|\n",
      "|userOwnerCounters...|0.011388587009954895|\n",
      "|userOwnerCounters...|4.382219655530336E-4|\n",
      "|auditweights_sour...|                 0.0|\n",
      "|ownerUserCounters...|                 0.0|\n",
      "|  audit_resourceType|-0.04155627210274744|\n",
      "|ownerUserCounters...|                 0.0|\n",
      "| feedback_Liked_flag|-8.29733115705831...|\n",
      "|  metadata_numTokens| -0.6354024179802693|\n",
      "|userOwnerCounters...|                 0.0|\n",
      "|ownerUserCounters...|                 0.0|\n",
      "|auditweights_feed...|0.022722553093066065|\n",
      "|ownerUserCounters...|                 0.0|\n",
      "|auditweights_onli...|-1.23298169173488...|\n",
      "|auditweights_user...|                 0.0|\n",
      "|userOwnerCounters...|                 0.0|\n",
      "|metadata_numCompa...|0.001020350701511...|\n",
      "|ownerUserCounters...|                 0.0|\n",
      "|auditweights_user...|                 0.0|\n",
      "|userOwnerCounters...|                 0.0|\n",
      "|auditweights_numS...|  163213.03441924203|\n",
      "|auditweights_like...|-0.01088439171446745|\n",
      "|        owner_gender|                 0.0|\n",
      "|ownerUserCounters...|                 0.0|\n",
      "+--------------------+--------------------+\n",
      "\n"
     ]
    },
    {
     "data": {
      "text/plain": [
       "\u001b[36mdf_view_flag_cov\u001b[39m: \u001b[32mDataFrame\u001b[39m = [name: string, cov: double]"
      ]
     },
     "execution_count": 28,
     "metadata": {},
     "output_type": "execute_result"
    }
   ],
   "source": [
    "val df_view_flag_cov = view_flag_cov.toSeq.toDF(\"name\", \"cov\")\n",
    "df_view_flag_cov.show(200)"
   ]
  },
  {
   "cell_type": "markdown",
   "metadata": {},
   "source": [
    "# Difference in distributions between train and test\n",
    "* To test the difference in distributions, we will train a logistic regression model on each variable and feed the model with a target of 0 for train and 1 for test. If the ROC AUC of the model on the variable is close to 0.5, then the distribution of the variables can be considered homogeneous."
   ]
  },
  {
   "cell_type": "code",
   "execution_count": 7,
   "metadata": {},
   "outputs": [
    {
     "data": {
      "text/html": [
       "<div>\n",
       "  <span style=\"float: left;\">parquet at cmd6.sc:1</span>\n",
       "</div>\n"
      ]
     },
     "metadata": {},
     "output_type": "display_data"
    },
    {
     "data": {
      "text/html": [
       "<div class=\"progress\">\n",
       "  <div class=\"progress-bar\" role=\"progressbar\" style=\"background-color: blue; width: 100%; word-wrap: normal; white-space: nowrap; text-align: center; color: white\" aria-valuenow=\"100\" aria-valuemin=\"0\" aria-valuemax=\"100\">\n",
       "    1 / 1\n",
       "  </div>\n",
       "  <div class=\"progress-bar\" role=\"progressbar\" style=\"background-color: red; width: 0%\" aria-valuenow=\"0\" aria-valuemin=\"0\" aria-valuemax=\"100\"></div>\n",
       "</div>\n"
      ]
     },
     "metadata": {},
     "output_type": "display_data"
    },
    {
     "data": {
      "text/plain": [
       "\u001b[36mdf_test\u001b[39m: \u001b[32mDataFrame\u001b[39m = [instanceId_userId: int, instanceId_objectType: string ... 166 more fields]"
      ]
     },
     "execution_count": 7,
     "metadata": {},
     "output_type": "execute_result"
    }
   ],
   "source": [
    "val df_test = sqlContext.read.parquet(\"test/\")"
   ]
  },
  {
   "cell_type": "code",
   "execution_count": null,
   "metadata": {},
   "outputs": [],
   "source": [
    "for (elem <- df.schema) {\n",
    "    if ( (elem.dataType.toString != \"StringType\") )\n",
    "    println(elem.name.toString.split(\"_\")(0)) }"
   ]
  },
  {
   "cell_type": "code",
   "execution_count": null,
   "metadata": {},
   "outputs": [],
   "source": [
    "val audit_roc_train_test = scala.collection.mutable.Map[String,Double]()\n",
    "for (elem <- df.schema) {\n",
    "    if ( (elem.dataType.toString != \"StringType\")\n",
    "       & (elem.dataType.toString != \"DateType\") & (elem.name != \"instanceId_userId\")\n",
    "       & (elem.name != \"instanceId_objectId\") & (elem.name != \"metadata_ownerId\")\n",
    "       & (elem.name != \"metadata_authorId\") & (elem.name != \"metadata_options\")\n",
    "       & (elem.name != \"metadata_applicationId\") & (elem.name != \"relationsMask\")\n",
    "       & (elem.name.toString.split(\"_\")(0) == \"audit\")\n",
    "       )  { \n",
    "        println(elem.name)\n",
    "        val tmp_df_train = df.select(elem.name).withColumn(\"label\", lit(0))\n",
    "        val tmp_df_test = df_test.select(elem.name).withColumn(\"label\", lit(1))\n",
    "        val tmp_df_union = tmp_df_train.union(tmp_df_test).cache()\n",
    "        \n",
    "        val assembler = new VectorAssembler().setInputCols(Array(elem.name)).setOutputCol(\"features\")\n",
    "        val output = assembler.transform(tmp_df_union)\n",
    "        \n",
    "        // Extract the summary from the returned LogisticRegressionModel instance trained in the earlier\n",
    "        val lr = new LogisticRegression().setMaxIter(10).setRegParam(0.01).setElasticNetParam(0.01)\n",
    "        val lrModel = lr.fit(output.select(\"features\", \"label\"))\n",
    "\n",
    "        // Extract the summary from the returned LogisticRegressionModel instance trained in the earlier\n",
    "        val trainingSummary = lrModel.binarySummary\n",
    "        audit_roc_train_test += elem.name -> trainingSummary.areaUnderROC\n",
    "    }\n",
    "}"
   ]
  },
  {
   "cell_type": "code",
   "execution_count": 9,
   "metadata": {},
   "outputs": [
    {
     "name": "stdout",
     "output_type": "stream",
     "text": [
      "+------------------+------------------+\n",
      "|              name|               auc|\n",
      "+------------------+------------------+\n",
      "|   audit_timestamp|0.9997749792361402|\n",
      "|         audit_pos|0.5191852809372661|\n",
      "|  audit_timePassed|0.4738613106710364|\n",
      "|audit_resourceType|0.5152863106330348|\n",
      "+------------------+------------------+\n",
      "\n"
     ]
    },
    {
     "data": {
      "text/plain": [
       "\u001b[36mdf_audit_roc_train_test\u001b[39m: \u001b[32mDataFrame\u001b[39m = [name: string, auc: double]"
      ]
     },
     "execution_count": 9,
     "metadata": {},
     "output_type": "execute_result"
    }
   ],
   "source": [
    "val df_audit_roc_train_test = audit_roc_train_test.toSeq.toDF(\"name\", \"auc\")\n",
    "df_audit_roc_train_test.show(200)"
   ]
  },
  {
   "cell_type": "code",
   "execution_count": null,
   "metadata": {},
   "outputs": [],
   "source": [
    "val metadata_roc_train_test = scala.collection.mutable.Map[String,Double]()\n",
    "for (elem <- df.schema) {\n",
    "    if ( (elem.dataType.toString != \"StringType\") \n",
    "       & (elem.dataType.toString != \"DateType\") & (elem.name != \"instanceId_userId\")\n",
    "       & (elem.name != \"instanceId_objectId\") & (elem.name != \"metadata_ownerId\")\n",
    "       & (elem.name != \"metadata_authorId\") & (elem.name != \"metadata_options\")\n",
    "       & (elem.name != \"metadata_applicationId\") & (elem.name != \"relationsMask\")\n",
    "       & (elem.name.toString.split(\"_\")(0) == \"metadata\")\n",
    "       )  { \n",
    "        //view_flag_corr += elem.name -> df_flags.stat.corr(\"feedback_Viewed_flag\", elem.name)\n",
    "        println(elem.name)\n",
    "        val tmp_df_train = df.select(elem.name).withColumn(\"label\", lit(0))\n",
    "        val tmp_df_test = df_test.select(elem.name).withColumn(\"label\", lit(1))\n",
    "        val tmp_df_union = tmp_df_train.union(tmp_df_test).cache()\n",
    "        \n",
    "        val assembler = new VectorAssembler().setInputCols(Array(elem.name)).setOutputCol(\"features\")\n",
    "        val output = assembler.transform(tmp_df_union)\n",
    "        \n",
    "        // Extract the summary from the returned LogisticRegressionModel instance trained in the earlier\n",
    "        val lr = new LogisticRegression().setMaxIter(10).setRegParam(0.01).setElasticNetParam(0.01)\n",
    "        val lrModel = lr.fit(output.select(\"features\", \"label\"))\n",
    "\n",
    "        // Extract the summary from the returned LogisticRegressionModel instance trained in the earlier\n",
    "        val trainingSummary = lrModel.binarySummary\n",
    "        metadata_roc_train_test += elem.name -> trainingSummary.areaUnderROC\n",
    "    }\n",
    "}"
   ]
  },
  {
   "cell_type": "code",
   "execution_count": 9,
   "metadata": {},
   "outputs": [
    {
     "name": "stdout",
     "output_type": "stream",
     "text": [
      "+--------------------+-------------------+\n",
      "|                name|                auc|\n",
      "+--------------------+-------------------+\n",
      "|metadata_totalVid...| 0.5083871163567828|\n",
      "|  metadata_createdAt| 0.9997988288627346|\n",
      "|   metadata_numPolls| 0.5052815299447426|\n",
      "|  metadata_numVideos| 0.5117300441626862|\n",
      "|  metadata_numPhotos|0.49416092042028514|\n",
      "| metadata_numSymbols|  0.504941536035124|\n",
      "|  metadata_numTokens| 0.5041447339114223|\n",
      "|metadata_numCompa...| 0.5004224324403201|\n",
      "+--------------------+-------------------+\n",
      "\n"
     ]
    },
    {
     "data": {
      "text/plain": [
       "\u001b[36mdf_metadata_roc_train_test\u001b[39m: \u001b[32mDataFrame\u001b[39m = [name: string, auc: double]"
      ]
     },
     "execution_count": 9,
     "metadata": {},
     "output_type": "execute_result"
    }
   ],
   "source": [
    "val df_metadata_roc_train_test = metadata_roc_train_test.toSeq.toDF(\"name\", \"auc\")\n",
    "df_metadata_roc_train_test.show(200)"
   ]
  },
  {
   "cell_type": "code",
   "execution_count": null,
   "metadata": {},
   "outputs": [],
   "source": [
    "val userOwnerCounters_roc_train_test = scala.collection.mutable.Map[String,Double]()\n",
    "for (elem <- df.schema) {\n",
    "    if ( (elem.dataType.toString != \"StringType\") \n",
    "       & (elem.dataType.toString != \"DateType\") & (elem.name != \"instanceId_userId\")\n",
    "       & (elem.name != \"instanceId_objectId\") & (elem.name != \"metadata_ownerId\")\n",
    "       & (elem.name != \"metadata_authorId\") & (elem.name != \"metadata_options\")\n",
    "       & (elem.name != \"metadata_applicationId\") & (elem.name != \"relationsMask\")\n",
    "       & (elem.name.toString.split(\"_\")(0) == \"userOwnerCounters\")\n",
    "       )  { \n",
    "        println(elem.name)\n",
    "        val tmp_df_train = df.select(elem.name).withColumn(\"label\", lit(0)).na.fill(0)\n",
    "        val tmp_df_test = df_test.select(elem.name).withColumn(\"label\", lit(1)).na.fill(0)\n",
    "        val tmp_df_union = tmp_df_train.union(tmp_df_test).cache()\n",
    "        \n",
    "        val assembler = new VectorAssembler().setInputCols(Array(elem.name)).setOutputCol(\"features\")\n",
    "        val output = assembler.transform(tmp_df_union)\n",
    "        \n",
    "        // Extract the summary from the returned LogisticRegressionModel instance trained in the earlier\n",
    "        val lr = new LogisticRegression().setMaxIter(10).setRegParam(0.01).setElasticNetParam(0.01)\n",
    "        val lrModel = lr.fit(output.select(\"features\", \"label\"))\n",
    "\n",
    "        // Extract the summary from the returned LogisticRegressionModel instance trained in the earlier\n",
    "        val trainingSummary = lrModel.binarySummary\n",
    "        userOwnerCounters_roc_train_test += elem.name -> trainingSummary.areaUnderROC\n",
    "    }\n",
    "}"
   ]
  },
  {
   "cell_type": "code",
   "execution_count": 10,
   "metadata": {},
   "outputs": [
    {
     "name": "stdout",
     "output_type": "stream",
     "text": [
      "+--------------------+-------------------+\n",
      "|                name|                auc|\n",
      "+--------------------+-------------------+\n",
      "|userOwnerCounters...|                0.5|\n",
      "|userOwnerCounters...|                0.5|\n",
      "|userOwnerCounters...| 0.5097951486811122|\n",
      "|userOwnerCounters...|                0.5|\n",
      "|userOwnerCounters...|                0.5|\n",
      "|userOwnerCounters...|                0.5|\n",
      "|userOwnerCounters...|                0.5|\n",
      "|userOwnerCounters...|                0.5|\n",
      "|userOwnerCounters...|                0.5|\n",
      "|userOwnerCounters...|                0.5|\n",
      "|userOwnerCounters...|                0.5|\n",
      "|userOwnerCounters...| 0.5001834328968966|\n",
      "|userOwnerCounters...| 0.5089637611668155|\n",
      "|userOwnerCounters...| 0.5318797127438658|\n",
      "|userOwnerCounters...| 0.5035311469187826|\n",
      "|userOwnerCounters...|                0.5|\n",
      "|userOwnerCounters...|                0.5|\n",
      "|userOwnerCounters...|                0.5|\n",
      "|userOwnerCounters...|                0.5|\n",
      "|userOwnerCounters...|  0.499950024027785|\n",
      "|userOwnerCounters...|                0.5|\n",
      "|userOwnerCounters...|0.48110592934814905|\n",
      "|userOwnerCounters...| 0.6198090519325329|\n",
      "|userOwnerCounters...|                0.5|\n",
      "|userOwnerCounters...|                0.5|\n",
      "|userOwnerCounters...|                0.5|\n",
      "|userOwnerCounters...|                0.5|\n",
      "+--------------------+-------------------+\n",
      "\n"
     ]
    },
    {
     "data": {
      "text/plain": [
       "\u001b[36mdf_userOwnerCounters_roc_train_test\u001b[39m: \u001b[32mDataFrame\u001b[39m = [name: string, auc: double]"
      ]
     },
     "execution_count": 10,
     "metadata": {},
     "output_type": "execute_result"
    }
   ],
   "source": [
    "val df_userOwnerCounters_roc_train_test = userOwnerCounters_roc_train_test.toSeq.toDF(\"name\", \"auc\")\n",
    "df_userOwnerCounters_roc_train_test.show(200)"
   ]
  },
  {
   "cell_type": "code",
   "execution_count": null,
   "metadata": {},
   "outputs": [],
   "source": [
    "val ownerUserCounters_roc_train_test = scala.collection.mutable.Map[String,Double]()\n",
    "for (elem <- df.schema) {\n",
    "    if ( (elem.dataType.toString != \"StringType\")\n",
    "       & (elem.dataType.toString != \"DateType\") & (elem.name != \"instanceId_userId\")\n",
    "       & (elem.name != \"instanceId_objectId\") & (elem.name != \"metadata_ownerId\")\n",
    "       & (elem.name != \"metadata_authorId\") & (elem.name != \"metadata_options\")\n",
    "       & (elem.name != \"metadata_applicationId\") & (elem.name != \"relationsMask\")\n",
    "       & (elem.name.toString.split(\"_\")(0) == \"ownerUserCounters\")\n",
    "       )  { \n",
    "        println(elem.name)\n",
    "        val tmp_df_train = df.select(elem.name).withColumn(\"label\", lit(0)).na.fill(0)\n",
    "        val tmp_df_test = df_test.select(elem.name).withColumn(\"label\", lit(1)).na.fill(0)\n",
    "        val tmp_df_union = tmp_df_train.union(tmp_df_test).cache()\n",
    "        \n",
    "        val assembler = new VectorAssembler().setInputCols(Array(elem.name)).setOutputCol(\"features\")\n",
    "        val output = assembler.transform(tmp_df_union)\n",
    "        \n",
    "        // Extract the summary from the returned LogisticRegressionModel instance trained in the earlier\n",
    "        val lr = new LogisticRegression().setMaxIter(10).setRegParam(0.01).setElasticNetParam(0.01)\n",
    "        val lrModel = lr.fit(output.select(\"features\", \"label\"))\n",
    "\n",
    "        // Extract the summary from the returned LogisticRegressionModel instance trained in the earlier\n",
    "        val trainingSummary = lrModel.binarySummary\n",
    "        ownerUserCounters_roc_train_test += elem.name -> trainingSummary.areaUnderROC\n",
    "    }\n",
    "}"
   ]
  },
  {
   "cell_type": "code",
   "execution_count": 9,
   "metadata": {},
   "outputs": [
    {
     "name": "stdout",
     "output_type": "stream",
     "text": [
      "+--------------------+---+\n",
      "|                name|auc|\n",
      "+--------------------+---+\n",
      "|ownerUserCounters...|0.5|\n",
      "|ownerUserCounters...|0.5|\n",
      "|ownerUserCounters...|0.5|\n",
      "|ownerUserCounters...|0.5|\n",
      "|ownerUserCounters...|0.5|\n",
      "|ownerUserCounters...|0.5|\n",
      "|ownerUserCounters...|0.5|\n",
      "|ownerUserCounters...|0.5|\n",
      "|ownerUserCounters...|0.5|\n",
      "|ownerUserCounters...|0.5|\n",
      "|ownerUserCounters...|0.5|\n",
      "|ownerUserCounters...|0.5|\n",
      "|ownerUserCounters...|0.5|\n",
      "|ownerUserCounters...|0.5|\n",
      "|ownerUserCounters...|0.5|\n",
      "|ownerUserCounters...|0.5|\n",
      "|ownerUserCounters...|0.5|\n",
      "|ownerUserCounters...|0.5|\n",
      "|ownerUserCounters...|0.5|\n",
      "|ownerUserCounters...|0.5|\n",
      "|ownerUserCounters...|0.5|\n",
      "|ownerUserCounters...|0.5|\n",
      "|ownerUserCounters...|0.5|\n",
      "|ownerUserCounters...|0.5|\n",
      "|ownerUserCounters...|0.5|\n",
      "|ownerUserCounters...|0.5|\n",
      "|ownerUserCounters...|0.5|\n",
      "+--------------------+---+\n",
      "\n"
     ]
    },
    {
     "data": {
      "text/plain": [
       "\u001b[36mdf_ownerUserCounters_roc_train_test\u001b[39m: \u001b[32mDataFrame\u001b[39m = [name: string, auc: double]"
      ]
     },
     "execution_count": 9,
     "metadata": {},
     "output_type": "execute_result"
    }
   ],
   "source": [
    "val df_ownerUserCounters_roc_train_test = ownerUserCounters_roc_train_test.toSeq.toDF(\"name\", \"auc\")\n",
    "df_ownerUserCounters_roc_train_test.show(200)"
   ]
  },
  {
   "cell_type": "code",
   "execution_count": null,
   "metadata": {},
   "outputs": [],
   "source": [
    "val auditweights_roc_train_test = scala.collection.mutable.Map[String,Double]()\n",
    "for (elem <- df.schema) {\n",
    "    if ( (elem.dataType.toString != \"StringType\") \n",
    "       & (elem.dataType.toString != \"DateType\") & (elem.name != \"instanceId_userId\")\n",
    "       & (elem.name != \"instanceId_objectId\") & (elem.name != \"metadata_ownerId\")\n",
    "       & (elem.name != \"metadata_authorId\") & (elem.name != \"metadata_options\")\n",
    "       & (elem.name != \"metadata_applicationId\") & (elem.name != \"relationsMask\")\n",
    "       & (elem.name.toString.split(\"_\")(0) == \"auditweights\")\n",
    "       )  { \n",
    "        println(elem.name)\n",
    "        val tmp_df_train = df.select(elem.name).withColumn(\"label\", lit(0)).na.fill(0)\n",
    "        val tmp_df_test = df_test.select(elem.name).withColumn(\"label\", lit(1)).na.fill(0)\n",
    "        val tmp_df_union = tmp_df_train.union(tmp_df_test).cache()\n",
    "        \n",
    "        val assembler = new VectorAssembler().setInputCols(Array(elem.name)).setOutputCol(\"features\")\n",
    "        val output = assembler.transform(tmp_df_union)\n",
    "        \n",
    "        // Extract the summary from the returned LogisticRegressionModel instance trained in the earlier\n",
    "        val lr = new LogisticRegression().setMaxIter(10).setRegParam(0.01).setElasticNetParam(0.01)\n",
    "        val lrModel = lr.fit(output.select(\"features\", \"label\"))\n",
    "\n",
    "        // Extract the summary from the returned LogisticRegressionModel instance trained in the earlier\n",
    "        val trainingSummary = lrModel.binarySummary\n",
    "        auditweights_roc_train_test += elem.name -> trainingSummary.areaUnderROC\n",
    "    }\n",
    "}"
   ]
  },
  {
   "cell_type": "code",
   "execution_count": 9,
   "metadata": {},
   "outputs": [
    {
     "name": "stdout",
     "output_type": "stream",
     "text": [
      "+--------------------+-------------------+\n",
      "|                name|                auc|\n",
      "+--------------------+-------------------+\n",
      "|auditweights_user...|                0.5|\n",
      "|auditweights_user...|                0.5|\n",
      "|auditweights_partSvd|                0.5|\n",
      "|auditweights_user...| 0.5174566606064765|\n",
      "|auditweights_isRa...|   0.50745456609254|\n",
      "|auditweights_frie...| 0.5012586371569485|\n",
      "|auditweights_svd_...| 0.7239223510435374|\n",
      "|auditweights_x_Ac...| 0.5142121153057541|\n",
      "|  auditweights_ageMs| 0.5641927917081782|\n",
      "|auditweights_frie...| 0.5455312654345361|\n",
      "| auditweights_closed|                0.5|\n",
      "|auditweights_ctr_...|0.49280467942401984|\n",
      "|auditweights_user...| 0.5002178216372128|\n",
      "|auditweights_numD...|  0.527474157261406|\n",
      "|auditweights_user...|                0.5|\n",
      "|auditweights_partAge|                0.5|\n",
      "|auditweights_frie...| 0.5012585952787948|\n",
      "|auditweights_ctr_...|0.47002066809821763|\n",
      "|auditweights_dail...| 0.5622979091064119|\n",
      "|auditweights_like...| 0.5207009990685785|\n",
      "|auditweights_user...| 0.5146462176433576|\n",
      "|auditweights_user...|                0.5|\n",
      "|auditweights_user...|                0.5|\n",
      "|auditweights_proc...| 0.5084080346734844|\n",
      "|auditweights_user...| 0.5077159831264249|\n",
      "|auditweights_ctr_...| 0.5194037033683806|\n",
      "|auditweights_user...|                0.5|\n",
      "|auditweights_numL...| 0.5329757426126541|\n",
      "|auditweights_user...| 0.5002414942576117|\n",
      "|auditweights_user...|                0.5|\n",
      "|auditweights_svd_...| 0.6913723035518173|\n",
      "|auditweights_like...| 0.5651514834255565|\n",
      "|auditweights_notO...| 0.5002097070665908|\n",
      "|auditweights_sour...|  0.500010035877714|\n",
      "|auditweights_user...|                0.5|\n",
      "|auditweights_partCtr|                0.5|\n",
      "|auditweights_user...|                0.5|\n",
      "|auditweights_userAge| 0.5053374097365212|\n",
      "|auditweights_user...|                0.5|\n",
      "| auditweights_isPymk|                0.5|\n",
      "|auditweights_feed...| 0.5012413770734909|\n",
      "|auditweights_hasText| 0.5009941023377875|\n",
      "| auditweights_matrix| 0.5744865815862025|\n",
      "|auditweights_sour...|                0.5|\n",
      "|auditweights_user...| 0.5000348964909298|\n",
      "|auditweights_user...|0.49994977601708884|\n",
      "|auditweights_frie...| 0.5455646652600207|\n",
      "|auditweights_user...| 0.5698369918882243|\n",
      "|auditweights_user...|                0.5|\n",
      "|auditweights_rela...|                0.5|\n",
      "|auditweights_hasD...|                0.5|\n",
      "|auditweights_sour...| 0.5000016928451055|\n",
      "|auditweights_feed...| 0.5344610790290185|\n",
      "|auditweights_onli...| 0.5002036020153978|\n",
      "|auditweights_user...|                0.5|\n",
      "|auditweights_user...|                0.5|\n",
      "|auditweights_numS...|                0.5|\n",
      "|auditweights_like...| 0.5244836567448669|\n",
      "+--------------------+-------------------+\n",
      "\n"
     ]
    },
    {
     "data": {
      "text/plain": [
       "\u001b[36mdf_auditweights_roc_train_test\u001b[39m: \u001b[32mDataFrame\u001b[39m = [name: string, auc: double]"
      ]
     },
     "execution_count": 9,
     "metadata": {},
     "output_type": "execute_result"
    }
   ],
   "source": [
    "val df_auditweights_roc_train_test = auditweights_roc_train_test.toSeq.toDF(\"name\", \"auc\")\n",
    "df_auditweights_roc_train_test.show(200)"
   ]
  },
  {
   "cell_type": "code",
   "execution_count": null,
   "metadata": {},
   "outputs": [],
   "source": [
    "val owner_roc_train_test = scala.collection.mutable.Map[String,Double]()\n",
    "for (elem <- df.schema) {\n",
    "    if ( (elem.dataType.toString != \"StringType\") \n",
    "       & (elem.dataType.toString != \"DateType\") & (elem.name != \"instanceId_userId\")\n",
    "       & (elem.name != \"instanceId_objectId\") & (elem.name != \"metadata_ownerId\")\n",
    "       & (elem.name != \"metadata_authorId\") & (elem.name != \"metadata_options\")\n",
    "       & (elem.name != \"metadata_applicationId\") & (elem.name != \"relationsMask\")\n",
    "       & (elem.name.toString.split(\"_\")(0) == \"owner\")\n",
    "       )  { \n",
    "        println(elem.name)\n",
    "        val tmp_df_train = df.select(elem.name).withColumn(\"label\", lit(0)).na.fill(0)\n",
    "        val tmp_df_test = df_test.select(elem.name).withColumn(\"label\", lit(1)).na.fill(0)\n",
    "        val tmp_df_union = tmp_df_train.union(tmp_df_test).cache()\n",
    "        \n",
    "        val assembler = new VectorAssembler().setInputCols(Array(elem.name)).setOutputCol(\"features\")\n",
    "        val output = assembler.transform(tmp_df_union)\n",
    "        \n",
    "        // Extract the summary from the returned LogisticRegressionModel instance trained in the earlier\n",
    "        val lr = new LogisticRegression().setMaxIter(10).setRegParam(0.01).setElasticNetParam(0.01)\n",
    "        val lrModel = lr.fit(output.select(\"features\", \"label\"))\n",
    "\n",
    "        // Extract the summary from the returned LogisticRegressionModel instance trained in the earlier\n",
    "        val trainingSummary = lrModel.binarySummary\n",
    "        owner_roc_train_test += elem.name -> trainingSummary.areaUnderROC\n",
    "    }\n",
    "}"
   ]
  },
  {
   "cell_type": "code",
   "execution_count": 9,
   "metadata": {},
   "outputs": [
    {
     "name": "stdout",
     "output_type": "stream",
     "text": [
      "+--------------------+---+\n",
      "|                name|auc|\n",
      "+--------------------+---+\n",
      "|        owner_status|0.5|\n",
      "| owner_change_datime|0.5|\n",
      "|    owner_birth_date|0.5|\n",
      "|     owner_is_active|0.5|\n",
      "|   owner_create_date|0.5|\n",
      "|        owner_region|0.5|\n",
      "|    owner_is_deleted|0.5|\n",
      "|    owner_ID_country|0.5|\n",
      "|   owner_ID_Location|0.5|\n",
      "|  owner_is_activated|0.5|\n",
      "|owner_is_semiacti...|0.5|\n",
      "|     owner_is_abused|0.5|\n",
      "|        owner_gender|0.5|\n",
      "+--------------------+---+\n",
      "\n"
     ]
    },
    {
     "data": {
      "text/plain": [
       "\u001b[36mdf_owner_roc_train_test\u001b[39m: \u001b[32mDataFrame\u001b[39m = [name: string, auc: double]"
      ]
     },
     "execution_count": 9,
     "metadata": {},
     "output_type": "execute_result"
    }
   ],
   "source": [
    "val df_owner_roc_train_test = owner_roc_train_test.toSeq.toDF(\"name\", \"auc\")\n",
    "df_owner_roc_train_test.show(200)"
   ]
  },
  {
   "cell_type": "code",
   "execution_count": null,
   "metadata": {},
   "outputs": [],
   "source": [
    "val user_roc_train_test = scala.collection.mutable.Map[String,Double]()\n",
    "for (elem <- df.schema) {\n",
    "    if ( (elem.dataType.toString != \"StringType\")\n",
    "       & (elem.dataType.toString != \"DateType\") & (elem.name != \"instanceId_userId\")\n",
    "       & (elem.name != \"instanceId_objectId\") & (elem.name != \"metadata_ownerId\")\n",
    "       & (elem.name != \"metadata_authorId\") & (elem.name != \"metadata_options\")\n",
    "       & (elem.name != \"metadata_applicationId\") & (elem.name != \"relationsMask\")\n",
    "       & (elem.name.toString.split(\"_\")(0) == \"user\")\n",
    "       )  { \n",
    "        println(elem.name)\n",
    "        val tmp_df_train = df.select(elem.name).withColumn(\"label\", lit(0)).na.fill(0)\n",
    "        val tmp_df_test = df_test.select(elem.name).withColumn(\"label\", lit(1)).na.fill(0)\n",
    "        val tmp_df_union = tmp_df_train.union(tmp_df_test).cache()\n",
    "        \n",
    "        val assembler = new VectorAssembler().setInputCols(Array(elem.name)).setOutputCol(\"features\")\n",
    "        val output = assembler.transform(tmp_df_union)\n",
    "        \n",
    "        // Extract the summary from the returned LogisticRegressionModel instance trained in the earlier\n",
    "        val lr = new LogisticRegression().setMaxIter(10).setRegParam(0.01).setElasticNetParam(0.01)\n",
    "        val lrModel = lr.fit(output.select(\"features\", \"label\"))\n",
    "\n",
    "        // Extract the summary from the returned LogisticRegressionModel instance trained in the earlier\n",
    "        val trainingSummary = lrModel.binarySummary\n",
    "        user_roc_train_test += elem.name -> trainingSummary.areaUnderROC\n",
    "    }\n",
    "}"
   ]
  },
  {
   "cell_type": "code",
   "execution_count": 9,
   "metadata": {},
   "outputs": [
    {
     "name": "stdout",
     "output_type": "stream",
     "text": [
      "+--------------------+------------------+\n",
      "|                name|               auc|\n",
      "+--------------------+------------------+\n",
      "|   user_is_activated|0.5000212285529356|\n",
      "|     user_birth_date|0.5036404909771568|\n",
      "|      user_is_abused|0.5000454746590249|\n",
      "|         user_gender| 0.512492314286315|\n",
      "|user_is_semiactiv...|               0.5|\n",
      "|  user_change_datime|0.5462780402293776|\n",
      "|         user_status| 0.505587802371713|\n",
      "|     user_is_deleted|               0.5|\n",
      "|    user_create_date|0.5314741209672205|\n",
      "|     user_ID_country|               0.5|\n",
      "|    user_ID_Location|0.5042253339314723|\n",
      "|         user_region|0.5023994555602083|\n",
      "|      user_is_active|0.5000244337495369|\n",
      "+--------------------+------------------+\n",
      "\n"
     ]
    },
    {
     "data": {
      "text/plain": [
       "\u001b[36mdf_user_roc_train_test\u001b[39m: \u001b[32mDataFrame\u001b[39m = [name: string, auc: double]"
      ]
     },
     "execution_count": 9,
     "metadata": {},
     "output_type": "execute_result"
    }
   ],
   "source": [
    "val df_user_roc_train_test = user_roc_train_test.toSeq.toDF(\"name\", \"auc\")\n",
    "df_user_roc_train_test.show(200)"
   ]
  },
  {
   "cell_type": "code",
   "execution_count": null,
   "metadata": {},
   "outputs": [],
   "source": [
    "val membership_roc_train_test = scala.collection.mutable.Map[String,Double]()\n",
    "for (elem <- df.schema) {\n",
    "    if ( (elem.dataType.toString != \"StringType\")\n",
    "       & (elem.dataType.toString != \"DateType\") & (elem.name != \"instanceId_userId\")\n",
    "       & (elem.name != \"instanceId_objectId\") & (elem.name != \"metadata_ownerId\")\n",
    "       & (elem.name != \"metadata_authorId\") & (elem.name != \"metadata_options\")\n",
    "       & (elem.name != \"metadata_applicationId\") & (elem.name != \"relationsMask\")\n",
    "       & (elem.name.toString.split(\"_\")(0) == \"membership\")\n",
    "       )  { \n",
    "        println(elem.name)\n",
    "        val tmp_df_train = df.select(elem.name).withColumn(\"label\", lit(0)).na.fill(0)\n",
    "        val tmp_df_test = df_test.select(elem.name).withColumn(\"label\", lit(1)).na.fill(0)\n",
    "        val tmp_df_union = tmp_df_train.union(tmp_df_test).cache()\n",
    "        \n",
    "        val assembler = new VectorAssembler().setInputCols(Array(elem.name)).setOutputCol(\"features\")\n",
    "        val output = assembler.transform(tmp_df_union)\n",
    "        \n",
    "        // Extract the summary from the returned LogisticRegressionModel instance trained in the earlier\n",
    "        val lr = new LogisticRegression().setMaxIter(10).setRegParam(0.01).setElasticNetParam(0.01)\n",
    "        val lrModel = lr.fit(output.select(\"features\", \"label\"))\n",
    "\n",
    "        // Extract the summary from the returned LogisticRegressionModel instance trained in the earlier\n",
    "        val trainingSummary = lrModel.binarySummary\n",
    "        membership_roc_train_test += elem.name -> trainingSummary.areaUnderROC\n",
    "    }\n",
    "}"
   ]
  },
  {
   "cell_type": "code",
   "execution_count": 11,
   "metadata": {},
   "outputs": [
    {
     "name": "stdout",
     "output_type": "stream",
     "text": [
      "+--------------------+------------------+\n",
      "|                name|               auc|\n",
      "+--------------------+------------------+\n",
      "|membership_status...|0.5795486944417629|\n",
      "|membership_joinRe...|0.5002262453015549|\n",
      "| membership_joinDate|0.5797038225237044|\n",
      "+--------------------+------------------+\n",
      "\n"
     ]
    },
    {
     "data": {
      "text/plain": [
       "\u001b[36mdf_membership_roc_train_test\u001b[39m: \u001b[32mDataFrame\u001b[39m = [name: string, auc: double]"
      ]
     },
     "execution_count": 11,
     "metadata": {},
     "output_type": "execute_result"
    }
   ],
   "source": [
    "val df_membership_roc_train_test = membership_roc_train_test.toSeq.toDF(\"name\", \"auc\")\n",
    "df_membership_roc_train_test.show(200)"
   ]
  },
  {
   "cell_type": "code",
   "execution_count": null,
   "metadata": {},
   "outputs": [],
   "source": []
  }
 ],
 "metadata": {
  "kernelspec": {
   "display_name": "Scala 2.12",
   "language": "scala",
   "name": "scala212"
  },
  "language_info": {
   "codemirror_mode": "text/x-scala",
   "file_extension": ".sc",
   "mimetype": "text/x-scala",
   "name": "scala",
   "nbconvert_exporter": "script",
   "version": "2.12.12"
  }
 },
 "nbformat": 4,
 "nbformat_minor": 4
}
