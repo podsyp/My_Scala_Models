{
 "cells": [
  {
   "cell_type": "markdown",
   "metadata": {},
   "source": [
    "# Imports"
   ]
  },
  {
   "cell_type": "code",
   "execution_count": 1,
   "metadata": {},
   "outputs": [
    {
     "data": {
      "text/plain": [
       "\u001b[32mimport \u001b[39m\u001b[36m$ivy.$                         \u001b[39m"
      ]
     },
     "execution_count": 1,
     "metadata": {},
     "output_type": "execute_result"
    }
   ],
   "source": [
    "import $ivy.`org.scalanlp::breeze:1.0`"
   ]
  },
  {
   "cell_type": "code",
   "execution_count": 2,
   "metadata": {},
   "outputs": [
    {
     "data": {
      "text/plain": [
       "\u001b[32mimport \u001b[39m\u001b[36mscala.io.Source\n",
       "\u001b[39m\n",
       "\u001b[32mimport \u001b[39m\u001b[36mscala.collection.mutable.ArrayBuffer\n",
       "\u001b[39m\n",
       "\u001b[32mimport \u001b[39m\u001b[36mscala.math\n",
       "\n",
       "\u001b[39m\n",
       "\u001b[32mimport \u001b[39m\u001b[36mbreeze.linalg._\n",
       "\u001b[39m\n",
       "\u001b[32mimport \u001b[39m\u001b[36mbreeze.numerics._\n",
       "\n",
       "\u001b[39m\n",
       "\u001b[32mimport \u001b[39m\u001b[36mbreeze.linalg.{DenseMatrix, DenseVector}\n",
       "\u001b[39m\n",
       "\u001b[32mimport \u001b[39m\u001b[36mbreeze.stats.regression.{leastSquares, lasso}\u001b[39m"
      ]
     },
     "execution_count": 2,
     "metadata": {},
     "output_type": "execute_result"
    }
   ],
   "source": [
    "import scala.io.Source\n",
    "import scala.collection.mutable.ArrayBuffer\n",
    "import scala.math\n",
    "\n",
    "import breeze.linalg._\n",
    "import breeze.numerics._\n",
    "\n",
    "import breeze.linalg.{DenseMatrix, DenseVector}\n",
    "import breeze.stats.regression.{leastSquares, lasso}"
   ]
  },
  {
   "cell_type": "code",
   "execution_count": 3,
   "metadata": {},
   "outputs": [
    {
     "data": {
      "text/plain": [
       "\u001b[36mlines\u001b[39m: \u001b[32mList\u001b[39m[\u001b[32mString\u001b[39m] = \u001b[33mList\u001b[39m(\n",
       "  \u001b[32m\"likes,Checkins,Returns,Category,commBase,comm24,comm48,comm24_1,diff2448,baseTime,length,shares,hrs,sun_pub,mon_pub,tue_pub,wed_pub,thu_pub,fri_pub,sat_pub,sun_base,mon_base,tue_base,wed_base,thu_base,fri_base,sat_base,output\"\u001b[39m,\n",
       "  \u001b[32m\"634995,0,463,1,0,0,0,0,0,65,166,2,24,0,0,0,1,0,0,0,0,0,0,0,0,0,1,0\"\u001b[39m,\n",
       "  \u001b[32m\"634995,0,463,1,0,0,0,0,0,10,132,1,24,0,0,0,0,1,0,0,0,0,0,0,0,1,0,0\"\u001b[39m,\n",
       "  \u001b[32m\"634995,0,463,1,0,0,0,0,0,14,133,2,24,0,0,0,0,0,1,0,0,0,0,0,0,0,1,0\"\u001b[39m,\n",
       "  \u001b[32m\"634995,0,463,1,7,0,3,7,-3,62,131,1,24,0,0,0,0,0,1,0,0,1,0,0,0,0,0,0\"\u001b[39m,\n",
       "  \u001b[32m\"634995,0,463,1,1,0,0,1,0,58,142,5,24,0,,0,0,0,0,0,0,0,0,1,0,0,0,0\"\u001b[39m,\n",
       "  \u001b[32m\"634995,0,463,1,0,0,,0,0,60,166,1,24,0,0,1,0,0,0,0,0,0,0,0,0,1,0,0\"\u001b[39m,\n",
       "  \u001b[32m\"634995,0,463,1,0,0,,0,0,68,145,2,24,0,0,0,1,0,0,0,0,0,0,0,0,0,1,0\"\u001b[39m,\n",
       "  \u001b[32m\"634995,0,463,1,1,0,1,1,-1,32,157,2,24,0,0,0,0,1,0,0,0,0,0,0,0,0,1,0\"\u001b[39m,\n",
       "  \u001b[32m\"634995,0,463,1,0,0,,0,0,35,177,5,24,0,0,0,0,0,1,0,0,0,0,0,0,0,1,0\"\u001b[39m,\n",
       "  \u001b[32m\"634995,0,463,1,0,0,,0,0,48,126,1,24,0,0,0,0,0,1,0,1,0,0,0,0,0,0,0\"\u001b[39m,\n",
       "  \u001b[32m\"634995,0,463,1,0,0,,0,0,52,188,1,24,0,0,0,0,0,1,0,1,0,0,0,0,0,0,0\"\u001b[39m,\n",
       "  \u001b[32m\"634995,0,463,1,1,0,,1,0,69,172,4,24,0,,0,0,0,0,0,0,0,0,0,1,0,0,0\"\u001b[39m,\n",
       "  \u001b[32m\"634995,0,463,1,0,0,,0,0,3,157,4,24,0,0,1,0,0,0,0,0,0,1,0,0,0,0,3\"\u001b[39m,\n",
       "  \u001b[32m\"634995,0,463,1,1,1,0,1,1,37,126,1,24,0,0,0,1,,0,0,0,0,0,0,0,1,0,0\"\u001b[39m,\n",
       "  \u001b[32m\"634995,0,463,1,0,0,0,0,0,23,103,1,24,0,,0,0,,0,0,0,0,1,0,0,0,0,0\"\u001b[39m,\n",
       "  \u001b[32m\"634995,0,463,1,3,0,3,3,-3,40,158,4,24,0,0,1,0,,0,0,0,0,0,0,1,0,0,0\"\u001b[39m,\n",
       "  \u001b[32m\"634995,0,463,1,3,0,3,2,-3,54,151,,24,0,0,0,1,,0,0,0,0,0,0,0,1,0,0\"\u001b[39m,\n",
       "  \u001b[32m\"634995,0,463,1,0,0,0,0,0,29,133,1,24,0,0,0,1,,0,0,0,0,0,0,0,1,0,0\"\u001b[39m,\n",
       "  \u001b[32m\"634995,0,463,1,1,0,1,1,-1,36,137,,24,0,0,0,0,1,0,0,0,0,0,0,0,0,1,0\"\u001b[39m,\n",
       "  \u001b[32m\"634995,0,463,1,0,0,0,0,0,11,106,,24,0,0,0,0,,1,0,0,0,0,0,0,0,1,0\"\u001b[39m,\n",
       "  \u001b[32m\"634995,0,463,1,0,0,0,0,0,62,149,1,24,0,,0,0,,0,0,0,0,0,0,1,0,0,0\"\u001b[39m,\n",
       "  \u001b[32m\"634995,0,463,1,77,46,31,74,15,31,135,19,24,0,,0,0,,0,0,0,0,0,1,0,0,0,5\"\u001b[39m,\n",
       "  \u001b[32m\"634995,0,463,1,6,0,1,6,-1,54,64,1,24,0,,0,1,,0,0,0,0,0,0,0,1,0,0\"\u001b[39m,\n",
       "  \u001b[32m\"634995,0,463,1,0,0,0,0,0,69,111,4,24,0,,0,1,,0,0,0,0,0,0,0,0,1,0\"\u001b[39m,\n",
       "  \u001b[32m\"634995,0,463,1,0,0,0,0,0,71,156,,24,0,,0,0,1,0,0,1,0,0,0,0,0,0,0\"\u001b[39m,\n",
       "  \u001b[32m\"634995,0,463,1,0,0,0,0,0,61,199,,24,0,,0,0,1,0,0,1,0,0,0,0,0,0,0\"\u001b[39m,\n",
       "  \u001b[32m\"634995,0,463,1,4,4,0,4,4,13,300,,24,0,,0,0,,1,0,0,0,0,0,0,0,1,2\"\u001b[39m,\n",
       "  \u001b[32m\"634995,0,463,1,29,3,11,25,-8,49,96,,24,0,,0,0,,0,0,0,0,0,1,0,0,0,0\"\u001b[39m,\n",
       "  \u001b[32m\"634995,0,463,1,3,1,2,3,-1,35,67,,24,0,,0,0,,0,0,0,0,0,1,0,0,0,0\"\u001b[39m,\n",
       "  \u001b[32m\"634995,0,463,1,2,2,0,2,2,11,0,,24,0,,0,0,,0,0,0,0,0,0,0,1,0,0\"\u001b[39m,\n",
       "  \u001b[32m\"634995,0,463,1,2,0,2,2,-2,37,168,,24,0,,0,0,,1,0,1,0,0,0,0,0,0,0\"\u001b[39m,\n",
       "  \u001b[32m\"634995,0,463,1,0,0,0,0,0,0,84,,24,0,,0,0,,0,0,0,1,0,0,0,0,0,15\"\u001b[39m,\n",
       "  \u001b[32m\"634995,0,463,1,2,2,0,2,2,11,116,4,24,0,,1,0,,0,0,0,0,1,0,0,0,0,0\"\u001b[39m,\n",
       "  \u001b[32m\"634995,0,463,1,0,0,0,0,0,43,64,,24,0,,0,1,,0,0,0,0,0,0,0,1,0,0\"\u001b[39m,\n",
       "  \u001b[32m\"634995,0,463,1,2,2,0,2,2,18,133,4,24,0,,0,0,,0,0,0,0,0,0,0,1,0,0\"\u001b[39m,\n",
       "..."
      ]
     },
     "execution_count": 3,
     "metadata": {},
     "output_type": "execute_result"
    }
   ],
   "source": [
    "// val lines = Source.fromFile(\"Dataset.csv\").getLines.toArray\n",
    "val lines = Source.fromFile(\"Dataset.csv\").getLines.toList"
   ]
  },
  {
   "cell_type": "code",
   "execution_count": 4,
   "metadata": {},
   "outputs": [
    {
     "data": {
      "text/plain": [
       "\u001b[36mcolumns_names\u001b[39m: \u001b[32mList\u001b[39m[\u001b[32mString\u001b[39m] = \u001b[33mList\u001b[39m(\n",
       "  \u001b[32m\"likes\"\u001b[39m,\n",
       "  \u001b[32m\"Checkins\"\u001b[39m,\n",
       "  \u001b[32m\"Returns\"\u001b[39m,\n",
       "  \u001b[32m\"Category\"\u001b[39m,\n",
       "  \u001b[32m\"commBase\"\u001b[39m,\n",
       "  \u001b[32m\"comm24\"\u001b[39m,\n",
       "  \u001b[32m\"comm48\"\u001b[39m,\n",
       "  \u001b[32m\"comm24_1\"\u001b[39m,\n",
       "  \u001b[32m\"diff2448\"\u001b[39m,\n",
       "  \u001b[32m\"baseTime\"\u001b[39m,\n",
       "  \u001b[32m\"length\"\u001b[39m,\n",
       "  \u001b[32m\"shares\"\u001b[39m,\n",
       "  \u001b[32m\"hrs\"\u001b[39m,\n",
       "  \u001b[32m\"sun_pub\"\u001b[39m,\n",
       "  \u001b[32m\"mon_pub\"\u001b[39m,\n",
       "  \u001b[32m\"tue_pub\"\u001b[39m,\n",
       "  \u001b[32m\"wed_pub\"\u001b[39m,\n",
       "  \u001b[32m\"thu_pub\"\u001b[39m,\n",
       "  \u001b[32m\"fri_pub\"\u001b[39m,\n",
       "  \u001b[32m\"sat_pub\"\u001b[39m,\n",
       "  \u001b[32m\"sun_base\"\u001b[39m,\n",
       "  \u001b[32m\"mon_base\"\u001b[39m,\n",
       "  \u001b[32m\"tue_base\"\u001b[39m,\n",
       "  \u001b[32m\"wed_base\"\u001b[39m,\n",
       "  \u001b[32m\"thu_base\"\u001b[39m,\n",
       "  \u001b[32m\"fri_base\"\u001b[39m,\n",
       "  \u001b[32m\"sat_base\"\u001b[39m,\n",
       "  \u001b[32m\"output\"\u001b[39m\n",
       ")"
      ]
     },
     "execution_count": 4,
     "metadata": {},
     "output_type": "execute_result"
    }
   ],
   "source": [
    "val columns_names =  lines(0).split(\",\").toList"
   ]
  },
  {
   "cell_type": "code",
   "execution_count": 5,
   "metadata": {},
   "outputs": [
    {
     "data": {
      "text/plain": [
       "\u001b[36mrows\u001b[39m: \u001b[32mList\u001b[39m[\u001b[32mArray\u001b[39m[\u001b[32mDouble\u001b[39m]] = \u001b[33mList\u001b[39m(\n",
       "  \u001b[33mArray\u001b[39m(\n",
       "    \u001b[32m634995.0\u001b[39m,\n",
       "    \u001b[32m0.0\u001b[39m,\n",
       "    \u001b[32m463.0\u001b[39m,\n",
       "    \u001b[32m1.0\u001b[39m,\n",
       "    \u001b[32m0.0\u001b[39m,\n",
       "    \u001b[32m0.0\u001b[39m,\n",
       "    \u001b[32m0.0\u001b[39m,\n",
       "    \u001b[32m0.0\u001b[39m,\n",
       "    \u001b[32m0.0\u001b[39m,\n",
       "    \u001b[32m65.0\u001b[39m,\n",
       "    \u001b[32m166.0\u001b[39m,\n",
       "    \u001b[32m2.0\u001b[39m,\n",
       "    \u001b[32m24.0\u001b[39m,\n",
       "    \u001b[32m0.0\u001b[39m,\n",
       "    \u001b[32m0.0\u001b[39m,\n",
       "    \u001b[32m0.0\u001b[39m,\n",
       "    \u001b[32m1.0\u001b[39m,\n",
       "    \u001b[32m0.0\u001b[39m,\n",
       "    \u001b[32m0.0\u001b[39m,\n",
       "    \u001b[32m0.0\u001b[39m,\n",
       "    \u001b[32m0.0\u001b[39m,\n",
       "    \u001b[32m0.0\u001b[39m,\n",
       "    \u001b[32m0.0\u001b[39m,\n",
       "    \u001b[32m0.0\u001b[39m,\n",
       "    \u001b[32m0.0\u001b[39m,\n",
       "    \u001b[32m0.0\u001b[39m,\n",
       "    \u001b[32m1.0\u001b[39m,\n",
       "    \u001b[32m0.0\u001b[39m\n",
       "  ),\n",
       "  \u001b[33mArray\u001b[39m(\n",
       "    \u001b[32m634995.0\u001b[39m,\n",
       "    \u001b[32m0.0\u001b[39m,\n",
       "    \u001b[32m463.0\u001b[39m,\n",
       "    \u001b[32m1.0\u001b[39m,\n",
       "    \u001b[32m0.0\u001b[39m,\n",
       "    \u001b[32m0.0\u001b[39m,\n",
       "    \u001b[32m0.0\u001b[39m,\n",
       "..."
      ]
     },
     "execution_count": 5,
     "metadata": {},
     "output_type": "execute_result"
    }
   ],
   "source": [
    "val rows = lines.drop(1).toList.map(_.split(\",\").map(x => if (x.length > 0) x.toDouble else NaN))"
   ]
  },
  {
   "cell_type": "code",
   "execution_count": 6,
   "metadata": {},
   "outputs": [
    {
     "data": {
      "text/plain": [
       "\u001b[36mmyMap\u001b[39m: \u001b[32mcollection\u001b[39m.\u001b[32mmutable\u001b[39m.\u001b[32mMap\u001b[39m[\u001b[32mString\u001b[39m, \u001b[32mArrayBuffer\u001b[39m[\u001b[32mDouble\u001b[39m]] = \u001b[33mMap\u001b[39m(\n",
       "  \u001b[32m\"Checkins\"\u001b[39m -> \u001b[33mArrayBuffer\u001b[39m(\n",
       "    \u001b[32m0.0\u001b[39m,\n",
       "    \u001b[32m0.0\u001b[39m,\n",
       "    \u001b[32m0.0\u001b[39m,\n",
       "    \u001b[32m0.0\u001b[39m,\n",
       "    \u001b[32m0.0\u001b[39m,\n",
       "    \u001b[32m0.0\u001b[39m,\n",
       "    \u001b[32m0.0\u001b[39m,\n",
       "    \u001b[32m0.0\u001b[39m,\n",
       "    \u001b[32m0.0\u001b[39m,\n",
       "    \u001b[32m0.0\u001b[39m,\n",
       "    \u001b[32m0.0\u001b[39m,\n",
       "    \u001b[32m0.0\u001b[39m,\n",
       "    \u001b[32m0.0\u001b[39m,\n",
       "    \u001b[32m0.0\u001b[39m,\n",
       "    \u001b[32m0.0\u001b[39m,\n",
       "    \u001b[32m0.0\u001b[39m,\n",
       "    \u001b[32m0.0\u001b[39m,\n",
       "    \u001b[32m0.0\u001b[39m,\n",
       "    \u001b[32m0.0\u001b[39m,\n",
       "    \u001b[32m0.0\u001b[39m,\n",
       "    \u001b[32m0.0\u001b[39m,\n",
       "    \u001b[32m0.0\u001b[39m,\n",
       "    \u001b[32m0.0\u001b[39m,\n",
       "    \u001b[32m0.0\u001b[39m,\n",
       "    \u001b[32m0.0\u001b[39m,\n",
       "    \u001b[32m0.0\u001b[39m,\n",
       "    \u001b[32m0.0\u001b[39m,\n",
       "    \u001b[32m0.0\u001b[39m,\n",
       "    \u001b[32m0.0\u001b[39m,\n",
       "    \u001b[32m0.0\u001b[39m,\n",
       "    \u001b[32m0.0\u001b[39m,\n",
       "    \u001b[32m0.0\u001b[39m,\n",
       "    \u001b[32m0.0\u001b[39m,\n",
       "    \u001b[32m0.0\u001b[39m,\n",
       "    \u001b[32m0.0\u001b[39m,\n",
       "    \u001b[32m0.0\u001b[39m,\n",
       "    \u001b[32m0.0\u001b[39m,\n",
       "...\n",
       "\u001b[36mrange_row\u001b[39m: \u001b[32mRange\u001b[39m.\u001b[32mInclusive\u001b[39m = \u001b[33mRange.Inclusive\u001b[39m(\n",
       "  \u001b[32m0\u001b[39m,\n",
       "  \u001b[32m1\u001b[39m,\n",
       "  \u001b[32m2\u001b[39m,\n",
       "  \u001b[32m3\u001b[39m,\n",
       "  \u001b[32m4\u001b[39m,\n",
       "  \u001b[32m5\u001b[39m,\n",
       "  \u001b[32m6\u001b[39m,\n",
       "  \u001b[32m7\u001b[39m,\n",
       "  \u001b[32m8\u001b[39m,\n",
       "  \u001b[32m9\u001b[39m,\n",
       "  \u001b[32m10\u001b[39m,\n",
       "  \u001b[32m11\u001b[39m,\n",
       "  \u001b[32m12\u001b[39m,\n",
       "  \u001b[32m13\u001b[39m,\n",
       "  \u001b[32m14\u001b[39m,\n",
       "  \u001b[32m15\u001b[39m,\n",
       "  \u001b[32m16\u001b[39m,\n",
       "  \u001b[32m17\u001b[39m,\n",
       "  \u001b[32m18\u001b[39m,\n",
       "  \u001b[32m19\u001b[39m,\n",
       "  \u001b[32m20\u001b[39m,\n",
       "  \u001b[32m21\u001b[39m,\n",
       "  \u001b[32m22\u001b[39m,\n",
       "  \u001b[32m23\u001b[39m,\n",
       "  \u001b[32m24\u001b[39m,\n",
       "  \u001b[32m25\u001b[39m,\n",
       "  \u001b[32m26\u001b[39m,\n",
       "  \u001b[32m27\u001b[39m,\n",
       "  \u001b[32m28\u001b[39m,\n",
       "  \u001b[32m29\u001b[39m,\n",
       "  \u001b[32m30\u001b[39m,\n",
       "  \u001b[32m31\u001b[39m,\n",
       "  \u001b[32m32\u001b[39m,\n",
       "  \u001b[32m33\u001b[39m,\n",
       "  \u001b[32m34\u001b[39m,\n",
       "  \u001b[32m35\u001b[39m,\n",
       "  \u001b[32m36\u001b[39m,\n",
       "  \u001b[32m37\u001b[39m,\n",
       "...\n",
       "\u001b[36mrange_col\u001b[39m: \u001b[32mRange\u001b[39m.\u001b[32mInclusive\u001b[39m = \u001b[33mRange.Inclusive\u001b[39m(\n",
       "  \u001b[32m0\u001b[39m,\n",
       "  \u001b[32m1\u001b[39m,\n",
       "  \u001b[32m2\u001b[39m,\n",
       "  \u001b[32m3\u001b[39m,\n",
       "  \u001b[32m4\u001b[39m,\n",
       "  \u001b[32m5\u001b[39m,\n",
       "  \u001b[32m6\u001b[39m,\n",
       "  \u001b[32m7\u001b[39m,\n",
       "  \u001b[32m8\u001b[39m,\n",
       "  \u001b[32m9\u001b[39m,\n",
       "  \u001b[32m10\u001b[39m,\n",
       "  \u001b[32m11\u001b[39m,\n",
       "  \u001b[32m12\u001b[39m,\n",
       "  \u001b[32m13\u001b[39m,\n",
       "  \u001b[32m14\u001b[39m,\n",
       "  \u001b[32m15\u001b[39m,\n",
       "  \u001b[32m16\u001b[39m,\n",
       "  \u001b[32m17\u001b[39m,\n",
       "  \u001b[32m18\u001b[39m,\n",
       "  \u001b[32m19\u001b[39m,\n",
       "  \u001b[32m20\u001b[39m,\n",
       "  \u001b[32m21\u001b[39m,\n",
       "  \u001b[32m22\u001b[39m,\n",
       "  \u001b[32m23\u001b[39m,\n",
       "  \u001b[32m24\u001b[39m,\n",
       "  \u001b[32m25\u001b[39m,\n",
       "  \u001b[32m26\u001b[39m,\n",
       "  \u001b[32m27\u001b[39m\n",
       ")"
      ]
     },
     "execution_count": 6,
     "metadata": {},
     "output_type": "execute_result"
    }
   ],
   "source": [
    "val myMap = scala.collection.mutable.Map[String, scala.collection.mutable.ArrayBuffer[Double]]()\n",
    "val range_row = 0 to {rows.length.toInt - 1}\n",
    "val range_col = 0 to {columns_names.length.toInt - 1}\n",
    "for (row_i <- range_row) {\n",
    "    if (row_i == 0) {\n",
    "        for (col_i <- range_col) {\n",
    "            myMap(columns_names(col_i)) = ArrayBuffer(rows(row_i)(col_i).toDouble)\n",
    "        }\n",
    "    }\n",
    "    else {\n",
    "        for (col_i <- range_col) {\n",
    "            myMap(columns_names(col_i)) = myMap(columns_names(col_i)):+rows(row_i)(col_i).toDouble\n",
    "        }\n",
    "    }\n",
    "}"
   ]
  },
  {
   "cell_type": "markdown",
   "metadata": {},
   "source": [
    "# EDA"
   ]
  },
  {
   "cell_type": "code",
   "execution_count": 7,
   "metadata": {},
   "outputs": [
    {
     "name": "stdout",
     "output_type": "stream",
     "text": [
      "(likes,40949)\n",
      "(Checkins,40949)\n",
      "(Returns,40949)\n",
      "(Category,40949)\n",
      "(commBase,40949)\n",
      "(comm24,40949)\n",
      "(comm48,40949)\n",
      "(comm24_1,40949)\n",
      "(diff2448,40949)\n",
      "(baseTime,40949)\n",
      "(length,40949)\n",
      "(shares,40949)\n",
      "(hrs,40949)\n",
      "(sun_pub,40949)\n",
      "(mon_pub,40949)\n",
      "(tue_pub,40949)\n",
      "(wed_pub,40949)\n",
      "(thu_pub,40949)\n",
      "(fri_pub,40949)\n",
      "(sat_pub,40949)\n",
      "(sun_base,40949)\n",
      "(mon_base,40949)\n",
      "(tue_base,40949)\n",
      "(wed_base,40949)\n",
      "(thu_base,40949)\n",
      "(fri_base,40949)\n",
      "(sat_base,40949)\n",
      "(output,40949)\n"
     ]
    }
   ],
   "source": [
    "for (columns <- columns_names) {\n",
    "    println(columns, myMap(columns).length)\n",
    "}"
   ]
  },
  {
   "cell_type": "markdown",
   "metadata": {},
   "source": [
    "### Nan's count"
   ]
  },
  {
   "cell_type": "code",
   "execution_count": 8,
   "metadata": {},
   "outputs": [
    {
     "data": {
      "text/plain": [
       "\u001b[36mnan_maps\u001b[39m: \u001b[32mcollection\u001b[39m.\u001b[32mmutable\u001b[39m.\u001b[32mMap\u001b[39m[\u001b[32mString\u001b[39m, \u001b[32mDouble\u001b[39m] = \u001b[33mMap\u001b[39m(\n",
       "  \u001b[32m\"Checkins\"\u001b[39m -> \u001b[32m0.0\u001b[39m,\n",
       "  \u001b[32m\"mon_pub\"\u001b[39m -> \u001b[32m1927.0\u001b[39m,\n",
       "  \u001b[32m\"shares\"\u001b[39m -> \u001b[32m2449.0\u001b[39m,\n",
       "  \u001b[32m\"comm24\"\u001b[39m -> \u001b[32m0.0\u001b[39m,\n",
       "  \u001b[32m\"length\"\u001b[39m -> \u001b[32m0.0\u001b[39m,\n",
       "  \u001b[32m\"comm48\"\u001b[39m -> \u001b[32m48.0\u001b[39m,\n",
       "  \u001b[32m\"likes\"\u001b[39m -> \u001b[32m0.0\u001b[39m,\n",
       "  \u001b[32m\"sat_pub\"\u001b[39m -> \u001b[32m0.0\u001b[39m,\n",
       "  \u001b[32m\"thu_base\"\u001b[39m -> \u001b[32m0.0\u001b[39m,\n",
       "  \u001b[32m\"sun_pub\"\u001b[39m -> \u001b[32m0.0\u001b[39m,\n",
       "  \u001b[32m\"fri_pub\"\u001b[39m -> \u001b[32m0.0\u001b[39m,\n",
       "  \u001b[32m\"hrs\"\u001b[39m -> \u001b[32m0.0\u001b[39m,\n",
       "  \u001b[32m\"fri_base\"\u001b[39m -> \u001b[32m0.0\u001b[39m,\n",
       "  \u001b[32m\"sun_base\"\u001b[39m -> \u001b[32m0.0\u001b[39m,\n",
       "  \u001b[32m\"wed_pub\"\u001b[39m -> \u001b[32m0.0\u001b[39m,\n",
       "  \u001b[32m\"wed_base\"\u001b[39m -> \u001b[32m0.0\u001b[39m,\n",
       "  \u001b[32m\"tue_base\"\u001b[39m -> \u001b[32m0.0\u001b[39m,\n",
       "  \u001b[32m\"thu_pub\"\u001b[39m -> \u001b[32m3045.0\u001b[39m,\n",
       "  \u001b[32m\"sat_base\"\u001b[39m -> \u001b[32m0.0\u001b[39m,\n",
       "  \u001b[32m\"tue_pub\"\u001b[39m -> \u001b[32m0.0\u001b[39m,\n",
       "  \u001b[32m\"baseTime\"\u001b[39m -> \u001b[32m0.0\u001b[39m,\n",
       "  \u001b[32m\"mon_base\"\u001b[39m -> \u001b[32m1970.0\u001b[39m,\n",
       "  \u001b[32m\"output\"\u001b[39m -> \u001b[32m0.0\u001b[39m,\n",
       "  \u001b[32m\"diff2448\"\u001b[39m -> \u001b[32m0.0\u001b[39m,\n",
       "  \u001b[32m\"Returns\"\u001b[39m -> \u001b[32m51.0\u001b[39m,\n",
       "  \u001b[32m\"comm24_1\"\u001b[39m -> \u001b[32m0.0\u001b[39m,\n",
       "  \u001b[32m\"commBase\"\u001b[39m -> \u001b[32m60.0\u001b[39m,\n",
       "  \u001b[32m\"Category\"\u001b[39m -> \u001b[32m57.0\u001b[39m\n",
       ")"
      ]
     },
     "execution_count": 8,
     "metadata": {},
     "output_type": "execute_result"
    }
   ],
   "source": [
    "val nan_maps = scala.collection.mutable.Map[String, Double]()\n",
    "for (c <- columns_names) {\n",
    "    nan_maps(c) = myMap(c).toSeq.filter(d => d.isNaN).length.toInt\n",
    "}"
   ]
  },
  {
   "cell_type": "markdown",
   "metadata": {},
   "source": [
    "### min"
   ]
  },
  {
   "cell_type": "code",
   "execution_count": 9,
   "metadata": {},
   "outputs": [
    {
     "data": {
      "text/plain": [
       "\u001b[36mmin_maps\u001b[39m: \u001b[32mcollection\u001b[39m.\u001b[32mmutable\u001b[39m.\u001b[32mMap\u001b[39m[\u001b[32mString\u001b[39m, \u001b[32mDouble\u001b[39m] = \u001b[33mMap\u001b[39m(\n",
       "  \u001b[32m\"Checkins\"\u001b[39m -> \u001b[32m0.0\u001b[39m,\n",
       "  \u001b[32m\"mon_pub\"\u001b[39m -> \u001b[32m0.0\u001b[39m,\n",
       "  \u001b[32m\"shares\"\u001b[39m -> \u001b[32m1.0\u001b[39m,\n",
       "  \u001b[32m\"comm24\"\u001b[39m -> \u001b[32m0.0\u001b[39m,\n",
       "  \u001b[32m\"length\"\u001b[39m -> \u001b[32m0.0\u001b[39m,\n",
       "  \u001b[32m\"comm48\"\u001b[39m -> \u001b[32m0.0\u001b[39m,\n",
       "  \u001b[32m\"likes\"\u001b[39m -> \u001b[32m36.0\u001b[39m,\n",
       "  \u001b[32m\"sat_pub\"\u001b[39m -> \u001b[32m0.0\u001b[39m,\n",
       "  \u001b[32m\"thu_base\"\u001b[39m -> \u001b[32m0.0\u001b[39m,\n",
       "  \u001b[32m\"sun_pub\"\u001b[39m -> \u001b[32m0.0\u001b[39m,\n",
       "  \u001b[32m\"fri_pub\"\u001b[39m -> \u001b[32m0.0\u001b[39m,\n",
       "  \u001b[32m\"hrs\"\u001b[39m -> \u001b[32m1.0\u001b[39m,\n",
       "  \u001b[32m\"fri_base\"\u001b[39m -> \u001b[32m0.0\u001b[39m,\n",
       "  \u001b[32m\"sun_base\"\u001b[39m -> \u001b[32m0.0\u001b[39m,\n",
       "  \u001b[32m\"wed_pub\"\u001b[39m -> \u001b[32m0.0\u001b[39m,\n",
       "  \u001b[32m\"wed_base\"\u001b[39m -> \u001b[32m0.0\u001b[39m,\n",
       "  \u001b[32m\"tue_base\"\u001b[39m -> \u001b[32m0.0\u001b[39m,\n",
       "  \u001b[32m\"thu_pub\"\u001b[39m -> \u001b[32m0.0\u001b[39m,\n",
       "  \u001b[32m\"sat_base\"\u001b[39m -> \u001b[32m0.0\u001b[39m,\n",
       "  \u001b[32m\"tue_pub\"\u001b[39m -> \u001b[32m0.0\u001b[39m,\n",
       "  \u001b[32m\"baseTime\"\u001b[39m -> \u001b[32m0.0\u001b[39m,\n",
       "  \u001b[32m\"mon_base\"\u001b[39m -> \u001b[32m0.0\u001b[39m,\n",
       "  \u001b[32m\"output\"\u001b[39m -> \u001b[32m0.0\u001b[39m,\n",
       "  \u001b[32m\"diff2448\"\u001b[39m -> \u001b[32m-1366.0\u001b[39m,\n",
       "  \u001b[32m\"Returns\"\u001b[39m -> \u001b[32m0.0\u001b[39m,\n",
       "  \u001b[32m\"comm24_1\"\u001b[39m -> \u001b[32m0.0\u001b[39m,\n",
       "  \u001b[32m\"commBase\"\u001b[39m -> \u001b[32m0.0\u001b[39m,\n",
       "  \u001b[32m\"Category\"\u001b[39m -> \u001b[32m1.0\u001b[39m\n",
       ")"
      ]
     },
     "execution_count": 9,
     "metadata": {},
     "output_type": "execute_result"
    }
   ],
   "source": [
    "val min_maps = scala.collection.mutable.Map[String, Double]()\n",
    "for (c <- columns_names) {\n",
    "    min_maps(c) = min(myMap(c).toSeq.filter(d => !d.isNaN))\n",
    "}"
   ]
  },
  {
   "cell_type": "markdown",
   "metadata": {},
   "source": [
    "### max"
   ]
  },
  {
   "cell_type": "code",
   "execution_count": 10,
   "metadata": {},
   "outputs": [
    {
     "data": {
      "text/plain": [
       "\u001b[36mmax_maps\u001b[39m: \u001b[32mcollection\u001b[39m.\u001b[32mmutable\u001b[39m.\u001b[32mMap\u001b[39m[\u001b[32mString\u001b[39m, \u001b[32mDouble\u001b[39m] = \u001b[33mMap\u001b[39m(\n",
       "  \u001b[32m\"Checkins\"\u001b[39m -> \u001b[32m186370.0\u001b[39m,\n",
       "  \u001b[32m\"mon_pub\"\u001b[39m -> \u001b[32m1.0\u001b[39m,\n",
       "  \u001b[32m\"shares\"\u001b[39m -> \u001b[32m144860.0\u001b[39m,\n",
       "  \u001b[32m\"comm24\"\u001b[39m -> \u001b[32m2079.0\u001b[39m,\n",
       "  \u001b[32m\"length\"\u001b[39m -> \u001b[32m21480.0\u001b[39m,\n",
       "  \u001b[32m\"comm48\"\u001b[39m -> \u001b[32m1605.0\u001b[39m,\n",
       "  \u001b[32m\"likes\"\u001b[39m -> \u001b[32m4.86972297E8\u001b[39m,\n",
       "  \u001b[32m\"sat_pub\"\u001b[39m -> \u001b[32m1.0\u001b[39m,\n",
       "  \u001b[32m\"thu_base\"\u001b[39m -> \u001b[32m1.0\u001b[39m,\n",
       "  \u001b[32m\"sun_pub\"\u001b[39m -> \u001b[32m1.0\u001b[39m,\n",
       "  \u001b[32m\"fri_pub\"\u001b[39m -> \u001b[32m1.0\u001b[39m,\n",
       "  \u001b[32m\"hrs\"\u001b[39m -> \u001b[32m24.0\u001b[39m,\n",
       "  \u001b[32m\"fri_base\"\u001b[39m -> \u001b[32m1.0\u001b[39m,\n",
       "  \u001b[32m\"sun_base\"\u001b[39m -> \u001b[32m1.0\u001b[39m,\n",
       "  \u001b[32m\"wed_pub\"\u001b[39m -> \u001b[32m1.0\u001b[39m,\n",
       "  \u001b[32m\"wed_base\"\u001b[39m -> \u001b[32m1.0\u001b[39m,\n",
       "  \u001b[32m\"tue_base\"\u001b[39m -> \u001b[32m1.0\u001b[39m,\n",
       "  \u001b[32m\"thu_pub\"\u001b[39m -> \u001b[32m1.0\u001b[39m,\n",
       "  \u001b[32m\"sat_base\"\u001b[39m -> \u001b[32m1.0\u001b[39m,\n",
       "  \u001b[32m\"tue_pub\"\u001b[39m -> \u001b[32m1.0\u001b[39m,\n",
       "  \u001b[32m\"baseTime\"\u001b[39m -> \u001b[32m72.0\u001b[39m,\n",
       "  \u001b[32m\"mon_base\"\u001b[39m -> \u001b[32m1.0\u001b[39m,\n",
       "  \u001b[32m\"output\"\u001b[39m -> \u001b[32m1305.0\u001b[39m,\n",
       "  \u001b[32m\"diff2448\"\u001b[39m -> \u001b[32m2079.0\u001b[39m,\n",
       "  \u001b[32m\"Returns\"\u001b[39m -> \u001b[32m6089942.0\u001b[39m,\n",
       "  \u001b[32m\"comm24_1\"\u001b[39m -> \u001b[32m2184.0\u001b[39m,\n",
       "  \u001b[32m\"commBase\"\u001b[39m -> \u001b[32m2341.0\u001b[39m,\n",
       "  \u001b[32m\"Category\"\u001b[39m -> \u001b[32m106.0\u001b[39m\n",
       ")"
      ]
     },
     "execution_count": 10,
     "metadata": {},
     "output_type": "execute_result"
    }
   ],
   "source": [
    "val max_maps = scala.collection.mutable.Map[String, Double]()\n",
    "for (c <- columns_names) {\n",
    "    max_maps(c) = max(myMap(c).toSeq.filter(d => !d.isNaN))\n",
    "}"
   ]
  },
  {
   "cell_type": "markdown",
   "metadata": {},
   "source": [
    "### stdev"
   ]
  },
  {
   "cell_type": "code",
   "execution_count": 11,
   "metadata": {},
   "outputs": [
    {
     "data": {
      "text/plain": [
       "\u001b[36mstddev_maps\u001b[39m: \u001b[32mcollection\u001b[39m.\u001b[32mmutable\u001b[39m.\u001b[32mMap\u001b[39m[\u001b[32mString\u001b[39m, \u001b[32mDouble\u001b[39m] = \u001b[33mMap\u001b[39m(\n",
       "  \u001b[32m\"Checkins\"\u001b[39m -> \u001b[32m20593.184863050174\u001b[39m,\n",
       "  \u001b[32m\"mon_pub\"\u001b[39m -> \u001b[32m0.3322064486552859\u001b[39m,\n",
       "  \u001b[32m\"shares\"\u001b[39m -> \u001b[32m974.1401851259138\u001b[39m,\n",
       "  \u001b[32m\"comm24\"\u001b[39m -> \u001b[32m77.12426279172584\u001b[39m,\n",
       "  \u001b[32m\"length\"\u001b[39m -> \u001b[32m376.2643865983319\u001b[39m,\n",
       "  \u001b[32m\"comm48\"\u001b[39m -> \u001b[32m71.11712038115357\u001b[39m,\n",
       "  \u001b[32m\"likes\"\u001b[39m -> \u001b[32m6785751.74784735\u001b[39m,\n",
       "  \u001b[32m\"sat_pub\"\u001b[39m -> \u001b[32m0.34377385303781793\u001b[39m,\n",
       "  \u001b[32m\"thu_base\"\u001b[39m -> \u001b[32m0.3579032471191856\u001b[39m,\n",
       "  \u001b[32m\"sun_pub\"\u001b[39m -> \u001b[32m0.32769050657584886\u001b[39m,\n",
       "  \u001b[32m\"fri_pub\"\u001b[39m -> \u001b[32m0.3532682733054544\u001b[39m,\n",
       "  \u001b[32m\"hrs\"\u001b[39m -> \u001b[32m1.9198288062251618\u001b[39m,\n",
       "  \u001b[32m\"fri_base\"\u001b[39m -> \u001b[32m0.3509786877221571\u001b[39m,\n",
       "  \u001b[32m\"sun_base\"\u001b[39m -> \u001b[32m0.3486843746618664\u001b[39m,\n",
       "  \u001b[32m\"wed_pub\"\u001b[39m -> \u001b[32m0.3642652465210098\u001b[39m,\n",
       "  \u001b[32m\"wed_base\"\u001b[39m -> \u001b[32m0.35569757158449067\u001b[39m,\n",
       "  \u001b[32m\"tue_base\"\u001b[39m -> \u001b[32m0.3445202882295503\u001b[39m,\n",
       "  \u001b[32m\"thu_pub\"\u001b[39m -> \u001b[32m0.3423458602067294\u001b[39m,\n",
       "  \u001b[32m\"sat_base\"\u001b[39m -> \u001b[32m0.3519917166397198\u001b[39m,\n",
       "  \u001b[32m\"tue_pub\"\u001b[39m -> \u001b[32m0.35682785499601277\u001b[39m,\n",
       "  \u001b[32m\"baseTime\"\u001b[39m -> \u001b[32m20.916863962096603\u001b[39m,\n",
       "  \u001b[32m\"mon_base\"\u001b[39m -> \u001b[32m0.2842605307612079\u001b[39m,\n",
       "  \u001b[32m\"output\"\u001b[39m -> \u001b[32m35.49454978260473\u001b[39m,\n",
       "  \u001b[32m\"diff2448\"\u001b[39m -> \u001b[32m94.20297361088377\u001b[39m,\n",
       "  \u001b[32m\"Returns\"\u001b[39m -> \u001b[32m110991.65984633358\u001b[39m,\n",
       "  \u001b[32m\"comm24_1\"\u001b[39m -> \u001b[32m128.1799197535962\u001b[39m,\n",
       "  \u001b[32m\"commBase\"\u001b[39m -> \u001b[32m137.06271505782192\u001b[39m,\n",
       "  \u001b[32m\"Category\"\u001b[39m -> \u001b[32m19.950812347923613\u001b[39m\n",
       ")"
      ]
     },
     "execution_count": 11,
     "metadata": {},
     "output_type": "execute_result"
    }
   ],
   "source": [
    "val stddev_maps = scala.collection.mutable.Map[String, Double]()\n",
    "for (c <- columns_names) {\n",
    "    stddev_maps(c) = breeze.stats.stddev(myMap(c).toSeq.filter(d => !d.isNaN))\n",
    "}"
   ]
  },
  {
   "cell_type": "markdown",
   "metadata": {},
   "source": [
    "### variance"
   ]
  },
  {
   "cell_type": "code",
   "execution_count": 12,
   "metadata": {},
   "outputs": [
    {
     "data": {
      "text/plain": [
       "\u001b[36mvariance_maps\u001b[39m: \u001b[32mcollection\u001b[39m.\u001b[32mmutable\u001b[39m.\u001b[32mMap\u001b[39m[\u001b[32mString\u001b[39m, \u001b[32mDouble\u001b[39m] = \u001b[33mMap\u001b[39m(\n",
       "  \u001b[32m\"Checkins\"\u001b[39m -> \u001b[32m4.2407926280375874E8\u001b[39m,\n",
       "  \u001b[32m\"mon_pub\"\u001b[39m -> \u001b[32m0.11036112452815712\u001b[39m,\n",
       "  \u001b[32m\"shares\"\u001b[39m -> \u001b[32m948949.1002771497\u001b[39m,\n",
       "  \u001b[32m\"comm24\"\u001b[39m -> \u001b[32m5948.151911167187\u001b[39m,\n",
       "  \u001b[32m\"length\"\u001b[39m -> \u001b[32m141574.88862221895\u001b[39m,\n",
       "  \u001b[32m\"comm48\"\u001b[39m -> \u001b[32m5057.644811307489\u001b[39m,\n",
       "  \u001b[32m\"likes\"\u001b[39m -> \u001b[32m4.6046426783413375E13\u001b[39m,\n",
       "  \u001b[32m\"sat_pub\"\u001b[39m -> \u001b[32m0.11818046203246725\u001b[39m,\n",
       "  \u001b[32m\"thu_base\"\u001b[39m -> \u001b[32m0.12809473429845683\u001b[39m,\n",
       "  \u001b[32m\"sun_pub\"\u001b[39m -> \u001b[32m0.10738106809993646\u001b[39m,\n",
       "  \u001b[32m\"fri_pub\"\u001b[39m -> \u001b[32m0.12479847292421721\u001b[39m,\n",
       "  \u001b[32m\"hrs\"\u001b[39m -> \u001b[32m3.68574264521193\u001b[39m,\n",
       "  \u001b[32m\"fri_base\"\u001b[39m -> \u001b[32m0.12318603923516748\u001b[39m,\n",
       "  \u001b[32m\"sun_base\"\u001b[39m -> \u001b[32m0.12158079313333683\u001b[39m,\n",
       "  \u001b[32m\"wed_pub\"\u001b[39m -> \u001b[32m0.13268916982301204\u001b[39m,\n",
       "  \u001b[32m\"wed_base\"\u001b[39m -> \u001b[32m0.12652076243110386\u001b[39m,\n",
       "  \u001b[32m\"tue_base\"\u001b[39m -> \u001b[32m0.1186942290017724\u001b[39m,\n",
       "  \u001b[32m\"thu_pub\"\u001b[39m -> \u001b[32m0.1172006880006855\u001b[39m,\n",
       "  \u001b[32m\"sat_base\"\u001b[39m -> \u001b[32m0.1238981685829768\u001b[39m,\n",
       "  \u001b[32m\"tue_pub\"\u001b[39m -> \u001b[32m0.1273261181010555\u001b[39m,\n",
       "  \u001b[32m\"baseTime\"\u001b[39m -> \u001b[32m437.5151980088556\u001b[39m,\n",
       "  \u001b[32m\"mon_base\"\u001b[39m -> \u001b[32m0.0808040493486436\u001b[39m,\n",
       "  \u001b[32m\"output\"\u001b[39m -> \u001b[32m1259.8630642698054\u001b[39m,\n",
       "  \u001b[32m\"diff2448\"\u001b[39m -> \u001b[32m8874.200237132865\u001b[39m,\n",
       "  \u001b[32m\"Returns\"\u001b[39m -> \u001b[32m1.231914855544422E10\u001b[39m,\n",
       "  \u001b[32m\"comm24_1\"\u001b[39m -> \u001b[32m16430.091828038363\u001b[39m,\n",
       "  \u001b[32m\"commBase\"\u001b[39m -> \u001b[32m18786.187859021684\u001b[39m,\n",
       "  \u001b[32m\"Category\"\u001b[39m -> \u001b[32m398.03491334206126\u001b[39m\n",
       ")"
      ]
     },
     "execution_count": 12,
     "metadata": {},
     "output_type": "execute_result"
    }
   ],
   "source": [
    "val variance_maps = scala.collection.mutable.Map[String, Double]()\n",
    "for (c <- columns_names) {\n",
    "    variance_maps(c) = breeze.stats.variance(myMap(c).toSeq.filter(d => !d.isNaN))\n",
    "}"
   ]
  },
  {
   "cell_type": "markdown",
   "metadata": {},
   "source": [
    "### mean"
   ]
  },
  {
   "cell_type": "code",
   "execution_count": 13,
   "metadata": {},
   "outputs": [
    {
     "data": {
      "text/plain": [
       "\u001b[36mmean_maps\u001b[39m: \u001b[32mcollection\u001b[39m.\u001b[32mmutable\u001b[39m.\u001b[32mMap\u001b[39m[\u001b[32mString\u001b[39m, \u001b[32mDouble\u001b[39m] = \u001b[33mMap\u001b[39m(\n",
       "  \u001b[32m\"Checkins\"\u001b[39m -> \u001b[32m4676.133751739932\u001b[39m,\n",
       "  \u001b[32m\"mon_pub\"\u001b[39m -> \u001b[32m0.12631336169340274\u001b[39m,\n",
       "  \u001b[32m\"shares\"\u001b[39m -> \u001b[32m124.57161038961111\u001b[39m,\n",
       "  \u001b[32m\"comm24\"\u001b[39m -> \u001b[32m22.186646804561587\u001b[39m,\n",
       "  \u001b[32m\"length\"\u001b[39m -> \u001b[32m163.65247014579123\u001b[39m,\n",
       "  \u001b[32m\"comm48\"\u001b[39m -> \u001b[32m19.672599691939144\u001b[39m,\n",
       "  \u001b[32m\"likes\"\u001b[39m -> \u001b[32m1313813.7475396227\u001b[39m,\n",
       "  \u001b[32m\"sat_pub\"\u001b[39m -> \u001b[32m0.1369264206696141\u001b[39m,\n",
       "  \u001b[32m\"thu_base\"\u001b[39m -> \u001b[32m0.15084617450975712\u001b[39m,\n",
       "  \u001b[32m\"sun_pub\"\u001b[39m -> \u001b[32m0.12234731006862196\u001b[39m,\n",
       "  \u001b[32m\"fri_pub\"\u001b[39m -> \u001b[32m0.14615741532149895\u001b[39m,\n",
       "  \u001b[32m\"hrs\"\u001b[39m -> \u001b[32m23.767833158318854\u001b[39m,\n",
       "  \u001b[32m\"fri_base\"\u001b[39m -> \u001b[32m0.14388629758968483\u001b[39m,\n",
       "  \u001b[32m\"sun_base\"\u001b[39m -> \u001b[32m0.1416396004786438\u001b[39m,\n",
       "  \u001b[32m\"wed_pub\"\u001b[39m -> \u001b[32m0.15748858335978969\u001b[39m,\n",
       "  \u001b[32m\"wed_base\"\u001b[39m -> \u001b[32m0.14859947739871524\u001b[39m,\n",
       "  \u001b[32m\"tue_base\"\u001b[39m -> \u001b[32m0.13763461867200558\u001b[39m,\n",
       "  \u001b[32m\"thu_pub\"\u001b[39m -> \u001b[32m0.1355793583790641\u001b[39m,\n",
       "  \u001b[32m\"sat_base\"\u001b[39m -> \u001b[32m0.14488754304134405\u001b[39m,\n",
       "  \u001b[32m\"tue_pub\"\u001b[39m -> \u001b[32m0.14974724657500693\u001b[39m,\n",
       "  \u001b[32m\"baseTime\"\u001b[39m -> \u001b[32m35.32203472612261\u001b[39m,\n",
       "  \u001b[32m\"mon_base\"\u001b[39m -> \u001b[32m0.08866312629877611\u001b[39m,\n",
       "  \u001b[32m\"output\"\u001b[39m -> \u001b[32m7.322889447849774\u001b[39m,\n",
       "  \u001b[32m\"diff2448\"\u001b[39m -> \u001b[32m2.536960609538678\u001b[39m,\n",
       "  \u001b[32m\"Returns\"\u001b[39m -> \u001b[32m44856.10988312399\u001b[39m,\n",
       "  \u001b[32m\"comm24_1\"\u001b[39m -> \u001b[32m52.631590515030936\u001b[39m,\n",
       "  \u001b[32m\"commBase\"\u001b[39m -> \u001b[32m55.793783169067574\u001b[39m,\n",
       "  \u001b[32m\"Category\"\u001b[39m -> \u001b[32m24.27244937885156\u001b[39m\n",
       ")"
      ]
     },
     "execution_count": 13,
     "metadata": {},
     "output_type": "execute_result"
    }
   ],
   "source": [
    "val mean_maps = scala.collection.mutable.Map[String, Double]()\n",
    "for (c <- columns_names) {\n",
    "    mean_maps(c) = breeze.stats.mean(myMap(c).toSeq.filter(d => !d.isNaN))\n",
    "}"
   ]
  },
  {
   "cell_type": "markdown",
   "metadata": {},
   "source": [
    "### median"
   ]
  },
  {
   "cell_type": "code",
   "execution_count": 14,
   "metadata": {},
   "outputs": [
    {
     "data": {
      "text/plain": [
       "\u001b[36mmedian_maps\u001b[39m: \u001b[32mcollection\u001b[39m.\u001b[32mmutable\u001b[39m.\u001b[32mMap\u001b[39m[\u001b[32mString\u001b[39m, \u001b[32mDouble\u001b[39m] = \u001b[33mMap\u001b[39m(\n",
       "  \u001b[32m\"Checkins\"\u001b[39m -> \u001b[32m0.0\u001b[39m,\n",
       "  \u001b[32m\"mon_pub\"\u001b[39m -> \u001b[32m0.0\u001b[39m,\n",
       "  \u001b[32m\"shares\"\u001b[39m -> \u001b[32m15.0\u001b[39m,\n",
       "  \u001b[32m\"comm24\"\u001b[39m -> \u001b[32m2.0\u001b[39m,\n",
       "  \u001b[32m\"length\"\u001b[39m -> \u001b[32m97.0\u001b[39m,\n",
       "  \u001b[32m\"comm48\"\u001b[39m -> \u001b[32m0.0\u001b[39m,\n",
       "  \u001b[32m\"likes\"\u001b[39m -> \u001b[32m292911.0\u001b[39m,\n",
       "  \u001b[32m\"sat_pub\"\u001b[39m -> \u001b[32m0.0\u001b[39m,\n",
       "  \u001b[32m\"thu_base\"\u001b[39m -> \u001b[32m0.0\u001b[39m,\n",
       "  \u001b[32m\"sun_pub\"\u001b[39m -> \u001b[32m0.0\u001b[39m,\n",
       "  \u001b[32m\"fri_pub\"\u001b[39m -> \u001b[32m0.0\u001b[39m,\n",
       "  \u001b[32m\"hrs\"\u001b[39m -> \u001b[32m24.0\u001b[39m,\n",
       "  \u001b[32m\"fri_base\"\u001b[39m -> \u001b[32m0.0\u001b[39m,\n",
       "  \u001b[32m\"sun_base\"\u001b[39m -> \u001b[32m0.0\u001b[39m,\n",
       "  \u001b[32m\"wed_pub\"\u001b[39m -> \u001b[32m0.0\u001b[39m,\n",
       "  \u001b[32m\"wed_base\"\u001b[39m -> \u001b[32m0.0\u001b[39m,\n",
       "  \u001b[32m\"tue_base\"\u001b[39m -> \u001b[32m0.0\u001b[39m,\n",
       "  \u001b[32m\"thu_pub\"\u001b[39m -> \u001b[32m0.0\u001b[39m,\n",
       "  \u001b[32m\"sat_base\"\u001b[39m -> \u001b[32m0.0\u001b[39m,\n",
       "  \u001b[32m\"tue_pub\"\u001b[39m -> \u001b[32m0.0\u001b[39m,\n",
       "  \u001b[32m\"baseTime\"\u001b[39m -> \u001b[32m35.0\u001b[39m,\n",
       "  \u001b[32m\"mon_base\"\u001b[39m -> \u001b[32m0.0\u001b[39m,\n",
       "  \u001b[32m\"output\"\u001b[39m -> \u001b[32m0.0\u001b[39m,\n",
       "  \u001b[32m\"diff2448\"\u001b[39m -> \u001b[32m0.0\u001b[39m,\n",
       "  \u001b[32m\"Returns\"\u001b[39m -> \u001b[32m7237.0\u001b[39m,\n",
       "  \u001b[32m\"comm24_1\"\u001b[39m -> \u001b[32m10.0\u001b[39m,\n",
       "  \u001b[32m\"commBase\"\u001b[39m -> \u001b[32m11.0\u001b[39m,\n",
       "  \u001b[32m\"Category\"\u001b[39m -> \u001b[32m18.0\u001b[39m\n",
       ")"
      ]
     },
     "execution_count": 14,
     "metadata": {},
     "output_type": "execute_result"
    }
   ],
   "source": [
    "val median_maps = scala.collection.mutable.Map[String, Double]()\n",
    "for (c <- columns_names) {\n",
    "    median_maps(c) = breeze.stats.median(myMap(c).toSeq.filter(d => !d.isNaN))\n",
    "}"
   ]
  },
  {
   "cell_type": "markdown",
   "metadata": {},
   "source": [
    "# To Matrix"
   ]
  },
  {
   "cell_type": "code",
   "execution_count": 15,
   "metadata": {},
   "outputs": [
    {
     "data": {
      "text/plain": [
       "\u001b[36mmyDense4List_tmp\u001b[39m: \u001b[32mcollection\u001b[39m.\u001b[32mmutable\u001b[39m.\u001b[32mMap\u001b[39m[\u001b[32mString\u001b[39m, \u001b[32mList\u001b[39m[\u001b[32mDouble\u001b[39m]] = \u001b[33mMap\u001b[39m(\n",
       "  \u001b[32m\"Checkins\"\u001b[39m -> \u001b[33mList\u001b[39m(\n",
       "    \u001b[32m0.0\u001b[39m,\n",
       "    \u001b[32m0.0\u001b[39m,\n",
       "    \u001b[32m0.0\u001b[39m,\n",
       "    \u001b[32m0.0\u001b[39m,\n",
       "    \u001b[32m0.0\u001b[39m,\n",
       "    \u001b[32m0.0\u001b[39m,\n",
       "    \u001b[32m0.0\u001b[39m,\n",
       "    \u001b[32m0.0\u001b[39m,\n",
       "    \u001b[32m0.0\u001b[39m,\n",
       "    \u001b[32m0.0\u001b[39m,\n",
       "    \u001b[32m0.0\u001b[39m,\n",
       "    \u001b[32m0.0\u001b[39m,\n",
       "    \u001b[32m0.0\u001b[39m,\n",
       "    \u001b[32m0.0\u001b[39m,\n",
       "    \u001b[32m0.0\u001b[39m,\n",
       "    \u001b[32m0.0\u001b[39m,\n",
       "    \u001b[32m0.0\u001b[39m,\n",
       "    \u001b[32m0.0\u001b[39m,\n",
       "    \u001b[32m0.0\u001b[39m,\n",
       "    \u001b[32m0.0\u001b[39m,\n",
       "    \u001b[32m0.0\u001b[39m,\n",
       "    \u001b[32m0.0\u001b[39m,\n",
       "    \u001b[32m0.0\u001b[39m,\n",
       "    \u001b[32m0.0\u001b[39m,\n",
       "    \u001b[32m0.0\u001b[39m,\n",
       "    \u001b[32m0.0\u001b[39m,\n",
       "    \u001b[32m0.0\u001b[39m,\n",
       "    \u001b[32m0.0\u001b[39m,\n",
       "    \u001b[32m0.0\u001b[39m,\n",
       "    \u001b[32m0.0\u001b[39m,\n",
       "    \u001b[32m0.0\u001b[39m,\n",
       "    \u001b[32m0.0\u001b[39m,\n",
       "    \u001b[32m0.0\u001b[39m,\n",
       "    \u001b[32m0.0\u001b[39m,\n",
       "    \u001b[32m0.0\u001b[39m,\n",
       "    \u001b[32m0.0\u001b[39m,\n",
       "    \u001b[32m0.0\u001b[39m,\n",
       "...\n",
       "\u001b[36mDense_List\u001b[39m: \u001b[32mArray\u001b[39m[\u001b[32mArray\u001b[39m[\u001b[32mDouble\u001b[39m]] = \u001b[33mArray\u001b[39m(\n",
       "  \u001b[33mArray\u001b[39m(\n",
       "    \u001b[32m0.0\u001b[39m,\n",
       "    \u001b[32m0.0\u001b[39m,\n",
       "    \u001b[32m0.0\u001b[39m,\n",
       "    \u001b[32m0.0\u001b[39m,\n",
       "    \u001b[32m0.0\u001b[39m,\n",
       "    \u001b[32m0.0\u001b[39m,\n",
       "    \u001b[32m0.0\u001b[39m,\n",
       "    \u001b[32m0.0\u001b[39m,\n",
       "    \u001b[32m0.0\u001b[39m,\n",
       "    \u001b[32m0.0\u001b[39m,\n",
       "    \u001b[32m0.0\u001b[39m,\n",
       "    \u001b[32m0.0\u001b[39m,\n",
       "    \u001b[32m0.0\u001b[39m,\n",
       "    \u001b[32m0.0\u001b[39m,\n",
       "    \u001b[32m0.0\u001b[39m,\n",
       "    \u001b[32m0.0\u001b[39m,\n",
       "    \u001b[32m0.0\u001b[39m,\n",
       "    \u001b[32m0.0\u001b[39m,\n",
       "    \u001b[32m0.0\u001b[39m,\n",
       "    \u001b[32m0.0\u001b[39m,\n",
       "    \u001b[32m0.0\u001b[39m,\n",
       "    \u001b[32m0.0\u001b[39m,\n",
       "    \u001b[32m0.0\u001b[39m,\n",
       "    \u001b[32m0.0\u001b[39m,\n",
       "    \u001b[32m0.0\u001b[39m,\n",
       "    \u001b[32m0.0\u001b[39m,\n",
       "    \u001b[32m0.0\u001b[39m,\n",
       "    \u001b[32m0.0\u001b[39m,\n",
       "    \u001b[32m0.0\u001b[39m,\n",
       "    \u001b[32m0.0\u001b[39m,\n",
       "    \u001b[32m0.0\u001b[39m,\n",
       "    \u001b[32m0.0\u001b[39m,\n",
       "    \u001b[32m0.0\u001b[39m,\n",
       "    \u001b[32m0.0\u001b[39m,\n",
       "    \u001b[32m0.0\u001b[39m,\n",
       "    \u001b[32m0.0\u001b[39m,\n",
       "    \u001b[32m0.0\u001b[39m,\n",
       "...\n",
       "\u001b[36mX\u001b[39m: \u001b[32mDenseMatrix\u001b[39m[\u001b[32mDouble\u001b[39m] = 0.0  0.0  2.0   0.0   166.0  0.0   634995.0  0.0  0.0  0.0  0.0  ... (27 total)\n",
       "0.0  0.0  1.0   0.0   132.0  0.0   634995.0  0.0  0.0  0.0  0.0  ...\n",
       "0.0  0.0  2.0   0.0   133.0  0.0   634995.0  0.0  0.0  0.0  1.0  ...\n",
       "0.0  0.0  1.0   0.0   131.0  3.0   634995.0  0.0  0.0  0.0  1.0  ...\n",
       "0.0  0.0  5.0   0.0   142.0  0.0   634995.0  0.0  0.0  0.0  0.0  ...\n",
       "0.0  0.0  1.0   0.0   166.0  0.0   634995.0  0.0  0.0  0.0  0.0  ...\n",
       "0.0  0.0  2.0   0.0   145.0  0.0   634995.0  0.0  0.0  0.0  0.0  ...\n",
       "0.0  0.0  2.0   0.0   157.0  1.0   634995.0  0.0  0.0  0.0  0.0  ...\n",
       "0.0  0.0  5.0   0.0   177.0  0.0   634995.0  0.0  0.0  0.0  1.0  ...\n",
       "0.0  0.0  1.0   0.0   126.0  0.0   634995.0  0.0  0.0  0.0  1.0  ...\n",
       "0.0  0.0  1.0   0.0   188.0  0.0   634995.0  0.0  0.0  0.0  1.0  ...\n",
       "0.0  0.0  4.0   0.0   172.0  0.0   634995.0  0.0  1.0  0.0  0.0  ...\n",
       "0.0  0.0  4.0   0.0   157.0  0.0   634995.0  0.0  0.0  0.0  0.0  ...\n",
       "0.0  0.0  1.0   1.0   126.0  0.0   634995.0  0.0  0.0  0.0  0.0  ...\n",
       "0.0  0.0  1.0   0.0   103.0  0.0   634995.0  0.0  0.0  0.0  0.0  ...\n",
       "0.0  0.0  4.0   0.0   158.0  3.0   634995.0  0.0  1.0  0.0  0.0  ...\n",
       "0.0  0.0  15.0  0.0   151.0  3.0   634995.0  0.0  0.0  0.0  0.0  ...\n",
       "0.0  0.0  1.0   0.0   133.0  0.0   634995.0  0.0  0.0  0.0  0.0  ...\n",
       "0.0  0.0  15.0  0.0   137.0  1.0   634995.0  0.0  0.0  0.0  0.0  ...\n",
       "0.0  0.0  15.0  0.0   106.0  0.0   634995.0  0.0  0.0  0.0  1.0  ...\n",
       "0.0  0.0  1.0   0.0   149.0  0.0   634995.0  0.0  1.0  0.0  0.0  ...\n",
       "0.0  0.0  19.0  46.0  135.0  31.0  634995.0  0.0  0.0  0.0  0.0  ...\n",
       "0.0  0.0  1.0   0.0   64.0   1.0   634995.0  0.0  0.0  0.0  0.0  ...\n",
       "0.0  0.0  4.0   0.0   111.0  0.0   634995.0  0.0  0.0  0.0  0.0  ...\n",
       "0.0  0.0  15.0  0.0   156.0  0.0   634995.0  0.0  0.0  0.0  0.0  ...\n",
       "0.0  0.0  15.0  0.0   199.0  0.0   634995.0  0.0  0.0  0.0  0.0  ...\n",
       "0.0  0.0  15.0  4.0   300.0  0.0   634995.0  0.0  0.0  0.0  1.0  ...\n",
       "0.0  0.0  15.0  3.0   96.0   11.0  634995.0  0.0  0.0  0.0  0.0  ...\n",
       "0.0  0.0  15.0  1.0   67.0   2.0   634995.0  0.0  0.0  0.0  0.0  ...\n",
       "0.0  0.0  15.0  2.0   0.0    0.0   634995.0  0.0  0.0  0.0  0.0  ...\n",
       "0.0  0.0  15.0  0.0   168.0  2.0   634995.0  0.0  0.0  0.0  1.0  ...\n",
       "0.0  0.0  15.0  0.0   84.0   0.0   634995.0  0.0  0.0  0.0  0.0  ...\n",
       "0.0  0.0  4.0   2.0   116.0  0.0   634995.0  0.0  0.0  0.0  0.0  ...\n",
       "0.0  0.0  15.0  0.0   64.0   0.0   634995.0  0.0  0.0  0.0  0.0  ...\n",
       "0.0  0.0  4.0   2.0   133.0  0.0   634995.0  0.0  0.0  0.0  0.0  ...\n",
       "0.0  0.0  3.0   0.0   186.0  0.0   634995.0  0.0  0.0  0.0  1.0  ...\n",
       "0.0  0.0  15.0  0.0   205.0  0.0   634995.0  0.0  0.0  0.0  0.0  ...\n",
       "0.0  0.0  28.0  0.0   210.0  0.0   634995.0  0.0  1.0  0.0  0.0  ...\n",
       "0.0  0.0  13.0  8.0   114.0  0.0   634995.0  0.0  0.0  0.0  0.0  ...\n",
       "...\n",
       "\u001b[36my\u001b[39m: \u001b[32mDenseVector\u001b[39m[\u001b[32mDouble\u001b[39m] = DenseVector(0.0, 0.0, 0.0, 0.0, 0.0, 0.0, 0.0, 0.0, 0.0, 0.0, 0.0, 0.0, 1.3862943611198906, 0.0, 0.0, 0.0, 0.0, 0.0, 0.0, 0.0, 0.0, 1.791759469228055, 0.0, 0.0, 0.0, 0.0, 1.0986122886681098, 0.0, 0.0, 0.0, 0.0, 2.772588722239781, 0.0, 0.0, 0.0, 0.0, 0.0, 0.0, 1.0986122886681098, 0.0, 0.0, 0.0, 0.0, 0.0, 0.0, 0.0, 1.0986122886681098, 0.0, 0.0, 0.0, 0.0, 0.0, 0.0, 0.0, 0.0, 0.0, 0.0, 1.0986122886681098, 0.6931471805599453, 0.0, 0.0, 1.3862943611198906, 0.0, 0.6931471805599453, 0.0, 0.0, 1.3862943611198906, 0.6931471805599453, 0.6931471805599453, 0.0, 0.0, 0.0, 0.0, 0.0, 0.0, 0.0, 0.0, 1.0986122886681098, 1.0986122886681098, 0.0, 0.0, 0.0, 0.0, 0.0, 0.0, 0.0, 0.0, 0.0, 0.0, 0.0, 0.0, 0.0, 0.6931471805599453, 1.0986122886681098, 0.0, 0.0, 0.0, 0.6931471805599453, 0.0, 0.0, 0.6931471805599453, 0.0, 1.3862943611198906, 0.0, 0.0, 0.0, 0.6931471805599453, 0.0, 0.6931471805599453, 2.302585092994046, 0.0, 0.0, 0.0, 0.0, 0.0, 0.0, 1.0986122886681098, 0.0, 0.0, 0.0, 1.3862943611198906, 0.0, 5.8377304471659395, 0.0, 0.0, 0.0, 0.0, 0.6931471805599453, 0.0, 0.0, 0.0, 0.0, 0.0, 0.0, 3.58351893845611, 4.532599493153256, 3.9512437185814275, 4.787491742782046, 1.0986122886681098, 2.0794415416798357, 4.276666119016055, 2.70805020110221, 2.1972245773362196, 3.4339872044851463, 1.0986122886681098, 1.3862943611198906, 1.6094379124341003, 2.3978952727983707, 2.0794415416798357, 6.016157159698354, 3.367295829986474, 5.921578419643816, 3.1780538303479458, 4.634728988229636, 3.295836866004329, 6.068425588244111, 1.6094379124341003, 0.6931471805599453, 1.9459101490553132, 4.983606621708336, 2.0794415416798357, 1.6094379124341003, 4.51085950651685, 6.634633357861686, 4.060443010546419, 6.218600119691729, 1.9459101490553132, 2.772588722239781, 4.04305126783455, 3.4657359027997265, 6.466144724237619, 3.784189633918261, 5.771441123130016, 4.02535169073515, 2.0794415416798357, 4.859812404361672, 5.455321115357702, 3.044522437723423, 3.9889840465642745, 3.9889840465642745, 5.638354669333745, 5.303304908059076, 4.553876891600541, 2.4849066497880004, 5.087596335232384, 4.07753744390572, 1.3862943611198906, 2.1972245773362196, 5.236441962829949, 0.6931471805599453, 1.6094379124341003, 2.8903717578961645, 1.0986122886681098, 0.0, 5.332718793265369, 5.159055299214529, 3.5553480614894135, 5.247024072160486, 1.3862943611198906, 4.5217885770490405, 0.6931471805599453, 4.663439094112067, 3.912023005428146, 4.174387269895637, 1.3862943611198906, 1.0986122886681098, 1.0986122886681098, 3.8918202981106265, 3.258096538021482, 2.9444389791664403, 2.6390573296152584, 5.056245805348308, 0.0, 0.0, 1.0986122886681098, 0.0, 1.3862943611198906, 3.58351893845611, 0.0, 1.9459101490553132, 0.0, 0.0, 0.0, 0.6931471805599453, 0.0, 3.332204510175204, 0.0, 2.1972245773362196, 0.6931471805599453, 1.0986122886681098, 1.6094379124341003, 3.091042453358316, 0.6931471805599453, 0.0, 0.0, 0.6931471805599453, 0.0, 1.0986122886681098, 0.0, 0.0, 0.0, 2.5649493574615367, 1.3862943611198906, 2.302585092994046, 0.0, 0.0, 0.0, 1.6094379124341003, 2.1972245773362196, 1.0986122886681098, 1.0986122886681098, 0.0, 0.6931471805599453, 0.0, 0..."
      ]
     },
     "execution_count": 15,
     "metadata": {},
     "output_type": "execute_result"
    }
   ],
   "source": [
    "val myDense4List_tmp = scala.collection.mutable.Map[String, List[Double]]()\n",
    "for (col <- columns_names) {\n",
    "    if (col != \"output\") {\n",
    "    myDense4List_tmp(col) = myMap(col).map( v => if (v.isNaN) median_maps(col) else v).toList\n",
    "    }\n",
    "}\n",
    "val Dense_List = myDense4List_tmp.map{ case(k,v) => (v).toArray } toArray\n",
    "\n",
    "val X = DenseMatrix(Dense_List.slice(0, columns_names.length-1) : _*).t\n",
    "val y = DenseVector(myMap(\"output\").map(x => scala.math.log(x + 1)).toArray)"
   ]
  },
  {
   "cell_type": "markdown",
   "metadata": {},
   "source": [
    "# Min Max scaler"
   ]
  },
  {
   "cell_type": "code",
   "execution_count": 16,
   "metadata": {},
   "outputs": [
    {
     "data": {
      "text/plain": [
       "\u001b[36mmin_x\u001b[39m: \u001b[32mArray\u001b[39m[\u001b[32mDouble\u001b[39m] = \u001b[33mArray\u001b[39m(\n",
       "  \u001b[32m0.0\u001b[39m,\n",
       "  \u001b[32m0.0\u001b[39m,\n",
       "  \u001b[32m1.0\u001b[39m,\n",
       "  \u001b[32m0.0\u001b[39m,\n",
       "  \u001b[32m0.0\u001b[39m,\n",
       "  \u001b[32m0.0\u001b[39m,\n",
       "  \u001b[32m36.0\u001b[39m,\n",
       "  \u001b[32m0.0\u001b[39m,\n",
       "  \u001b[32m0.0\u001b[39m,\n",
       "  \u001b[32m0.0\u001b[39m,\n",
       "  \u001b[32m0.0\u001b[39m,\n",
       "  \u001b[32m1.0\u001b[39m,\n",
       "  \u001b[32m0.0\u001b[39m,\n",
       "  \u001b[32m0.0\u001b[39m,\n",
       "  \u001b[32m0.0\u001b[39m,\n",
       "  \u001b[32m0.0\u001b[39m,\n",
       "  \u001b[32m0.0\u001b[39m,\n",
       "  \u001b[32m0.0\u001b[39m,\n",
       "  \u001b[32m0.0\u001b[39m,\n",
       "  \u001b[32m0.0\u001b[39m,\n",
       "  \u001b[32m0.0\u001b[39m,\n",
       "  \u001b[32m0.0\u001b[39m,\n",
       "  \u001b[32m-1366.0\u001b[39m,\n",
       "  \u001b[32m0.0\u001b[39m,\n",
       "  \u001b[32m0.0\u001b[39m,\n",
       "  \u001b[32m0.0\u001b[39m,\n",
       "  \u001b[32m1.0\u001b[39m\n",
       ")\n",
       "\u001b[36mmax_x\u001b[39m: \u001b[32mArray\u001b[39m[\u001b[32mDouble\u001b[39m] = \u001b[33mArray\u001b[39m(\n",
       "  \u001b[32m186370.0\u001b[39m,\n",
       "  \u001b[32m1.0\u001b[39m,\n",
       "  \u001b[32m144860.0\u001b[39m,\n",
       "  \u001b[32m2079.0\u001b[39m,\n",
       "  \u001b[32m21480.0\u001b[39m,\n",
       "  \u001b[32m1605.0\u001b[39m,\n",
       "  \u001b[32m4.86972297E8\u001b[39m,\n",
       "  \u001b[32m1.0\u001b[39m,\n",
       "  \u001b[32m1.0\u001b[39m,\n",
       "  \u001b[32m1.0\u001b[39m,\n",
       "  \u001b[32m1.0\u001b[39m,\n",
       "  \u001b[32m24.0\u001b[39m,\n",
       "  \u001b[32m1.0\u001b[39m,\n",
       "  \u001b[32m1.0\u001b[39m,\n",
       "  \u001b[32m1.0\u001b[39m,\n",
       "  \u001b[32m1.0\u001b[39m,\n",
       "  \u001b[32m1.0\u001b[39m,\n",
       "  \u001b[32m1.0\u001b[39m,\n",
       "  \u001b[32m1.0\u001b[39m,\n",
       "  \u001b[32m1.0\u001b[39m,\n",
       "  \u001b[32m72.0\u001b[39m,\n",
       "  \u001b[32m1.0\u001b[39m,\n",
       "  \u001b[32m2079.0\u001b[39m,\n",
       "  \u001b[32m6089942.0\u001b[39m,\n",
       "  \u001b[32m2184.0\u001b[39m,\n",
       "  \u001b[32m2341.0\u001b[39m,\n",
       "  \u001b[32m106.0\u001b[39m\n",
       ")\n",
       "\u001b[36mX_scaled\u001b[39m: \u001b[32mDenseMatrix\u001b[39m[\u001b[32mDouble\u001b[39m] = 0.0  0.0  6.903264553807495E-6   0.0                   ... (27 total)\n",
       "0.0  0.0  0.0                    0.0                   ...\n",
       "0.0  0.0  6.903264553807495E-6   0.0                   ...\n",
       "0.0  0.0  0.0                    0.0                   ...\n",
       "0.0  0.0  2.761305821522998E-5   0.0                   ...\n",
       "0.0  0.0  0.0                    0.0                   ...\n",
       "0.0  0.0  6.903264553807495E-6   0.0                   ...\n",
       "0.0  0.0  6.903264553807495E-6   0.0                   ...\n",
       "0.0  0.0  2.761305821522998E-5   0.0                   ...\n",
       "0.0  0.0  0.0                    0.0                   ...\n",
       "0.0  0.0  0.0                    0.0                   ...\n",
       "0.0  0.0  2.0709793661422486E-5  0.0                   ...\n",
       "0.0  0.0  2.0709793661422486E-5  0.0                   ...\n",
       "0.0  0.0  0.0                    4.81000481000481E-4   ...\n",
       "0.0  0.0  0.0                    0.0                   ...\n",
       "0.0  0.0  2.0709793661422486E-5  0.0                   ...\n",
       "0.0  0.0  9.664570375330493E-5   0.0                   ...\n",
       "0.0  0.0  0.0                    0.0                   ...\n",
       "0.0  0.0  9.664570375330493E-5   0.0                   ...\n",
       "0.0  0.0  9.664570375330493E-5   0.0                   ...\n",
       "0.0  0.0  0.0                    0.0                   ...\n",
       "0.0  0.0  1.2425876196853493E-4  0.022126022126022125  ...\n",
       "0.0  0.0  0.0                    0.0                   ...\n",
       "0.0  0.0  2.0709793661422486E-5  0.0                   ...\n",
       "0.0  0.0  9.664570375330493E-5   0.0                   ...\n",
       "0.0  0.0  9.664570375330493E-5   0.0                   ...\n",
       "0.0  0.0  9.664570375330493E-5   0.001924001924001924  ...\n",
       "0.0  0.0  9.664570375330493E-5   0.001443001443001443  ...\n",
       "0.0  0.0  9.664570375330493E-5   4.81000481000481E-4   ...\n",
       "0.0  0.0  9.664570375330493E-5   9.62000962000962E-4   ...\n",
       "0.0  0.0  9.664570375330493E-5   0.0                   ...\n",
       "0.0  0.0  9.664570375330493E-5   0.0                   ...\n",
       "0.0  0.0  2.0709793661422486E-5  9.62000962000962E-4   ...\n",
       "0.0  0.0  9.664570375330493E-5   0.0                   ...\n",
       "0.0  0.0  2.0709793661422486E-5  9.62000962000962E-4   ...\n",
       "0.0  0.0  1.380652910761499E-5   0.0                   ...\n",
       "0.0  0.0  9.664570375330493E-5   0.0                   ...\n",
       "0.0  0.0  1.8638814295280238E-4  0.0                   ...\n",
       "0.0  0.0  8.283917464568994E-5   0.003848003848003848  ...\n",
       "..."
      ]
     },
     "execution_count": 16,
     "metadata": {},
     "output_type": "execute_result"
    }
   ],
   "source": [
    "val min_x = X.toArray.grouped(X.rows).toArray.map(x => DenseVector(x)).map(x => x.toArray.min)\n",
    "val max_x = X.toArray.grouped(X.rows).toArray.map(x => DenseVector(x)).map(x => x.toArray.max)\n",
    "\n",
    "val X_scaled = DenseMatrix(Array.tabulate(columns_names.length-1)(i => (X(::, i) - DenseVector(min_x)(i))/(DenseVector(max_x)(i) - DenseVector(min_x)(i))): _*).t"
   ]
  },
  {
   "cell_type": "code",
   "execution_count": 17,
   "metadata": {},
   "outputs": [
    {
     "data": {
      "text/plain": [
       "\u001b[36mres16\u001b[39m: \u001b[32mArray\u001b[39m[\u001b[32mDenseVector\u001b[39m[\u001b[32mDouble\u001b[39m]] = \u001b[33mArray\u001b[39m(\n",
       "  DenseVector(0.0, 0.0, 0.0, 0.0, 0.0, 0.0, 0.0, 0.0, 0.0, 0.0, 0.0, 0.0, 0.0, 0.0, 0.0, 0.0, 0.0, 0.0, 0.0, 0.0, 0.0, 0.0, 0.0, 0.0, 0.0, 0.0, 0.0, 0.0, 0.0, 0.0, 0.0, 0.0, 0.0, 0.0, 0.0, 0.0, 0.0, 0.0, 0.0, 0.0, 0.0, 0.0, 0.0, 0.0, 0.0, 0.0, 0.0, 0.0, 0.0, 0.0, 0.0, 0.0, 0.0, 0.0, 0.0, 0.0, 0.0, 0.0, 0.0, 0.0, 0.0, 0.0, 0.0, 0.0, 0.0, 0.0, 0.0, 0.0, 0.0, 0.0, 0.0, 0.0, 0.0, 0.0, 0.0, 0.0, 0.0, 0.0, 0.0, 0.0, 0.0, 0.0, 0.0, 0.0, 0.0, 0.0, 0.0, 0.0, 0.0, 0.0, 0.0, 0.0, 0.0, 0.0, 0.0, 0.0, 0.0, 0.0, 0.0, 0.0, 0.0, 0.0, 0.0, 0.0, 0.0, 0.0, 0.0, 0.0, 0.0, 0.0, 0.0, 0.0, 0.0, 0.0, 0.0, 0.0, 0.0, 0.0, 0.0, 0.0, 0.0, 0.0, 0.0, 0.0, 0.0, 0.0, 0.0, 0.0, 0.0, 0.0, 0.0, 0.0, 0.0, 0.0, 0.0, 0.0, 0.0, 0.0, 0.0, 0.0, 0.0, 0.0, 0.0, 0.0, 0.0, 0.0, 0.0, 0.0, 0.0, 0.0, 0.0, 0.0, 0.0, 0.0, 0.0, 0.0, 0.0, 0.0, 0.0, 0.0, 0.0, 0.0, 0.0, 0.0, 0.0, 0.0, 0.0, 0.0, 0.0, 0.0, 0.0, 0.0, 0.0, 0.0, 0.0, 0.0, 0.0, 0.0, 0.0, 0.0, 0.0, 0.0, 0.0, 0.0, 0.0, 0.0, 0.0, 0.0, 0.0, 0.0, 0.0, 0.0, 0.0, 0.0, 0.0, 0.0, 0.0, 0.0, 0.0, 0.0, 0.0, 0.0, 0.0, 0.0, 0.0, 0.0, 0.0, 0.0, 0.0, 0.0, 0.0, 0.0, 0.0, 0.0, 0.0, 0.0, 0.0, 0.0, 0.0, 0.0, 0.0, 0.0, 0.0, 0.0, 0.0, 0.0, 0.0, 0.0, 0.0, 0.0, 0.0, 0.0, 0.0, 0.0, 0.0, 0.0, 0.0, 0.0, 0.0, 0.0, 0.0, 0.0, 0.0, 0.0, 0.0, 0.0, 0.0, 0.0, 0.0, 0.0, 0.0, 0.0, 0.0, 0.0, 0.0, 0.0, 0.0, 0.0, 0.0, 0.0, 0.0, 0.0, 0.0, 0.0, 0.0, 0.0, 0.0, 0.0, 0.0, 0.0, 0.0, 0.0, 0.0, 0.0, 0.0, 0.0, 0.0, 0.0, 0.0, 0.0, 0.0, 0.0, 0.0, 0.0, 0.0, 0.0, 0.0, 0.0, 0.0, 0.0, 0.0, 0.0, 0.0, 0.0, 0.0, 0.0, 0.0, 0.0, 0.0, 0.0, 0.0, 0.0, 0.0, 0.0, 0.0, 0.0, 0.0, 0.0, 0.0, 0.0, 0.0, 0.0, 0.0, 0.0, 0.0, 0.0, 0.0, 0.0, 0.0, 0.0, 0.0, 0.0, 0.0, 0.0, 0.0, 0.0, 0.0, 0.0, 0.0, 0.0, 0.0, 0.0, 0.0, 0.0, 0.0, 0.0, 0.0, 0.0, 0.0, 0.0, 0.0, 0.0, 0.0, 0.0, 0.0, 0.0, 0.0, 0.0, 0.0, 0.0, 0.0, 0.0, 0.0, 0.0, 0.0, 0.0, 0.0, 0.0, 0.0, 0.0, 0.0, 0.0, 0.0, 0.0, 0.0, 0.0, 0.0, 0.0, 0.0, 0.0, 0.0, 0.0, 0.0, 0.0, 0.0, 0.0, 0.0, 0.0, 0.0, 0.0, 0.0, 0.0, 0.0, 0.0, 0.0, 0.0, 0.0, 0.0, 0.0, 0.0, 0.0, 0.0, 0.0, 0.0, 0.0, 0.0, 0.0, 0.0, 0.0, 0.0, 0.0, 0.0, 0.0, 0.0, 0.0, 0.0, 0.0, 0.0, 0.0, 0.0, 0.0, 0.0, 0.0, 0.0, 0.0, 0.0, 0.0, 0.0, 0.0, 0.0, 0.0, 0.0, 0.0, 0.0, 0.0, 0.0, 0.0, 0.0, 0.0, 0.0, 0.0, 0.0, 0.0, 0.0, 0.0, 0.0, 0.0, 0.0, 0.0, 0.0, 0.0, 0.0, 0.0, 0.0, 0.0, 0.0, 0.0, 0.0, 0.0, 0.0, 0.0, 0.0, 0.0, 0.0, 0.0, 0.0, 0.0, 0.0, 0.0, 0.0, 0.0, 0.0, 0.0, 0.0, 0.0, 0.0, 0.0, 0.0, 0.0, 0.0, 0.0, 0.0, 0.0, 0.0, 0.0, 0.0, 0.0, 0.0, 0.0, 0.0, 0.0, 0.0, 0.0, 0.0, 0.0, 0.0, 0.0, 0.0, 0.0, 0.0, 0.0, 0.0, 0.0, 0.0, 0.0, 0.0, 0.0, 0.0, 0.0, 0.0, 0.0, 0.0, 0.0, 0.0, 0.0, 0.0, 0.0, 0.0, 0.0, 0.0, 0.0, 0.0, 0.0, 0.0, 0.0, 0.0, 0.0, 0.0, 0.0, 0.0, 0.0, 0.0, 0.0, 0.0, 0.0, 0.0, 0.0, 0.0, 0.0, 0.0, 0.0, 0.0, 0.0, 0.0, 0.0, 0.0, 0.0, 0.0, 0.0, 0.0, 0.0, 0.0, 0.0, 0.0, 0.0, 0.0, 0.0, 0.0, 0.0, 0.0, 0.0, 0.0, 0.0, 0.0, 0.0, 0.0, 0.0, 0.0, 0.0, 0.0, 0.0, 0.0, 0.0, 0.0, 0.0, 0.0, 0.0, 0.0, 0.0, 0.0, 0.0, 0.0, 0.0, 0.0, 0.0, 0.0, 0.0, 0.0, 0.0, 0.0, 0.0, 0.0, 0.0, 0.0, 0.0, 0.0, 0.0, 0.0, 0.0, 0.0, 0.0, 0.0, 0.0, 0.0, 0.0, 0.0, 0.0, 0.0, 0.0, 0.0, 0.0, 0.0, 0.0, 0.0, 0.0, 0..."
      ]
     },
     "execution_count": 17,
     "metadata": {},
     "output_type": "execute_result"
    }
   ],
   "source": [
    "X_scaled.toArray.grouped(X.rows).toArray.map(x => DenseVector(x))"
   ]
  },
  {
   "cell_type": "code",
   "execution_count": 18,
   "metadata": {},
   "outputs": [
    {
     "data": {
      "text/plain": [
       "\u001b[36mX_scaled_bias\u001b[39m: \u001b[32mDenseMatrix\u001b[39m[\u001b[32mDouble\u001b[39m] = 1.0  0.0  0.0  6.903264553807495E-6   0.0                   ... (28 total)\n",
       "1.0  0.0  0.0  0.0                    0.0                   ...\n",
       "1.0  0.0  0.0  6.903264553807495E-6   0.0                   ...\n",
       "1.0  0.0  0.0  0.0                    0.0                   ...\n",
       "1.0  0.0  0.0  2.761305821522998E-5   0.0                   ...\n",
       "1.0  0.0  0.0  0.0                    0.0                   ...\n",
       "1.0  0.0  0.0  6.903264553807495E-6   0.0                   ...\n",
       "1.0  0.0  0.0  6.903264553807495E-6   0.0                   ...\n",
       "1.0  0.0  0.0  2.761305821522998E-5   0.0                   ...\n",
       "1.0  0.0  0.0  0.0                    0.0                   ...\n",
       "1.0  0.0  0.0  0.0                    0.0                   ...\n",
       "1.0  0.0  0.0  2.0709793661422486E-5  0.0                   ...\n",
       "1.0  0.0  0.0  2.0709793661422486E-5  0.0                   ...\n",
       "1.0  0.0  0.0  0.0                    4.81000481000481E-4   ...\n",
       "1.0  0.0  0.0  0.0                    0.0                   ...\n",
       "1.0  0.0  0.0  2.0709793661422486E-5  0.0                   ...\n",
       "1.0  0.0  0.0  9.664570375330493E-5   0.0                   ...\n",
       "1.0  0.0  0.0  0.0                    0.0                   ...\n",
       "1.0  0.0  0.0  9.664570375330493E-5   0.0                   ...\n",
       "1.0  0.0  0.0  9.664570375330493E-5   0.0                   ...\n",
       "1.0  0.0  0.0  0.0                    0.0                   ...\n",
       "1.0  0.0  0.0  1.2425876196853493E-4  0.022126022126022125  ...\n",
       "1.0  0.0  0.0  0.0                    0.0                   ...\n",
       "1.0  0.0  0.0  2.0709793661422486E-5  0.0                   ...\n",
       "1.0  0.0  0.0  9.664570375330493E-5   0.0                   ...\n",
       "1.0  0.0  0.0  9.664570375330493E-5   0.0                   ...\n",
       "1.0  0.0  0.0  9.664570375330493E-5   0.001924001924001924  ...\n",
       "1.0  0.0  0.0  9.664570375330493E-5   0.001443001443001443  ...\n",
       "1.0  0.0  0.0  9.664570375330493E-5   4.81000481000481E-4   ...\n",
       "1.0  0.0  0.0  9.664570375330493E-5   9.62000962000962E-4   ...\n",
       "1.0  0.0  0.0  9.664570375330493E-5   0.0                   ...\n",
       "1.0  0.0  0.0  9.664570375330493E-5   0.0                   ...\n",
       "1.0  0.0  0.0  2.0709793661422486E-5  9.62000962000962E-4   ...\n",
       "1.0  0.0  0.0  9.664570375330493E-5   0.0                   ...\n",
       "1.0  0.0  0.0  2.0709793661422486E-5  9.62000962000962E-4   ...\n",
       "1.0  0.0  0.0  1.380652910761499E-5   0.0                   ...\n",
       "1.0  0.0  0.0  9.664570375330493E-5   0.0                   ...\n",
       "1.0  0.0  0.0  1.8638814295280238E-4  0.0                   ...\n",
       "1.0  0.0  0.0  8.283917464568994E-5   0.003848003848003848  ...\n",
       "..."
      ]
     },
     "execution_count": 18,
     "metadata": {},
     "output_type": "execute_result"
    }
   ],
   "source": [
    "// add bias\n",
    "val X_scaled_bias = DenseMatrix.horzcat(DenseMatrix.ones[Double](rows.length.toInt, 1), X_scaled)"
   ]
  },
  {
   "cell_type": "markdown",
   "metadata": {},
   "source": [
    "# Breeze log reg"
   ]
  },
  {
   "cell_type": "code",
   "execution_count": 19,
   "metadata": {},
   "outputs": [
    {
     "data": {
      "text/plain": [
       "defined \u001b[32mfunction\u001b[39m \u001b[36mvalidate\u001b[39m"
      ]
     },
     "execution_count": 19,
     "metadata": {},
     "output_type": "execute_result"
    }
   ],
   "source": [
    "def validate(x: DenseMatrix[Double], params: DenseVector[Double]): (DenseVector[Double]) = {\n",
    "    val hypothesis = x * params\n",
    "    hypothesis\n",
    "}"
   ]
  },
  {
   "cell_type": "code",
   "execution_count": 20,
   "metadata": {},
   "outputs": [
    {
     "name": "stderr",
     "output_type": "stream",
     "text": [
      "Sep 30, 2020 5:08:05 PM com.github.fommil.netlib.LAPACK <clinit>\n",
      "WARNING: Failed to load implementation from: com.github.fommil.netlib.NativeSystemLAPACK\n",
      "Sep 30, 2020 5:08:05 PM com.github.fommil.netlib.LAPACK <clinit>\n",
      "WARNING: Failed to load implementation from: com.github.fommil.netlib.NativeRefLAPACK\n"
     ]
    },
    {
     "data": {
      "text/plain": [
       "\u001b[36msquaresModel\u001b[39m: \u001b[32mbreeze\u001b[39m.\u001b[32mstats\u001b[39m.\u001b[32mregression\u001b[39m.\u001b[32mLeastSquaresRegressionResult\u001b[39m = \u001b[33mLeastSquaresRegressionResult\u001b[39m(\n",
       "  DenseVector(115.83478865856392, 0.10851408170579847, -0.07692629688980045, -2.491297151662623, 187.08417540071886, 1.0447001615535136, -133.84443720186263, -1.6351973888841869, -0.058178918219757854, -0.048801091603762364, -0.0666492734692109, -0.04612965564947992, 0.6008198472801048, -0.0648613602249895, -0.05467991651655422, -0.05662134847481308, -0.06016485976820681, -0.07629377845863623, -0.03546549137603959, -0.06278658637493519, -0.07081765723263675, -1.6881422631631318, -0.06057040496361936, -289.6692616955971, 7.575373624122284, -20.556201451385054, 24.000077182775776, -0.4224908661328635),\n",
       "  \u001b[32m28178.548285353714\u001b[39m\n",
       ")"
      ]
     },
     "execution_count": 20,
     "metadata": {},
     "output_type": "execute_result"
    }
   ],
   "source": [
    "val squaresModel = leastSquares(X_scaled_bias, y)"
   ]
  },
  {
   "cell_type": "code",
   "execution_count": 21,
   "metadata": {},
   "outputs": [
    {
     "name": "stderr",
     "output_type": "stream",
     "text": [
      "Sep 30, 2020 5:08:05 PM com.github.fommil.netlib.BLAS <clinit>\n",
      "WARNING: Failed to load implementation from: com.github.fommil.netlib.NativeSystemBLAS\n",
      "Sep 30, 2020 5:08:05 PM com.github.fommil.netlib.BLAS <clinit>\n",
      "WARNING: Failed to load implementation from: com.github.fommil.netlib.NativeRefBLAS\n"
     ]
    },
    {
     "name": "stdout",
     "output_type": "stream",
     "text": [
      "(MAE,0.6071398602105289)\n",
      "(MSE,0.68813764158719)\n"
     ]
    },
    {
     "data": {
      "text/plain": [
       "\u001b[36msquaresModel_pred\u001b[39m: \u001b[32mDenseVector\u001b[39m[\u001b[32mDouble\u001b[39m] = DenseVector(-0.06001365807174338, 1.2469841187246784, 1.1446404848790719, 0.029302968938532507, 0.16297538412714427, 0.04096455901223365, -0.13137427394344045, 0.7359680209254057, 0.6543540455821484, 0.3552456102471196, 0.26447535773199166, -0.08209519472598659, 1.3654887813347427, 0.5992265918140666, 0.9648032851948569, 0.530107576674286, 0.20887628190663501, 0.7803949114613529, 0.6409860455967694, 1.2134430001669143, 0.08012283310784611, 1.1805268356623229, 0.1966096071531322, -0.1565087126614246, -0.17213958760733747, 0.0644159613707798, 1.2029595116697052, 0.458069905943544, 0.7073903369213529, 1.265829460609501, 0.6180215200592214, 1.5186294699120522, 1.1894103340197317, 0.4485483733837113, 1.108362278348855, -0.022903842638105375, 0.32915252839985515, -0.03460682392655642, 1.2223017451141298, 0.7514629454505913, 0.6465307464187138, -0.06479824717213588, 0.9101590835786437, 0.4615572565077911, 0.8942718870111674, 0.42920316653021034, 0.14671917011480506, 0.31064210048549074, 0.6914984768752991, 1.511037782576376, 1.3665700824504425, 0.21685786246786065, 0.4145918769573872, 0.6434014663612844, -0.12723156308463943, 0.1779005195249779, 0.542723142253986, 1.4391540044855686, 0.21715682542811535, 0.40208614154761885, 0.5185947839053666, 1.0794530650021241, 0.5805839352010957, 0.5620865607561016, 0.09006149463656554, 0.10699069793555138, 1.0711941775251608, 0.5486103351626979, 1.0028945028868135, 1.269348151060989, 1.0791188852151028, 0.7570224593323408, 0.6005411342255021, 0.5442024485302587, 1.1565190731276216, 0.08562255262401224, 1.396354369085425, 1.4490666212800751, 1.4387044477460718, 0.25994175199914177, -0.09296312112376355, 0.3054144563424997, 0.6107041160521005, 0.7139547597061071, -0.18891823292749482, 1.347489883064107, 1.0307272460811374, 0.4424922971442722, 0.13812726322943106, 0.4725773903247115, 0.08572542853192472, 0.780397959971425, 0.9916823981198217, 0.8419482999891831, -0.11605749164632886, 0.3402132297888683, -0.03735187459440994, 0.6236132238853682, 0.8068903165668189, 0.9474094321687706, 0.3895549368496174, 0.4603691451676502, 0.7442251453832177, 1.2425492771328335, 0.6041182021425234, 0.34568441638459346, 0.9136976745694723, 0.1343515977475063, 0.54375214064187, 0.8178425531449386, 1.3615059984796103, 1.0825535735816136, 0.47617748522746256, 1.1914872203670326, 0.34506521981236044, 0.6517502673524076, 1.4868888614887192, 0.4889002353380603, 1.0684793020318237, 1.0509360181246832, 0.9246795283046835, 0.012741439749327387, 6.482319671397254, -0.12734027727268288, 0.764255028664206, 0.27143205624806965, 0.35937422547186115, 1.222123946340894, 0.3957514359558543, 0.6296799286527544, -0.048842301073870165, 1.447625995534853, 0.7942503997561179, 0.9334029738034628, 4.581225703492315, 4.570420630010532, 8.332983669646598, 3.7761223614355646, 1.357240553022023, 1.7310356472042072, 5.161952420090702, 3.1054245171473496, 3.013450778383819, 2.7304622963853427, 1.98487444430476, 1.8851257182677175, 1.716019819981237, 1.6001315859590328, 1.1303792128089423, 8.072665761339845, 4.9568274809474975, 5.267253594098336, 2.234644230534628, 3.5977754930240167..."
      ]
     },
     "execution_count": 21,
     "metadata": {},
     "output_type": "execute_result"
    }
   ],
   "source": [
    "val squaresModel_pred: DenseVector[Double] = validate(X_scaled_bias, squaresModel.coefficients)\n",
    "println(\"MAE\", (y - squaresModel_pred).map(x => scala.math.abs(x)).sum / y.length)\n",
    "println(\"MSE\", (y - squaresModel_pred).map(x => scala.math.pow(x,2)).sum / y.length)"
   ]
  },
  {
   "cell_type": "code",
   "execution_count": 22,
   "metadata": {},
   "outputs": [
    {
     "data": {
      "text/plain": [
       "\u001b[36mlassoModel\u001b[39m: \u001b[32mbreeze\u001b[39m.\u001b[32mstats\u001b[39m.\u001b[32mregression\u001b[39m.\u001b[32mLassoResult\u001b[39m = \u001b[33mLassoResult\u001b[39m(\n",
       "  DenseVector(0.1563735009716084, 0.09214995760962151, 0.0, -2.386102311944251, 9.638207085462682, 1.2670626973399277, 2.125989821337679, -1.3095629186323532, 0.017439290555168532, 0.01208761179492692, 0.0038517093787259066, 0.02718914848873706, 0.29865346591275393, 0.0, 0.002455239555505792, 0.0, 0.003979827564242706, 0.0, 0.029173487879952983, 0.0, 0.0, -1.5877631481411338, 0.0, 2.31610879616113, 7.495977613998816, -3.028832308114416, 7.030588023793499, -0.3612798616429962),\n",
       "  \u001b[32m28446.20659324545\u001b[39m,\n",
       "  \u001b[32m0.01\u001b[39m\n",
       ")"
      ]
     },
     "execution_count": 22,
     "metadata": {},
     "output_type": "execute_result"
    }
   ],
   "source": [
    "val lassoModel = lasso(X_scaled_bias, y, 0.01)"
   ]
  },
  {
   "cell_type": "code",
   "execution_count": 23,
   "metadata": {},
   "outputs": [
    {
     "name": "stdout",
     "output_type": "stream",
     "text": [
      "(MAE,0.605931048859574)\n",
      "(MSE,0.6946740236207343)\n"
     ]
    },
    {
     "data": {
      "text/plain": [
       "\u001b[36mlassoModel_pred\u001b[39m: \u001b[32mDenseVector\u001b[39m[\u001b[32mDouble\u001b[39m] = DenseVector(-0.05135661579138127, 1.18870237831243, 1.098551491261375, 0.05321299736094432, 0.10714035858027264, 0.05892118583615371, -0.11875216207771519, 0.7072794635128448, 0.6379999636371652, 0.35083324438559504, 0.2662814379200451, -0.12554067006523945, 1.3153200369030595, 0.5706884876216214, 0.8711387805117651, 0.5183389188559356, 0.19831230479157977, 0.7405948254720802, 0.6176765046597442, 1.1629014778840667, 0.02590146937631701, 1.0933184859390765, 0.19556877762794078, -0.14284296453905207, -0.15284549888891805, 0.07021364549065992, 1.1579394456010683, 0.37663958224396, 0.6195993620543997, 1.1433090108780746, 0.6001924749222068, 1.3769895183373693, 1.1503328121985104, 0.4275623222161413, 0.9969697469356323, -9.519128259227521E-4, 0.26344133321123864, -0.08120633223574744, 1.1735423859330696, 0.7113116173683165, 0.5541199500321455, -0.04855915861281364, 0.8780123599018168, 0.3946049215327551, 0.8048103641566774, 0.4203111170440693, 0.15089684770315917, 0.2986110437513251, 0.6596101455371313, 1.3719798579743718, 1.2399533617083678, 0.2243394721163677, 0.3987853651794916, 0.539720230928672, -0.10037362534689118, 0.1867570374444333, 0.5162432901720915, 1.303897154114808, 0.1513057141294856, 0.3957095300195947, 0.5043196312390564, 1.0506245824663543, 0.41349327414782455, 0.4954274811173156, 0.10635812927452341, 0.12050600036787633, 1.0119666523658049, 0.5241924378413243, 0.897148589432696, 1.1488307775007482, 1.0370406839051258, 0.7300603991522172, 0.5832999370772316, 0.4246788393246324, 1.119381901514194, 0.10037660231884907, 1.3200034939360439, 1.3699119592941342, 1.3034045512622092, 0.19162349824883146, -0.06671649319836401, 0.303182531654544, 0.5283044766532601, 0.6292050837841945, -0.15244078509962067, 1.2986162721471164, 0.9730334782151797, 0.43079104903923415, 0.08198582047926875, 0.46127688372949294, 0.10778980261409811, 0.7531137937879387, 0.8987839615177474, 0.7491683556372378, -0.09710004635543085, 0.269618889974799, -0.08369510078333298, 0.6086184362261731, 0.716557948762273, 0.834021547018531, 0.38745930860686095, 0.4529064491677306, 0.7293054965482614, 1.172435434964728, 0.5199277100676287, 0.2766656270839478, 0.8823567747951153, 0.145134927135842, 0.46827155285884703, 0.6764077821628026, 1.3105377803916982, 1.038322836482252, 0.4546875579936089, 1.0748054654510533, 0.27651239982531334, 0.6348858436174756, 1.4256419394834963, 0.4124982729198423, 0.9688964760307462, 1.0076187401530659, 0.8840292221242978, 0.01838501757407055, 6.587192532361916, -0.1063747370546882, 0.6653584994581033, 0.16161538086251162, 0.3551842781422785, 1.1528370303787492, 0.324261578996507, 0.5449565396540734, -0.02501786013681912, 1.388221755204181, 0.6940995191891606, 0.8804799995362627, 4.656614899111659, 4.540175530139339, 7.605804985797494, 3.7217795597340033, 1.2478977966851992, 1.7725895598192314, 5.295107090933254, 3.3305713607712386, 3.1207377919247015, 2.718908368675405, 2.0382861744474754, 1.808115262125577, 1.7430415611360952, 1.6034757731596612, 1.1030696633336932, 8.208610489034083, 4.226917237358023, 5.223464497432289, 2.3522360490749334, 3.603184588439406, 2.3..."
      ]
     },
     "execution_count": 23,
     "metadata": {},
     "output_type": "execute_result"
    }
   ],
   "source": [
    "val lassoModel_pred: DenseVector[Double] = validate(X_scaled_bias, lassoModel.coefficients)\n",
    "println(\"MAE\", (y - lassoModel_pred).map(x => scala.math.abs(x)).sum / y.length)\n",
    "println(\"MSE\", (y - lassoModel_pred).map(x => scala.math.pow(x,2)).sum / y.length)"
   ]
  },
  {
   "cell_type": "markdown",
   "metadata": {},
   "source": [
    "# My log reg"
   ]
  },
  {
   "cell_type": "code",
   "execution_count": 24,
   "metadata": {},
   "outputs": [
    {
     "name": "stdout",
     "output_type": "stream",
     "text": [
      "(Loss = ,20.38845547276104)\n"
     ]
    },
    {
     "data": {
      "text/html": [
       "<div class=\"jp-RenderedText\">\n",
       "<pre><code><span style=\"color: rgb(0, 187, 187)\"><span class=\"ansi-cyan-fg\">start_params_</span></span>: <span style=\"color: rgb(0, 187, 0)\"><span class=\"ansi-green-fg\">DenseVector</span></span>[<span style=\"color: rgb(0, 187, 0)\"><span class=\"ansi-green-fg\">Double</span></span>] = DenseVector(1.0, 1.0, 1.0, 1.0, 1.0, 1.0, 1.0, 1.0, 1.0, 1.0, 1.0, 1.0, 1.0, 1.0, 1.0, 1.0, 1.0, 1.0, 1.0, 1.0, 1.0, 1.0, 1.0, 1.0, 1.0, 1.0, 1.0, 1.0)\n",
       "defined <span style=\"color: rgb(0, 187, 0)\"><span class=\"ansi-green-fg\">function</span></span> <span style=\"color: rgb(0, 187, 187)\"><span class=\"ansi-cyan-fg\">gradient</span></span>\n",
       "<span style=\"color: rgb(0, 187, 187)\"><span class=\"ansi-cyan-fg\">theta</span></span>: <span style=\"color: rgb(0, 187, 0)\"><span class=\"ansi-green-fg\">DenseVector</span></span>[<span style=\"color: rgb(0, 187, 0)\"><span class=\"ansi-green-fg\">Double</span></span>] = DenseVector(0.5691296327351787, 0.9888299240044409, 0.9474367587676398, 0.9997275818033055, 0.9977337222912616, 0.9966948566910158, 0.9954005774736389, 0.9989569177939347, 0.9410112338615821, 0.935344191238494, 0.9475030892747985, 0.9360508257108561, 0.5732263864874219, 0.9372310287207992, 0.9370840410530197, 0.9323684209336917, 0.9364788901094774, 0.9405441202472442, 0.9439693212862659, 0.9363278149026134, 0.9343220981106041, 0.7643052293204927, 0.9622124842956179, 0.829927904011829, 0.9973128034042877, 0.9919836474263021, 0.9920055363514526, 0.8979314100973372)</code></pre>\n",
       "</div>"
      ],
      "text/plain": [
       "\u001b[36mstart_params_\u001b[39m: \u001b[32mDenseVector\u001b[39m[\u001b[32mDouble\u001b[39m] = DenseVector(1.0, 1.0, 1.0, 1.0, 1.0, 1.0, 1.0, 1.0, 1.0, 1.0, 1.0, 1.0, 1.0, 1.0, 1.0, 1.0, 1.0, 1.0, 1.0, 1.0, 1.0, 1.0, 1.0, 1.0, 1.0, 1.0, 1.0, 1.0)\n",
       "defined \u001b[32mfunction\u001b[39m \u001b[36mgradient\u001b[39m\n",
       "\u001b[36mtheta\u001b[39m: \u001b[32mDenseVector\u001b[39m[\u001b[32mDouble\u001b[39m] = DenseVector(0.5691296327351787, 0.9888299240044409, 0.9474367587676398, 0.9997275818033055, 0.9977337222912616, 0.9966948566910158, 0.9954005774736389, 0.9989569177939347, 0.9410112338615821, 0.935344191238494, 0.9475030892747985, 0.9360508257108561, 0.5732263864874219, 0.9372310287207992, 0.9370840410530197, 0.9323684209336917, 0.9364788901094774, 0.9405441202472442, 0.9439693212862659, 0.9363278149026134, 0.9343220981106041, 0.7643052293204927, 0.9622124842956179, 0.829927904011829, 0.9973128034042877, 0.9919836474263021, 0.9920055363514526, 0.8979314100973372)"
      ]
     },
     "metadata": {},
     "output_type": "display_data"
    }
   ],
   "source": [
    "val start_params_ = DenseVector.ones[Double](columns_names.length - 1 + 1)\n",
    "def gradient(x: DenseMatrix[Double], y: DenseVector[Double], mu: Double, params: DenseVector[Double]): (DenseVector[Double]) = {\n",
    "    val size_ = y.size\n",
    "    val x_transpose = x.t\n",
    "    val hypothesis = x * params\n",
    "    val loss = hypothesis - y\n",
    "    val loss_func = (loss.map(x => scala.math.pow(x,2)).sum) / size_\n",
    "    println(\"Loss = \", loss_func)\n",
    "    val gradient = (x_transpose * loss).map(x => x * 2 / size_)  \n",
    "    val theta = params - mu * gradient\n",
    "    theta\n",
    "}\n",
    "var theta: DenseVector[Double] = gradient(X_scaled_bias, y, 0.05, start_params_)"
   ]
  },
  {
   "cell_type": "code",
   "execution_count": 28,
   "metadata": {},
   "outputs": [
    {
     "name": "stdout",
     "output_type": "stream",
     "text": [
      "(Loss = ,20.38845547276104)\n",
      "(Loss = ,1.535625522499457)\n",
      "(Loss = ,1.3829517782848322)\n",
      "(Loss = ,1.3584518346167986)\n",
      "(Loss = ,1.336128133042248)\n",
      "(Loss = ,1.3150442654496426)\n",
      "(Loss = ,1.2951174311699951)\n",
      "(Loss = ,1.276275890552395)\n",
      "(Loss = ,1.2584528246897295)\n",
      "(Loss = ,1.2415859097752957)\n",
      "(Loss = ,1.2256169685755942)\n",
      "(Loss = ,1.2104916558797956)\n",
      "(Loss = ,1.1961591734675885)\n",
      "(Loss = ,1.1825720110253357)\n",
      "(Loss = ,1.1696857099699758)\n",
      "(Loss = ,1.1574586475792277)\n",
      "(Loss = ,1.1458518391945716)\n",
      "(Loss = ,1.1348287565721398)\n",
      "(Loss = ,1.1243551607157132)\n",
      "(Loss = ,1.1143989477444867)\n",
      "(Loss = ,1.1049300065332799)\n",
      "(Loss = ,1.0959200870187955)\n",
      "(Loss = ,1.0873426781991917)\n",
      "(Loss = ,1.0791728949677046)\n",
      "(Loss = ,1.071387373018003)\n",
      "(Loss = ,1.0639641711429988)\n",
      "(Loss = ,1.0568826803206353)\n",
      "(Loss = ,1.0501235390429187)\n",
      "(Loss = ,1.0436685543985424)\n",
      "(Loss = ,1.037500628466943)\n",
      "(Loss = ,1.031603689623381)\n",
      "(Loss = ,1.025962628391019)\n",
      "(Loss = ,1.020563237508335)\n",
      "(Loss = ,1.0153921559092174)\n",
      "(Loss = ,1.0104368163381507)\n",
      "(Loss = ,1.0056853963460055)\n",
      "(Loss = ,1.0011267724326567)\n",
      "(Loss = ,0.9967504771206552)\n",
      "(Loss = ,0.9925466587610998)\n",
      "(Loss = ,0.9885060438881503)\n",
      "(Loss = ,0.9846199019515532)\n",
      "(Loss = ,0.9808800122703079)\n",
      "(Loss = ,0.9772786330605605)\n",
      "(Loss = ,0.9738084724026124)\n",
      "(Loss = ,0.970462661020329)\n",
      "(Loss = ,0.9672347267559287)\n",
      "(Loss = ,0.9641185706307527)\n",
      "(Loss = ,0.9611084443901113)\n",
      "(Loss = ,0.9581989294375153)\n",
      "(Loss = ,0.9553849170696823)\n",
      "(Loss = ,0.9526615899295358)\n",
      "(Loss = ,0.9500244046003351)\n",
      "(Loss = ,0.9474690752688409)\n",
      "(Loss = ,0.944991558389974)\n",
      "(Loss = ,0.9425880382903377)\n",
      "(Loss = ,0.9402549136515425)\n",
      "(Loss = ,0.937988784818532)\n",
      "(Loss = ,0.9357864418810604)\n",
      "(Loss = ,0.9336448534806259)\n",
      "(Loss = ,0.931561156297195)\n",
      "(Loss = ,0.9295326451741109)\n",
      "(Loss = ,0.9275567638410293)\n",
      "(Loss = ,0.9256310961983732)\n",
      "(Loss = ,0.9237533581282729)\n",
      "(Loss = ,0.9219213897996624)\n",
      "(Loss = ,0.9201331484369938)\n",
      "(Loss = ,0.9183867015242153)\n",
      "(Loss = ,0.9166802204168653)\n",
      "(Loss = ,0.9150119743377642)\n",
      "(Loss = ,0.9133803247323471)\n",
      "(Loss = ,0.9117837199617795)\n",
      "(Loss = ,0.9102206903132327)\n",
      "(Loss = ,0.9086898433078792)\n",
      "(Loss = ,0.9071898592884517)\n",
      "(Loss = ,0.9057194872692761)\n",
      "(Loss = ,0.9042775410330064)\n",
      "(Loss = ,0.9028628954586473)\n",
      "(Loss = ,0.9014744830672184)\n",
      "(Loss = ,0.9001112907717843)\n",
      "(Loss = ,0.8987723568190835)\n",
      "(Loss = ,0.8974567679117054)\n",
      "(Loss = ,0.8961636564994733)\n",
      "(Loss = ,0.8948921982300042)\n",
      "(Loss = ,0.8936416095488283)\n",
      "(Loss = ,0.8924111454399674)\n",
      "(Loss = ,0.8912000972985018)\n",
      "(Loss = ,0.8900077909274945)\n",
      "(Loss = ,0.8888335846511188)\n",
      "(Loss = ,0.8876768675379304)\n",
      "(Loss = ,0.8865370577268605)\n",
      "(Loss = ,0.8854136008501661)\n",
      "(Loss = ,0.8843059685476446)\n",
      "(Loss = ,0.8832136570663458)\n",
      "(Loss = ,0.8821361859408655)\n",
      "(Loss = ,0.8810730967494774)\n",
      "(Loss = ,0.8800239519413795)\n",
      "(Loss = ,0.8789883337310387)\n",
      "(Loss = ,0.8779658430555589)\n",
      "(Loss = ,0.8769560985912994)\n",
      "(Loss = ,0.8759587358263227)\n",
      "(Loss = ,0.8749734061853334)\n",
      "(Loss = ,0.8739997762039422)\n",
      "(Loss = ,0.8730375267495227)\n",
      "(Loss = ,0.872086352285702)\n",
      "(Loss = ,0.8711459601780864)\n",
      "(Loss = ,0.8702160700387191)\n",
      "(Loss = ,0.869296413107084)\n",
      "(Loss = ,0.8683867316653603)\n",
      "(Loss = ,0.8674867784861539)\n",
      "(Loss = ,0.8665963163105664)\n",
      "(Loss = ,0.8657151173550452)\n",
      "(Loss = ,0.8648429628452456)\n",
      "(Loss = ,0.8639796425753713)\n",
      "(Loss = ,0.8631249544913688)\n",
      "(Loss = ,0.8622787042969249)\n",
      "(Loss = ,0.8614407050806644)\n",
      "(Loss = ,0.8606107769633694)\n",
      "(Loss = ,0.8597887467642454)\n",
      "(Loss = ,0.8589744476849319)\n",
      "(Loss = ,0.8581677190103595)\n",
      "(Loss = ,0.8573684058255191)\n",
      "(Loss = ,0.8565763587470925)\n",
      "(Loss = ,0.8557914336692786)\n",
      "(Loss = ,0.8550134915229621)\n",
      "(Loss = ,0.8542423980472542)\n",
      "(Loss = ,0.8534780235731793)\n",
      "(Loss = ,0.8527202428182131)\n",
      "(Loss = ,0.8519689346917668)\n",
      "(Loss = ,0.8512239821102571)\n",
      "(Loss = ,0.8504852718218462)\n",
      "(Loss = ,0.8497526942400209)\n",
      "(Loss = ,0.849026143285519)\n",
      "(Loss = ,0.8483055162362297)\n",
      "(Loss = ,0.8475907135845878)\n",
      "(Loss = ,0.8468816389020668)\n",
      "(Loss = ,0.8461781987103701)\n",
      "(Loss = ,0.8454803023589492)\n",
      "(Loss = ,0.8447878619084778)\n",
      "(Loss = ,0.8441007920200981)\n",
      "(Loss = ,0.8434190098498927)\n",
      "(Loss = ,0.842742434948559)\n",
      "(Loss = ,0.8420709891657939)\n",
      "(Loss = ,0.8414045965592273)\n",
      "(Loss = ,0.8407431833077404)\n",
      "(Loss = ,0.8400866776287637)\n",
      "(Loss = ,0.8394350096994831)\n",
      "(Loss = ,0.8387881115817525)\n",
      "(Loss = ,0.8381459171502784)\n",
      "(Loss = ,0.8375083620244236)\n",
      "(Loss = ,0.8368753835027306)\n"
     ]
    },
    {
     "data": {
      "text/html": [
       "<div class=\"jp-RenderedText\">\n",
       "<pre><code><span style=\"color: rgb(0, 187, 187)\"><span class=\"ansi-cyan-fg\">start_params_</span></span>: <span style=\"color: rgb(0, 187, 0)\"><span class=\"ansi-green-fg\">DenseVector</span></span>[<span style=\"color: rgb(0, 187, 0)\"><span class=\"ansi-green-fg\">Double</span></span>] = DenseVector(1.0, 1.0, 1.0, 1.0, 1.0, 1.0, 1.0, 1.0, 1.0, 1.0, 1.0, 1.0, 1.0, 1.0, 1.0, 1.0, 1.0, 1.0, 1.0, 1.0, 1.0, 1.0, 1.0, 1.0, 1.0, 1.0, 1.0, 1.0)\n",
       "<span style=\"color: rgb(0, 187, 187)\"><span class=\"ansi-cyan-fg\">theta</span></span>: <span style=\"color: rgb(0, 187, 0)\"><span class=\"ansi-green-fg\">DenseVector</span></span>[<span style=\"color: rgb(0, 187, 0)\"><span class=\"ansi-green-fg\">Double</span></span>] = DenseVector(-0.02716945576662452, 0.7307093764535448, 0.5716013789272637, 1.0324148001461768, 1.8716127079309433, 0.9882877002075027, 1.324745317233486, 1.0485207745546752, 0.6731828386134583, 0.6574932787492948, 0.6703634833366473, 0.6333233737719643, 0.18143885520266523, 0.5999295912365518, 0.5392713818941127, 0.5386504332848541, 0.6271854797191516, 0.5600048850583444, 0.5748351039699012, 0.5769352388873237, 0.5205263176914878, -1.8593873422322909, 0.5296000211281716, 0.9674164977551196, 1.1886088985583434, 2.073343170742376, 2.0534484666223016, -0.520224161057918)</code></pre>\n",
       "</div>"
      ],
      "text/plain": [
       "\u001b[36mstart_params_\u001b[39m: \u001b[32mDenseVector\u001b[39m[\u001b[32mDouble\u001b[39m] = DenseVector(1.0, 1.0, 1.0, 1.0, 1.0, 1.0, 1.0, 1.0, 1.0, 1.0, 1.0, 1.0, 1.0, 1.0, 1.0, 1.0, 1.0, 1.0, 1.0, 1.0, 1.0, 1.0, 1.0, 1.0, 1.0, 1.0, 1.0, 1.0)\n",
       "\u001b[36mtheta\u001b[39m: \u001b[32mDenseVector\u001b[39m[\u001b[32mDouble\u001b[39m] = DenseVector(-0.02716945576662452, 0.7307093764535448, 0.5716013789272637, 1.0324148001461768, 1.8716127079309433, 0.9882877002075027, 1.324745317233486, 1.0485207745546752, 0.6731828386134583, 0.6574932787492948, 0.6703634833366473, 0.6333233737719643, 0.18143885520266523, 0.5999295912365518, 0.5392713818941127, 0.5386504332848541, 0.6271854797191516, 0.5600048850583444, 0.5748351039699012, 0.5769352388873237, 0.5205263176914878, -1.8593873422322909, 0.5296000211281716, 0.9674164977551196, 1.1886088985583434, 2.073343170742376, 2.0534484666223016, -0.520224161057918)"
      ]
     },
     "metadata": {},
     "output_type": "display_data"
    }
   ],
   "source": [
    "val start_params_ = DenseVector.ones[Double](columns_names.length - 1 + 1)\n",
    "var theta: DenseVector[Double] = start_params_\n",
    "for (iter <- 1 to 150) {\n",
    "    if (iter == 1) {\n",
    "        theta = gradient(X_scaled_bias, y, 0.2, start_params_)\n",
    "    }\n",
    "    else {\n",
    "        theta = gradient(X_scaled_bias, y, 0.2, theta)\n",
    "    }\n",
    "}"
   ]
  },
  {
   "cell_type": "code",
   "execution_count": 29,
   "metadata": {},
   "outputs": [
    {
     "name": "stdout",
     "output_type": "stream",
     "text": [
      "(MAE,0.69011501210875)\n",
      "(MSE,0.8362469205007965)\n"
     ]
    },
    {
     "data": {
      "text/plain": [
       "\u001b[36mmy_pred\u001b[39m: \u001b[32mDenseVector\u001b[39m[\u001b[32mDouble\u001b[39m] = DenseVector(-0.016059456998463277, 1.4619134411132388, 1.3941611984773556, 0.12155448087616214, -0.32294223086197865, 0.11792777371325742, -0.09450013265033734, 0.8743013942895494, 0.8538856968804183, 0.4781241240445587, 0.3776774267609924, -0.5753343349546194, 1.549625340874538, 0.7311900234236611, 0.5100966359807924, 0.6987544562363178, 0.29657434226706864, 0.9351031203419182, 0.770174555531905, 1.4704860614171187, -0.39746666924181245, 0.5812823365362906, 0.29781141818981793, -0.12187503154498584, -0.1728550337649168, 0.0873716239989842, 1.4397925462964676, -0.03568586370587451, 0.2735724731830835, 0.8612951437293943, 0.7689715130017036, 1.0728883233320483, 1.3471554795437095, 0.5704806928360497, 0.6865622630277177, 0.05803041034905294, -0.1410250821523535, -0.5235917705151625, 1.4065287600567344, 0.9438308237195838, 0.147489222359895, 0.002458881497654169, 1.1359200835331433, 0.0021806746308360957, 0.43276795151217523, 0.5862118853533582, 0.193035571776469, 0.418154298809794, 0.8395229156855027, 1.1788215689909491, 0.9711738232542331, 0.3307828656950464, 0.5284700504898754, 0.1545701881427682, -0.06665054417142662, 0.26966380115239424, 0.6741480669824895, 1.0996052239070944, -0.35855578534841376, 0.5316386825709156, 0.6584915655190131, 1.155946738089834, -0.056523531866305175, 0.12752612543994943, 0.1730220198316246, 0.1926815483203659, 1.2828717170166266, 0.6814913752548917, 0.579212631343939, 0.8679956196380887, 1.318176603224733, 0.9214113600742602, 0.7435745694083834, 0.0014716465293758084, 1.3193967652485457, 0.16779080411526986, 1.6356985935281971, 1.6894816225530116, 1.0994606999496825, -0.30872828726875245, -0.018898441159326755, 0.42378841328048816, 0.16905684689757366, 0.2834708366285451, -0.1297010364356122, 1.5255586929180884, 1.251060837955763, 0.5707493200778823, -0.39891851698185027, 0.6076700911741251, 0.23766901055933337, 1.005932626152083, 0.5223647008417104, 0.3588305146869535, -0.07437600776291595, -0.17496800541771934, -0.6330713096389418, 0.7779496830577727, 0.30553554672047034, 0.3938149889120111, 0.5469482648095848, 0.6218249726444466, 0.8484824144401986, 1.4840111111129577, 0.11597858252073712, -0.16887015308562117, 1.1395483524722403, 0.2325863794053457, 0.09918669661566766, 0.2700213303379273, 1.5461149840133488, 1.2831174552236648, 0.600262348608108, 0.7867774279841668, -0.16842394299410726, 0.8516564837318841, 1.7700565948052502, 0.03560781697907551, 0.6163361727317884, 1.2529579132944741, 1.1044450108689463, 0.06503652496295836, 3.7120970574526675, -0.07115868360983169, 0.32388013530692333, -0.3127917166760514, 0.510142278806543, 1.4579064157183472, -0.11485907278897038, 0.14472659185710193, 0.031802188485081165, 1.7396655205489417, 0.3525284851761114, 1.1441332722259834, 3.5253018361622113, 2.1428314906864148, 4.917488707313235, 1.8319968379836484, 0.925841523709141, 1.4858376483569034, 3.5637052425037243, 2.703350804432284, 2.7259776911255162, 1.950072513253395, 1.2509152807045865, 0.9217048413447849, 0.947585600027272, 1.3367035436043342, 0.8670017666563565, 4.323645081224727, 3.254192169581408, 2.7240947490845207, 2.0073302675..."
      ]
     },
     "execution_count": 29,
     "metadata": {},
     "output_type": "execute_result"
    }
   ],
   "source": [
    "val my_pred: DenseVector[Double] = validate(X_scaled_bias, theta)\n",
    "println(\"MAE\", (y - my_pred).map(x => scala.math.abs(x)).sum / y.length)\n",
    "println(\"MSE\", (y - my_pred).map(x => scala.math.pow(x,2)).sum / y.length)"
   ]
  },
  {
   "cell_type": "code",
   "execution_count": null,
   "metadata": {},
   "outputs": [],
   "source": []
  },
  {
   "cell_type": "code",
   "execution_count": null,
   "metadata": {},
   "outputs": [],
   "source": []
  }
 ],
 "metadata": {
  "kernelspec": {
   "display_name": "Scala 2.12",
   "language": "scala",
   "name": "scala212"
  },
  "language_info": {
   "codemirror_mode": "text/x-scala",
   "file_extension": ".sc",
   "mimetype": "text/x-scala",
   "name": "scala",
   "nbconvert_exporter": "script",
   "version": "2.12.12"
  }
 },
 "nbformat": 4,
 "nbformat_minor": 4
}
